{
 "cells": [
  {
   "cell_type": "markdown",
   "source": [
    "# Model Retraining"
   ],
   "metadata": {
    "collapsed": false
   }
  },
  {
   "cell_type": "markdown",
   "source": [
    "## Preliminaries"
   ],
   "metadata": {
    "collapsed": false
   }
  },
  {
   "cell_type": "code",
   "execution_count": 1,
   "outputs": [],
   "source": [
    "# general\n",
    "import os\n",
    "from tqdm import tqdm\n",
    "\n",
    "# wandb - hyperparameter sweep and Train monitoring\n",
    "import wandb\n",
    "#torch - computing and machine learning libraries\n",
    "import torch\n",
    "from torch.utils.data import Dataset, DataLoader, random_split\n",
    "import torch.nn.functional as F\n",
    "# seisbench\n",
    "import seisbench.models as sbm\n",
    "\n",
    "#plotting\n",
    "import matplotlib.pyplot as plt\n",
    "# seisynth\n",
    "from utils.common import load_dataset_and_labels, load_pretrained_model"
   ],
   "metadata": {
    "collapsed": false
   }
  },
  {
   "cell_type": "code",
   "execution_count": 2,
   "outputs": [],
   "source": [
    "# Possible values\n",
    "DATASETS_ORIGINS = ['ethz', 'geofon']\n",
    "SBM_CLASSES= [sbm.PhaseNet, sbm.EQTransformer]\n",
    "MODEL_TO_NUM_SAMPLES = {sbm.EQTransformer:6000, sbm.PhaseNet: 3001}"
   ],
   "metadata": {
    "collapsed": false
   }
  },
  {
   "cell_type": "code",
   "execution_count": 3,
   "outputs": [],
   "source": [
    "dataset_origin = 'geofon'\n",
    "assert dataset_origin in DATASETS_ORIGINS, f'Expected dataset one of {DATASETS_ORIGINS}. Got {dataset_origin}.'"
   ],
   "metadata": {
    "collapsed": false
   }
  },
  {
   "cell_type": "code",
   "execution_count": 4,
   "outputs": [
    {
     "data": {
      "text/plain": "seisbench.models.phasenet.PhaseNet"
     },
     "execution_count": 4,
     "metadata": {},
     "output_type": "execute_result"
    }
   ],
   "source": [
    "SBM_CLASS= sbm.PhaseNet\n",
    "assert SBM_CLASS in SBM_CLASSES\n",
    "SBM_CLASS"
   ],
   "metadata": {
    "collapsed": false
   }
  },
  {
   "cell_type": "code",
   "execution_count": 5,
   "outputs": [
    {
     "data": {
      "text/plain": "3001"
     },
     "execution_count": 5,
     "metadata": {},
     "output_type": "execute_result"
    }
   ],
   "source": [
    "NUM_SAMPLES=MODEL_TO_NUM_SAMPLES[SBM_CLASS]\n",
    "NUM_SAMPLES"
   ],
   "metadata": {
    "collapsed": false
   }
  },
  {
   "cell_type": "code",
   "execution_count": 6,
   "outputs": [],
   "source": [
    "NUM_SHIFTS=6\n",
    "SAMPLE_RATE=100\n",
    "LARGE_ERROR_THRESHOLD_SECONDS=1\n",
    "LARGE_ERROR_THRESHOLD_SAMPLES=LARGE_ERROR_THRESHOLD_SECONDS*SAMPLE_RATE"
   ],
   "metadata": {
    "collapsed": false
   }
  },
  {
   "cell_type": "code",
   "execution_count": 7,
   "outputs": [
    {
     "data": {
      "text/plain": "[2, 3, 4, 5, 6, 7, 8, 9, 10]"
     },
     "execution_count": 7,
     "metadata": {},
     "output_type": "execute_result"
    }
   ],
   "source": [
    "SYNTHESIZED_SNR_LIST= list(range(2,11))\n",
    "SYNTHESIZED_SNR_LIST"
   ],
   "metadata": {
    "collapsed": false
   }
  },
  {
   "cell_type": "code",
   "execution_count": 8,
   "outputs": [],
   "source": [
    "def assert_path_exists(path_str: str, name: str=''):\n",
    "    assert os.path.exists(path_str), f'{name} {path_str} does not exist'\n",
    "\n",
    "@torch.no_grad()\n",
    "def standardize(trace: torch.tensor):\n",
    "    m = trace.mean(dim=-1, keepdim=True).unsqueeze(dim=0)\n",
    "    std = trace.std(dim=-1, keepdim=True).unsqueeze(dim=0)\n",
    "    trace = trace.unsqueeze(dim=0) if trace.dim() == 1 else trace\n",
    "    standardized = torch.stack([(trace[ch] - m[0, ch]) / std[0, ch] for ch in range(trace.shape[0])], dim=0)\n",
    "    assert standardized.shape == trace.shape, f'Standardization should not change shape. Got {standardized.shape}'\n",
    "    return standardized"
   ],
   "metadata": {
    "collapsed": false
   }
  },
  {
   "cell_type": "code",
   "execution_count": 9,
   "outputs": [
    {
     "data": {
      "text/plain": "'/home/moshe/datasets/GFZ/noisy_datasets/geofon_trainset_3001_sample_joachim_noises_energy_ratio_snr/'"
     },
     "execution_count": 9,
     "metadata": {},
     "output_type": "execute_result"
    }
   ],
   "source": [
    "DATASET_PATH=f'/home/moshe/datasets/GFZ/noisy_datasets/{dataset_origin}_trainset_{NUM_SAMPLES}_sample_joachim_noises_energy_ratio_snr/'\n",
    "assert_path_exists(path_str=DATASET_PATH, name='DATASET_PATH')\n",
    "DATASET_PATH"
   ],
   "metadata": {
    "collapsed": false
   }
  },
  {
   "cell_type": "code",
   "execution_count": 10,
   "outputs": [
    {
     "data": {
      "text/plain": "['/home/moshe/datasets/GFZ/noisy_datasets/geofon_trainset_3001_sample_joachim_noises_energy_ratio_snr/noisy_small_dataset_snr_2',\n '/home/moshe/datasets/GFZ/noisy_datasets/geofon_trainset_3001_sample_joachim_noises_energy_ratio_snr/noisy_small_dataset_snr_3',\n '/home/moshe/datasets/GFZ/noisy_datasets/geofon_trainset_3001_sample_joachim_noises_energy_ratio_snr/noisy_small_dataset_snr_4',\n '/home/moshe/datasets/GFZ/noisy_datasets/geofon_trainset_3001_sample_joachim_noises_energy_ratio_snr/noisy_small_dataset_snr_5',\n '/home/moshe/datasets/GFZ/noisy_datasets/geofon_trainset_3001_sample_joachim_noises_energy_ratio_snr/noisy_small_dataset_snr_6',\n '/home/moshe/datasets/GFZ/noisy_datasets/geofon_trainset_3001_sample_joachim_noises_energy_ratio_snr/noisy_small_dataset_snr_7',\n '/home/moshe/datasets/GFZ/noisy_datasets/geofon_trainset_3001_sample_joachim_noises_energy_ratio_snr/noisy_small_dataset_snr_8',\n '/home/moshe/datasets/GFZ/noisy_datasets/geofon_trainset_3001_sample_joachim_noises_energy_ratio_snr/noisy_small_dataset_snr_9',\n '/home/moshe/datasets/GFZ/noisy_datasets/geofon_trainset_3001_sample_joachim_noises_energy_ratio_snr/noisy_small_dataset_snr_10']"
     },
     "execution_count": 10,
     "metadata": {},
     "output_type": "execute_result"
    }
   ],
   "source": [
    "NOISY_DATA_PATH_LIST = [os.path.join(DATASET_PATH, f'noisy_small_dataset_snr_{synthesized_snr}') for synthesized_snr in SYNTHESIZED_SNR_LIST]\n",
    "for p in NOISY_DATA_PATH_LIST:\n",
    "    assert_path_exists(path_str=p)\n",
    "NOISY_DATA_PATH_LIST"
   ],
   "metadata": {
    "collapsed": false
   }
  },
  {
   "cell_type": "markdown",
   "source": [
    "## Load Pretrained Model"
   ],
   "metadata": {
    "collapsed": false
   }
  },
  {
   "cell_type": "markdown",
   "source": [
    "Load the model with the pretrained weights"
   ],
   "metadata": {
    "collapsed": false
   }
  },
  {
   "cell_type": "code",
   "execution_count": 11,
   "outputs": [
    {
     "name": "stdout",
     "output_type": "stream",
     "text": [
      "Working with <class 'seisbench.models.phasenet.PhaseNet'> on GEOFON\n",
      "Load <class 'seisbench.models.phasenet.PhaseNet'> pretrained weights\n",
      "<class 'seisbench.models.phasenet.PhaseNet'> pretrained keys ['ethz', 'geofon', 'instance', 'iquique', 'lendb', 'neic', 'original', 'scedc', 'stead']\n"
     ]
    }
   ],
   "source": [
    "pretrained_model = load_pretrained_model(model_class=SBM_CLASS, dataset_trained_on=dataset_origin)"
   ],
   "metadata": {
    "collapsed": false
   }
  },
  {
   "cell_type": "markdown",
   "source": [
    "Save a copy for retraining. One model will be trained and the other one will keep the current weights for benchmarking on specific examples"
   ],
   "metadata": {
    "collapsed": false
   }
  },
  {
   "cell_type": "code",
   "execution_count": 12,
   "outputs": [],
   "source": [
    "# reloading because I cannot torch clone. Seisbench models are not nn.Module :(\n",
    "# retraining_model = load_pretrained_model(model_class=SBM_CLASS, dataset_trained_on=dataset_origin)\n",
    "retraining_model = sbm.PhaseNet(phases=\"PSN\")"
   ],
   "metadata": {
    "collapsed": false
   }
  },
  {
   "cell_type": "code",
   "execution_count": 13,
   "outputs": [
    {
     "data": {
      "text/plain": "PhaseNet(\n  (inc): Conv1d(3, 8, kernel_size=(7,), stride=(1,), padding=same)\n  (in_bn): BatchNorm1d(8, eps=0.001, momentum=0.1, affine=True, track_running_stats=True)\n  (down_branch): ModuleList(\n    (0): ModuleList(\n      (0): Conv1d(8, 8, kernel_size=(7,), stride=(1,), padding=same, bias=False)\n      (1): BatchNorm1d(8, eps=0.001, momentum=0.1, affine=True, track_running_stats=True)\n      (2): Conv1d(8, 8, kernel_size=(7,), stride=(4,), padding=(3,), bias=False)\n      (3): BatchNorm1d(8, eps=0.001, momentum=0.1, affine=True, track_running_stats=True)\n    )\n    (1): ModuleList(\n      (0): Conv1d(8, 16, kernel_size=(7,), stride=(1,), padding=same, bias=False)\n      (1): BatchNorm1d(16, eps=0.001, momentum=0.1, affine=True, track_running_stats=True)\n      (2): Conv1d(16, 16, kernel_size=(7,), stride=(4,), bias=False)\n      (3): BatchNorm1d(16, eps=0.001, momentum=0.1, affine=True, track_running_stats=True)\n    )\n    (2): ModuleList(\n      (0): Conv1d(16, 32, kernel_size=(7,), stride=(1,), padding=same, bias=False)\n      (1): BatchNorm1d(32, eps=0.001, momentum=0.1, affine=True, track_running_stats=True)\n      (2): Conv1d(32, 32, kernel_size=(7,), stride=(4,), bias=False)\n      (3): BatchNorm1d(32, eps=0.001, momentum=0.1, affine=True, track_running_stats=True)\n    )\n    (3): ModuleList(\n      (0): Conv1d(32, 64, kernel_size=(7,), stride=(1,), padding=same, bias=False)\n      (1): BatchNorm1d(64, eps=0.001, momentum=0.1, affine=True, track_running_stats=True)\n      (2): Conv1d(64, 64, kernel_size=(7,), stride=(4,), bias=False)\n      (3): BatchNorm1d(64, eps=0.001, momentum=0.1, affine=True, track_running_stats=True)\n    )\n    (4): ModuleList(\n      (0): Conv1d(64, 128, kernel_size=(7,), stride=(1,), padding=same, bias=False)\n      (1): BatchNorm1d(128, eps=0.001, momentum=0.1, affine=True, track_running_stats=True)\n      (2): None\n      (3): None\n    )\n  )\n  (up_branch): ModuleList(\n    (0): ModuleList(\n      (0): ConvTranspose1d(128, 64, kernel_size=(7,), stride=(4,), bias=False)\n      (1): BatchNorm1d(64, eps=0.001, momentum=0.1, affine=True, track_running_stats=True)\n      (2): Conv1d(128, 64, kernel_size=(7,), stride=(1,), padding=same, bias=False)\n      (3): BatchNorm1d(64, eps=0.001, momentum=0.1, affine=True, track_running_stats=True)\n    )\n    (1): ModuleList(\n      (0): ConvTranspose1d(64, 32, kernel_size=(7,), stride=(4,), bias=False)\n      (1): BatchNorm1d(32, eps=0.001, momentum=0.1, affine=True, track_running_stats=True)\n      (2): Conv1d(64, 32, kernel_size=(7,), stride=(1,), padding=same, bias=False)\n      (3): BatchNorm1d(32, eps=0.001, momentum=0.1, affine=True, track_running_stats=True)\n    )\n    (2): ModuleList(\n      (0): ConvTranspose1d(32, 16, kernel_size=(7,), stride=(4,), bias=False)\n      (1): BatchNorm1d(16, eps=0.001, momentum=0.1, affine=True, track_running_stats=True)\n      (2): Conv1d(32, 16, kernel_size=(7,), stride=(1,), padding=same, bias=False)\n      (3): BatchNorm1d(16, eps=0.001, momentum=0.1, affine=True, track_running_stats=True)\n    )\n    (3): ModuleList(\n      (0): ConvTranspose1d(16, 8, kernel_size=(7,), stride=(4,), bias=False)\n      (1): BatchNorm1d(8, eps=0.001, momentum=0.1, affine=True, track_running_stats=True)\n      (2): Conv1d(16, 8, kernel_size=(7,), stride=(1,), padding=same, bias=False)\n      (3): BatchNorm1d(8, eps=0.001, momentum=0.1, affine=True, track_running_stats=True)\n    )\n  )\n  (out): Conv1d(8, 3, kernel_size=(1,), stride=(1,), padding=same)\n  (softmax): Softmax(dim=1)\n)"
     },
     "execution_count": 13,
     "metadata": {},
     "output_type": "execute_result"
    }
   ],
   "source": [
    "pretrained_model.eval()\n",
    "# retraining_model.train()"
   ],
   "metadata": {
    "collapsed": false
   }
  },
  {
   "cell_type": "markdown",
   "source": [
    "## Load Datasets\n"
   ],
   "metadata": {
    "collapsed": false
   }
  },
  {
   "cell_type": "markdown",
   "source": [
    "We have 4 datasets:\n",
    "1. original_dataset - ETHZ/GEOFON original traces filtered to have high estimated SNR - more than 20dB\n",
    "2. le_original_dataset - A subset of the original_dataset (high SNR traces) that the pretrained model had a large picking error.\n",
    "3. noised_dataset - Traces taken from the original dataset and merged with noise traces such that the resulting trace is a 10 dB SNR trace.\n",
    "4. le_noised_dataset -  A subset of the noised_dataset that the pretrained model had a large picking error."
   ],
   "metadata": {
    "collapsed": false
   }
  },
  {
   "cell_type": "markdown",
   "source": [
    "## Load Noisy Traces"
   ],
   "metadata": {
    "collapsed": false
   }
  },
  {
   "cell_type": "markdown",
   "source": [
    "Load synthetic noisy traces with various SNR levels and mix them."
   ],
   "metadata": {
    "collapsed": false
   }
  },
  {
   "cell_type": "code",
   "execution_count": 14,
   "outputs": [
    {
     "data": {
      "text/plain": "['/home/moshe/datasets/GFZ/noisy_datasets/geofon_trainset_3001_sample_joachim_noises_energy_ratio_snr/noisy_small_dataset_snr_2/traces.pt',\n '/home/moshe/datasets/GFZ/noisy_datasets/geofon_trainset_3001_sample_joachim_noises_energy_ratio_snr/noisy_small_dataset_snr_3/traces.pt',\n '/home/moshe/datasets/GFZ/noisy_datasets/geofon_trainset_3001_sample_joachim_noises_energy_ratio_snr/noisy_small_dataset_snr_4/traces.pt',\n '/home/moshe/datasets/GFZ/noisy_datasets/geofon_trainset_3001_sample_joachim_noises_energy_ratio_snr/noisy_small_dataset_snr_5/traces.pt',\n '/home/moshe/datasets/GFZ/noisy_datasets/geofon_trainset_3001_sample_joachim_noises_energy_ratio_snr/noisy_small_dataset_snr_6/traces.pt',\n '/home/moshe/datasets/GFZ/noisy_datasets/geofon_trainset_3001_sample_joachim_noises_energy_ratio_snr/noisy_small_dataset_snr_7/traces.pt',\n '/home/moshe/datasets/GFZ/noisy_datasets/geofon_trainset_3001_sample_joachim_noises_energy_ratio_snr/noisy_small_dataset_snr_8/traces.pt',\n '/home/moshe/datasets/GFZ/noisy_datasets/geofon_trainset_3001_sample_joachim_noises_energy_ratio_snr/noisy_small_dataset_snr_9/traces.pt',\n '/home/moshe/datasets/GFZ/noisy_datasets/geofon_trainset_3001_sample_joachim_noises_energy_ratio_snr/noisy_small_dataset_snr_10/traces.pt']"
     },
     "execution_count": 14,
     "metadata": {},
     "output_type": "execute_result"
    }
   ],
   "source": [
    "NOISY_DATA_PATH_TRACES_LIST = [os.path.join(ndpl, 'traces.pt') for ndpl in NOISY_DATA_PATH_LIST]\n",
    "for p in NOISY_DATA_PATH_TRACES_LIST:\n",
    "    assert_path_exists(path_str=p)\n",
    "NOISY_DATA_PATH_TRACES_LIST"
   ],
   "metadata": {
    "collapsed": false
   }
  },
  {
   "cell_type": "code",
   "execution_count": 15,
   "outputs": [
    {
     "data": {
      "text/plain": "['/home/moshe/datasets/GFZ/noisy_datasets/geofon_trainset_3001_sample_joachim_noises_energy_ratio_snr/noisy_small_dataset_snr_2/labels.pt',\n '/home/moshe/datasets/GFZ/noisy_datasets/geofon_trainset_3001_sample_joachim_noises_energy_ratio_snr/noisy_small_dataset_snr_3/labels.pt',\n '/home/moshe/datasets/GFZ/noisy_datasets/geofon_trainset_3001_sample_joachim_noises_energy_ratio_snr/noisy_small_dataset_snr_4/labels.pt',\n '/home/moshe/datasets/GFZ/noisy_datasets/geofon_trainset_3001_sample_joachim_noises_energy_ratio_snr/noisy_small_dataset_snr_5/labels.pt',\n '/home/moshe/datasets/GFZ/noisy_datasets/geofon_trainset_3001_sample_joachim_noises_energy_ratio_snr/noisy_small_dataset_snr_6/labels.pt',\n '/home/moshe/datasets/GFZ/noisy_datasets/geofon_trainset_3001_sample_joachim_noises_energy_ratio_snr/noisy_small_dataset_snr_7/labels.pt',\n '/home/moshe/datasets/GFZ/noisy_datasets/geofon_trainset_3001_sample_joachim_noises_energy_ratio_snr/noisy_small_dataset_snr_8/labels.pt',\n '/home/moshe/datasets/GFZ/noisy_datasets/geofon_trainset_3001_sample_joachim_noises_energy_ratio_snr/noisy_small_dataset_snr_9/labels.pt',\n '/home/moshe/datasets/GFZ/noisy_datasets/geofon_trainset_3001_sample_joachim_noises_energy_ratio_snr/noisy_small_dataset_snr_10/labels.pt']"
     },
     "execution_count": 15,
     "metadata": {},
     "output_type": "execute_result"
    }
   ],
   "source": [
    "NOISY_DATA_PATH_LABELS_LIST = [os.path.join(ndpl, 'labels.pt') for ndpl in NOISY_DATA_PATH_LIST]\n",
    "for p in NOISY_DATA_PATH_LABELS_LIST:\n",
    "    assert_path_exists(path_str=p)\n",
    "NOISY_DATA_PATH_LABELS_LIST"
   ],
   "metadata": {
    "collapsed": false
   }
  },
  {
   "cell_type": "code",
   "execution_count": 16,
   "outputs": [],
   "source": [
    "# noised_dataset_path= os.path.join(NOISY_DATA_PATH, 'traces.pt')\n",
    "# assert_path_exists(path_str=noised_dataset_path)\n",
    "# noised_labels_path= os.path.join(NOISY_DATA_PATH, 'labels.pt')\n",
    "# assert_path_exists(path_str=noised_labels_path)\n",
    "# noised_dataset_path, noised_labels_path"
   ],
   "metadata": {
    "collapsed": false
   }
  },
  {
   "cell_type": "code",
   "execution_count": 17,
   "outputs": [
    {
     "name": "stdout",
     "output_type": "stream",
     "text": [
      "traces_list 1 labels_list 1\n",
      "traces_list 2 labels_list 2\n",
      "traces_list 3 labels_list 3\n",
      "traces_list 4 labels_list 4\n",
      "traces_list 5 labels_list 5\n",
      "traces_list 6 labels_list 6\n",
      "traces_list 7 labels_list 7\n",
      "traces_list 8 labels_list 8\n",
      "traces_list 9 labels_list 9\n",
      "traces shape torch.Size([9000, 3, 3001]) labels_list torch.Size([9000])\n"
     ]
    }
   ],
   "source": [
    "def load_dataset_from_tensors(traces_path_list: list[torch.tensor], labels_path_list: list[torch.tensor], indices_to_use: list[int]=[]):\n",
    "    traces_list, labels_list = [], []\n",
    "    for tp, lp in zip(traces_path_list, labels_path_list):\n",
    "        traces,labels = load_dataset_and_labels(dataset_path=tp, labels_path=lp)\n",
    "        if indices_to_use:\n",
    "            traces, labels = traces[indices_to_use], labels[indices_to_use]\n",
    "        traces_list.append(traces)\n",
    "        labels_list.append(labels.unsqueeze(dim=1))\n",
    "        print(f'traces_list {len(traces_list)} labels_list {len(labels_list)}')\n",
    "\n",
    "\n",
    "    traces = torch.vstack(traces_list)\n",
    "    labels = torch.vstack(labels_list).squeeze()\n",
    "    print(f'traces shape {traces.shape} labels_list {labels.shape}')\n",
    "    return traces, labels\n",
    "\n",
    "noised_dataset, noised_labels = load_dataset_from_tensors(traces_path_list=NOISY_DATA_PATH_TRACES_LIST, labels_path_list=NOISY_DATA_PATH_LABELS_LIST, indices_to_use=list(range(1000)))\n",
    "\n",
    "noised_dataset_size = noised_dataset.shape[0]\n",
    "\n",
    "# noised_dataset, noised_labels = load_dataset_and_labels(dataset_path=noised_dataset_path, labels_path=noised_labels_path)"
   ],
   "metadata": {
    "collapsed": false
   }
  },
  {
   "cell_type": "code",
   "execution_count": 18,
   "outputs": [
    {
     "name": "stdout",
     "output_type": "stream",
     "text": [
      "Loaded 9000 traces\n"
     ]
    }
   ],
   "source": [
    "print(f'Loaded {noised_dataset_size} traces')"
   ],
   "metadata": {
    "collapsed": false
   }
  },
  {
   "cell_type": "markdown",
   "source": [
    "## Load Original Data - Various SNR Levels"
   ],
   "metadata": {
    "collapsed": false
   }
  },
  {
   "cell_type": "markdown",
   "source": [
    "The following are traces from the original dataset with SNR of all levels"
   ],
   "metadata": {
    "collapsed": false
   }
  },
  {
   "cell_type": "code",
   "execution_count": 19,
   "outputs": [
    {
     "data": {
      "text/plain": "(['/home/moshe/datasets/GFZ/noisy_datasets/geofon_trainset_3001_sample_joachim_noises_energy_ratio_snr/traces_geofon_bounds_-20_0.pt',\n  '/home/moshe/datasets/GFZ/noisy_datasets/geofon_trainset_3001_sample_joachim_noises_energy_ratio_snr/traces_geofon_bounds_0_2.pt',\n  '/home/moshe/datasets/GFZ/noisy_datasets/geofon_trainset_3001_sample_joachim_noises_energy_ratio_snr/traces_geofon_bounds_2_5.pt',\n  '/home/moshe/datasets/GFZ/noisy_datasets/geofon_trainset_3001_sample_joachim_noises_energy_ratio_snr/traces_geofon_bounds_5_10.pt',\n  '/home/moshe/datasets/GFZ/noisy_datasets/geofon_trainset_3001_sample_joachim_noises_energy_ratio_snr/traces_geofon_bounds_10_20.pt',\n  '/home/moshe/datasets/GFZ/noisy_datasets/geofon_trainset_3001_sample_joachim_noises_energy_ratio_snr/traces_geofon_bounds_20_100.pt'],\n ['/home/moshe/datasets/GFZ/noisy_datasets/geofon_trainset_3001_sample_joachim_noises_energy_ratio_snr/labels_geofon_bounds_-20_0.pt',\n  '/home/moshe/datasets/GFZ/noisy_datasets/geofon_trainset_3001_sample_joachim_noises_energy_ratio_snr/labels_geofon_bounds_0_2.pt',\n  '/home/moshe/datasets/GFZ/noisy_datasets/geofon_trainset_3001_sample_joachim_noises_energy_ratio_snr/labels_geofon_bounds_2_5.pt',\n  '/home/moshe/datasets/GFZ/noisy_datasets/geofon_trainset_3001_sample_joachim_noises_energy_ratio_snr/labels_geofon_bounds_5_10.pt',\n  '/home/moshe/datasets/GFZ/noisy_datasets/geofon_trainset_3001_sample_joachim_noises_energy_ratio_snr/labels_geofon_bounds_10_20.pt',\n  '/home/moshe/datasets/GFZ/noisy_datasets/geofon_trainset_3001_sample_joachim_noises_energy_ratio_snr/labels_geofon_bounds_20_100.pt'])"
     },
     "execution_count": 19,
     "metadata": {},
     "output_type": "execute_result"
    }
   ],
   "source": [
    "# List of SNR bin edges to which the traces seperated\n",
    "bounds = [-20, 0, 2, 5, 10, 20, 100]\n",
    "# j=5\n",
    "t_list, l_list = [], []\n",
    "for j in range(len(bounds)-1):\n",
    "    suffix = f'_{dataset_origin}_bounds_{bounds[j]}_{bounds[j+1]}.pt'\n",
    "    t = os.path.join(DATASET_PATH, 'traces' + suffix)\n",
    "    assert_path_exists(path_str=t)\n",
    "    t_list.append(t)\n",
    "    l = os.path.join(DATASET_PATH, 'labels' + suffix)\n",
    "    assert_path_exists(path_str=l)\n",
    "    l_list.append(l)\n",
    "t_list, l_list"
   ],
   "metadata": {
    "collapsed": false
   }
  },
  {
   "cell_type": "code",
   "execution_count": 20,
   "outputs": [
    {
     "name": "stdout",
     "output_type": "stream",
     "text": [
      "traces_list 1 labels_list 1\n",
      "traces_list 2 labels_list 2\n",
      "traces_list 3 labels_list 3\n",
      "traces_list 4 labels_list 4\n",
      "traces_list 5 labels_list 5\n",
      "traces_list 6 labels_list 6\n",
      "traces shape torch.Size([1200, 3, 3001]) labels_list torch.Size([1200])\n"
     ]
    }
   ],
   "source": [
    "original_snr_binned_dataset, original_snr_binned_labels = load_dataset_from_tensors(traces_path_list=t_list, labels_path_list=l_list, indices_to_use=list(range(200)))"
   ],
   "metadata": {
    "collapsed": false
   }
  },
  {
   "cell_type": "code",
   "execution_count": 21,
   "outputs": [
    {
     "name": "stdout",
     "output_type": "stream",
     "text": [
      "Loaded 1200 traces\n"
     ]
    }
   ],
   "source": [
    "print(f'Loaded {original_snr_binned_dataset.shape[0]} traces')"
   ],
   "metadata": {
    "collapsed": false
   }
  },
  {
   "cell_type": "markdown",
   "source": [
    "Make the real data set size equal to the synthetic one and leave the rest for test"
   ],
   "metadata": {
    "collapsed": false
   }
  },
  {
   "cell_type": "code",
   "execution_count": 22,
   "outputs": [
    {
     "data": {
      "text/plain": "(torch.Size([100, 3, 3001]),\n torch.Size([100]),\n torch.Size([1100, 3, 3001]),\n torch.Size([1100]))"
     },
     "execution_count": 22,
     "metadata": {},
     "output_type": "execute_result"
    }
   ],
   "source": [
    "# original_snr_binned_dataset, original_snr_binned_labels, original_snr_binned_dataset_left_for_test, original_snr_binned_labels_left_for_test = original_snr_binned_dataset[:noised_dataset_size], original_snr_binned_labels[:noised_dataset_size], original_snr_binned_dataset[noised_dataset_size:], original_snr_binned_labels[noised_dataset_size:]\n",
    "\n",
    "original_snr_binned_dataset, original_snr_binned_labels, original_snr_binned_dataset_left_for_test, original_snr_binned_labels_left_for_test = original_snr_binned_dataset[:100], original_snr_binned_labels[:100], original_snr_binned_dataset[100:], original_snr_binned_labels[100:]\n",
    "\n",
    "\n",
    "original_snr_binned_dataset.shape, original_snr_binned_labels.shape, original_snr_binned_dataset_left_for_test.shape, original_snr_binned_labels_left_for_test.shape"
   ],
   "metadata": {
    "collapsed": false
   }
  },
  {
   "cell_type": "markdown",
   "source": [
    "## Mix The Datasets"
   ],
   "metadata": {
    "collapsed": false
   }
  },
  {
   "cell_type": "code",
   "execution_count": 23,
   "outputs": [
    {
     "data": {
      "text/plain": "(torch.Size([9100, 3, 3001]), torch.Size([9100]))"
     },
     "execution_count": 23,
     "metadata": {},
     "output_type": "execute_result"
    }
   ],
   "source": [
    "mixed_dataset = torch.vstack((original_snr_binned_dataset, noised_dataset))\n",
    "mixed_labels = torch.vstack((original_snr_binned_labels.unsqueeze(dim=1), noised_labels.unsqueeze(dim=1))).squeeze()\n",
    "mixed_dataset.shape, mixed_labels.shape"
   ],
   "metadata": {
    "collapsed": false
   }
  },
  {
   "cell_type": "code",
   "execution_count": 24,
   "outputs": [],
   "source": [
    "# le_noised_dataset_path = os.path.join(NOISY_DATA_PATH, f'le_{str(SBM_CLASS)}_dataset.pt')\n",
    "# assert_path_exists(path_str=le_noised_dataset_path)\n",
    "# le_noised_labels_path = os.path.join(NOISY_DATA_PATH, f'le_{str(SBM_CLASS)}_labels.pt')\n",
    "# assert_path_exists(path_str=le_noised_labels_path)\n",
    "# le_noised_dataset_path, le_noised_labels_path"
   ],
   "metadata": {
    "collapsed": false
   }
  },
  {
   "cell_type": "code",
   "execution_count": 25,
   "outputs": [],
   "source": [
    "# le_noised_dataset, le_noised_labels = load_dataset_and_labels(dataset_path=le_noised_dataset_path, labels_path=le_noised_labels_path)"
   ],
   "metadata": {
    "collapsed": false
   }
  },
  {
   "cell_type": "code",
   "execution_count": 26,
   "outputs": [],
   "source": [
    "# print(f'Loaded {le_noised_dataset.shape[0]} traces')"
   ],
   "metadata": {
    "collapsed": false
   }
  },
  {
   "cell_type": "markdown",
   "source": [
    "## Arrange Train\\Validation\\Test Sets"
   ],
   "metadata": {
    "collapsed": false
   }
  },
  {
   "cell_type": "code",
   "execution_count": 27,
   "outputs": [],
   "source": [
    "train_dataset_inds, val_dataset_inds, test_dataset_inds = random_split(range(mixed_dataset.shape[0]), [0.85,0.1,0.05], generator=torch.Generator().manual_seed(42))\n",
    "\n",
    "# train_dataset_inds, val_dataset_inds, test_dataset_inds = random_split(range(original_snr_binned_dataset.shape[0]), [0.85,0.1,0.05], generator=torch.Generator().manual_seed(42))\n",
    "\n",
    "# train_dataset_inds, val_dataset_inds, test_dataset_inds = random_split(range(noised_dataset.shape[0]), [0.85,0.1,0.05], generator=torch.Generator().manual_seed(42))"
   ],
   "metadata": {
    "collapsed": false
   }
  },
  {
   "cell_type": "code",
   "execution_count": 28,
   "outputs": [],
   "source": [
    "# train_dataset, val_dataset, test_dataset = original_snr_binned_dataset[train_dataset_inds], original_snr_binned_dataset[val_dataset_inds], original_snr_binned_dataset[test_dataset_inds]\n",
    "# train_labels, val_labels, test_labels = original_snr_binned_labels[train_dataset_inds], original_snr_binned_labels[val_dataset_inds], original_snr_binned_labels[test_dataset_inds]\n",
    "\n",
    "train_dataset, val_dataset, test_dataset = mixed_dataset[train_dataset_inds], mixed_dataset[val_dataset_inds], mixed_dataset[test_dataset_inds]\n",
    "train_labels, val_labels, test_labels = mixed_labels[train_dataset_inds], mixed_labels[val_dataset_inds], mixed_labels[test_dataset_inds]\n",
    "\n",
    "# train_dataset, val_dataset, test_dataset = noised_dataset[train_dataset_inds], noised_dataset[val_dataset_inds], noised_dataset[test_dataset_inds]\n",
    "# train_labels, val_labels, test_labels = noised_labels[train_dataset_inds], noised_labels[val_dataset_inds], noised_labels[test_dataset_inds]"
   ],
   "metadata": {
    "collapsed": false
   }
  },
  {
   "cell_type": "code",
   "execution_count": 29,
   "outputs": [],
   "source": [
    "val_gen_dataset = original_snr_binned_dataset_left_for_test\n",
    "val_gen_labels = original_snr_binned_labels_left_for_test"
   ],
   "metadata": {
    "collapsed": false
   }
  },
  {
   "cell_type": "code",
   "execution_count": 30,
   "outputs": [
    {
     "name": "stdout",
     "output_type": "stream",
     "text": [
      "Created train set with 7735 traces, validation set with 910 traces and test set with 455 traces.\n"
     ]
    }
   ],
   "source": [
    "print(f'Created train set with {train_dataset.shape[0]} traces, validation set with {val_dataset.shape[0]} traces and test set with {test_dataset.shape[0]} traces.')"
   ],
   "metadata": {
    "collapsed": false
   }
  },
  {
   "cell_type": "code",
   "execution_count": 31,
   "outputs": [],
   "source": [
    "# raise Exception"
   ],
   "metadata": {
    "collapsed": false
   }
  },
  {
   "cell_type": "markdown",
   "source": [
    "## Standardize"
   ],
   "metadata": {
    "collapsed": false
   }
  },
  {
   "cell_type": "code",
   "execution_count": 32,
   "outputs": [],
   "source": [
    "# print(train_dataset.std(), train_dataset.mean(),train_dataset.isnan().sum())"
   ],
   "metadata": {
    "collapsed": false
   }
  },
  {
   "cell_type": "code",
   "execution_count": 33,
   "outputs": [],
   "source": [
    "# train_dataset, val_dataset, test_dataset = standardize(train_dataset), standardize(val_dataset), standardize(test_dataset)"
   ],
   "metadata": {
    "collapsed": false
   }
  },
  {
   "cell_type": "code",
   "execution_count": 34,
   "outputs": [],
   "source": [
    "# print(train_dataset.std(), train_dataset.mean(), train_dataset.isnan().sum())"
   ],
   "metadata": {
    "collapsed": false
   }
  },
  {
   "cell_type": "code",
   "execution_count": 35,
   "outputs": [],
   "source": [
    "# raise Exception"
   ],
   "metadata": {
    "collapsed": false
   }
  },
  {
   "cell_type": "markdown",
   "source": [
    "## Define Custom Datasets/DataLoader"
   ],
   "metadata": {
    "collapsed": false
   }
  },
  {
   "cell_type": "code",
   "execution_count": 36,
   "outputs": [],
   "source": [
    "@torch.no_grad()\n",
    "def label_normal_smooth(label):\n",
    "    num_samples = NUM_SAMPLES\n",
    "    sigma = 1000.0\n",
    "    v = torch.arange(num_samples).double()\n",
    "    return (1.0/(sigma*torch.sqrt(2.0* torch.tensor(torch.pi)))) * torch.exp(-0.5*torch.square((v-label)/sigma))"
   ],
   "metadata": {
    "collapsed": false
   }
  },
  {
   "cell_type": "code",
   "execution_count": 37,
   "outputs": [],
   "source": [
    "class CustomDataset(Dataset):\n",
    "    def __init__(self, dataset: torch.tensor, labels: torch.tensor, transform=None, target_transform=None):\n",
    "        self._dataset = dataset\n",
    "        self._labels = labels\n",
    "        assert dataset.dim() == 3, f'Expected 3 dim dataset tensor (#traces,#channels,#samples). Got {dataset.dim()} dims. Shape {dataset.shape} '\n",
    "        assert labels.shape[0] == dataset.shape[0], f'Expected 1 label per trace. Got {labels.shape[0]} for {dataset.shape[0]} traces'\n",
    "        self._len = int(dataset.shape[0])\n",
    "        self.transform = transform\n",
    "        self.target_transform = target_transform\n",
    "\n",
    "    def __len__(self):\n",
    "        return self._len\n",
    "\n",
    "    def __getitem__(self, idx):\n",
    "        trace = self._dataset[idx]\n",
    "        label = self._labels[idx]\n",
    "        if self.transform:\n",
    "            trace = self.transform(trace)\n",
    "        if self.target_transform:\n",
    "            label = self.target_transform(label)\n",
    "        return trace, label"
   ],
   "metadata": {
    "collapsed": false
   }
  },
  {
   "cell_type": "code",
   "execution_count": 38,
   "outputs": [],
   "source": [
    "trainset = CustomDataset(dataset=train_dataset, labels=train_labels, target_transform=lambda l: (l,label_normal_smooth(l)))\n",
    "valset = CustomDataset(dataset=val_dataset, labels=val_labels, target_transform=lambda l: (l,label_normal_smooth(l)))\n",
    "valgenset = CustomDataset(dataset=val_gen_dataset, labels=val_gen_labels,target_transform=lambda l: (l,label_normal_smooth(l)))\n",
    "testset = CustomDataset(dataset=test_dataset, labels=test_labels, target_transform=lambda l: (l,label_normal_smooth(l)))"
   ],
   "metadata": {
    "collapsed": false
   }
  },
  {
   "cell_type": "code",
   "execution_count": 39,
   "outputs": [
    {
     "name": "stdout",
     "output_type": "stream",
     "text": [
      "Created train set with 7735 traces, validation set with 910 traces and test set with 455 traces.\n"
     ]
    }
   ],
   "source": [
    "print(f'Created train set with {len(trainset)} traces, validation set with {len(valset)} traces and test set with {len(testset)} traces.')"
   ],
   "metadata": {
    "collapsed": false
   }
  },
  {
   "cell_type": "markdown",
   "source": [
    "## Train"
   ],
   "metadata": {
    "collapsed": false
   }
  },
  {
   "cell_type": "markdown",
   "source": [
    "### Define Loss Function"
   ],
   "metadata": {
    "collapsed": false
   }
  },
  {
   "cell_type": "markdown",
   "source": [
    "Taken from Seisbench tutorial notebook \"03a_training_phasenet\"  -  not using it for now - commented out"
   ],
   "metadata": {
    "collapsed": false
   }
  },
  {
   "cell_type": "code",
   "execution_count": 40,
   "outputs": [],
   "source": [
    "def loss_fn(y_pred, y_true, eps=1e-5):\n",
    "    # vector cross entropy loss\n",
    "    h = y_true * torch.log(y_pred + eps)\n",
    "\n",
    "    h = h.mean(-1).sum(-1)  # Mean along sample dimension and sum along pick dimension\n",
    "\n",
    "    h = h.mean()  # Mean over batch axis\n",
    "\n",
    "    return -h"
   ],
   "metadata": {
    "collapsed": false
   }
  },
  {
   "cell_type": "markdown",
   "source": [
    "### Train Loop"
   ],
   "metadata": {
    "collapsed": false
   }
  },
  {
   "cell_type": "code",
   "execution_count": 41,
   "outputs": [],
   "source": [
    "def train_loop(dataloader, model, loss_fn, optimizer, large_error_threshold=100):\n",
    "    model.train()\n",
    "    size = len(dataloader.dataset)\n",
    "    num_batches = len(dataloader)\n",
    "    train_loss = 0.0\n",
    "    large_errors_counter = 0\n",
    "    mean_residual = 0.0\n",
    "    for batch_id, batch in enumerate(dataloader):\n",
    "        trace, (label, label_smoothed) = batch\n",
    "\n",
    "        # print('trace shape', trace.shape, 'label shape', label.shape, 'label_smoothed shape', label_smoothed.shape)\n",
    "\n",
    "        batch_size = trace.shape[0]\n",
    "        # print('batch_size', batch_size)\n",
    "\n",
    "        # Compute prediction and loss\n",
    "        # Fwd pass - outputs the likelihood function\n",
    "        pred_probs = model(trace.double().to(model.device))\n",
    "\n",
    "        if SBM_CLASS == sbm.EQTransformer:\n",
    "            # EQTransformer returns a tuple (N,Z,E)\n",
    "            pred_probs = torch.stack((pred_probs[1],pred_probs[0],pred_probs[2]), dim=0).swapaxes(0,1)\n",
    "        # print('pred_probs shape', pred_probs.shape)\n",
    "\n",
    "\n",
    "        # softargmax\n",
    "        beta = 100.0\n",
    "        softmax = torch.nn.functional.softmax(beta  * pred_probs[:, 0, :], dim=-1)\n",
    "        indices = torch.arange(pred_probs[:, 0, :].shape[-1])\n",
    "        softargmax_preds = torch.sum(torch.mul(indices, softmax), dim=-1)\n",
    "\n",
    "        loss = torch.abs(softargmax_preds - label).mean()\n",
    "\n",
    "        # loss = loss_fn(pred_probs[:,0,:], label_smoothed.double().to(model.device))\n",
    "        # print('loss', loss)\n",
    "        # loss = loss_fn(F.log_softmax(pred_probs[:,0,:], dim=-1), F.log_softmax(label.to(model.device), dim=-1))\n",
    "\n",
    "        prediction = torch.argmax(pred_probs[:, 0, :], dim=-1)\n",
    "        # print('prediction', prediction.shape)\n",
    "        residual = torch.abs(prediction - label.to(model.device))\n",
    "        # print(residual)\n",
    "        mean_residual += float(residual.mean())\n",
    "        # print('mean_residual', mean_residual)\n",
    "        # print(residual > large_error_threshold)\n",
    "        # print(residual[residual > large_error_threshold])\n",
    "        # print((residual > large_error_threshold).sum())\n",
    "        # large_errors_counter += (1 if residual > large_error_threshold else 0)\n",
    "        large_errors_counter += int((residual > large_error_threshold).sum())\n",
    "        # print(large_errors_counter)\n",
    "\n",
    "        # if batch_id == 2:\n",
    "        #     break\n",
    "\n",
    "        # Backpropagation\n",
    "        optimizer.zero_grad()\n",
    "        loss.backward()\n",
    "        optimizer.step()\n",
    "        train_loss += loss.item()\n",
    "\n",
    "        # if batch_id % 100 == 0:\n",
    "        #     loss, current = loss.item(), batch_id * trace.shape[0]\n",
    "        #     print(f\"loss: {loss:>7f}  [{current:>5d}/{size:>5d}]\")\n",
    "\n",
    "    mean_residual /= num_batches\n",
    "    train_loss /= num_batches\n",
    "\n",
    "    # print(mean_residual)\n",
    "    # print(train_loss)\n",
    "    # raise Exception\n",
    "    return train_loss, mean_residual, large_errors_counter"
   ],
   "metadata": {
    "collapsed": false
   }
  },
  {
   "cell_type": "markdown",
   "source": [
    "### Test Loop"
   ],
   "metadata": {
    "collapsed": false
   }
  },
  {
   "cell_type": "code",
   "execution_count": 42,
   "outputs": [],
   "source": [
    "\n",
    "@torch.no_grad()\n",
    "def test_loop(dataloader, model, loss_fn, large_error_threshold=100):\n",
    "    model.eval()\n",
    "    num_batches = len(dataloader)\n",
    "    test_loss = 0\n",
    "    large_errors_counter = 0\n",
    "    mean_residual = 0.0\n",
    "    with torch.no_grad():\n",
    "        for batch in dataloader:\n",
    "            trace, (label, label_smoothed) = batch\n",
    "            pred_probs = model(trace.double().to(model.device))\n",
    "            if SBM_CLASS == sbm.EQTransformer:\n",
    "                # EQTransformer returns a tuple (N,Z,E)\n",
    "                pred_probs = torch.stack((pred_probs[1],pred_probs[0],pred_probs[2]), dim=0).swapaxes(0,1)\n",
    "            # Take the maximum of the z channel prediction\n",
    "            loss = loss_fn(pred_probs[:,0,:], label_smoothed.to(model.device))\n",
    "            # loss = loss_fn(F.log_softmax(pred_probs[:,0,:], dim=-1), F.log_softmax(label_smoothed.to(model.device), dim=-1))\n",
    "            test_loss += loss.item()\n",
    "\n",
    "            prediction = torch.argmax(pred_probs[:, 0, :], dim=-1)\n",
    "            residual = float(torch.abs(prediction - label.to(model.device)))\n",
    "            mean_residual += residual\n",
    "            large_errors_counter += (1 if residual > large_error_threshold else 0)\n",
    "\n",
    "    mean_residual /= num_batches\n",
    "    test_loss /= num_batches\n",
    "    return test_loss, mean_residual, large_errors_counter"
   ],
   "metadata": {
    "collapsed": false
   }
  },
  {
   "cell_type": "code",
   "execution_count": 43,
   "outputs": [],
   "source": [
    "def train(trainset, valset, valgenset, epochs, learning_rate, batch_size, benchmark_model=None):\n",
    "    # init weights&biases monitoring\n",
    "    wandb.init(project=\"seisynth\", entity=\"moshebeutel\")\n",
    "    wandb.config = {\"learning_rate\": learning_rate, \"epochs\": epochs, \"batch_size\": batch_size}\n",
    "\n",
    "    trained_model = load_pretrained_model(model_class=SBM_CLASS, dataset_trained_on=dataset_origin).double()\n",
    "    train_dataloader = DataLoader(trainset, batch_size=batch_size, shuffle=True, num_workers=2)\n",
    "    val_dataloader = DataLoader(valset, batch_size=1, shuffle=False)\n",
    "    valgen_dataloader= DataLoader(valgenset, batch_size=1, shuffle=False)\n",
    "\n",
    "    # Define the train optimizer and optimization criterion\n",
    "    # optimizer = torch.optim.SGD(trained_model.parameters(), lr=learning_rate, momentum=0.9, weight_decay=1e-3)\n",
    "    optimizer = torch.optim.Adam(trained_model.parameters(), lr=learning_rate)\n",
    "\n",
    "    # criterion = torch.nn.KLDivLoss(reduction='batchmean', log_target=True)\n",
    "    # criterion = torch.nn.MSELoss()\n",
    "\n",
    "    criterion = loss_fn\n",
    "\n",
    "    # Evaluate the benchmark model on the validation data.\n",
    "    # The benchmark model is not training so it is done once.\n",
    "    if benchmark_model is not None:\n",
    "        benchmark_loss, benchmark_mean_residual, benchmark_large_errors_counter =  test_loop(dataloader=val_dataloader, model=benchmark_model, loss_fn=criterion, large_error_threshold=LARGE_ERROR_THRESHOLD_SAMPLES)\n",
    "        print(f'Benchmark results: loss {benchmark_loss}, Mean Residual {benchmark_mean_residual}, Errors Above {LARGE_ERROR_THRESHOLD_SECONDS} sec. {benchmark_large_errors_counter}')\n",
    "\n",
    "    best_val_mean_residual = 10000\n",
    "\n",
    "    pbar = tqdm(range(epochs))\n",
    "    for t in pbar:\n",
    "        epoch_train_loss, epoch_train_mean_residual, epoch_train_large_errors_counter = train_loop(dataloader=train_dataloader, model=trained_model, loss_fn=criterion , optimizer=optimizer, large_error_threshold=LARGE_ERROR_THRESHOLD_SAMPLES)\n",
    "        epoch_val_loss, epoch_val_mean_residual, epoch_val_large_errors_counter = test_loop(dataloader=val_dataloader, model=trained_model, loss_fn=criterion, large_error_threshold=LARGE_ERROR_THRESHOLD_SAMPLES)\n",
    "        epoch_valgen_loss, epoch_valgen_mean_residual, epoch_valgen_large_errors_counter = test_loop(dataloader=valgen_dataloader, model=trained_model, loss_fn=criterion, large_error_threshold=LARGE_ERROR_THRESHOLD_SAMPLES)\n",
    "\n",
    "        wandb.log({'epoch train loss': epoch_train_loss,\n",
    "                   'epoch_train_mean_residual':epoch_train_mean_residual,\n",
    "                   'epoch_train_large_errors_counter':epoch_train_large_errors_counter,\n",
    "                   'epoch validation loss': epoch_val_loss,\n",
    "                   'epoch_val_mean_residual':epoch_val_mean_residual,\n",
    "                   'epoch_val_large_errors_counter':epoch_val_large_errors_counter,\n",
    "                   'epoch validation gen loss': epoch_valgen_loss,\n",
    "                   'epoch_valgen_mean_residual':epoch_valgen_mean_residual,\n",
    "                   'epoch_valgen_large_errors_counter':epoch_valgen_large_errors_counter})\n",
    "\n",
    "        if epoch_val_mean_residual < best_val_mean_residual:\n",
    "            best_val_mean_residual = epoch_val_mean_residual\n",
    "            trained_model.save(path=f'./mean_residual_{epoch_val_mean_residual}_lr_{learning_rate}_batch_{batch_size}')\n",
    "\n",
    "\n",
    "        pbar.set_description(f'Epoch {t}, train loss {epoch_train_loss}, validation loss {epoch_val_loss}, epoch_val_large_errors_counter {epoch_val_large_errors_counter}')\n"
   ],
   "metadata": {
    "collapsed": false
   }
  },
  {
   "cell_type": "markdown",
   "source": [
    "### Training Hyperparameters"
   ],
   "metadata": {
    "collapsed": false
   }
  },
  {
   "cell_type": "code",
   "execution_count": 44,
   "outputs": [],
   "source": [
    "EPOCHS = 300\n",
    "LEARNING_RATE = 1e-4\n",
    "BATCH_SIZE = 16"
   ],
   "metadata": {
    "collapsed": false
   }
  },
  {
   "cell_type": "markdown",
   "source": [
    "## Hyperparameter Sweep"
   ],
   "metadata": {
    "collapsed": false
   }
  },
  {
   "cell_type": "code",
   "execution_count": 45,
   "outputs": [],
   "source": [
    "# sweep_config = {\n",
    "#     'method': 'grid'\n",
    "#     }\n",
    "# parameters_dict = {}\n",
    "#\n",
    "# sweep_config['parameters'] = parameters_dict\n",
    "# metric = {\n",
    "#     'name': 'epoch_val_mean_residual',\n",
    "#     'goal': 'minimize'\n",
    "#     }\n",
    "#\n",
    "# sweep_config['metric'] = metric\n",
    "#\n",
    "# # parameters_dict.update({\n",
    "# #     'epochs': {\n",
    "# #         'value': 50},\n",
    "# #     })\n",
    "#\n",
    "# parameters_dict.update({\n",
    "#       'learning_rate_log': {\n",
    "#           'values': [-7, -6, -5, -4]\n",
    "#       },\n",
    "#       'batch_size': {\n",
    "#           'values': [16, 32, 64, 128]\n",
    "#       }\n",
    "#     })\n",
    "#\n",
    "# def sweep_train(config=None):\n",
    "#\n",
    "#     with wandb.init(config=config):\n",
    "#         config = wandb.config\n",
    "#\n",
    "#         learning_rate = 10 ** config.learning_rate_log\n",
    "#\n",
    "#         batch_size=config.batch_size\n",
    "#         epochs = 13\n",
    "#\n",
    "#         train(trainset=trainset, valset=valset, benchmark_model=None, epochs=epochs, learning_rate=learning_rate, batch_size=batch_size)\n",
    "# sweep_id = wandb.sweep(sweep_config, project=\"seisynth\")\n",
    "# wandb.agent(sweep_id, sweep_train)"
   ],
   "metadata": {
    "collapsed": false
   }
  },
  {
   "cell_type": "code",
   "execution_count": 46,
   "outputs": [],
   "source": [
    "# for (batch_size,lr) in [(64,1e-4), (64, 1e-3)]:\n",
    "#     train(trainset=trainset, valset=valset, benchmark_model=pretrained_model.double(), epochs=15, learning_rate=lr, batch_size=batch_size)"
   ],
   "metadata": {
    "collapsed": false
   }
  },
  {
   "cell_type": "markdown",
   "source": [
    "## Call Train Entry Point"
   ],
   "metadata": {
    "collapsed": false
   }
  },
  {
   "cell_type": "code",
   "execution_count": 47,
   "outputs": [],
   "source": [
    "# train(trainset=trainset, valset=valset, benchmark_model=pretrained_model.double(), epochs=EPOCHS, learning_rate=LEARNING_RATE, batch_size=BATCH_SIZE)\n",
    "# train(trainset=trainset, valset=valset, valgenset=valgenset, epochs=EPOCHS, learning_rate=LEARNING_RATE, batch_size=BATCH_SIZE)\n"
   ],
   "metadata": {
    "collapsed": false
   }
  },
  {
   "cell_type": "markdown",
   "source": [
    "## Evaluations"
   ],
   "metadata": {
    "collapsed": false
   }
  },
  {
   "cell_type": "code",
   "execution_count": 48,
   "outputs": [],
   "source": [
    "\n",
    "# # Large Error Traces\n",
    "# original_dataset_path = os.path.join(DATASET_PATH, 'le_original_dataset.pt')\n",
    "# assert_path_exists(path_str=original_dataset_path)\n",
    "# original_labels_path = os.path.join(DATASET_PATH, 'le_original_labels.pt')\n",
    "# assert_path_exists(path_str=original_labels_path)\n",
    "# bounds = [-20, 0, 2, 5, 10, 20, 100]\n",
    "# j=5\n",
    "# suffix = f'_{dataset_origin}_bounds_{bounds[j]}_{bounds[j+1]}.pt'\n",
    "#\n",
    "# original_dataset_path = os.path.join(DATASET_PATH, 'traces' + suffix)\n",
    "# assert_path_exists(path_str=original_dataset_path)\n",
    "# original_labels_path = os.path.join(DATASET_PATH, 'labels' + suffix)\n",
    "# assert_path_exists(path_str=original_labels_path)\n",
    "#\n",
    "# original_dataset, original_labels = load_dataset_and_labels(dataset_path=original_dataset_path, labels_path=original_labels_path)\n",
    "\n",
    "# original_dataset, original_labels = original_snr_binned_dataset_left_for_test, original_snr_binned_labels_left_for_test\n",
    "# original_dataset, original_labels = test_dataset, test_labels\n",
    "#\n",
    "# valset_original = CustomDataset(dataset=original_dataset.float(), labels=original_labels.float(), target_transform=lambda l: (l,label_normal_smooth(l)))\n",
    "#\n",
    "# benchmark_dataloader = DataLoader(valset_original, batch_size=1, shuffle=False)\n",
    "# print(len(valset_original))\n",
    "# criterion = loss_fn"
   ],
   "metadata": {
    "collapsed": false
   }
  },
  {
   "cell_type": "code",
   "execution_count": 49,
   "outputs": [],
   "source": [
    "\n",
    "# benchmark_loss, benchmark_mean_residual, benchmark_large_errors_counter =  test_loop(dataloader=benchmark_dataloader, model=pretrained_model, loss_fn=criterion, large_error_threshold=LARGE_ERROR_THRESHOLD_SAMPLES)\n",
    "#\n",
    "# benchmark_loss, benchmark_mean_residual, benchmark_large_errors_counter, float(benchmark_large_errors_counter) / float(len(benchmark_dataloader))\n"
   ],
   "metadata": {
    "collapsed": false
   }
  },
  {
   "cell_type": "code",
   "execution_count": 50,
   "outputs": [],
   "source": [
    "# retraining_model =  SBM_CLASS.load('/home/moshe/GIT/summer_2022_Seismology/models/GFZ/retrains_on_mixed_real_and_synthetic_datasets/phasenet_geofon/mean_residual_54.69584352631581_lr_0.0001_batch_16')\n",
    "#\n",
    "\n",
    "# trained on mixed  30000 - snr binned and noisy\n",
    "# retraining_model =  SBM_CLASS.load('/home/moshe/GIT/summer_2022_Seismology/models/GFZ/retrains_on_mixed_real_train_and_synthetic_datasets/mean_residual_57.52923886111117_lr_0.0001_batch_16')\n",
    "\n",
    "# trained on real  15000  snr binned only\n",
    "# retraining_model =  SBM_CLASS.load('/home/moshe/GIT/summer_2022_Seismology/notebooks/mean_residual_38.62195977777774_lr_0.0001_batch_16')\n",
    "\n",
    "\n",
    "# trained on  4250 noisy only\n",
    "# retraining_model =  SBM_CLASS.load('/home/moshe/GIT/summer_2022_Seismology/notebooks/mean_residual_44.00933950000001_lr_0.0001_batch_16')\n",
    "\n",
    "\n",
    "# trained on  15000 noisy only  standardize\n",
    "# retraining_model =  SBM_CLASS.load('/home/moshe/GIT/summer_2022_Seismology/notebooks/mean_residual_55.95261939999995_lr_0.0001_batch_16')\n",
    "retraining_model=pretrained_model"
   ],
   "metadata": {
    "collapsed": false
   }
  },
  {
   "cell_type": "code",
   "execution_count": 51,
   "outputs": [],
   "source": [
    "# benchmark_loss, benchmark_mean_residual, benchmark_large_errors_counter =  test_loop(dataloader=benchmark_dataloader, model=retraining_model, loss_fn=criterion, large_error_threshold=LARGE_ERROR_THRESHOLD_SAMPLES)\n",
    "#\n",
    "# benchmark_loss, benchmark_mean_residual, benchmark_large_errors_counter, float(benchmark_large_errors_counter) / float(len(benchmark_dataloader))"
   ],
   "metadata": {
    "collapsed": false
   }
  },
  {
   "cell_type": "code",
   "execution_count": 52,
   "outputs": [],
   "source": [
    "import seisbench.data as sbd\n",
    "import pandas as pd\n",
    "import seisbench.generate as sbg\n",
    "import os\n",
    "import numpy as np\n",
    "from torch.utils.data import DataLoader\n",
    "# 'stead', 'geofon', 'ethz', 'iquique'\n",
    "dataset_origin = 'geofon'\n",
    "SBD_CLASSES={'ethz':sbd.ETHZ, 'geofon':sbd.GEOFON, 'iquique': sbd.Iquique, 'stead':sbd.STEAD}\n",
    "SBD_CLASS=SBD_CLASSES[dataset_origin]\n",
    "NUM_SAMPLES=3001\n",
    "PHASE_LABEL = 'P' # 'S'\n",
    "SAMPLING_RATE = 100\n",
    "SNR_THRESHOLD = 20\n",
    "BATCH_SIZE=1000\n",
    "TARGETS_PATH = f'/home/moshe/datasets/GFZ/targets/{dataset_origin}/'"
   ],
   "metadata": {
    "collapsed": false
   }
  },
  {
   "cell_type": "code",
   "execution_count": 53,
   "outputs": [
    {
     "data": {
      "text/plain": "-1"
     },
     "execution_count": 53,
     "metadata": {},
     "output_type": "execute_result"
    }
   ],
   "source": [
    "def residual_to_cell(residual: float)->int:\n",
    "    return  round((residual/100) + 0.00001) + 10\n",
    "def cell_to_residual(cell: int)->int:\n",
    "    return cell - 10\n",
    "\n",
    "cell_to_residual(residual_to_cell(-150))"
   ],
   "metadata": {
    "collapsed": false
   }
  },
  {
   "cell_type": "code",
   "execution_count": 54,
   "outputs": [],
   "source": [
    "@torch.no_grad()\n",
    "def evaluate_loop(dataloader, model, loss_fn):\n",
    "    model.eval()\n",
    "    num_batches = len(dataloader)\n",
    "    test_loss = 0\n",
    "    residuals_list = []\n",
    "    with torch.no_grad():\n",
    "        for batch in dataloader:\n",
    "            trace, (label, label_smoothed) = batch\n",
    "            # trace = standardize(trace)\n",
    "            pred_probs = model(trace.to(model.device))\n",
    "            if SBM_CLASS == sbm.EQTransformer:\n",
    "                # EQTransformer returns a tuple (N,Z,E)\n",
    "                pred_probs = torch.stack((pred_probs[1],pred_probs[0],pred_probs[2]), dim=0).swapaxes(0,1)\n",
    "\n",
    "            # Ignore prediction probs outside a 10-second window around the label\n",
    "            pred_probs[:,0,:(int(label)-500)]=0\n",
    "            pred_probs[:,0,(int(label)+500):]=0\n",
    "            # Take the maximum of the z channel prediction\n",
    "            loss = loss_fn(pred_probs[:,0,:], label_smoothed.to(model.device))\n",
    "            # loss = loss_fn(F.log_softmax(pred_probs[:,0,:], dim=-1), F.log_softmax(label_smoothed.to(model.device), dim=-1))\n",
    "            test_loss += loss.item()\n",
    "\n",
    "            prediction = torch.argmax(pred_probs[:, 0, :], dim=-1)\n",
    "            residual = float(prediction - label.to(model.device))\n",
    "            residuals_list.append(residual)\n",
    "\n",
    "    test_loss /= num_batches\n",
    "    return test_loss, residuals_list"
   ],
   "metadata": {
    "collapsed": false
   }
  },
  {
   "cell_type": "code",
   "execution_count": 55,
   "outputs": [],
   "source": [
    "# !mkdir targets\n",
    "# !mkdir targets/ethz\n",
    "# !mkdir targets/geofon\n",
    "# !mkdir targets/iquique\n",
    "# !mkdir targets/stead\n",
    "\n",
    "# #ethz\n",
    "# !wget https://dcache-demo.desy.de:2443/Helmholtz/HelmholtzAI/SeisBench/auxiliary/pick-benchmark/targets/ethz/task1.csv\n",
    "# !wget https://dcache-demo.desy.de:2443/Helmholtz/HelmholtzAI/SeisBench/auxiliary/pick-benchmark/targets/ethz/task23.csv\n",
    "# !mv *.csv targets/ethz\n",
    "#\n",
    "# #geofon\n",
    "# !wget https://dcache-demo.desy.de:2443/Helmholtz/HelmholtzAI/SeisBench/auxiliary/pick-benchmark/targets/geofon/task1.csv\n",
    "# !wget https://dcache-demo.desy.de:2443/Helmholtz/HelmholtzAI/SeisBench/auxiliary/pick-benchmark/targets/geofon/task23.csv\n",
    "# !mv *.csv targets/geofon\n",
    "\n",
    "#iquique\n",
    "# NO TARGETS!!!!\n",
    "# !wget https://dcache-demo.desy.de:2443/Helmholtz/HelmholtzAI/SeisBench/auxiliary/pick-benchmark/targets/iquique/task1.csv\n",
    "# !wget https://dcache-demo.desy.de:2443/Helmholtz/HelmholtzAI/SeisBench/auxiliary/pick-benchmark/targets/iquique/task23.csv\n",
    "# !mv *.csv targets/iquique\n",
    "\n",
    "#stead\n",
    "# !wget https://dcache-demo.desy.de:2443/Helmholtz/HelmholtzAI/SeisBench/auxiliary/pick-benchmark/targets/stead/task1.csv\n",
    "# !wget https://dcache-demo.desy.de:2443/Helmholtz/HelmholtzAI/SeisBench/auxiliary/pick-benchmark/targets/stead/task23.csv\n",
    "# !mv *.csv targets/stead"
   ],
   "metadata": {
    "collapsed": false
   }
  },
  {
   "cell_type": "code",
   "execution_count": 56,
   "outputs": [
    {
     "name": "stdout",
     "output_type": "stream",
     "text": [
      "GEOFON - 86261 traces\n"
     ]
    }
   ],
   "source": [
    "data = SBD_CLASS(sampling_rate=SAMPLING_RATE, force=True).test()\n",
    "print(data)"
   ],
   "metadata": {
    "collapsed": false
   }
  },
  {
   "cell_type": "code",
   "execution_count": 57,
   "outputs": [
    {
     "name": "stdout",
     "output_type": "stream",
     "text": [
      "All events will contribute to the resulting dataset\n",
      "89227\n",
      "There are 89227 traces in the resulting dataset.\n"
     ]
    }
   ],
   "source": [
    "\n",
    "targets_task23 = pd.read_csv(os.path.join(TARGETS_PATH,'task23.csv'))\n",
    "merged_metadata = pd.merge(data.metadata, targets_task23, on='trace_name')\n",
    "requested_event_list=[]\n",
    "filtered_metadata = merged_metadata[(merged_metadata.phase_label == PHASE_LABEL) ]\n",
    "if requested_event_list:\n",
    "  filtered_metadata = filtered_metadata[filtered_metadata.source_id.isin(requested_event_list)]\n",
    "else:\n",
    "  print('All events will contribute to the resulting dataset')\n",
    "\n",
    "gen  = sbg.SteeredGenerator(data, filtered_metadata )\n",
    "print(len(gen))\n",
    "augmentations = [\n",
    "            sbg.ChangeDtype(np.float32),\n",
    "            sbg.Normalize(demean_axis=-1, amp_norm_axis=-1, amp_norm_type=\"peak\"),\n",
    "            sbg.SteeredWindow(windowlen=NUM_SAMPLES, strategy=\"pad\")\n",
    "        ]\n",
    "\n",
    "gen.add_augmentations(augmentations)\n",
    "\n",
    "@gen.augmentation\n",
    "def get_arrival_sample(state_dict):\n",
    "  _, metadata = state_dict[\"X\"]\n",
    "  key = f\"trace_{state_dict['_control_']['full_phase_label']}_arrival_sample\"\n",
    "  state_dict['station_code'] = (metadata['station_code'], key)\n",
    "  state_dict[\"onset_sample\"] = (metadata[key], None)\n",
    "\n",
    "num_dataset_traces = int(len(gen))\n",
    "\n",
    "print(f'There are {num_dataset_traces} traces in the resulting dataset.')\n"
   ],
   "metadata": {
    "collapsed": false
   }
  },
  {
   "cell_type": "code",
   "execution_count": 58,
   "outputs": [
    {
     "name": "stdout",
     "output_type": "stream",
     "text": [
      "90\n"
     ]
    }
   ],
   "source": [
    "loader =  DataLoader(gen, batch_size=BATCH_SIZE, shuffle=False, num_workers=2)\n",
    "print(len(loader))"
   ],
   "metadata": {
    "collapsed": false
   }
  },
  {
   "cell_type": "code",
   "execution_count": 59,
   "outputs": [
    {
     "name": "stdout",
     "output_type": "stream",
     "text": [
      "****   Batch No. 0   1000 traces ****\n",
      "Benchmark root mean squared residual  100.49063873291016, large error counters torch.return_types.histogram(\n",
      "hist=tensor([ 19.,  36., 894.,  28.,  23.]),\n",
      "bin_edges=tensor([-500.5999, -300.6931, -100.7863,   99.1204,  299.0272,  498.9340]))\n",
      "Retrained root mean squared residual 100.49063873291016, large error counters torch.return_types.histogram(\n",
      "hist=tensor([ 19.,  36., 894.,  28.,  23.]),\n",
      "bin_edges=tensor([-500.5999, -300.6931, -100.7863,   99.1204,  299.0272,  498.9340]))\n",
      "****   Batch No. 1   1000 traces ****\n",
      "Benchmark root mean squared residual  89.2436752319336, large error counters torch.return_types.histogram(\n",
      "hist=tensor([  22.,   58., 1813.,   69.,   38.]),\n",
      "bin_edges=tensor([-500.8940, -300.9284, -100.9628,   99.0027,  298.9684,  498.9340]))\n",
      "Retrained root mean squared residual 89.2436752319336, large error counters torch.return_types.histogram(\n",
      "hist=tensor([  22.,   58., 1813.,   69.,   38.]),\n",
      "bin_edges=tensor([-500.8940, -300.9284, -100.9628,   99.0027,  298.9684,  498.9340]))\n",
      "****   Batch No. 2   1000 traces ****\n",
      "Benchmark root mean squared residual  93.27483367919922, large error counters torch.return_types.histogram(\n",
      "hist=tensor([  35.,   92., 2694.,  115.,   64.]),\n",
      "bin_edges=tensor([-500.8940, -300.9284, -100.9628,   99.0027,  298.9684,  498.9340]))\n",
      "Retrained root mean squared residual 93.27483367919922, large error counters torch.return_types.histogram(\n",
      "hist=tensor([  35.,   92., 2694.,  115.,   64.]),\n",
      "bin_edges=tensor([-500.8940, -300.9284, -100.9628,   99.0027,  298.9684,  498.9340]))\n",
      "****   Batch No. 3   1000 traces ****\n",
      "Benchmark root mean squared residual  90.25569152832031, large error counters torch.return_types.histogram(\n",
      "hist=tensor([  42.,  115., 3614.,  150.,   79.]),\n",
      "bin_edges=tensor([-500.8940, -300.9284, -100.9628,   99.0027,  298.9684,  498.9340]))\n",
      "Retrained root mean squared residual 90.25569152832031, large error counters torch.return_types.histogram(\n",
      "hist=tensor([  42.,  115., 3614.,  150.,   79.]),\n",
      "bin_edges=tensor([-500.8940, -300.9284, -100.9628,   99.0027,  298.9684,  498.9340]))\n",
      "****   Batch No. 4   1000 traces ****\n",
      "Benchmark root mean squared residual  91.6037826538086, large error counters torch.return_types.histogram(\n",
      "hist=tensor([  52.,  140., 4517.,  188.,  103.]),\n",
      "bin_edges=tensor([-500.8940, -300.9284, -100.9628,   99.0027,  298.9684,  498.9340]))\n",
      "Retrained root mean squared residual 91.6037826538086, large error counters torch.return_types.histogram(\n",
      "hist=tensor([  52.,  140., 4517.,  188.,  103.]),\n",
      "bin_edges=tensor([-500.8940, -300.9284, -100.9628,   99.0027,  298.9684,  498.9340]))\n",
      "****   Batch No. 5   1000 traces ****\n",
      "Benchmark root mean squared residual  88.0880355834961, large error counters torch.return_types.histogram(\n",
      "hist=tensor([  59.,  161., 5446.,  227.,  107.]),\n",
      "bin_edges=tensor([-500.8940, -300.9284, -100.9628,   99.0027,  298.9684,  498.9340]))\n",
      "Retrained root mean squared residual 88.0880355834961, large error counters torch.return_types.histogram(\n",
      "hist=tensor([  59.,  161., 5446.,  227.,  107.]),\n",
      "bin_edges=tensor([-500.8940, -300.9284, -100.9628,   99.0027,  298.9684,  498.9340]))\n",
      "****   Batch No. 6   1000 traces ****\n",
      "Benchmark root mean squared residual  85.67056274414062, large error counters torch.return_types.histogram(\n",
      "hist=tensor([  66.,  187., 6369.,  267.,  111.]),\n",
      "bin_edges=tensor([-500.8940, -300.9284, -100.9628,   99.0027,  298.9684,  498.9340]))\n",
      "Retrained root mean squared residual 85.67056274414062, large error counters torch.return_types.histogram(\n",
      "hist=tensor([  66.,  187., 6369.,  267.,  111.]),\n",
      "bin_edges=tensor([-500.8940, -300.9284, -100.9628,   99.0027,  298.9684,  498.9340]))\n",
      "****   Batch No. 7   1000 traces ****\n",
      "Benchmark root mean squared residual  83.07465362548828, large error counters torch.return_types.histogram(\n",
      "hist=tensor([  72.,  203., 7328.,  281.,  116.]),\n",
      "bin_edges=tensor([-500.8940, -300.9284, -100.9628,   99.0027,  298.9684,  498.9340]))\n",
      "Retrained root mean squared residual 83.07465362548828, large error counters torch.return_types.histogram(\n",
      "hist=tensor([  72.,  203., 7328.,  281.,  116.]),\n",
      "bin_edges=tensor([-500.8940, -300.9284, -100.9628,   99.0027,  298.9684,  498.9340]))\n",
      "****   Batch No. 8   1000 traces ****\n",
      "Benchmark root mean squared residual  80.0892562866211, large error counters torch.return_types.histogram(\n",
      "hist=tensor([  76.,  218., 8290.,  298.,  118.]),\n",
      "bin_edges=tensor([-500.8940, -300.9284, -100.9628,   99.0027,  298.9684,  498.9340]))\n",
      "Retrained root mean squared residual 80.0892562866211, large error counters torch.return_types.histogram(\n",
      "hist=tensor([  76.,  218., 8290.,  298.,  118.]),\n",
      "bin_edges=tensor([-500.8940, -300.9284, -100.9628,   99.0027,  298.9684,  498.9340]))\n",
      "****   Batch No. 9   1000 traces ****\n",
      "Benchmark root mean squared residual  81.8798599243164, large error counters torch.return_types.histogram(\n",
      "hist=tensor([  86.,  230., 9180.,  359.,  145.]),\n",
      "bin_edges=tensor([-500.8940, -300.9260, -100.9579,   99.0101,  298.9781,  498.9462]))\n",
      "Retrained root mean squared residual 81.8798599243164, large error counters torch.return_types.histogram(\n",
      "hist=tensor([  86.,  230., 9180.,  359.,  145.]),\n",
      "bin_edges=tensor([-500.8940, -300.9260, -100.9579,   99.0101,  298.9781,  498.9462]))\n",
      "****   Batch No. 10   1000 traces ****\n",
      "Benchmark root mean squared residual  82.1873550415039, large error counters torch.return_types.histogram(\n",
      "hist=tensor([   96.,   250., 10099.,   391.,   164.]),\n",
      "bin_edges=tensor([-500.8940, -300.9260, -100.9579,   99.0101,  298.9781,  498.9462]))\n",
      "Retrained root mean squared residual 82.1873550415039, large error counters torch.return_types.histogram(\n",
      "hist=tensor([   96.,   250., 10099.,   391.,   164.]),\n",
      "bin_edges=tensor([-500.8940, -300.9260, -100.9579,   99.0101,  298.9781,  498.9462]))\n",
      "****   Batch No. 11   1000 traces ****\n",
      "Benchmark root mean squared residual  81.7845687866211, large error counters torch.return_types.histogram(\n",
      "hist=tensor([  104.,   273., 11014.,   437.,   172.]),\n",
      "bin_edges=tensor([-500.8940, -300.9260, -100.9579,   99.0101,  298.9781,  498.9462]))\n",
      "Retrained root mean squared residual 81.7845687866211, large error counters torch.return_types.histogram(\n",
      "hist=tensor([  104.,   273., 11014.,   437.,   172.]),\n",
      "bin_edges=tensor([-500.8940, -300.9260, -100.9579,   99.0101,  298.9781,  498.9462]))\n",
      "****   Batch No. 12   1000 traces ****\n",
      "Benchmark root mean squared residual  80.19904327392578, large error counters torch.return_types.histogram(\n",
      "hist=tensor([  105.,   297., 11955.,   466.,   177.]),\n",
      "bin_edges=tensor([-500.8940, -300.9260, -100.9579,   99.0101,  298.9781,  498.9462]))\n",
      "Retrained root mean squared residual 80.19904327392578, large error counters torch.return_types.histogram(\n",
      "hist=tensor([  105.,   297., 11955.,   466.,   177.]),\n",
      "bin_edges=tensor([-500.8940, -300.9260, -100.9579,   99.0101,  298.9781,  498.9462]))\n",
      "****   Batch No. 13   1000 traces ****\n",
      "Benchmark root mean squared residual  80.28186798095703, large error counters torch.return_types.histogram(\n",
      "hist=tensor([  115.,   322., 12858.,   517.,   188.]),\n",
      "bin_edges=tensor([-500.8940, -300.9260, -100.9579,   99.0101,  298.9781,  498.9462]))\n",
      "Retrained root mean squared residual 80.28186798095703, large error counters torch.return_types.histogram(\n",
      "hist=tensor([  115.,   322., 12858.,   517.,   188.]),\n",
      "bin_edges=tensor([-500.8940, -300.9260, -100.9579,   99.0101,  298.9781,  498.9462]))\n",
      "****   Batch No. 14   1000 traces ****\n",
      "Benchmark root mean squared residual  78.3400650024414, large error counters torch.return_types.histogram(\n",
      "hist=tensor([  115.,   326., 13832.,   534.,   193.]),\n",
      "bin_edges=tensor([-500.8940, -300.9260, -100.9579,   99.0101,  298.9781,  498.9462]))\n",
      "Retrained root mean squared residual 78.3400650024414, large error counters torch.return_types.histogram(\n",
      "hist=tensor([  115.,   326., 13832.,   534.,   193.]),\n",
      "bin_edges=tensor([-500.8940, -300.9260, -100.9579,   99.0101,  298.9781,  498.9462]))\n",
      "****   Batch No. 15   1000 traces ****\n",
      "Benchmark root mean squared residual  77.2102279663086, large error counters torch.return_types.histogram(\n",
      "hist=tensor([  121.,   337., 14793.,   550.,   199.]),\n",
      "bin_edges=tensor([-500.8940, -300.9260, -100.9579,   99.0101,  298.9781,  498.9462]))\n",
      "Retrained root mean squared residual 77.2102279663086, large error counters torch.return_types.histogram(\n",
      "hist=tensor([  121.,   337., 14793.,   550.,   199.]),\n",
      "bin_edges=tensor([-500.8940, -300.9260, -100.9579,   99.0101,  298.9781,  498.9462]))\n",
      "****   Batch No. 16   1000 traces ****\n",
      "Benchmark root mean squared residual  77.2247085571289, large error counters torch.return_types.histogram(\n",
      "hist=tensor([  124.,   366., 15684.,   614.,   212.]),\n",
      "bin_edges=tensor([-500.8940, -300.9260, -100.9579,   99.0101,  298.9781,  498.9462]))\n",
      "Retrained root mean squared residual 77.2247085571289, large error counters torch.return_types.histogram(\n",
      "hist=tensor([  124.,   366., 15684.,   614.,   212.]),\n",
      "bin_edges=tensor([-500.8940, -300.9260, -100.9579,   99.0101,  298.9781,  498.9462]))\n",
      "****   Batch No. 17   1000 traces ****\n",
      "Benchmark root mean squared residual  78.31745147705078, large error counters torch.return_types.histogram(\n",
      "hist=tensor([  141.,   392., 16581.,   661.,   225.]),\n",
      "bin_edges=tensor([-500.9999, -301.0107, -101.0215,   98.9677,  298.9570,  498.9462]))\n",
      "Retrained root mean squared residual 78.31745147705078, large error counters torch.return_types.histogram(\n",
      "hist=tensor([  141.,   392., 16581.,   661.,   225.]),\n",
      "bin_edges=tensor([-500.9999, -301.0107, -101.0215,   98.9677,  298.9570,  498.9462]))\n",
      "****   Batch No. 18   1000 traces ****\n",
      "Benchmark root mean squared residual  78.6021499633789, large error counters torch.return_types.histogram(\n",
      "hist=tensor([  152.,   410., 17497.,   706.,   235.]),\n",
      "bin_edges=tensor([-500.9999, -301.0047, -101.0096,   98.9856,  298.9808,  498.9760]))\n",
      "Retrained root mean squared residual 78.6021499633789, large error counters torch.return_types.histogram(\n",
      "hist=tensor([  152.,   410., 17497.,   706.,   235.]),\n",
      "bin_edges=tensor([-500.9999, -301.0047, -101.0096,   98.9856,  298.9808,  498.9760]))\n",
      "****   Batch No. 19   1000 traces ****\n",
      "Benchmark root mean squared residual  78.03624725341797, large error counters torch.return_types.histogram(\n",
      "hist=tensor([  159.,   432., 18437.,   729.,   243.]),\n",
      "bin_edges=tensor([-500.9999, -301.0047, -101.0096,   98.9856,  298.9808,  498.9760]))\n",
      "Retrained root mean squared residual 78.03624725341797, large error counters torch.return_types.histogram(\n",
      "hist=tensor([  159.,   432., 18437.,   729.,   243.]),\n",
      "bin_edges=tensor([-500.9999, -301.0047, -101.0096,   98.9856,  298.9808,  498.9760]))\n",
      "****   Batch No. 20   1000 traces ****\n",
      "Benchmark root mean squared residual  77.88518524169922, large error counters torch.return_types.histogram(\n",
      "hist=tensor([  170.,   451., 19367.,   759.,   253.]),\n",
      "bin_edges=tensor([-500.9999, -301.0047, -101.0096,   98.9856,  298.9808,  498.9760]))\n",
      "Retrained root mean squared residual 77.88518524169922, large error counters torch.return_types.histogram(\n",
      "hist=tensor([  170.,   451., 19367.,   759.,   253.]),\n",
      "bin_edges=tensor([-500.9999, -301.0047, -101.0096,   98.9856,  298.9808,  498.9760]))\n",
      "****   Batch No. 21   1000 traces ****\n",
      "Benchmark root mean squared residual  77.70298767089844, large error counters torch.return_types.histogram(\n",
      "hist=tensor([  180.,   472., 20297.,   790.,   261.]),\n",
      "bin_edges=tensor([-500.9999, -301.0047, -101.0096,   98.9856,  298.9808,  498.9760]))\n",
      "Retrained root mean squared residual 77.70298767089844, large error counters torch.return_types.histogram(\n",
      "hist=tensor([  180.,   472., 20297.,   790.,   261.]),\n",
      "bin_edges=tensor([-500.9999, -301.0047, -101.0096,   98.9856,  298.9808,  498.9760]))\n",
      "****   Batch No. 22   1000 traces ****\n",
      "Benchmark root mean squared residual  78.36495208740234, large error counters torch.return_types.histogram(\n",
      "hist=tensor([  195.,   492., 21205.,   835.,   273.]),\n",
      "bin_edges=tensor([-500.9999, -301.0047, -101.0096,   98.9856,  298.9808,  498.9760]))\n",
      "Retrained root mean squared residual 78.36495208740234, large error counters torch.return_types.histogram(\n",
      "hist=tensor([  195.,   492., 21205.,   835.,   273.]),\n",
      "bin_edges=tensor([-500.9999, -301.0047, -101.0096,   98.9856,  298.9808,  498.9760]))\n",
      "****   Batch No. 23   1000 traces ****\n",
      "Benchmark root mean squared residual  78.49124145507812, large error counters torch.return_types.histogram(\n",
      "hist=tensor([  206.,   516., 22129.,   865.,   284.]),\n",
      "bin_edges=tensor([-500.9999, -301.0047, -101.0096,   98.9856,  298.9808,  498.9760]))\n",
      "Retrained root mean squared residual 78.49124145507812, large error counters torch.return_types.histogram(\n",
      "hist=tensor([  206.,   516., 22129.,   865.,   284.]),\n",
      "bin_edges=tensor([-500.9999, -301.0047, -101.0096,   98.9856,  298.9808,  498.9760]))\n",
      "****   Batch No. 24   1000 traces ****\n",
      "Benchmark root mean squared residual  80.74422454833984, large error counters torch.return_types.histogram(\n",
      "hist=tensor([  238.,   555., 22931.,   961.,   315.]),\n",
      "bin_edges=tensor([-500.9999, -301.0047, -101.0096,   98.9856,  298.9808,  498.9760]))\n",
      "Retrained root mean squared residual 80.74422454833984, large error counters torch.return_types.histogram(\n",
      "hist=tensor([  238.,   555., 22931.,   961.,   315.]),\n",
      "bin_edges=tensor([-500.9999, -301.0047, -101.0096,   98.9856,  298.9808,  498.9760]))\n",
      "****   Batch No. 25   1000 traces ****\n",
      "Benchmark root mean squared residual  80.6297836303711, large error counters torch.return_types.histogram(\n",
      "hist=tensor([  254.,   571., 23863.,   991.,   321.]),\n",
      "bin_edges=tensor([-500.9999, -301.0047, -101.0096,   98.9856,  298.9808,  498.9760]))\n",
      "Retrained root mean squared residual 80.6297836303711, large error counters torch.return_types.histogram(\n",
      "hist=tensor([  254.,   571., 23863.,   991.,   321.]),\n",
      "bin_edges=tensor([-500.9999, -301.0047, -101.0096,   98.9856,  298.9808,  498.9760]))\n",
      "****   Batch No. 26   1000 traces ****\n",
      "Benchmark root mean squared residual  82.00727081298828, large error counters torch.return_types.histogram(\n",
      "hist=tensor([  271.,   595., 24743.,  1040.,   351.]),\n",
      "bin_edges=tensor([-500.9999, -301.0047, -101.0096,   98.9856,  298.9808,  498.9760]))\n",
      "Retrained root mean squared residual 82.00727081298828, large error counters torch.return_types.histogram(\n",
      "hist=tensor([  271.,   595., 24743.,  1040.,   351.]),\n",
      "bin_edges=tensor([-500.9999, -301.0047, -101.0096,   98.9856,  298.9808,  498.9760]))\n",
      "****   Batch No. 27   1000 traces ****\n",
      "Benchmark root mean squared residual  82.5699234008789, large error counters torch.return_types.histogram(\n",
      "hist=tensor([  281.,   626., 25627.,  1092.,   374.]),\n",
      "bin_edges=tensor([-500.9999, -301.0047, -101.0096,   98.9856,  298.9808,  498.9760]))\n",
      "Retrained root mean squared residual 82.5699234008789, large error counters torch.return_types.histogram(\n",
      "hist=tensor([  281.,   626., 25627.,  1092.,   374.]),\n",
      "bin_edges=tensor([-500.9999, -301.0047, -101.0096,   98.9856,  298.9808,  498.9760]))\n",
      "****   Batch No. 28   1000 traces ****\n",
      "Benchmark root mean squared residual  81.69944763183594, large error counters torch.return_types.histogram(\n",
      "hist=tensor([  282.,   646., 26577.,  1117.,   378.]),\n",
      "bin_edges=tensor([-500.9999, -301.0047, -101.0096,   98.9856,  298.9808,  498.9760]))\n",
      "Retrained root mean squared residual 81.69944763183594, large error counters torch.return_types.histogram(\n",
      "hist=tensor([  282.,   646., 26577.,  1117.,   378.]),\n",
      "bin_edges=tensor([-500.9999, -301.0047, -101.0096,   98.9856,  298.9808,  498.9760]))\n",
      "****   Batch No. 29   1000 traces ****\n",
      "Benchmark root mean squared residual  81.23043060302734, large error counters torch.return_types.histogram(\n",
      "hist=tensor([  285.,   659., 27527.,  1139.,   390.]),\n",
      "bin_edges=tensor([-500.9999, -301.0047, -101.0096,   98.9856,  298.9808,  498.9760]))\n",
      "Retrained root mean squared residual 81.23043060302734, large error counters torch.return_types.histogram(\n",
      "hist=tensor([  285.,   659., 27527.,  1139.,   390.]),\n",
      "bin_edges=tensor([-500.9999, -301.0047, -101.0096,   98.9856,  298.9808,  498.9760]))\n",
      "****   Batch No. 30   1000 traces ****\n",
      "Benchmark root mean squared residual  80.50678253173828, large error counters torch.return_types.histogram(\n",
      "hist=tensor([  297.,   662., 28506.,  1143.,   392.]),\n",
      "bin_edges=tensor([-500.9999, -301.0047, -101.0096,   98.9856,  298.9808,  498.9760]))\n",
      "Retrained root mean squared residual 80.50678253173828, large error counters torch.return_types.histogram(\n",
      "hist=tensor([  297.,   662., 28506.,  1143.,   392.]),\n",
      "bin_edges=tensor([-500.9999, -301.0047, -101.0096,   98.9856,  298.9808,  498.9760]))\n",
      "****   Batch No. 31   1000 traces ****\n",
      "Benchmark root mean squared residual  82.16266632080078, large error counters torch.return_types.histogram(\n",
      "hist=tensor([  326.,   708., 29340.,  1208.,   418.]),\n",
      "bin_edges=tensor([-500.9999, -301.0047, -101.0096,   98.9856,  298.9808,  498.9760]))\n",
      "Retrained root mean squared residual 82.16266632080078, large error counters torch.return_types.histogram(\n",
      "hist=tensor([  326.,   708., 29340.,  1208.,   418.]),\n",
      "bin_edges=tensor([-500.9999, -301.0047, -101.0096,   98.9856,  298.9808,  498.9760]))\n",
      "****   Batch No. 32   1000 traces ****\n",
      "Benchmark root mean squared residual  81.87681579589844, large error counters torch.return_types.histogram(\n",
      "hist=tensor([  332.,   727., 30266.,  1247.,   428.]),\n",
      "bin_edges=tensor([-500.9999, -301.0021, -101.0044,   98.9933,  298.9910,  498.9888]))\n",
      "Retrained root mean squared residual 81.87681579589844, large error counters torch.return_types.histogram(\n",
      "hist=tensor([  332.,   727., 30266.,  1247.,   428.]),\n",
      "bin_edges=tensor([-500.9999, -301.0021, -101.0044,   98.9933,  298.9910,  498.9888]))\n",
      "****   Batch No. 33   1000 traces ****\n",
      "Benchmark root mean squared residual  81.4150161743164, large error counters torch.return_types.histogram(\n",
      "hist=tensor([  337.,   744., 31197.,  1287.,   435.]),\n",
      "bin_edges=tensor([-500.9999, -301.0021, -101.0044,   98.9933,  298.9910,  498.9888]))\n",
      "Retrained root mean squared residual 81.4150161743164, large error counters torch.return_types.histogram(\n",
      "hist=tensor([  337.,   744., 31197.,  1287.,   435.]),\n",
      "bin_edges=tensor([-500.9999, -301.0021, -101.0044,   98.9933,  298.9910,  498.9888]))\n",
      "****   Batch No. 34   1000 traces ****\n",
      "Benchmark root mean squared residual  81.72413635253906, large error counters torch.return_types.histogram(\n",
      "hist=tensor([  363.,   776., 32103.,  1316.,   442.]),\n",
      "bin_edges=tensor([-500.9999, -301.0021, -101.0044,   98.9933,  298.9910,  498.9888]))\n",
      "Retrained root mean squared residual 81.72413635253906, large error counters torch.return_types.histogram(\n",
      "hist=tensor([  363.,   776., 32103.,  1316.,   442.]),\n",
      "bin_edges=tensor([-500.9999, -301.0021, -101.0044,   98.9933,  298.9910,  498.9888]))\n",
      "****   Batch No. 35   1000 traces ****\n",
      "Benchmark root mean squared residual  81.22905731201172, large error counters torch.return_types.histogram(\n",
      "hist=tensor([  370.,   789., 33057.,  1335.,   449.]),\n",
      "bin_edges=tensor([-500.9999, -301.0021, -101.0044,   98.9933,  298.9910,  498.9888]))\n",
      "Retrained root mean squared residual 81.22905731201172, large error counters torch.return_types.histogram(\n",
      "hist=tensor([  370.,   789., 33057.,  1335.,   449.]),\n",
      "bin_edges=tensor([-500.9999, -301.0021, -101.0044,   98.9933,  298.9910,  498.9888]))\n",
      "****   Batch No. 36   1000 traces ****\n",
      "Benchmark root mean squared residual  81.36548614501953, large error counters torch.return_types.histogram(\n",
      "hist=tensor([  384.,   832., 33938.,  1389.,   457.]),\n",
      "bin_edges=tensor([-500.9999, -301.0021, -101.0044,   98.9933,  298.9910,  498.9888]))\n",
      "Retrained root mean squared residual 81.36548614501953, large error counters torch.return_types.histogram(\n",
      "hist=tensor([  384.,   832., 33938.,  1389.,   457.]),\n",
      "bin_edges=tensor([-500.9999, -301.0021, -101.0044,   98.9933,  298.9910,  498.9888]))\n",
      "****   Batch No. 37   1000 traces ****\n",
      "Benchmark root mean squared residual  81.289794921875, large error counters torch.return_types.histogram(\n",
      "hist=tensor([  389.,   858., 34845.,  1440.,   468.]),\n",
      "bin_edges=tensor([-500.9999, -301.0021, -101.0044,   98.9933,  298.9910,  498.9888]))\n",
      "Retrained root mean squared residual 81.289794921875, large error counters torch.return_types.histogram(\n",
      "hist=tensor([  389.,   858., 34845.,  1440.,   468.]),\n",
      "bin_edges=tensor([-500.9999, -301.0021, -101.0044,   98.9933,  298.9910,  498.9888]))\n",
      "****   Batch No. 38   1000 traces ****\n",
      "Benchmark root mean squared residual  81.14607238769531, large error counters torch.return_types.histogram(\n",
      "hist=tensor([  394.,   883., 35774.,  1469.,   480.]),\n",
      "bin_edges=tensor([-500.9999, -301.0021, -101.0044,   98.9933,  298.9910,  498.9888]))\n",
      "Retrained root mean squared residual 81.14607238769531, large error counters torch.return_types.histogram(\n",
      "hist=tensor([  394.,   883., 35774.,  1469.,   480.]),\n",
      "bin_edges=tensor([-500.9999, -301.0021, -101.0044,   98.9933,  298.9910,  498.9888]))\n",
      "****   Batch No. 39   1000 traces ****\n",
      "Benchmark root mean squared residual  81.0694808959961, large error counters torch.return_types.histogram(\n",
      "hist=tensor([  404.,   898., 36678.,  1530.,   490.]),\n",
      "bin_edges=tensor([-500.9999, -301.0021, -101.0044,   98.9933,  298.9910,  498.9888]))\n",
      "Retrained root mean squared residual 81.0694808959961, large error counters torch.return_types.histogram(\n",
      "hist=tensor([  404.,   898., 36678.,  1530.,   490.]),\n",
      "bin_edges=tensor([-500.9999, -301.0021, -101.0044,   98.9933,  298.9910,  498.9888]))\n",
      "****   Batch No. 40   1000 traces ****\n",
      "Benchmark root mean squared residual  81.05594635009766, large error counters torch.return_types.histogram(\n",
      "hist=tensor([  415.,   931., 37589.,  1562.,   503.]),\n",
      "bin_edges=tensor([-500.9999, -301.0021, -101.0044,   98.9933,  298.9910,  498.9888]))\n",
      "Retrained root mean squared residual 81.05594635009766, large error counters torch.return_types.histogram(\n",
      "hist=tensor([  415.,   931., 37589.,  1562.,   503.]),\n",
      "bin_edges=tensor([-500.9999, -301.0021, -101.0044,   98.9933,  298.9910,  498.9888]))\n",
      "****   Batch No. 41   1000 traces ****\n",
      "Benchmark root mean squared residual  82.62960052490234, large error counters torch.return_types.histogram(\n",
      "hist=tensor([  442.,   972., 38388.,  1653.,   545.]),\n",
      "bin_edges=tensor([-500.9999, -301.0021, -101.0044,   98.9933,  298.9910,  498.9888]))\n",
      "Retrained root mean squared residual 82.62960052490234, large error counters torch.return_types.histogram(\n",
      "hist=tensor([  442.,   972., 38388.,  1653.,   545.]),\n",
      "bin_edges=tensor([-500.9999, -301.0021, -101.0044,   98.9933,  298.9910,  498.9888]))\n",
      "****   Batch No. 42   1000 traces ****\n",
      "Benchmark root mean squared residual  82.94105529785156, large error counters torch.return_types.histogram(\n",
      "hist=tensor([  447.,   991., 39238.,  1764.,   560.]),\n",
      "bin_edges=tensor([-500.9999, -301.0021, -101.0044,   98.9933,  298.9910,  498.9888]))\n",
      "Retrained root mean squared residual 82.94105529785156, large error counters torch.return_types.histogram(\n",
      "hist=tensor([  447.,   991., 39238.,  1764.,   560.]),\n",
      "bin_edges=tensor([-500.9999, -301.0021, -101.0044,   98.9933,  298.9910,  498.9888]))\n",
      "****   Batch No. 43   1000 traces ****\n",
      "Benchmark root mean squared residual  82.74857330322266, large error counters torch.return_types.histogram(\n",
      "hist=tensor([  457.,  1024., 40157.,  1794.,   568.]),\n",
      "bin_edges=tensor([-500.9999, -301.0021, -101.0044,   98.9933,  298.9910,  498.9888]))\n",
      "Retrained root mean squared residual 82.74857330322266, large error counters torch.return_types.histogram(\n",
      "hist=tensor([  457.,  1024., 40157.,  1794.,   568.]),\n",
      "bin_edges=tensor([-500.9999, -301.0021, -101.0044,   98.9933,  298.9910,  498.9888]))\n",
      "****   Batch No. 44   1000 traces ****\n",
      "Benchmark root mean squared residual  82.73388671875, large error counters torch.return_types.histogram(\n",
      "hist=tensor([  469.,  1051., 41085.,  1814.,   581.]),\n",
      "bin_edges=tensor([-500.9999, -301.0021, -101.0044,   98.9933,  298.9910,  498.9888]))\n",
      "Retrained root mean squared residual 82.73388671875, large error counters torch.return_types.histogram(\n",
      "hist=tensor([  469.,  1051., 41085.,  1814.,   581.]),\n",
      "bin_edges=tensor([-500.9999, -301.0021, -101.0044,   98.9933,  298.9910,  498.9888]))\n",
      "****   Batch No. 45   1000 traces ****\n",
      "Benchmark root mean squared residual  82.44116973876953, large error counters torch.return_types.histogram(\n",
      "hist=tensor([  472.,  1068., 41993.,  1878.,   589.]),\n",
      "bin_edges=tensor([-500.9999, -301.0021, -101.0044,   98.9933,  298.9910,  498.9888]))\n",
      "Retrained root mean squared residual 82.44116973876953, large error counters torch.return_types.histogram(\n",
      "hist=tensor([  472.,  1068., 41993.,  1878.,   589.]),\n",
      "bin_edges=tensor([-500.9999, -301.0021, -101.0044,   98.9933,  298.9910,  498.9888]))\n",
      "****   Batch No. 46   1000 traces ****\n",
      "Benchmark root mean squared residual  83.13801574707031, large error counters torch.return_types.histogram(\n",
      "hist=tensor([  496.,  1123., 42814.,  1959.,   608.]),\n",
      "bin_edges=tensor([-500.9999, -301.0021, -101.0044,   98.9933,  298.9910,  498.9888]))\n",
      "Retrained root mean squared residual 83.13801574707031, large error counters torch.return_types.histogram(\n",
      "hist=tensor([  496.,  1123., 42814.,  1959.,   608.]),\n",
      "bin_edges=tensor([-500.9999, -301.0021, -101.0044,   98.9933,  298.9910,  498.9888]))\n",
      "****   Batch No. 47   1000 traces ****\n",
      "Benchmark root mean squared residual  83.38252258300781, large error counters torch.return_types.histogram(\n",
      "hist=tensor([  537.,  1134., 43724.,  1990.,   615.]),\n",
      "bin_edges=tensor([-500.9999, -301.0021, -101.0044,   98.9933,  298.9910,  498.9888]))\n",
      "Retrained root mean squared residual 83.38252258300781, large error counters torch.return_types.histogram(\n",
      "hist=tensor([  537.,  1134., 43724.,  1990.,   615.]),\n",
      "bin_edges=tensor([-500.9999, -301.0021, -101.0044,   98.9933,  298.9910,  498.9888]))\n",
      "****   Batch No. 48   1000 traces ****\n",
      "Benchmark root mean squared residual  83.61582946777344, large error counters torch.return_types.histogram(\n",
      "hist=tensor([  560.,  1176., 44589.,  2050.,   625.]),\n",
      "bin_edges=tensor([-500.9999, -301.0021, -101.0044,   98.9933,  298.9910,  498.9888]))\n",
      "Retrained root mean squared residual 83.61582946777344, large error counters torch.return_types.histogram(\n",
      "hist=tensor([  560.,  1176., 44589.,  2050.,   625.]),\n",
      "bin_edges=tensor([-500.9999, -301.0021, -101.0044,   98.9933,  298.9910,  498.9888]))\n",
      "****   Batch No. 49   1000 traces ****\n",
      "Benchmark root mean squared residual  83.99260711669922, large error counters torch.return_types.histogram(\n",
      "hist=tensor([  573.,  1199., 45458.,  2120.,   650.]),\n",
      "bin_edges=tensor([-500.9999, -301.0021, -101.0044,   98.9933,  298.9910,  498.9888]))\n",
      "Retrained root mean squared residual 83.99260711669922, large error counters torch.return_types.histogram(\n",
      "hist=tensor([  573.,  1199., 45458.,  2120.,   650.]),\n",
      "bin_edges=tensor([-500.9999, -301.0021, -101.0044,   98.9933,  298.9910,  498.9888]))\n",
      "****   Batch No. 50   1000 traces ****\n",
      "Benchmark root mean squared residual  84.64396667480469, large error counters torch.return_types.histogram(\n",
      "hist=tensor([  593.,  1228., 46298.,  2207.,   674.]),\n",
      "bin_edges=tensor([-500.9999, -301.0021, -101.0044,   98.9933,  298.9910,  498.9888]))\n",
      "Retrained root mean squared residual 84.64396667480469, large error counters torch.return_types.histogram(\n",
      "hist=tensor([  593.,  1228., 46298.,  2207.,   674.]),\n",
      "bin_edges=tensor([-500.9999, -301.0021, -101.0044,   98.9933,  298.9910,  498.9888]))\n",
      "****   Batch No. 51   1000 traces ****\n",
      "Benchmark root mean squared residual  84.76225280761719, large error counters torch.return_types.histogram(\n",
      "hist=tensor([  609.,  1262., 47196.,  2242.,   691.]),\n",
      "bin_edges=tensor([-500.9999, -301.0021, -101.0044,   98.9933,  298.9910,  498.9888]))\n",
      "Retrained root mean squared residual 84.76225280761719, large error counters torch.return_types.histogram(\n",
      "hist=tensor([  609.,  1262., 47196.,  2242.,   691.]),\n",
      "bin_edges=tensor([-500.9999, -301.0021, -101.0044,   98.9933,  298.9910,  498.9888]))\n",
      "****   Batch No. 52   1000 traces ****\n",
      "Benchmark root mean squared residual  84.9599380493164, large error counters torch.return_types.histogram(\n",
      "hist=tensor([  632.,  1283., 48099.,  2279.,   707.]),\n",
      "bin_edges=tensor([-500.9999, -301.0021, -101.0044,   98.9933,  298.9910,  498.9888]))\n",
      "Retrained root mean squared residual 84.9599380493164, large error counters torch.return_types.histogram(\n",
      "hist=tensor([  632.,  1283., 48099.,  2279.,   707.]),\n",
      "bin_edges=tensor([-500.9999, -301.0021, -101.0044,   98.9933,  298.9910,  498.9888]))\n",
      "****   Batch No. 53   1000 traces ****\n",
      "Benchmark root mean squared residual  84.74119567871094, large error counters torch.return_types.histogram(\n",
      "hist=tensor([  634.,  1304., 49006.,  2336.,   720.]),\n",
      "bin_edges=tensor([-500.9999, -301.0021, -101.0044,   98.9933,  298.9910,  498.9888]))\n",
      "Retrained root mean squared residual 84.74119567871094, large error counters torch.return_types.histogram(\n",
      "hist=tensor([  634.,  1304., 49006.,  2336.,   720.]),\n",
      "bin_edges=tensor([-500.9999, -301.0021, -101.0044,   98.9933,  298.9910,  498.9888]))\n",
      "****   Batch No. 54   1000 traces ****\n",
      "Benchmark root mean squared residual  84.30220794677734, large error counters torch.return_types.histogram(\n",
      "hist=tensor([  641.,  1313., 49955.,  2368.,   723.]),\n",
      "bin_edges=tensor([-500.9999, -301.0021, -101.0044,   98.9933,  298.9910,  498.9888]))\n",
      "Retrained root mean squared residual 84.30220794677734, large error counters torch.return_types.histogram(\n",
      "hist=tensor([  641.,  1313., 49955.,  2368.,   723.]),\n",
      "bin_edges=tensor([-500.9999, -301.0021, -101.0044,   98.9933,  298.9910,  498.9888]))\n",
      "****   Batch No. 55   1000 traces ****\n",
      "Benchmark root mean squared residual  84.27268981933594, large error counters torch.return_types.histogram(\n",
      "hist=tensor([  645.,  1331., 50861.,  2421.,   742.]),\n",
      "bin_edges=tensor([-500.9999, -301.0021, -101.0044,   98.9933,  298.9910,  498.9888]))\n",
      "Retrained root mean squared residual 84.27268981933594, large error counters torch.return_types.histogram(\n",
      "hist=tensor([  645.,  1331., 50861.,  2421.,   742.]),\n",
      "bin_edges=tensor([-500.9999, -301.0021, -101.0044,   98.9933,  298.9910,  498.9888]))\n",
      "****   Batch No. 56   1000 traces ****\n",
      "Benchmark root mean squared residual  84.66043090820312, large error counters torch.return_types.histogram(\n",
      "hist=tensor([  663.,  1395., 51701.,  2480.,   761.]),\n",
      "bin_edges=tensor([-500.9999, -301.0021, -101.0044,   98.9933,  298.9910,  498.9888]))\n",
      "Retrained root mean squared residual 84.66043090820312, large error counters torch.return_types.histogram(\n",
      "hist=tensor([  663.,  1395., 51701.,  2480.,   761.]),\n",
      "bin_edges=tensor([-500.9999, -301.0021, -101.0044,   98.9933,  298.9910,  498.9888]))\n",
      "****   Batch No. 57   1000 traces ****\n",
      "Benchmark root mean squared residual  84.90586853027344, large error counters torch.return_types.histogram(\n",
      "hist=tensor([  678.,  1429., 52575.,  2539.,   779.]),\n",
      "bin_edges=tensor([-500.9999, -301.0021, -101.0044,   98.9933,  298.9910,  498.9888]))\n",
      "Retrained root mean squared residual 84.90586853027344, large error counters torch.return_types.histogram(\n",
      "hist=tensor([  678.,  1429., 52575.,  2539.,   779.]),\n",
      "bin_edges=tensor([-500.9999, -301.0021, -101.0044,   98.9933,  298.9910,  498.9888]))\n",
      "****   Batch No. 58   1000 traces ****\n",
      "Benchmark root mean squared residual  85.3557357788086, large error counters torch.return_types.histogram(\n",
      "hist=tensor([  693.,  1456., 53455.,  2582.,   814.]),\n",
      "bin_edges=tensor([-500.9999, -301.0021, -101.0044,   98.9933,  298.9910,  498.9888]))\n",
      "Retrained root mean squared residual 85.3557357788086, large error counters torch.return_types.histogram(\n",
      "hist=tensor([  693.,  1456., 53455.,  2582.,   814.]),\n",
      "bin_edges=tensor([-500.9999, -301.0021, -101.0044,   98.9933,  298.9910,  498.9888]))\n",
      "****   Batch No. 59   1000 traces ****\n",
      "Benchmark root mean squared residual  85.98914337158203, large error counters torch.return_types.histogram(\n",
      "hist=tensor([  722.,  1489., 54318.,  2630.,   841.]),\n",
      "bin_edges=tensor([-500.9999, -301.0021, -101.0044,   98.9933,  298.9910,  498.9888]))\n",
      "Retrained root mean squared residual 85.98914337158203, large error counters torch.return_types.histogram(\n",
      "hist=tensor([  722.,  1489., 54318.,  2630.,   841.]),\n",
      "bin_edges=tensor([-500.9999, -301.0021, -101.0044,   98.9933,  298.9910,  498.9888]))\n",
      "****   Batch No. 60   1000 traces ****\n",
      "Benchmark root mean squared residual  85.75556945800781, large error counters torch.return_types.histogram(\n",
      "hist=tensor([  732.,  1503., 55257.,  2660.,   848.]),\n",
      "bin_edges=tensor([-500.9999, -301.0021, -101.0044,   98.9933,  298.9910,  498.9888]))\n",
      "Retrained root mean squared residual 85.75556945800781, large error counters torch.return_types.histogram(\n",
      "hist=tensor([  732.,  1503., 55257.,  2660.,   848.]),\n",
      "bin_edges=tensor([-500.9999, -301.0021, -101.0044,   98.9933,  298.9910,  498.9888]))\n",
      "****   Batch No. 61   1000 traces ****\n",
      "Benchmark root mean squared residual  85.85340118408203, large error counters torch.return_types.histogram(\n",
      "hist=tensor([  744.,  1531., 56161.,  2694.,   870.]),\n",
      "bin_edges=tensor([-500.9999, -301.0021, -101.0044,   98.9933,  298.9910,  498.9888]))\n",
      "Retrained root mean squared residual 85.85340118408203, large error counters torch.return_types.histogram(\n",
      "hist=tensor([  744.,  1531., 56161.,  2694.,   870.]),\n",
      "bin_edges=tensor([-500.9999, -301.0021, -101.0044,   98.9933,  298.9910,  498.9888]))\n",
      "****   Batch No. 62   1000 traces ****\n",
      "Benchmark root mean squared residual  86.05757904052734, large error counters torch.return_types.histogram(\n",
      "hist=tensor([  768.,  1549., 57063.,  2737.,   883.]),\n",
      "bin_edges=tensor([-500.9999, -301.0021, -101.0044,   98.9933,  298.9910,  498.9888]))\n",
      "Retrained root mean squared residual 86.05757904052734, large error counters torch.return_types.histogram(\n",
      "hist=tensor([  768.,  1549., 57063.,  2737.,   883.]),\n",
      "bin_edges=tensor([-500.9999, -301.0021, -101.0044,   98.9933,  298.9910,  498.9888]))\n",
      "****   Batch No. 63   1000 traces ****\n",
      "Benchmark root mean squared residual  86.33956146240234, large error counters torch.return_types.histogram(\n",
      "hist=tensor([  789.,  1576., 57952.,  2782.,   901.]),\n",
      "bin_edges=tensor([-500.9999, -301.0021, -101.0044,   98.9933,  298.9910,  498.9888]))\n",
      "Retrained root mean squared residual 86.33956146240234, large error counters torch.return_types.histogram(\n",
      "hist=tensor([  789.,  1576., 57952.,  2782.,   901.]),\n",
      "bin_edges=tensor([-500.9999, -301.0021, -101.0044,   98.9933,  298.9910,  498.9888]))\n",
      "****   Batch No. 64   1000 traces ****\n",
      "Benchmark root mean squared residual  86.48947143554688, large error counters torch.return_types.histogram(\n",
      "hist=tensor([  791.,  1611., 58829.,  2837.,   932.]),\n",
      "bin_edges=tensor([-500.9999, -301.0021, -101.0044,   98.9933,  298.9910,  498.9888]))\n",
      "Retrained root mean squared residual 86.48947143554688, large error counters torch.return_types.histogram(\n",
      "hist=tensor([  791.,  1611., 58829.,  2837.,   932.]),\n",
      "bin_edges=tensor([-500.9999, -301.0021, -101.0044,   98.9933,  298.9910,  498.9888]))\n",
      "****   Batch No. 65   1000 traces ****\n",
      "Benchmark root mean squared residual  86.53370666503906, large error counters torch.return_types.histogram(\n",
      "hist=tensor([  811.,  1646., 59721.,  2881.,   941.]),\n",
      "bin_edges=tensor([-500.9999, -301.0021, -101.0044,   98.9933,  298.9910,  498.9888]))\n",
      "Retrained root mean squared residual 86.53370666503906, large error counters torch.return_types.histogram(\n",
      "hist=tensor([  811.,  1646., 59721.,  2881.,   941.]),\n",
      "bin_edges=tensor([-500.9999, -301.0021, -101.0044,   98.9933,  298.9910,  498.9888]))\n",
      "****   Batch No. 66   1000 traces ****\n",
      "Benchmark root mean squared residual  86.30166625976562, large error counters torch.return_types.histogram(\n",
      "hist=tensor([  817.,  1661., 60647.,  2926.,   949.]),\n",
      "bin_edges=tensor([-500.9999, -301.0021, -101.0044,   98.9933,  298.9910,  498.9888]))\n",
      "Retrained root mean squared residual 86.30166625976562, large error counters torch.return_types.histogram(\n",
      "hist=tensor([  817.,  1661., 60647.,  2926.,   949.]),\n",
      "bin_edges=tensor([-500.9999, -301.0021, -101.0044,   98.9933,  298.9910,  498.9888]))\n",
      "****   Batch No. 67   1000 traces ****\n",
      "Benchmark root mean squared residual  87.56903839111328, large error counters torch.return_types.histogram(\n",
      "hist=tensor([  836.,  1701., 61402.,  3039.,  1022.]),\n",
      "bin_edges=tensor([-500.9999, -301.0021, -101.0044,   98.9933,  298.9910,  498.9888]))\n",
      "Retrained root mean squared residual 87.56903839111328, large error counters torch.return_types.histogram(\n",
      "hist=tensor([  836.,  1701., 61402.,  3039.,  1022.]),\n",
      "bin_edges=tensor([-500.9999, -301.0021, -101.0044,   98.9933,  298.9910,  498.9888]))\n",
      "****   Batch No. 68   1000 traces ****\n",
      "Benchmark root mean squared residual  87.5881118774414, large error counters torch.return_types.histogram(\n",
      "hist=tensor([  839.,  1715., 62301.,  3101.,  1044.]),\n",
      "bin_edges=tensor([-500.9999, -301.0021, -101.0044,   98.9933,  298.9910,  498.9888]))\n",
      "Retrained root mean squared residual 87.5881118774414, large error counters torch.return_types.histogram(\n",
      "hist=tensor([  839.,  1715., 62301.,  3101.,  1044.]),\n",
      "bin_edges=tensor([-500.9999, -301.0021, -101.0044,   98.9933,  298.9910,  498.9888]))\n",
      "****   Batch No. 69   1000 traces ****\n",
      "Benchmark root mean squared residual  87.76097869873047, large error counters torch.return_types.histogram(\n",
      "hist=tensor([  856.,  1735., 63201.,  3141.,  1067.]),\n",
      "bin_edges=tensor([-500.9999, -301.0021, -101.0044,   98.9933,  298.9910,  498.9888]))\n",
      "Retrained root mean squared residual 87.76097869873047, large error counters torch.return_types.histogram(\n",
      "hist=tensor([  856.,  1735., 63201.,  3141.,  1067.]),\n",
      "bin_edges=tensor([-500.9999, -301.0021, -101.0044,   98.9933,  298.9910,  498.9888]))\n",
      "****   Batch No. 70   1000 traces ****\n",
      "Benchmark root mean squared residual  87.86983489990234, large error counters torch.return_types.histogram(\n",
      "hist=tensor([  874.,  1751., 64104.,  3186.,  1085.]),\n",
      "bin_edges=tensor([-500.9999, -301.0021, -101.0044,   98.9933,  298.9910,  498.9888]))\n",
      "Retrained root mean squared residual 87.86983489990234, large error counters torch.return_types.histogram(\n",
      "hist=tensor([  874.,  1751., 64104.,  3186.,  1085.]),\n",
      "bin_edges=tensor([-500.9999, -301.0021, -101.0044,   98.9933,  298.9910,  498.9888]))\n",
      "****   Batch No. 71   1000 traces ****\n",
      "Benchmark root mean squared residual  88.30998992919922, large error counters torch.return_types.histogram(\n",
      "hist=tensor([  911.,  1775., 65006.,  3209.,  1099.]),\n",
      "bin_edges=tensor([-500.9999, -301.0021, -101.0044,   98.9933,  298.9910,  498.9888]))\n",
      "Retrained root mean squared residual 88.30998992919922, large error counters torch.return_types.histogram(\n",
      "hist=tensor([  911.,  1775., 65006.,  3209.,  1099.]),\n",
      "bin_edges=tensor([-500.9999, -301.0021, -101.0044,   98.9933,  298.9910,  498.9888]))\n",
      "****   Batch No. 72   1000 traces ****\n",
      "Benchmark root mean squared residual  89.16924285888672, large error counters torch.return_types.histogram(\n",
      "hist=tensor([  920.,  1829., 65772.,  3321.,  1158.]),\n",
      "bin_edges=tensor([-500.9999, -301.0021, -101.0044,   98.9933,  298.9910,  498.9888]))\n",
      "Retrained root mean squared residual 89.16924285888672, large error counters torch.return_types.histogram(\n",
      "hist=tensor([  920.,  1829., 65772.,  3321.,  1158.]),\n",
      "bin_edges=tensor([-500.9999, -301.0021, -101.0044,   98.9933,  298.9910,  498.9888]))\n",
      "****   Batch No. 73   1000 traces ****\n",
      "Benchmark root mean squared residual  88.98261260986328, large error counters torch.return_types.histogram(\n",
      "hist=tensor([  935.,  1846., 66715.,  3337.,  1167.]),\n",
      "bin_edges=tensor([-500.9999, -301.0021, -101.0044,   98.9933,  298.9910,  498.9888]))\n",
      "Retrained root mean squared residual 88.98261260986328, large error counters torch.return_types.histogram(\n",
      "hist=tensor([  935.,  1846., 66715.,  3337.,  1167.]),\n",
      "bin_edges=tensor([-500.9999, -301.0021, -101.0044,   98.9933,  298.9910,  498.9888]))\n",
      "****   Batch No. 74   1000 traces ****\n",
      "Benchmark root mean squared residual  89.02922058105469, large error counters torch.return_types.histogram(\n",
      "hist=tensor([  948.,  1864., 67602.,  3404.,  1182.]),\n",
      "bin_edges=tensor([-500.9999, -301.0021, -101.0044,   98.9933,  298.9910,  498.9888]))\n",
      "Retrained root mean squared residual 89.02922058105469, large error counters torch.return_types.histogram(\n",
      "hist=tensor([  948.,  1864., 67602.,  3404.,  1182.]),\n",
      "bin_edges=tensor([-500.9999, -301.0021, -101.0044,   98.9933,  298.9910,  498.9888]))\n",
      "****   Batch No. 75   1000 traces ****\n",
      "Benchmark root mean squared residual  88.86769104003906, large error counters torch.return_types.histogram(\n",
      "hist=tensor([  956.,  1875., 68537.,  3438.,  1194.]),\n",
      "bin_edges=tensor([-500.9999, -301.0021, -101.0044,   98.9933,  298.9910,  498.9888]))\n",
      "Retrained root mean squared residual 88.86769104003906, large error counters torch.return_types.histogram(\n",
      "hist=tensor([  956.,  1875., 68537.,  3438.,  1194.]),\n",
      "bin_edges=tensor([-500.9999, -301.0021, -101.0044,   98.9933,  298.9910,  498.9888]))\n",
      "****   Batch No. 76   1000 traces ****\n",
      "Benchmark root mean squared residual  89.44860076904297, large error counters torch.return_types.histogram(\n",
      "hist=tensor([  978.,  1902., 69392.,  3484.,  1244.]),\n",
      "bin_edges=tensor([-500.9999, -301.0021, -101.0044,   98.9933,  298.9910,  498.9888]))\n",
      "Retrained root mean squared residual 89.44860076904297, large error counters torch.return_types.histogram(\n",
      "hist=tensor([  978.,  1902., 69392.,  3484.,  1244.]),\n",
      "bin_edges=tensor([-500.9999, -301.0021, -101.0044,   98.9933,  298.9910,  498.9888]))\n",
      "****   Batch No. 77   1000 traces ****\n",
      "Benchmark root mean squared residual  89.5286636352539, large error counters torch.return_types.histogram(\n",
      "hist=tensor([  993.,  1937., 70270.,  3539.,  1261.]),\n",
      "bin_edges=tensor([-500.9999, -301.0021, -101.0044,   98.9933,  298.9910,  498.9888]))\n",
      "Retrained root mean squared residual 89.5286636352539, large error counters torch.return_types.histogram(\n",
      "hist=tensor([  993.,  1937., 70270.,  3539.,  1261.]),\n",
      "bin_edges=tensor([-500.9999, -301.0021, -101.0044,   98.9933,  298.9910,  498.9888]))\n",
      "****   Batch No. 78   1000 traces ****\n",
      "Benchmark root mean squared residual  89.57586669921875, large error counters torch.return_types.histogram(\n",
      "hist=tensor([ 1008.,  1964., 71159.,  3596.,  1273.]),\n",
      "bin_edges=tensor([-500.9999, -301.0021, -101.0044,   98.9933,  298.9910,  498.9888]))\n",
      "Retrained root mean squared residual 89.57586669921875, large error counters torch.return_types.histogram(\n",
      "hist=tensor([ 1008.,  1964., 71159.,  3596.,  1273.]),\n",
      "bin_edges=tensor([-500.9999, -301.0021, -101.0044,   98.9933,  298.9910,  498.9888]))\n",
      "****   Batch No. 79   1000 traces ****\n",
      "Benchmark root mean squared residual  89.93488311767578, large error counters torch.return_types.histogram(\n",
      "hist=tensor([ 1019.,  1998., 72017.,  3652.,  1314.]),\n",
      "bin_edges=tensor([-500.9999, -301.0021, -101.0044,   98.9933,  298.9910,  498.9888]))\n",
      "Retrained root mean squared residual 89.93488311767578, large error counters torch.return_types.histogram(\n",
      "hist=tensor([ 1019.,  1998., 72017.,  3652.,  1314.]),\n",
      "bin_edges=tensor([-500.9999, -301.0021, -101.0044,   98.9933,  298.9910,  498.9888]))\n",
      "****   Batch No. 80   1000 traces ****\n",
      "Benchmark root mean squared residual  90.05628204345703, large error counters torch.return_types.histogram(\n",
      "hist=tensor([ 1028.,  2028., 72877.,  3733.,  1334.]),\n",
      "bin_edges=tensor([-500.9999, -301.0021, -101.0044,   98.9933,  298.9910,  498.9888]))\n",
      "Retrained root mean squared residual 90.05628204345703, large error counters torch.return_types.histogram(\n",
      "hist=tensor([ 1028.,  2028., 72877.,  3733.,  1334.]),\n",
      "bin_edges=tensor([-500.9999, -301.0021, -101.0044,   98.9933,  298.9910,  498.9888]))\n",
      "****   Batch No. 81   1000 traces ****\n",
      "Benchmark root mean squared residual  90.13582611083984, large error counters torch.return_types.histogram(\n",
      "hist=tensor([ 1044.,  2046., 73773.,  3784.,  1353.]),\n",
      "bin_edges=tensor([-500.9999, -301.0021, -101.0044,   98.9933,  298.9910,  498.9888]))\n",
      "Retrained root mean squared residual 90.13582611083984, large error counters torch.return_types.histogram(\n",
      "hist=tensor([ 1044.,  2046., 73773.,  3784.,  1353.]),\n",
      "bin_edges=tensor([-500.9999, -301.0021, -101.0044,   98.9933,  298.9910,  498.9888]))\n",
      "****   Batch No. 82   1000 traces ****\n",
      "Benchmark root mean squared residual  90.14075469970703, large error counters torch.return_types.histogram(\n",
      "hist=tensor([ 1054.,  2073., 74646.,  3864.,  1363.]),\n",
      "bin_edges=tensor([-500.9999, -301.0021, -101.0044,   98.9933,  298.9910,  498.9888]))\n",
      "Retrained root mean squared residual 90.14075469970703, large error counters torch.return_types.histogram(\n",
      "hist=tensor([ 1054.,  2073., 74646.,  3864.,  1363.]),\n",
      "bin_edges=tensor([-500.9999, -301.0021, -101.0044,   98.9933,  298.9910,  498.9888]))\n",
      "****   Batch No. 83   1000 traces ****\n",
      "Benchmark root mean squared residual  90.8956069946289, large error counters torch.return_types.histogram(\n",
      "hist=tensor([ 1082.,  2131., 75412.,  3961.,  1414.]),\n",
      "bin_edges=tensor([-500.9999, -301.0021, -101.0044,   98.9933,  298.9910,  498.9888]))\n",
      "Retrained root mean squared residual 90.8956069946289, large error counters torch.return_types.histogram(\n",
      "hist=tensor([ 1082.,  2131., 75412.,  3961.,  1414.]),\n",
      "bin_edges=tensor([-500.9999, -301.0021, -101.0044,   98.9933,  298.9910,  498.9888]))\n",
      "****   Batch No. 84   1000 traces ****\n",
      "Benchmark root mean squared residual  90.8184585571289, large error counters torch.return_types.histogram(\n",
      "hist=tensor([ 1092.,  2146., 76331.,  4001.,  1430.]),\n",
      "bin_edges=tensor([-500.9999, -301.0021, -101.0044,   98.9933,  298.9910,  498.9888]))\n",
      "Retrained root mean squared residual 90.8184585571289, large error counters torch.return_types.histogram(\n",
      "hist=tensor([ 1092.,  2146., 76331.,  4001.,  1430.]),\n",
      "bin_edges=tensor([-500.9999, -301.0021, -101.0044,   98.9933,  298.9910,  498.9888]))\n",
      "****   Batch No. 85   1000 traces ****\n",
      "Benchmark root mean squared residual  90.66400909423828, large error counters torch.return_types.histogram(\n",
      "hist=tensor([ 1101.,  2168., 77258.,  4032.,  1441.]),\n",
      "bin_edges=tensor([-500.9999, -301.0021, -101.0044,   98.9933,  298.9910,  498.9888]))\n",
      "Retrained root mean squared residual 90.66400909423828, large error counters torch.return_types.histogram(\n",
      "hist=tensor([ 1101.,  2168., 77258.,  4032.,  1441.]),\n",
      "bin_edges=tensor([-500.9999, -301.0021, -101.0044,   98.9933,  298.9910,  498.9888]))\n",
      "****   Batch No. 86   1000 traces ****\n",
      "Benchmark root mean squared residual  90.53275299072266, large error counters torch.return_types.histogram(\n",
      "hist=tensor([ 1111.,  2199., 78174.,  4061.,  1455.]),\n",
      "bin_edges=tensor([-500.9999, -301.0021, -101.0044,   98.9933,  298.9910,  498.9888]))\n",
      "Retrained root mean squared residual 90.53275299072266, large error counters torch.return_types.histogram(\n",
      "hist=tensor([ 1111.,  2199., 78174.,  4061.,  1455.]),\n",
      "bin_edges=tensor([-500.9999, -301.0021, -101.0044,   98.9933,  298.9910,  498.9888]))\n",
      "****   Batch No. 87   1000 traces ****\n",
      "Benchmark root mean squared residual  90.61920166015625, large error counters torch.return_types.histogram(\n",
      "hist=tensor([ 1125.,  2230., 79057.,  4109.,  1479.]),\n",
      "bin_edges=tensor([-500.9999, -301.0021, -101.0044,   98.9933,  298.9910,  498.9888]))\n",
      "Retrained root mean squared residual 90.61920166015625, large error counters torch.return_types.histogram(\n",
      "hist=tensor([ 1125.,  2230., 79057.,  4109.,  1479.]),\n",
      "bin_edges=tensor([-500.9999, -301.0021, -101.0044,   98.9933,  298.9910,  498.9888]))\n",
      "****   Batch No. 88   1000 traces ****\n",
      "Benchmark root mean squared residual  90.87866973876953, large error counters torch.return_types.histogram(\n",
      "hist=tensor([ 1136.,  2255., 79929.,  4166.,  1514.]),\n",
      "bin_edges=tensor([-500.9999, -301.0021, -101.0044,   98.9933,  298.9910,  498.9888]))\n",
      "Retrained root mean squared residual 90.87866973876953, large error counters torch.return_types.histogram(\n",
      "hist=tensor([ 1136.,  2255., 79929.,  4166.,  1514.]),\n",
      "bin_edges=tensor([-500.9999, -301.0021, -101.0044,   98.9933,  298.9910,  498.9888]))\n",
      "****   Batch No. 89   227 traces ****\n",
      "Benchmark root mean squared residual  90.87448120117188, large error counters torch.return_types.histogram(\n",
      "hist=tensor([ 1137.,  2257., 80130.,  4183.,  1520.]),\n",
      "bin_edges=tensor([-500.9999, -301.0021, -101.0044,   98.9933,  298.9910,  498.9888]))\n",
      "Retrained root mean squared residual 90.87448120117188, large error counters torch.return_types.histogram(\n",
      "hist=tensor([ 1137.,  2257., 80130.,  4183.,  1520.]),\n",
      "bin_edges=tensor([-500.9999, -301.0021, -101.0044,   98.9933,  298.9910,  498.9888]))\n",
      "EVALUATION FINISHED 89227 traces\n",
      "Benchmark root mean squared residual  90.87448120117188, median 1.89404296875 \n",
      "Retrained root mean squared residual 90.87448120117188, median 1.89404296875 \n"
     ]
    },
    {
     "data": {
      "text/plain": "<matplotlib.patches.StepPatch at 0x7f0a5e6ab880>"
     },
     "execution_count": 59,
     "metadata": {},
     "output_type": "execute_result"
    },
    {
     "data": {
      "text/plain": "<Figure size 1200x800 with 2 Axes>",
      "image/png": "[encoded data removed]"
     },
     "metadata": {},
     "output_type": "display_data"
    }
   ],
   "source": [
    "sum_traces, sum_benchmark_loss, sum_benchmark_mean_residual,  sum_retrained_loss, sum_retrained_mean_residual = 0,0,0,0,0\n",
    "num_thresholds = 20\n",
    "le_thresholds = list(range(100,100*num_thresholds + 1,100))\n",
    "benchmark_residuals_list = []\n",
    "retrained_residuals_list = []\n",
    "sum_retrained_large_errors_counters = {th:0 for th in le_thresholds}\n",
    "for batch_idx, dataset_dict in enumerate(loader):\n",
    "\n",
    "    traces=dataset_dict['X']\n",
    "    labels = dataset_dict['onset_sample']\n",
    "\n",
    "    criterion = loss_fn\n",
    "\n",
    "    valset_original = CustomDataset(dataset=traces.float(), labels=labels.float(), target_transform=lambda l: (l,label_normal_smooth(l)))\n",
    "\n",
    "    benchmark_dataloader = DataLoader(valset_original, batch_size=1, shuffle=False)\n",
    "\n",
    "    benchmark_loss, batch_benchmark_residuals_list =  evaluate_loop(dataloader=benchmark_dataloader, model=pretrained_model, loss_fn=criterion)\n",
    "                                                                                              # large_error_threshold=LARGE_ERROR_THRESHOLD_SAMPLES)\n",
    "    retrained_loss, batch_retrained_residuals_list =  evaluate_loop(dataloader=benchmark_dataloader, model=retraining_model, loss_fn=criterion)\n",
    "                                                                                              # large_error_threshold=LARGE_ERROR_THRESHOLD_SAMPLES)\n",
    "\n",
    "    benchmark_residuals_list.extend(batch_benchmark_residuals_list)\n",
    "    retrained_residuals_list.extend(batch_retrained_residuals_list)\n",
    "    benchmark_residual_tensor =   torch.tensor(benchmark_residuals_list)\n",
    "    benchmark_residuals_rmse = torch.sqrt(torch.mean(torch.square(benchmark_residual_tensor)))\n",
    "    benchmark_residual_median = torch.median(benchmark_residual_tensor)\n",
    "    retrained_residual_tensor =  torch.tensor(retrained_residuals_list)\n",
    "    retrained_residuals_rmse = torch.sqrt(torch.mean(torch.square(retrained_residual_tensor)))\n",
    "    retrained_residuals_median = torch.median(retrained_residual_tensor)\n",
    "\n",
    "\n",
    "\n",
    "    print(f'****   Batch No. {batch_idx}   {traces.shape[0]} traces ****')\n",
    "    print(f'Benchmark root mean squared residual  {benchmark_residuals_rmse}, large error counters {torch.histogram(benchmark_residual_tensor, bins=5)}')\n",
    "    print(f'Retrained root mean squared residual {retrained_residuals_rmse}, large error counters {torch.histogram(retrained_residual_tensor, bins=5)}')\n",
    "    sum_traces+=traces.shape[0]\n",
    "\n",
    "print('EVALUATION FINISHED', sum_traces, 'traces')\n",
    "\n",
    "benchmark_residual_tensor =   torch.tensor(benchmark_residuals_list)\n",
    "benchmark_residuals_rmse = torch.sqrt(torch.mean(torch.square(benchmark_residual_tensor)))\n",
    "benchmark_residual_median = torch.median(benchmark_residual_tensor)\n",
    "retrained_residual_tensor =  torch.tensor(retrained_residuals_list)\n",
    "retrained_residuals_rmse = torch.sqrt(torch.mean(torch.square(retrained_residual_tensor)))\n",
    "retrained_residuals_median = torch.median(retrained_residual_tensor)\n",
    "print(f'Benchmark root mean squared residual  {benchmark_residuals_rmse}, median {benchmark_residual_median} ')\n",
    "print(f'Retrained root mean squared residual {retrained_residuals_rmse}, median {retrained_residuals_median} ')\n",
    "\n",
    "benchmark_hist, benchmark_bins = torch.histogram(benchmark_residual_tensor, bins=30)\n",
    "retrained_hist, retrained_bins = torch.histogram(retrained_residual_tensor, bins=30)\n",
    "fig, (ax1,ax2) = plt.subplots(1,2, figsize=(12,8))\n",
    "ax1.set_title('Benchmark Model Residuals')\n",
    "ax2.set_title('Retrained Model Residuals')\n",
    "ax1.stairs(benchmark_hist, benchmark_bins)\n",
    "ax2.stairs(retrained_hist, retrained_bins)"
   ],
   "metadata": {
    "collapsed": false
   }
  },
  {
   "cell_type": "code",
   "execution_count": 60,
   "outputs": [
    {
     "data": {
      "text/plain": "<matplotlib.patches.StepPatch at 0x7f0a5e4c1d80>"
     },
     "execution_count": 60,
     "metadata": {},
     "output_type": "execute_result"
    },
    {
     "data": {
      "text/plain": "<Figure size 1200x800 with 2 Axes>",
      "image/png": "[encoded data removed]"
     },
     "metadata": {},
     "output_type": "display_data"
    }
   ],
   "source": [
    "benchmark_hist, benchmark_bins = torch.histogram(benchmark_residual_tensor, bins=10)\n",
    "retrained_hist, retrained_bins = torch.histogram(retrained_residual_tensor, bins=10)\n",
    "fig, (ax1,ax2) = plt.subplots(1,2, figsize=(12,8), sharey='all', sharex='all')\n",
    "ax1.set_title('Benchmark Model Residuals')\n",
    "ax2.set_title('Retrained Model Residuals')\n",
    "ax1.stairs(benchmark_hist, benchmark_bins)\n",
    "ax2.stairs(retrained_hist, retrained_bins)"
   ],
   "metadata": {
    "collapsed": false
   }
  },
  {
   "cell_type": "code",
   "execution_count": 61,
   "outputs": [],
   "source": [
    "# print(sum_benchmark_large_errors_counters.values())"
   ],
   "metadata": {
    "collapsed": false
   }
  },
  {
   "cell_type": "code",
   "execution_count": 62,
   "outputs": [],
   "source": [
    "# print(sum_retrained_large_errors_counters.values())"
   ],
   "metadata": {
    "collapsed": false
   }
  },
  {
   "cell_type": "code",
   "execution_count": 63,
   "outputs": [],
   "source": [
    "# fig, (ax1, ax2) = plt.subplots(1,2, sharey='all', figsize=(12,8))\n",
    "# ax1.stairs(list(sum_benchmark_large_errors_counters.values()),list(sum_benchmark_large_errors_counters.keys())+[1100]);\n",
    "# ax1.set_title('Pretrained - Benchmark')\n",
    "# ax2.stairs(list(sum_retrained_large_errors_counters.values()),list(sum_retrained_large_errors_counters.keys())+[1100]);\n",
    "# ax2.set_title('Retrained')"
   ],
   "metadata": {
    "collapsed": false
   }
  },
  {
   "cell_type": "code",
   "execution_count": 64,
   "outputs": [],
   "source": [
    "# sum_benchmark_loss/sum_traces,  sum_retrained_loss/sum_traces"
   ],
   "metadata": {
    "collapsed": false
   }
  },
  {
   "cell_type": "code",
   "execution_count": 65,
   "outputs": [],
   "source": [
    "# sum_benchmark_mean_residual/len(loader), sum_retrained_mean_residual/len(loader)"
   ],
   "metadata": {
    "collapsed": false
   }
  },
  {
   "cell_type": "code",
   "execution_count": 66,
   "outputs": [],
   "source": [
    "# len(loader)"
   ],
   "metadata": {
    "collapsed": false
   }
  },
  {
   "cell_type": "code",
   "execution_count": 67,
   "outputs": [],
   "source": [
    "# sum_benchmark_large_errors_counter*100/sum_traces,  sum_retrained_large_errors_counter*100/sum_traces"
   ],
   "metadata": {
    "collapsed": false
   }
  },
  {
   "cell_type": "code",
   "execution_count": 68,
   "outputs": [],
   "source": [
    "# stead_data = sbd.STEAD(sampling_rate=SAMPLING_RATE, force=True).test()\n",
    "# print(stead_data)"
   ],
   "metadata": {
    "collapsed": false
   }
  },
  {
   "cell_type": "code",
   "execution_count": 69,
   "outputs": [],
   "source": [
    "# le_original_dataset_path = os.path.join(DATASET_PATH, 'le_original_dataset.pt')\n",
    "# assert_path_exists(path_str=le_original_dataset_path)\n",
    "# le_original_labels_path = os.path.join(DATASET_PATH, 'le_original_labels.pt')\n",
    "# assert_path_exists(path_str=le_original_labels_path)"
   ],
   "metadata": {
    "collapsed": false
   }
  },
  {
   "cell_type": "markdown",
   "source": [],
   "metadata": {
    "collapsed": false
   }
  },
  {
   "cell_type": "code",
   "execution_count": 70,
   "outputs": [],
   "source": [
    "# le_original_dataset, le_original_labels = load_dataset_and_labels(dataset_path=le_original_dataset_path, labels_path=le_original_labels_path)"
   ],
   "metadata": {
    "collapsed": false
   }
  },
  {
   "cell_type": "code",
   "execution_count": 71,
   "outputs": [],
   "source": [
    "# print(f'Loaded {le_original_dataset.shape[0]} traces')"
   ],
   "metadata": {
    "collapsed": false
   }
  }
 ],
 "metadata": {
  "kernelspec": {
   "display_name": "Python 3",
   "language": "python",
   "name": "python3"
  },
  "language_info": {
   "codemirror_mode": {
    "name": "ipython",
    "version": 2
   },
   "file_extension": ".py",
   "mimetype": "text/x-python",
   "name": "python",
   "nbconvert_exporter": "python",
   "pygments_lexer": "ipython2",
   "version": "2.7.6"
  }
 },
 "nbformat": 4,
 "nbformat_minor": 0
}
