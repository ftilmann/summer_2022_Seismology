{
 "cells": [
  {
   "cell_type": "code",
   "execution_count": 1,
   "metadata": {},
   "outputs": [],
   "source": [
    "import seisbench.data as sbd\n",
    "import seisbench.generate as sbg\n",
    "\n",
    "import os\n",
    "from tqdm import tqdm\n",
    "import matplotlib.pyplot as plt\n",
    "import pandas as pd\n",
    "import numpy as np\n",
    "import torch\n",
    "from torch.utils.data import DataLoader \n",
    "\n",
    "from snr.calc_snr import CalcSNR, SnrCalcStrategy"
   ]
  },
  {
   "cell_type": "code",
   "execution_count": 2,
   "metadata": {},
   "outputs": [],
   "source": [
    "DATASETS_ORIGINS = ['stead', 'geofon', 'dummydataset', 'ethz', 'iquique']\n",
    "dataset_origin = 'geofon'\n",
    "assert dataset_origin in DATASETS_ORIGINS, f'Expected dataset one of {DATASETS_ORIGINS}. Got {dataset_origin}.'"
   ]
  },
  {
   "cell_type": "code",
   "execution_count": 3,
   "outputs": [
    {
     "data": {
      "text/plain": "seisbench.data.geofon.GEOFON"
     },
     "execution_count": 3,
     "metadata": {},
     "output_type": "execute_result"
    }
   ],
   "source": [
    "SBD_CLASSES={'ethz':sbd.ETHZ, 'geofon':sbd.GEOFON}\n",
    "SBD_CLASS=SBD_CLASSES[dataset_origin]\n",
    "SBD_CLASS"
   ],
   "metadata": {
    "collapsed": false
   }
  },
  {
   "cell_type": "code",
   "execution_count": 4,
   "outputs": [],
   "source": [
    "NUM_SAMPLES=3001\n",
    "PHASE_LABEL = 'P' # 'S'\n",
    "SAMPLING_RATE = 100\n",
    "SNR_THRESHOLD = 20\n",
    "BATCH_SIZE=1000"
   ],
   "metadata": {
    "collapsed": false
   }
  },
  {
   "cell_type": "code",
   "execution_count": 5,
   "outputs": [],
   "source": [
    "SAVE_TO_PATH=f'/home/moshe/datasets/GFZ/noisy_datasets/{dataset_origin}_trainset_{NUM_SAMPLES}_sample_joachim_noises_energy_ratio_snr/'\n",
    "TARGETS_PATH = f'/home/moshe/datasets/GFZ/targets/{dataset_origin}/'"
   ],
   "metadata": {
    "collapsed": false
   }
  },
  {
   "cell_type": "code",
   "execution_count": 6,
   "metadata": {},
   "outputs": [],
   "source": [
    "assert os.path.exists(SAVE_TO_PATH), f'Path {SAVE_TO_PATH} does not exist'\n",
    "assert os.path.exists(TARGETS_PATH), f'Path {TARGETS_PATH} does not exist'"
   ]
  },
  {
   "attachments": {},
   "cell_type": "markdown",
   "metadata": {},
   "source": [
    "## Download Data and Load to Memory"
   ]
  },
  {
   "cell_type": "code",
   "execution_count": 7,
   "metadata": {},
   "outputs": [
    {
     "name": "stdout",
     "output_type": "stream",
     "text": [
      "GEOFON - 161328 traces\n"
     ]
    }
   ],
   "source": [
    "# Take only test data\n",
    "data = SBD_CLASS(sampling_rate=SAMPLING_RATE, force=True).train()\n",
    "print(data)"
   ]
  },
  {
   "cell_type": "code",
   "execution_count": 8,
   "metadata": {},
   "outputs": [],
   "source": [
    "# !mkdir targets\n",
    "# !mkdir targets/ethz\n",
    "# !mkdir targets/geofon\n",
    "#\n",
    "# #ethz\n",
    "# !wget https://dcache-demo.desy.de:2443/Helmholtz/HelmholtzAI/SeisBench/auxiliary/pick-benchmark/targets/ethz/task1.csv\n",
    "# !wget https://dcache-demo.desy.de:2443/Helmholtz/HelmholtzAI/SeisBench/auxiliary/pick-benchmark/targets/ethz/task23.csv\n",
    "# !mv *.csv targets/ethz\n",
    "#\n",
    "# #geofon\n",
    "# !wget https://dcache-demo.desy.de:2443/Helmholtz/HelmholtzAI/SeisBench/auxiliary/pick-benchmark/targets/geofon/task1.csv\n",
    "# !wget https://dcache-demo.desy.de:2443/Helmholtz/HelmholtzAI/SeisBench/auxiliary/pick-benchmark/targets/geofon/task23.csv\n",
    "# !mv *.csv targets/geofon\n",
    "\n",
    "targets_task23 = pd.read_csv(os.path.join(TARGETS_PATH,'task23.csv'))"
   ]
  },
  {
   "cell_type": "code",
   "execution_count": 9,
   "metadata": {},
   "outputs": [],
   "source": [
    "merged_metadata = pd.merge(data.metadata, targets_task23, on='trace_name')"
   ]
  },
  {
   "cell_type": "code",
   "execution_count": 10,
   "metadata": {},
   "outputs": [],
   "source": [
    "requested_event_list=[]"
   ]
  },
  {
   "cell_type": "code",
   "execution_count": 11,
   "metadata": {},
   "outputs": [
    {
     "name": "stdout",
     "output_type": "stream",
     "text": [
      "All events will contribute to the resulting dataset\n"
     ]
    },
    {
     "data": {
      "text/plain": "166607"
     },
     "execution_count": 11,
     "metadata": {},
     "output_type": "execute_result"
    }
   ],
   "source": [
    "filtered_metadata = merged_metadata[(merged_metadata.phase_label == PHASE_LABEL) ]\n",
    "if requested_event_list:\n",
    "  filtered_metadata = filtered_metadata[filtered_metadata.source_id.isin(requested_event_list)]\n",
    "else:\n",
    "  print('All events will contribute to the resulting dataset')\n",
    "\n",
    "gen  = sbg.SteeredGenerator(data, filtered_metadata )\n",
    "len(gen)"
   ]
  },
  {
   "cell_type": "code",
   "execution_count": 12,
   "metadata": {},
   "outputs": [
    {
     "data": {
      "text/plain": "'There are 166607 traces in the resulting dataset.'"
     },
     "execution_count": 12,
     "metadata": {},
     "output_type": "execute_result"
    }
   ],
   "source": [
    "augmentations = [\n",
    "            sbg.ChangeDtype(np.float32),\n",
    "            sbg.Normalize(demean_axis=-1, amp_norm_axis=-1, amp_norm_type=\"peak\"),\n",
    "            sbg.SteeredWindow(windowlen=NUM_SAMPLES, strategy=\"pad\")\n",
    "        ]\n",
    "\n",
    "gen.add_augmentations(augmentations)\n",
    "\n",
    "@gen.augmentation\n",
    "def get_arrival_sample(state_dict):\n",
    "  _, metadata = state_dict[\"X\"]\n",
    "  key = f\"trace_{state_dict['_control_']['full_phase_label']}_arrival_sample\"\n",
    "  state_dict['station_code'] = (metadata['station_code'], key)\n",
    "  state_dict[\"onset_sample\"] = (metadata[key], None)\n",
    "\n",
    "num_dataset_traces = int(len(gen))\n",
    "\n",
    "f'There are {num_dataset_traces} traces in the resulting dataset.'"
   ]
  },
  {
   "cell_type": "code",
   "execution_count": 13,
   "metadata": {},
   "outputs": [
    {
     "data": {
      "text/plain": "167"
     },
     "execution_count": 13,
     "metadata": {},
     "output_type": "execute_result"
    }
   ],
   "source": [
    "loader = DataLoader(gen, batch_size=BATCH_SIZE, shuffle=True, num_workers=2)\n",
    "len(loader)"
   ]
  },
  {
   "cell_type": "code",
   "execution_count": 14,
   "outputs": [],
   "source": [
    "def load_batch():\n",
    "    print(f'Load {BATCH_SIZE} traces')\n",
    "    dataset_dict = next(iter(loader))\n",
    "    dataset=dataset_dict['X']\n",
    "    print(f'{dataset.shape[0]} traces loaded.')\n",
    "    print(f'Each trace has {dataset.shape[1]} channels.')\n",
    "    print(f'Each channel has {dataset.shape[-1]} samples.')\n",
    "    labels = dataset_dict['onset_sample']\n",
    "    print(f'{labels.shape[0]} labels loaded. Each trace has a corresponding label')\n",
    "    return dataset, labels"
   ],
   "metadata": {
    "collapsed": false
   }
  },
  {
   "cell_type": "code",
   "execution_count": 15,
   "metadata": {},
   "outputs": [],
   "source": [
    "def calc_batch_snr(batch_traces, labels):\n",
    "    batch_size = batch_traces.shape[0]\n",
    "    assert batch_size == BATCH_SIZE\n",
    "    assert batch_size == labels.shape[0]\n",
    "\n",
    "    calc_snr = CalcSNR(SnrCalcStrategy.ENERGY_RATIO)\n",
    "    # take the 0 channel for SNR calculations\n",
    "    SNR_energy_ratio = torch.tensor([calc_snr(trace=batch_traces[i,0,:].numpy(), onset=int(labels[i]))\n",
    "                             for i in range(batch_size)])\n",
    "\n",
    "    print('SNR_energy_ratio shape', SNR_energy_ratio.shape)\n",
    "\n",
    "    return SNR_energy_ratio\n",
    "\n",
    "# fig, ax = plt.subplots(figsize=(15, 10))\n",
    "# ax.scatter(range(num_dataset_traces), SNR_energy_ratio);"
   ]
  },
  {
   "cell_type": "code",
   "execution_count": 23,
   "outputs": [
    {
     "name": "stdout",
     "output_type": "stream",
     "text": [
      "Load 1000 traces\n",
      "1000 traces loaded.\n",
      "Each trace has 3 channels.\n",
      "Each channel has 3001 samples.\n",
      "1000 labels loaded. Each trace has a corresponding label\n",
      "torch.Size([1000, 3, 3001]) torch.Size([1000])\n",
      "SNR_energy_ratio shape torch.Size([1000])\n"
     ]
    }
   ],
   "source": [
    "traces, labels = load_batch()\n",
    "print(traces.shape, labels.shape)\n",
    "SNR = calc_batch_snr(batch_traces=traces, labels=labels)"
   ],
   "metadata": {
    "collapsed": false
   }
  },
  {
   "cell_type": "code",
   "execution_count": 33,
   "outputs": [
    {
     "data": {
      "text/plain": "torch.Size([89])"
     },
     "execution_count": 33,
     "metadata": {},
     "output_type": "execute_result"
    }
   ],
   "source": [
    "torch.argwhere((5 < SNR)  & (SNR < 7)).squeeze().shape"
   ],
   "metadata": {
    "collapsed": false
   }
  },
  {
   "cell_type": "code",
   "execution_count": 18,
   "outputs": [
    {
     "name": "stdout",
     "output_type": "stream",
     "text": [
      "tensor([ 1.,  0.,  0.,  0.,  0.,  2.,  4.,  5.,  2.,  7.,  4.,  6.,  9.,  8.,\n",
      "        20., 21., 40., 17., 32., 39., 34., 37., 37., 35., 33., 37., 27., 32.,\n",
      "        22., 24., 24., 20., 16., 13., 18., 16., 10., 16., 19., 13., 14., 13.,\n",
      "         7., 11., 16., 12., 14.,  8.,  7.,  9.,  5.,  5., 14., 15.,  5.,  5.,\n",
      "         8.,  6.,  5.,  8.,  9.,  2.,  6.,  6.,  9.,  5.,  3.,  9.,  3.,  6.,\n",
      "         5.,  4.,  3.,  7.,  2.,  4.,  2.,  1.,  4.,  2.,  0.,  0.,  2.,  1.,\n",
      "         1.,  1.,  1.,  2.,  1.,  1.,  2.,  1.,  1.,  1.,  0.,  1.,  1.,  1.,\n",
      "         2.,  1.]) \n",
      " tensor([-11.2239, -10.6154, -10.0069,  -9.3984,  -8.7899,  -8.1814,  -7.5729,\n",
      "         -6.9643,  -6.3558,  -5.7473,  -5.1388,  -4.5303,  -3.9218,  -3.3133,\n",
      "         -2.7048,  -2.0963,  -1.4878,  -0.8793,  -0.2708,   0.3378,   0.9463,\n",
      "          1.5548,   2.1633,   2.7718,   3.3803,   3.9888,   4.5973,   5.2058,\n",
      "          5.8143,   6.4228,   7.0314,   7.6399,   8.2484,   8.8569,   9.4654,\n",
      "         10.0739,  10.6824,  11.2909,  11.8994,  12.5079,  13.1164,  13.7249,\n",
      "         14.3335,  14.9420,  15.5505,  16.1590,  16.7675,  17.3760,  17.9845,\n",
      "         18.5930,  19.2015,  19.8100,  20.4185,  21.0270,  21.6356,  22.2441,\n",
      "         22.8526,  23.4611,  24.0696,  24.6781,  25.2866,  25.8951,  26.5036,\n",
      "         27.1121,  27.7206,  28.3292,  28.9377,  29.5462,  30.1547,  30.7632,\n",
      "         31.3717,  31.9802,  32.5887,  33.1972,  33.8057,  34.4142,  35.0227,\n",
      "         35.6313,  36.2398,  36.8483,  37.4568,  38.0653,  38.6738,  39.2823,\n",
      "         39.8908,  40.4993,  41.1078,  41.7163,  42.3248,  42.9334,  43.5419,\n",
      "         44.1504,  44.7589,  45.3674,  45.9759,  46.5844,  47.1929,  47.8014,\n",
      "         48.4099,  49.0184,  49.6269])\n"
     ]
    },
    {
     "data": {
      "text/plain": "<Figure size 640x480 with 1 Axes>",
      "image/png": "[encoded data removed]"
     },
     "metadata": {},
     "output_type": "display_data"
    }
   ],
   "source": [
    "hist, edges = SNR.histogram(bins=100)\n",
    "print(hist, '\\n', edges)\n",
    "plt.hist(hist, edges);"
   ],
   "metadata": {
    "collapsed": false
   }
  },
  {
   "cell_type": "code",
   "execution_count": 19,
   "outputs": [
    {
     "data": {
      "text/plain": "<Figure size 1500x1000 with 1 Axes>",
      "image/png": "[encoded data removed]"
     },
     "metadata": {},
     "output_type": "display_data"
    }
   ],
   "source": [
    "fig, ax = plt.subplots(figsize=(15, 10))\n",
    "ax.scatter(range(SNR.shape[0]), SNR);"
   ],
   "metadata": {
    "collapsed": false
   }
  },
  {
   "cell_type": "code",
   "execution_count": 20,
   "metadata": {},
   "outputs": [],
   "source": [
    "def get_traces_in_snr_bounds(traces: torch.tensor, labels: torch.tensor, SNR: torch.tensor, low: float, high: float):\n",
    "    traces_in_snr_bounds_indices = torch.argwhere((SNR>low) & (SNR<high)).squeeze()\n",
    "    snr_of_traces_in_snr_bounds = SNR[traces_in_snr_bounds_indices]\n",
    "    traces_in_snr_bounds = traces[traces_in_snr_bounds_indices]\n",
    "    labels_of_traces_in_snr_bounds = labels[traces_in_snr_bounds_indices]\n",
    "\n",
    "    print(f'There are {traces.shape[0]} traces in the dataset')\n",
    "    print(f'There are {len(traces_in_snr_bounds_indices)} traces with  {low} < SNRs < {high} dB')\n",
    "    print(f'traces_in_snr_bounds shape {traces_in_snr_bounds.shape}')\n",
    "\n",
    "    return traces_in_snr_bounds, labels_of_traces_in_snr_bounds, snr_of_traces_in_snr_bounds"
   ]
  },
  {
   "cell_type": "code",
   "execution_count": 22,
   "outputs": [
    {
     "name": "stdout",
     "output_type": "stream",
     "text": [
      "There are 1000 traces in the dataset\n",
      "There are 162 traces with  -20 < SNRs < 0 dB\n",
      "traces_in_snr_bounds shape torch.Size([162, 3, 3001])\n",
      "There are 1000 traces in the dataset\n",
      "There are 114 traces with  0 < SNRs < 2 dB\n",
      "traces_in_snr_bounds shape torch.Size([114, 3, 3001])\n",
      "There are 1000 traces in the dataset\n",
      "There are 167 traces with  2 < SNRs < 5 dB\n",
      "traces_in_snr_bounds shape torch.Size([167, 3, 3001])\n",
      "There are 1000 traces in the dataset\n",
      "There are 181 traces with  5 < SNRs < 10 dB\n",
      "traces_in_snr_bounds shape torch.Size([181, 3, 3001])\n",
      "There are 1000 traces in the dataset\n",
      "There are 193 traces with  10 < SNRs < 20 dB\n",
      "traces_in_snr_bounds shape torch.Size([193, 3, 3001])\n",
      "There are 1000 traces in the dataset\n",
      "There are 183 traces with  20 < SNRs < 100 dB\n",
      "traces_in_snr_bounds shape torch.Size([183, 3, 3001])\n"
     ]
    }
   ],
   "source": [
    "bounds = [-20, 0, 2, 5, 10, 20, 100]\n",
    "batch_tuple_traces_labels_snrs_in_bounds_list = [get_traces_in_snr_bounds(traces=traces, labels=labels, SNR=SNR, low=bounds[i], high=bounds[i + 1]) for i in range(len(bounds) - 1)]\n",
    "# [t.shape for t in batch_tuple_traces_labels_snrs_in_bounds_list]"
   ],
   "metadata": {
    "collapsed": false
   }
  },
  {
   "cell_type": "code",
   "execution_count": 24,
   "outputs": [
    {
     "name": "stderr",
     "output_type": "stream",
     "text": [
      "  0%|          | 0/167 [00:00<?, ?it/s]"
     ]
    },
    {
     "name": "stdout",
     "output_type": "stream",
     "text": [
      "Load 1000 traces\n"
     ]
    },
    {
     "name": "stderr",
     "output_type": "stream",
     "text": [
      "  1%|          | 1/167 [00:07<21:23,  7.73s/it]"
     ]
    },
    {
     "name": "stdout",
     "output_type": "stream",
     "text": [
      "1000 traces loaded.\n",
      "Each trace has 3 channels.\n",
      "Each channel has 3001 samples.\n",
      "1000 labels loaded. Each trace has a corresponding label\n",
      "SNR_energy_ratio shape torch.Size([1000])\n",
      "There are 1000 traces in the dataset\n",
      "There are 170 traces with  -20 < SNRs < 0 dB\n",
      "traces_in_snr_bounds shape torch.Size([170, 3, 3001])\n",
      "There are 1000 traces in the dataset\n",
      "There are 115 traces with  0 < SNRs < 2 dB\n",
      "traces_in_snr_bounds shape torch.Size([115, 3, 3001])\n",
      "There are 1000 traces in the dataset\n",
      "There are 156 traces with  2 < SNRs < 5 dB\n",
      "traces_in_snr_bounds shape torch.Size([156, 3, 3001])\n",
      "There are 1000 traces in the dataset\n",
      "There are 187 traces with  5 < SNRs < 10 dB\n",
      "traces_in_snr_bounds shape torch.Size([187, 3, 3001])\n",
      "There are 1000 traces in the dataset\n",
      "There are 210 traces with  10 < SNRs < 20 dB\n",
      "traces_in_snr_bounds shape torch.Size([210, 3, 3001])\n",
      "There are 1000 traces in the dataset\n",
      "There are 162 traces with  20 < SNRs < 100 dB\n",
      "traces_in_snr_bounds shape torch.Size([162, 3, 3001])\n",
      "torch.Size([162, 3, 3001]) torch.Size([162]) torch.Size([162])\n",
      "Load 1000 traces\n",
      "1000 traces loaded.\n",
      "Each trace has 3 channels.\n",
      "Each channel has 3001 samples.\n",
      "1000 labels loaded. Each trace has a corresponding label\n",
      "SNR_energy_ratio shape torch.Size([1000])\n",
      "There are 1000 traces in the dataset\n",
      "There are 177 traces with  -20 < SNRs < 0 dB\n",
      "traces_in_snr_bounds shape torch.Size([177, 3, 3001])\n",
      "There are 1000 traces in the dataset\n",
      "There are 125 traces with  0 < SNRs < 2 dB\n",
      "traces_in_snr_bounds shape torch.Size([125, 3, 3001])\n",
      "There are 1000 traces in the dataset\n",
      "There are 165 traces with  2 < SNRs < 5 dB\n",
      "traces_in_snr_bounds shape torch.Size([165, 3, 3001])\n",
      "There are 1000 traces in the dataset\n",
      "There are 169 traces with  5 < SNRs < 10 dB\n",
      "traces_in_snr_bounds shape torch.Size([169, 3, 3001])\n",
      "There are 1000 traces in the dataset\n",
      "There are 209 traces with  10 < SNRs < 20 dB\n",
      "traces_in_snr_bounds shape torch.Size([209, 3, 3001])\n",
      "There are 1000 traces in the dataset\n",
      "There are 155 traces with  20 < SNRs < 100 dB\n",
      "traces_in_snr_bounds shape torch.Size([155, 3, 3001])\n"
     ]
    },
    {
     "name": "stderr",
     "output_type": "stream",
     "text": [
      "  1%|          | 2/167 [00:14<20:23,  7.42s/it]"
     ]
    },
    {
     "name": "stdout",
     "output_type": "stream",
     "text": [
      "torch.Size([317, 3, 3001]) torch.Size([317]) torch.Size([317])\n",
      "Load 1000 traces\n",
      "1000 traces loaded.\n",
      "Each trace has 3 channels.\n",
      "Each channel has 3001 samples.\n",
      "1000 labels loaded. Each trace has a corresponding label\n",
      "SNR_energy_ratio shape torch.Size([1000])\n",
      "There are 1000 traces in the dataset\n",
      "There are 176 traces with  -20 < SNRs < 0 dB\n",
      "traces_in_snr_bounds shape torch.Size([176, 3, 3001])\n",
      "There are 1000 traces in the dataset\n",
      "There are 129 traces with  0 < SNRs < 2 dB\n",
      "traces_in_snr_bounds shape torch.Size([129, 3, 3001])\n",
      "There are 1000 traces in the dataset\n",
      "There are 153 traces with  2 < SNRs < 5 dB\n",
      "traces_in_snr_bounds shape torch.Size([153, 3, 3001])\n",
      "There are 1000 traces in the dataset\n",
      "There are 166 traces with  5 < SNRs < 10 dB\n",
      "traces_in_snr_bounds shape torch.Size([166, 3, 3001])\n",
      "There are 1000 traces in the dataset\n",
      "There are 216 traces with  10 < SNRs < 20 dB\n",
      "traces_in_snr_bounds shape torch.Size([216, 3, 3001])\n",
      "There are 1000 traces in the dataset\n",
      "There are 160 traces with  20 < SNRs < 100 dB\n",
      "traces_in_snr_bounds shape torch.Size([160, 3, 3001])\n"
     ]
    },
    {
     "name": "stderr",
     "output_type": "stream",
     "text": [
      "  2%|▏         | 3/167 [00:21<19:45,  7.23s/it]"
     ]
    },
    {
     "name": "stdout",
     "output_type": "stream",
     "text": [
      "torch.Size([477, 3, 3001]) torch.Size([477]) torch.Size([477])\n",
      "Load 1000 traces\n",
      "1000 traces loaded.\n",
      "Each trace has 3 channels.\n",
      "Each channel has 3001 samples.\n",
      "1000 labels loaded. Each trace has a corresponding label\n",
      "SNR_energy_ratio shape torch.Size([1000])\n",
      "There are 1000 traces in the dataset\n",
      "There are 189 traces with  -20 < SNRs < 0 dB\n",
      "traces_in_snr_bounds shape torch.Size([189, 3, 3001])\n",
      "There are 1000 traces in the dataset\n",
      "There are 111 traces with  0 < SNRs < 2 dB\n",
      "traces_in_snr_bounds shape torch.Size([111, 3, 3001])\n",
      "There are 1000 traces in the dataset\n",
      "There are 175 traces with  2 < SNRs < 5 dB\n",
      "traces_in_snr_bounds shape torch.Size([175, 3, 3001])\n",
      "There are 1000 traces in the dataset\n",
      "There are 172 traces with  5 < SNRs < 10 dB\n",
      "traces_in_snr_bounds shape torch.Size([172, 3, 3001])\n",
      "There are 1000 traces in the dataset\n",
      "There are 182 traces with  10 < SNRs < 20 dB\n",
      "traces_in_snr_bounds shape torch.Size([182, 3, 3001])\n",
      "There are 1000 traces in the dataset\n",
      "There are 171 traces with  20 < SNRs < 100 dB\n",
      "traces_in_snr_bounds shape torch.Size([171, 3, 3001])\n"
     ]
    },
    {
     "name": "stderr",
     "output_type": "stream",
     "text": [
      "  2%|▏         | 4/167 [00:29<19:30,  7.18s/it]"
     ]
    },
    {
     "name": "stdout",
     "output_type": "stream",
     "text": [
      "torch.Size([648, 3, 3001]) torch.Size([648]) torch.Size([648])\n",
      "Load 1000 traces\n",
      "1000 traces loaded.\n",
      "Each trace has 3 channels.\n",
      "Each channel has 3001 samples.\n",
      "1000 labels loaded. Each trace has a corresponding label\n",
      "SNR_energy_ratio shape torch.Size([1000])\n",
      "There are 1000 traces in the dataset\n",
      "There are 171 traces with  -20 < SNRs < 0 dB\n",
      "traces_in_snr_bounds shape torch.Size([171, 3, 3001])\n",
      "There are 1000 traces in the dataset\n",
      "There are 128 traces with  0 < SNRs < 2 dB\n",
      "traces_in_snr_bounds shape torch.Size([128, 3, 3001])\n",
      "There are 1000 traces in the dataset\n",
      "There are 162 traces with  2 < SNRs < 5 dB\n",
      "traces_in_snr_bounds shape torch.Size([162, 3, 3001])\n",
      "There are 1000 traces in the dataset\n",
      "There are 177 traces with  5 < SNRs < 10 dB\n",
      "traces_in_snr_bounds shape torch.Size([177, 3, 3001])\n",
      "There are 1000 traces in the dataset\n",
      "There are 216 traces with  10 < SNRs < 20 dB\n",
      "traces_in_snr_bounds shape torch.Size([216, 3, 3001])\n",
      "There are 1000 traces in the dataset\n",
      "There are 146 traces with  20 < SNRs < 100 dB\n",
      "traces_in_snr_bounds shape torch.Size([146, 3, 3001])\n"
     ]
    },
    {
     "name": "stderr",
     "output_type": "stream",
     "text": [
      "  3%|▎         | 5/167 [00:36<19:13,  7.12s/it]"
     ]
    },
    {
     "name": "stdout",
     "output_type": "stream",
     "text": [
      "torch.Size([794, 3, 3001]) torch.Size([794]) torch.Size([794])\n",
      "Load 1000 traces\n",
      "1000 traces loaded.\n",
      "Each trace has 3 channels.\n",
      "Each channel has 3001 samples.\n",
      "1000 labels loaded. Each trace has a corresponding label\n",
      "SNR_energy_ratio shape torch.Size([1000])\n",
      "There are 1000 traces in the dataset\n",
      "There are 182 traces with  -20 < SNRs < 0 dB\n",
      "traces_in_snr_bounds shape torch.Size([182, 3, 3001])\n",
      "There are 1000 traces in the dataset\n",
      "There are 132 traces with  0 < SNRs < 2 dB\n",
      "traces_in_snr_bounds shape torch.Size([132, 3, 3001])\n",
      "There are 1000 traces in the dataset\n",
      "There are 153 traces with  2 < SNRs < 5 dB\n",
      "traces_in_snr_bounds shape torch.Size([153, 3, 3001])\n",
      "There are 1000 traces in the dataset\n",
      "There are 161 traces with  5 < SNRs < 10 dB\n",
      "traces_in_snr_bounds shape torch.Size([161, 3, 3001])\n",
      "There are 1000 traces in the dataset\n",
      "There are 196 traces with  10 < SNRs < 20 dB\n",
      "traces_in_snr_bounds shape torch.Size([196, 3, 3001])\n",
      "There are 1000 traces in the dataset\n",
      "There are 176 traces with  20 < SNRs < 100 dB\n",
      "traces_in_snr_bounds shape torch.Size([176, 3, 3001])\n"
     ]
    },
    {
     "name": "stderr",
     "output_type": "stream",
     "text": [
      "  4%|▎         | 6/167 [00:43<19:02,  7.09s/it]"
     ]
    },
    {
     "name": "stdout",
     "output_type": "stream",
     "text": [
      "torch.Size([970, 3, 3001]) torch.Size([970]) torch.Size([970])\n",
      "Load 1000 traces\n",
      "1000 traces loaded.\n",
      "Each trace has 3 channels.\n",
      "Each channel has 3001 samples.\n",
      "1000 labels loaded. Each trace has a corresponding label\n",
      "SNR_energy_ratio shape torch.Size([1000])\n",
      "There are 1000 traces in the dataset\n",
      "There are 179 traces with  -20 < SNRs < 0 dB\n",
      "traces_in_snr_bounds shape torch.Size([179, 3, 3001])\n",
      "There are 1000 traces in the dataset\n",
      "There are 124 traces with  0 < SNRs < 2 dB\n",
      "traces_in_snr_bounds shape torch.Size([124, 3, 3001])\n",
      "There are 1000 traces in the dataset\n",
      "There are 146 traces with  2 < SNRs < 5 dB\n",
      "traces_in_snr_bounds shape torch.Size([146, 3, 3001])\n",
      "There are 1000 traces in the dataset\n",
      "There are 191 traces with  5 < SNRs < 10 dB\n",
      "traces_in_snr_bounds shape torch.Size([191, 3, 3001])\n",
      "There are 1000 traces in the dataset\n",
      "There are 198 traces with  10 < SNRs < 20 dB\n",
      "traces_in_snr_bounds shape torch.Size([198, 3, 3001])\n",
      "There are 1000 traces in the dataset\n",
      "There are 162 traces with  20 < SNRs < 100 dB\n",
      "traces_in_snr_bounds shape torch.Size([162, 3, 3001])\n"
     ]
    },
    {
     "name": "stderr",
     "output_type": "stream",
     "text": [
      "  4%|▍         | 7/167 [00:50<18:51,  7.07s/it]"
     ]
    },
    {
     "name": "stdout",
     "output_type": "stream",
     "text": [
      "torch.Size([1132, 3, 3001]) torch.Size([1132]) torch.Size([1132])\n",
      "Load 1000 traces\n",
      "1000 traces loaded.\n",
      "Each trace has 3 channels.\n",
      "Each channel has 3001 samples.\n",
      "1000 labels loaded. Each trace has a corresponding label\n",
      "SNR_energy_ratio shape torch.Size([1000])\n",
      "There are 1000 traces in the dataset\n",
      "There are 165 traces with  -20 < SNRs < 0 dB\n",
      "traces_in_snr_bounds shape torch.Size([165, 3, 3001])\n",
      "There are 1000 traces in the dataset\n",
      "There are 115 traces with  0 < SNRs < 2 dB\n",
      "traces_in_snr_bounds shape torch.Size([115, 3, 3001])\n",
      "There are 1000 traces in the dataset\n",
      "There are 175 traces with  2 < SNRs < 5 dB\n",
      "traces_in_snr_bounds shape torch.Size([175, 3, 3001])\n",
      "There are 1000 traces in the dataset\n",
      "There are 191 traces with  5 < SNRs < 10 dB\n",
      "traces_in_snr_bounds shape torch.Size([191, 3, 3001])\n",
      "There are 1000 traces in the dataset\n",
      "There are 186 traces with  10 < SNRs < 20 dB\n",
      "traces_in_snr_bounds shape torch.Size([186, 3, 3001])\n",
      "There are 1000 traces in the dataset\n",
      "There are 168 traces with  20 < SNRs < 100 dB\n",
      "traces_in_snr_bounds shape torch.Size([168, 3, 3001])\n"
     ]
    },
    {
     "name": "stderr",
     "output_type": "stream",
     "text": [
      "  5%|▍         | 8/167 [00:57<19:02,  7.19s/it]"
     ]
    },
    {
     "name": "stdout",
     "output_type": "stream",
     "text": [
      "torch.Size([1300, 3, 3001]) torch.Size([1300]) torch.Size([1300])\n",
      "Load 1000 traces\n",
      "1000 traces loaded.\n",
      "Each trace has 3 channels.\n",
      "Each channel has 3001 samples.\n",
      "1000 labels loaded. Each trace has a corresponding label\n",
      "SNR_energy_ratio shape torch.Size([1000])\n",
      "There are 1000 traces in the dataset\n",
      "There are 191 traces with  -20 < SNRs < 0 dB\n",
      "traces_in_snr_bounds shape torch.Size([191, 3, 3001])\n",
      "There are 1000 traces in the dataset\n",
      "There are 118 traces with  0 < SNRs < 2 dB\n",
      "traces_in_snr_bounds shape torch.Size([118, 3, 3001])\n",
      "There are 1000 traces in the dataset\n",
      "There are 149 traces with  2 < SNRs < 5 dB\n",
      "traces_in_snr_bounds shape torch.Size([149, 3, 3001])\n",
      "There are 1000 traces in the dataset\n",
      "There are 162 traces with  5 < SNRs < 10 dB\n",
      "traces_in_snr_bounds shape torch.Size([162, 3, 3001])\n",
      "There are 1000 traces in the dataset\n",
      "There are 209 traces with  10 < SNRs < 20 dB\n",
      "traces_in_snr_bounds shape torch.Size([209, 3, 3001])\n",
      "There are 1000 traces in the dataset\n",
      "There are 171 traces with  20 < SNRs < 100 dB\n",
      "traces_in_snr_bounds shape torch.Size([171, 3, 3001])\n"
     ]
    },
    {
     "name": "stderr",
     "output_type": "stream",
     "text": [
      "  5%|▌         | 9/167 [01:05<19:11,  7.29s/it]"
     ]
    },
    {
     "name": "stdout",
     "output_type": "stream",
     "text": [
      "torch.Size([1471, 3, 3001]) torch.Size([1471]) torch.Size([1471])\n",
      "Load 1000 traces\n",
      "1000 traces loaded.\n",
      "Each trace has 3 channels.\n",
      "Each channel has 3001 samples.\n",
      "1000 labels loaded. Each trace has a corresponding label\n",
      "SNR_energy_ratio shape torch.Size([1000])\n",
      "There are 1000 traces in the dataset\n",
      "There are 167 traces with  -20 < SNRs < 0 dB\n",
      "traces_in_snr_bounds shape torch.Size([167, 3, 3001])\n",
      "There are 1000 traces in the dataset\n",
      "There are 140 traces with  0 < SNRs < 2 dB\n",
      "traces_in_snr_bounds shape torch.Size([140, 3, 3001])\n",
      "There are 1000 traces in the dataset\n",
      "There are 171 traces with  2 < SNRs < 5 dB\n",
      "traces_in_snr_bounds shape torch.Size([171, 3, 3001])\n",
      "There are 1000 traces in the dataset\n",
      "There are 160 traces with  5 < SNRs < 10 dB\n",
      "traces_in_snr_bounds shape torch.Size([160, 3, 3001])\n",
      "There are 1000 traces in the dataset\n",
      "There are 198 traces with  10 < SNRs < 20 dB\n",
      "traces_in_snr_bounds shape torch.Size([198, 3, 3001])\n",
      "There are 1000 traces in the dataset\n",
      "There are 164 traces with  20 < SNRs < 100 dB\n",
      "traces_in_snr_bounds shape torch.Size([164, 3, 3001])\n"
     ]
    },
    {
     "name": "stderr",
     "output_type": "stream",
     "text": [
      "  6%|▌         | 10/167 [01:12<19:22,  7.40s/it]"
     ]
    },
    {
     "name": "stdout",
     "output_type": "stream",
     "text": [
      "torch.Size([1635, 3, 3001]) torch.Size([1635]) torch.Size([1635])\n",
      "Load 1000 traces\n",
      "1000 traces loaded.\n",
      "Each trace has 3 channels.\n",
      "Each channel has 3001 samples.\n",
      "1000 labels loaded. Each trace has a corresponding label\n",
      "SNR_energy_ratio shape torch.Size([1000])\n",
      "There are 1000 traces in the dataset\n",
      "There are 203 traces with  -20 < SNRs < 0 dB\n",
      "traces_in_snr_bounds shape torch.Size([203, 3, 3001])\n",
      "There are 1000 traces in the dataset\n",
      "There are 120 traces with  0 < SNRs < 2 dB\n",
      "traces_in_snr_bounds shape torch.Size([120, 3, 3001])\n",
      "There are 1000 traces in the dataset\n",
      "There are 143 traces with  2 < SNRs < 5 dB\n",
      "traces_in_snr_bounds shape torch.Size([143, 3, 3001])\n",
      "There are 1000 traces in the dataset\n",
      "There are 178 traces with  5 < SNRs < 10 dB\n",
      "traces_in_snr_bounds shape torch.Size([178, 3, 3001])\n",
      "There are 1000 traces in the dataset\n",
      "There are 190 traces with  10 < SNRs < 20 dB\n",
      "traces_in_snr_bounds shape torch.Size([190, 3, 3001])\n",
      "There are 1000 traces in the dataset\n",
      "There are 166 traces with  20 < SNRs < 100 dB\n",
      "traces_in_snr_bounds shape torch.Size([166, 3, 3001])\n"
     ]
    },
    {
     "name": "stderr",
     "output_type": "stream",
     "text": [
      "  7%|▋         | 11/167 [01:20<19:23,  7.46s/it]"
     ]
    },
    {
     "name": "stdout",
     "output_type": "stream",
     "text": [
      "torch.Size([1801, 3, 3001]) torch.Size([1801]) torch.Size([1801])\n",
      "Load 1000 traces\n",
      "1000 traces loaded.\n",
      "Each trace has 3 channels.\n",
      "Each channel has 3001 samples.\n",
      "1000 labels loaded. Each trace has a corresponding label\n",
      "SNR_energy_ratio shape torch.Size([1000])\n",
      "There are 1000 traces in the dataset\n",
      "There are 161 traces with  -20 < SNRs < 0 dB\n",
      "traces_in_snr_bounds shape torch.Size([161, 3, 3001])\n",
      "There are 1000 traces in the dataset\n",
      "There are 117 traces with  0 < SNRs < 2 dB\n",
      "traces_in_snr_bounds shape torch.Size([117, 3, 3001])\n",
      "There are 1000 traces in the dataset\n",
      "There are 169 traces with  2 < SNRs < 5 dB\n",
      "traces_in_snr_bounds shape torch.Size([169, 3, 3001])\n",
      "There are 1000 traces in the dataset\n",
      "There are 179 traces with  5 < SNRs < 10 dB\n",
      "traces_in_snr_bounds shape torch.Size([179, 3, 3001])\n",
      "There are 1000 traces in the dataset\n",
      "There are 211 traces with  10 < SNRs < 20 dB\n",
      "traces_in_snr_bounds shape torch.Size([211, 3, 3001])\n",
      "There are 1000 traces in the dataset\n",
      "There are 163 traces with  20 < SNRs < 100 dB\n",
      "traces_in_snr_bounds shape torch.Size([163, 3, 3001])\n"
     ]
    },
    {
     "name": "stderr",
     "output_type": "stream",
     "text": [
      "  7%|▋         | 12/167 [01:27<19:10,  7.42s/it]"
     ]
    },
    {
     "name": "stdout",
     "output_type": "stream",
     "text": [
      "torch.Size([1964, 3, 3001]) torch.Size([1964]) torch.Size([1964])\n",
      "Load 1000 traces\n",
      "1000 traces loaded.\n",
      "Each trace has 3 channels.\n",
      "Each channel has 3001 samples.\n",
      "1000 labels loaded. Each trace has a corresponding label\n",
      "SNR_energy_ratio shape torch.Size([1000])\n",
      "There are 1000 traces in the dataset\n",
      "There are 151 traces with  -20 < SNRs < 0 dB\n",
      "traces_in_snr_bounds shape torch.Size([151, 3, 3001])\n",
      "There are 1000 traces in the dataset\n",
      "There are 130 traces with  0 < SNRs < 2 dB\n",
      "traces_in_snr_bounds shape torch.Size([130, 3, 3001])\n",
      "There are 1000 traces in the dataset\n",
      "There are 161 traces with  2 < SNRs < 5 dB\n",
      "traces_in_snr_bounds shape torch.Size([161, 3, 3001])\n",
      "There are 1000 traces in the dataset\n",
      "There are 179 traces with  5 < SNRs < 10 dB\n",
      "traces_in_snr_bounds shape torch.Size([179, 3, 3001])\n",
      "There are 1000 traces in the dataset\n",
      "There are 202 traces with  10 < SNRs < 20 dB\n",
      "traces_in_snr_bounds shape torch.Size([202, 3, 3001])\n",
      "There are 1000 traces in the dataset\n",
      "There are 177 traces with  20 < SNRs < 100 dB\n",
      "traces_in_snr_bounds shape torch.Size([177, 3, 3001])\n"
     ]
    },
    {
     "name": "stderr",
     "output_type": "stream",
     "text": [
      "  8%|▊         | 13/167 [01:35<19:24,  7.56s/it]"
     ]
    },
    {
     "name": "stdout",
     "output_type": "stream",
     "text": [
      "torch.Size([2141, 3, 3001]) torch.Size([2141]) torch.Size([2141])\n",
      "Load 1000 traces\n",
      "1000 traces loaded.\n",
      "Each trace has 3 channels.\n",
      "Each channel has 3001 samples.\n",
      "1000 labels loaded. Each trace has a corresponding label\n",
      "SNR_energy_ratio shape torch.Size([1000])\n",
      "There are 1000 traces in the dataset\n",
      "There are 159 traces with  -20 < SNRs < 0 dB\n",
      "traces_in_snr_bounds shape torch.Size([159, 3, 3001])\n",
      "There are 1000 traces in the dataset\n",
      "There are 116 traces with  0 < SNRs < 2 dB\n",
      "traces_in_snr_bounds shape torch.Size([116, 3, 3001])\n",
      "There are 1000 traces in the dataset\n",
      "There are 169 traces with  2 < SNRs < 5 dB\n",
      "traces_in_snr_bounds shape torch.Size([169, 3, 3001])\n",
      "There are 1000 traces in the dataset\n",
      "There are 185 traces with  5 < SNRs < 10 dB\n",
      "traces_in_snr_bounds shape torch.Size([185, 3, 3001])\n",
      "There are 1000 traces in the dataset\n",
      "There are 201 traces with  10 < SNRs < 20 dB\n",
      "traces_in_snr_bounds shape torch.Size([201, 3, 3001])\n",
      "There are 1000 traces in the dataset\n",
      "There are 170 traces with  20 < SNRs < 100 dB\n",
      "traces_in_snr_bounds shape torch.Size([170, 3, 3001])\n"
     ]
    },
    {
     "name": "stderr",
     "output_type": "stream",
     "text": [
      "  8%|▊         | 14/167 [01:43<19:23,  7.60s/it]"
     ]
    },
    {
     "name": "stdout",
     "output_type": "stream",
     "text": [
      "torch.Size([2311, 3, 3001]) torch.Size([2311]) torch.Size([2311])\n",
      "Load 1000 traces\n",
      "1000 traces loaded.\n",
      "Each trace has 3 channels.\n",
      "Each channel has 3001 samples.\n",
      "1000 labels loaded. Each trace has a corresponding label\n",
      "SNR_energy_ratio shape torch.Size([1000])\n",
      "There are 1000 traces in the dataset\n",
      "There are 174 traces with  -20 < SNRs < 0 dB\n",
      "traces_in_snr_bounds shape torch.Size([174, 3, 3001])\n",
      "There are 1000 traces in the dataset\n",
      "There are 128 traces with  0 < SNRs < 2 dB\n",
      "traces_in_snr_bounds shape torch.Size([128, 3, 3001])\n",
      "There are 1000 traces in the dataset\n",
      "There are 150 traces with  2 < SNRs < 5 dB\n",
      "traces_in_snr_bounds shape torch.Size([150, 3, 3001])\n",
      "There are 1000 traces in the dataset\n",
      "There are 188 traces with  5 < SNRs < 10 dB\n",
      "traces_in_snr_bounds shape torch.Size([188, 3, 3001])\n",
      "There are 1000 traces in the dataset\n",
      "There are 207 traces with  10 < SNRs < 20 dB\n",
      "traces_in_snr_bounds shape torch.Size([207, 3, 3001])\n",
      "There are 1000 traces in the dataset\n",
      "There are 152 traces with  20 < SNRs < 100 dB\n",
      "traces_in_snr_bounds shape torch.Size([152, 3, 3001])\n"
     ]
    },
    {
     "name": "stderr",
     "output_type": "stream",
     "text": [
      "  9%|▉         | 15/167 [01:51<19:57,  7.88s/it]"
     ]
    },
    {
     "name": "stdout",
     "output_type": "stream",
     "text": [
      "torch.Size([2463, 3, 3001]) torch.Size([2463]) torch.Size([2463])\n",
      "Load 1000 traces\n",
      "1000 traces loaded.\n",
      "Each trace has 3 channels.\n",
      "Each channel has 3001 samples.\n",
      "1000 labels loaded. Each trace has a corresponding label\n",
      "SNR_energy_ratio shape torch.Size([1000])\n",
      "There are 1000 traces in the dataset\n",
      "There are 174 traces with  -20 < SNRs < 0 dB\n",
      "traces_in_snr_bounds shape torch.Size([174, 3, 3001])\n",
      "There are 1000 traces in the dataset\n",
      "There are 126 traces with  0 < SNRs < 2 dB\n",
      "traces_in_snr_bounds shape torch.Size([126, 3, 3001])\n",
      "There are 1000 traces in the dataset\n",
      "There are 183 traces with  2 < SNRs < 5 dB\n",
      "traces_in_snr_bounds shape torch.Size([183, 3, 3001])\n",
      "There are 1000 traces in the dataset\n",
      "There are 167 traces with  5 < SNRs < 10 dB\n",
      "traces_in_snr_bounds shape torch.Size([167, 3, 3001])\n",
      "There are 1000 traces in the dataset\n",
      "There are 191 traces with  10 < SNRs < 20 dB\n",
      "traces_in_snr_bounds shape torch.Size([191, 3, 3001])\n",
      "There are 1000 traces in the dataset\n",
      "There are 159 traces with  20 < SNRs < 100 dB\n",
      "traces_in_snr_bounds shape torch.Size([159, 3, 3001])\n"
     ]
    },
    {
     "name": "stderr",
     "output_type": "stream",
     "text": [
      " 10%|▉         | 16/167 [02:00<20:24,  8.11s/it]"
     ]
    },
    {
     "name": "stdout",
     "output_type": "stream",
     "text": [
      "torch.Size([2622, 3, 3001]) torch.Size([2622]) torch.Size([2622])\n",
      "Load 1000 traces\n",
      "1000 traces loaded.\n",
      "Each trace has 3 channels.\n",
      "Each channel has 3001 samples.\n",
      "1000 labels loaded. Each trace has a corresponding label\n",
      "SNR_energy_ratio shape torch.Size([1000])\n",
      "There are 1000 traces in the dataset\n",
      "There are 168 traces with  -20 < SNRs < 0 dB\n",
      "traces_in_snr_bounds shape torch.Size([168, 3, 3001])\n",
      "There are 1000 traces in the dataset\n",
      "There are 137 traces with  0 < SNRs < 2 dB\n",
      "traces_in_snr_bounds shape torch.Size([137, 3, 3001])\n",
      "There are 1000 traces in the dataset\n",
      "There are 160 traces with  2 < SNRs < 5 dB\n",
      "traces_in_snr_bounds shape torch.Size([160, 3, 3001])\n",
      "There are 1000 traces in the dataset\n",
      "There are 167 traces with  5 < SNRs < 10 dB\n",
      "traces_in_snr_bounds shape torch.Size([167, 3, 3001])\n",
      "There are 1000 traces in the dataset\n",
      "There are 217 traces with  10 < SNRs < 20 dB\n",
      "traces_in_snr_bounds shape torch.Size([217, 3, 3001])\n",
      "There are 1000 traces in the dataset\n",
      "There are 151 traces with  20 < SNRs < 100 dB\n",
      "traces_in_snr_bounds shape torch.Size([151, 3, 3001])\n"
     ]
    },
    {
     "name": "stderr",
     "output_type": "stream",
     "text": [
      " 10%|█         | 17/167 [02:08<20:33,  8.22s/it]"
     ]
    },
    {
     "name": "stdout",
     "output_type": "stream",
     "text": [
      "torch.Size([2773, 3, 3001]) torch.Size([2773]) torch.Size([2773])\n",
      "Load 1000 traces\n",
      "1000 traces loaded.\n",
      "Each trace has 3 channels.\n",
      "Each channel has 3001 samples.\n",
      "1000 labels loaded. Each trace has a corresponding label\n",
      "SNR_energy_ratio shape torch.Size([1000])\n",
      "There are 1000 traces in the dataset\n",
      "There are 178 traces with  -20 < SNRs < 0 dB\n",
      "traces_in_snr_bounds shape torch.Size([178, 3, 3001])\n",
      "There are 1000 traces in the dataset\n",
      "There are 111 traces with  0 < SNRs < 2 dB\n",
      "traces_in_snr_bounds shape torch.Size([111, 3, 3001])\n",
      "There are 1000 traces in the dataset\n",
      "There are 183 traces with  2 < SNRs < 5 dB\n",
      "traces_in_snr_bounds shape torch.Size([183, 3, 3001])\n",
      "There are 1000 traces in the dataset\n",
      "There are 186 traces with  5 < SNRs < 10 dB\n",
      "traces_in_snr_bounds shape torch.Size([186, 3, 3001])\n",
      "There are 1000 traces in the dataset\n",
      "There are 187 traces with  10 < SNRs < 20 dB\n",
      "traces_in_snr_bounds shape torch.Size([187, 3, 3001])\n",
      "There are 1000 traces in the dataset\n",
      "There are 155 traces with  20 < SNRs < 100 dB\n",
      "traces_in_snr_bounds shape torch.Size([155, 3, 3001])\n"
     ]
    },
    {
     "name": "stderr",
     "output_type": "stream",
     "text": [
      " 11%|█         | 18/167 [02:17<20:59,  8.46s/it]"
     ]
    },
    {
     "name": "stdout",
     "output_type": "stream",
     "text": [
      "torch.Size([2928, 3, 3001]) torch.Size([2928]) torch.Size([2928])\n",
      "Load 1000 traces\n",
      "1000 traces loaded.\n",
      "Each trace has 3 channels.\n",
      "Each channel has 3001 samples.\n",
      "1000 labels loaded. Each trace has a corresponding label\n",
      "SNR_energy_ratio shape torch.Size([1000])\n",
      "There are 1000 traces in the dataset\n",
      "There are 181 traces with  -20 < SNRs < 0 dB\n",
      "traces_in_snr_bounds shape torch.Size([181, 3, 3001])\n",
      "There are 1000 traces in the dataset\n",
      "There are 110 traces with  0 < SNRs < 2 dB\n",
      "traces_in_snr_bounds shape torch.Size([110, 3, 3001])\n",
      "There are 1000 traces in the dataset\n",
      "There are 175 traces with  2 < SNRs < 5 dB\n",
      "traces_in_snr_bounds shape torch.Size([175, 3, 3001])\n",
      "There are 1000 traces in the dataset\n",
      "There are 168 traces with  5 < SNRs < 10 dB\n",
      "traces_in_snr_bounds shape torch.Size([168, 3, 3001])\n",
      "There are 1000 traces in the dataset\n",
      "There are 213 traces with  10 < SNRs < 20 dB\n",
      "traces_in_snr_bounds shape torch.Size([213, 3, 3001])\n",
      "There are 1000 traces in the dataset\n",
      "There are 153 traces with  20 < SNRs < 100 dB\n",
      "traces_in_snr_bounds shape torch.Size([153, 3, 3001])\n"
     ]
    },
    {
     "name": "stderr",
     "output_type": "stream",
     "text": [
      " 11%|█▏        | 19/167 [02:26<20:48,  8.43s/it]"
     ]
    },
    {
     "name": "stdout",
     "output_type": "stream",
     "text": [
      "torch.Size([3081, 3, 3001]) torch.Size([3081]) torch.Size([3081])\n",
      "Load 1000 traces\n",
      "1000 traces loaded.\n",
      "Each trace has 3 channels.\n",
      "Each channel has 3001 samples.\n",
      "1000 labels loaded. Each trace has a corresponding label\n",
      "SNR_energy_ratio shape torch.Size([1000])\n",
      "There are 1000 traces in the dataset\n",
      "There are 174 traces with  -20 < SNRs < 0 dB\n",
      "traces_in_snr_bounds shape torch.Size([174, 3, 3001])\n",
      "There are 1000 traces in the dataset\n",
      "There are 127 traces with  0 < SNRs < 2 dB\n",
      "traces_in_snr_bounds shape torch.Size([127, 3, 3001])\n",
      "There are 1000 traces in the dataset\n",
      "There are 150 traces with  2 < SNRs < 5 dB\n",
      "traces_in_snr_bounds shape torch.Size([150, 3, 3001])\n",
      "There are 1000 traces in the dataset\n",
      "There are 178 traces with  5 < SNRs < 10 dB\n",
      "traces_in_snr_bounds shape torch.Size([178, 3, 3001])\n",
      "There are 1000 traces in the dataset\n",
      "There are 212 traces with  10 < SNRs < 20 dB\n",
      "traces_in_snr_bounds shape torch.Size([212, 3, 3001])\n",
      "There are 1000 traces in the dataset\n",
      "There are 159 traces with  20 < SNRs < 100 dB\n",
      "traces_in_snr_bounds shape torch.Size([159, 3, 3001])\n"
     ]
    },
    {
     "name": "stderr",
     "output_type": "stream",
     "text": [
      " 12%|█▏        | 20/167 [02:34<20:44,  8.47s/it]"
     ]
    },
    {
     "name": "stdout",
     "output_type": "stream",
     "text": [
      "torch.Size([3240, 3, 3001]) torch.Size([3240]) torch.Size([3240])\n",
      "Load 1000 traces\n",
      "1000 traces loaded.\n",
      "Each trace has 3 channels.\n",
      "Each channel has 3001 samples.\n",
      "1000 labels loaded. Each trace has a corresponding label\n",
      "SNR_energy_ratio shape torch.Size([1000])\n",
      "There are 1000 traces in the dataset\n",
      "There are 160 traces with  -20 < SNRs < 0 dB\n",
      "traces_in_snr_bounds shape torch.Size([160, 3, 3001])\n",
      "There are 1000 traces in the dataset\n",
      "There are 136 traces with  0 < SNRs < 2 dB\n",
      "traces_in_snr_bounds shape torch.Size([136, 3, 3001])\n",
      "There are 1000 traces in the dataset\n",
      "There are 187 traces with  2 < SNRs < 5 dB\n",
      "traces_in_snr_bounds shape torch.Size([187, 3, 3001])\n",
      "There are 1000 traces in the dataset\n",
      "There are 182 traces with  5 < SNRs < 10 dB\n",
      "traces_in_snr_bounds shape torch.Size([182, 3, 3001])\n",
      "There are 1000 traces in the dataset\n",
      "There are 193 traces with  10 < SNRs < 20 dB\n",
      "traces_in_snr_bounds shape torch.Size([193, 3, 3001])\n",
      "There are 1000 traces in the dataset\n",
      "There are 142 traces with  20 < SNRs < 100 dB\n",
      "traces_in_snr_bounds shape torch.Size([142, 3, 3001])\n"
     ]
    },
    {
     "name": "stderr",
     "output_type": "stream",
     "text": [
      " 13%|█▎        | 21/167 [02:43<20:29,  8.42s/it]"
     ]
    },
    {
     "name": "stdout",
     "output_type": "stream",
     "text": [
      "torch.Size([3382, 3, 3001]) torch.Size([3382]) torch.Size([3382])\n",
      "Load 1000 traces\n",
      "1000 traces loaded.\n",
      "Each trace has 3 channels.\n",
      "Each channel has 3001 samples.\n",
      "1000 labels loaded. Each trace has a corresponding label\n",
      "SNR_energy_ratio shape torch.Size([1000])\n",
      "There are 1000 traces in the dataset\n",
      "There are 156 traces with  -20 < SNRs < 0 dB\n",
      "traces_in_snr_bounds shape torch.Size([156, 3, 3001])\n",
      "There are 1000 traces in the dataset\n",
      "There are 126 traces with  0 < SNRs < 2 dB\n",
      "traces_in_snr_bounds shape torch.Size([126, 3, 3001])\n",
      "There are 1000 traces in the dataset\n",
      "There are 182 traces with  2 < SNRs < 5 dB\n",
      "traces_in_snr_bounds shape torch.Size([182, 3, 3001])\n",
      "There are 1000 traces in the dataset\n",
      "There are 166 traces with  5 < SNRs < 10 dB\n",
      "traces_in_snr_bounds shape torch.Size([166, 3, 3001])\n",
      "There are 1000 traces in the dataset\n",
      "There are 204 traces with  10 < SNRs < 20 dB\n",
      "traces_in_snr_bounds shape torch.Size([204, 3, 3001])\n",
      "There are 1000 traces in the dataset\n",
      "There are 166 traces with  20 < SNRs < 100 dB\n",
      "traces_in_snr_bounds shape torch.Size([166, 3, 3001])\n"
     ]
    },
    {
     "name": "stderr",
     "output_type": "stream",
     "text": [
      " 13%|█▎        | 22/167 [02:51<20:22,  8.43s/it]"
     ]
    },
    {
     "name": "stdout",
     "output_type": "stream",
     "text": [
      "torch.Size([3548, 3, 3001]) torch.Size([3548]) torch.Size([3548])\n",
      "Load 1000 traces\n",
      "1000 traces loaded.\n",
      "Each trace has 3 channels.\n",
      "Each channel has 3001 samples.\n",
      "1000 labels loaded. Each trace has a corresponding label\n",
      "SNR_energy_ratio shape torch.Size([1000])\n",
      "There are 1000 traces in the dataset\n",
      "There are 199 traces with  -20 < SNRs < 0 dB\n",
      "traces_in_snr_bounds shape torch.Size([199, 3, 3001])\n",
      "There are 1000 traces in the dataset\n",
      "There are 112 traces with  0 < SNRs < 2 dB\n",
      "traces_in_snr_bounds shape torch.Size([112, 3, 3001])\n",
      "There are 1000 traces in the dataset\n",
      "There are 191 traces with  2 < SNRs < 5 dB\n",
      "traces_in_snr_bounds shape torch.Size([191, 3, 3001])\n",
      "There are 1000 traces in the dataset\n",
      "There are 180 traces with  5 < SNRs < 10 dB\n",
      "traces_in_snr_bounds shape torch.Size([180, 3, 3001])\n",
      "There are 1000 traces in the dataset\n",
      "There are 179 traces with  10 < SNRs < 20 dB\n",
      "traces_in_snr_bounds shape torch.Size([179, 3, 3001])\n",
      "There are 1000 traces in the dataset\n",
      "There are 139 traces with  20 < SNRs < 100 dB\n",
      "traces_in_snr_bounds shape torch.Size([139, 3, 3001])\n"
     ]
    },
    {
     "name": "stderr",
     "output_type": "stream",
     "text": [
      " 14%|█▍        | 23/167 [03:00<20:32,  8.56s/it]"
     ]
    },
    {
     "name": "stdout",
     "output_type": "stream",
     "text": [
      "torch.Size([3687, 3, 3001]) torch.Size([3687]) torch.Size([3687])\n",
      "Load 1000 traces\n",
      "1000 traces loaded.\n",
      "Each trace has 3 channels.\n",
      "Each channel has 3001 samples.\n",
      "1000 labels loaded. Each trace has a corresponding label\n",
      "SNR_energy_ratio shape torch.Size([1000])\n",
      "There are 1000 traces in the dataset\n",
      "There are 166 traces with  -20 < SNRs < 0 dB\n",
      "traces_in_snr_bounds shape torch.Size([166, 3, 3001])\n",
      "There are 1000 traces in the dataset\n",
      "There are 142 traces with  0 < SNRs < 2 dB\n",
      "traces_in_snr_bounds shape torch.Size([142, 3, 3001])\n",
      "There are 1000 traces in the dataset\n",
      "There are 163 traces with  2 < SNRs < 5 dB\n",
      "traces_in_snr_bounds shape torch.Size([163, 3, 3001])\n",
      "There are 1000 traces in the dataset\n",
      "There are 167 traces with  5 < SNRs < 10 dB\n",
      "traces_in_snr_bounds shape torch.Size([167, 3, 3001])\n",
      "There are 1000 traces in the dataset\n",
      "There are 206 traces with  10 < SNRs < 20 dB\n",
      "traces_in_snr_bounds shape torch.Size([206, 3, 3001])\n",
      "There are 1000 traces in the dataset\n",
      "There are 156 traces with  20 < SNRs < 100 dB\n",
      "traces_in_snr_bounds shape torch.Size([156, 3, 3001])\n"
     ]
    },
    {
     "name": "stderr",
     "output_type": "stream",
     "text": [
      " 14%|█▍        | 24/167 [03:09<20:40,  8.67s/it]"
     ]
    },
    {
     "name": "stdout",
     "output_type": "stream",
     "text": [
      "torch.Size([3843, 3, 3001]) torch.Size([3843]) torch.Size([3843])\n",
      "Load 1000 traces\n",
      "1000 traces loaded.\n",
      "Each trace has 3 channels.\n",
      "Each channel has 3001 samples.\n",
      "1000 labels loaded. Each trace has a corresponding label\n",
      "SNR_energy_ratio shape torch.Size([1000])\n",
      "There are 1000 traces in the dataset\n",
      "There are 182 traces with  -20 < SNRs < 0 dB\n",
      "traces_in_snr_bounds shape torch.Size([182, 3, 3001])\n",
      "There are 1000 traces in the dataset\n",
      "There are 124 traces with  0 < SNRs < 2 dB\n",
      "traces_in_snr_bounds shape torch.Size([124, 3, 3001])\n",
      "There are 1000 traces in the dataset\n",
      "There are 169 traces with  2 < SNRs < 5 dB\n",
      "traces_in_snr_bounds shape torch.Size([169, 3, 3001])\n",
      "There are 1000 traces in the dataset\n",
      "There are 169 traces with  5 < SNRs < 10 dB\n",
      "traces_in_snr_bounds shape torch.Size([169, 3, 3001])\n",
      "There are 1000 traces in the dataset\n",
      "There are 194 traces with  10 < SNRs < 20 dB\n",
      "traces_in_snr_bounds shape torch.Size([194, 3, 3001])\n",
      "There are 1000 traces in the dataset\n",
      "There are 162 traces with  20 < SNRs < 100 dB\n",
      "traces_in_snr_bounds shape torch.Size([162, 3, 3001])\n"
     ]
    },
    {
     "name": "stderr",
     "output_type": "stream",
     "text": [
      " 15%|█▍        | 25/167 [03:19<21:33,  9.11s/it]"
     ]
    },
    {
     "name": "stdout",
     "output_type": "stream",
     "text": [
      "torch.Size([4005, 3, 3001]) torch.Size([4005]) torch.Size([4005])\n",
      "Load 1000 traces\n",
      "1000 traces loaded.\n",
      "Each trace has 3 channels.\n",
      "Each channel has 3001 samples.\n",
      "1000 labels loaded. Each trace has a corresponding label\n",
      "SNR_energy_ratio shape torch.Size([1000])\n",
      "There are 1000 traces in the dataset\n",
      "There are 160 traces with  -20 < SNRs < 0 dB\n",
      "traces_in_snr_bounds shape torch.Size([160, 3, 3001])\n",
      "There are 1000 traces in the dataset\n",
      "There are 116 traces with  0 < SNRs < 2 dB\n",
      "traces_in_snr_bounds shape torch.Size([116, 3, 3001])\n",
      "There are 1000 traces in the dataset\n",
      "There are 163 traces with  2 < SNRs < 5 dB\n",
      "traces_in_snr_bounds shape torch.Size([163, 3, 3001])\n",
      "There are 1000 traces in the dataset\n",
      "There are 174 traces with  5 < SNRs < 10 dB\n",
      "traces_in_snr_bounds shape torch.Size([174, 3, 3001])\n",
      "There are 1000 traces in the dataset\n",
      "There are 208 traces with  10 < SNRs < 20 dB\n",
      "traces_in_snr_bounds shape torch.Size([208, 3, 3001])\n",
      "There are 1000 traces in the dataset\n",
      "There are 179 traces with  20 < SNRs < 100 dB\n",
      "traces_in_snr_bounds shape torch.Size([179, 3, 3001])\n"
     ]
    },
    {
     "name": "stderr",
     "output_type": "stream",
     "text": [
      " 16%|█▌        | 26/167 [03:31<23:12,  9.88s/it]"
     ]
    },
    {
     "name": "stdout",
     "output_type": "stream",
     "text": [
      "torch.Size([4184, 3, 3001]) torch.Size([4184]) torch.Size([4184])\n",
      "Load 1000 traces\n",
      "1000 traces loaded.\n",
      "Each trace has 3 channels.\n",
      "Each channel has 3001 samples.\n",
      "1000 labels loaded. Each trace has a corresponding label\n",
      "SNR_energy_ratio shape torch.Size([1000])\n",
      "There are 1000 traces in the dataset\n",
      "There are 176 traces with  -20 < SNRs < 0 dB\n",
      "traces_in_snr_bounds shape torch.Size([176, 3, 3001])\n",
      "There are 1000 traces in the dataset\n",
      "There are 120 traces with  0 < SNRs < 2 dB\n",
      "traces_in_snr_bounds shape torch.Size([120, 3, 3001])\n",
      "There are 1000 traces in the dataset\n",
      "There are 171 traces with  2 < SNRs < 5 dB\n",
      "traces_in_snr_bounds shape torch.Size([171, 3, 3001])\n",
      "There are 1000 traces in the dataset\n",
      "There are 165 traces with  5 < SNRs < 10 dB\n",
      "traces_in_snr_bounds shape torch.Size([165, 3, 3001])\n",
      "There are 1000 traces in the dataset\n",
      "There are 212 traces with  10 < SNRs < 20 dB\n",
      "traces_in_snr_bounds shape torch.Size([212, 3, 3001])\n",
      "There are 1000 traces in the dataset\n",
      "There are 156 traces with  20 < SNRs < 100 dB\n",
      "traces_in_snr_bounds shape torch.Size([156, 3, 3001])\n"
     ]
    },
    {
     "name": "stderr",
     "output_type": "stream",
     "text": [
      " 16%|█▌        | 27/167 [03:42<24:12, 10.38s/it]"
     ]
    },
    {
     "name": "stdout",
     "output_type": "stream",
     "text": [
      "torch.Size([4340, 3, 3001]) torch.Size([4340]) torch.Size([4340])\n",
      "Load 1000 traces\n",
      "1000 traces loaded.\n",
      "Each trace has 3 channels.\n",
      "Each channel has 3001 samples.\n",
      "1000 labels loaded. Each trace has a corresponding label\n",
      "SNR_energy_ratio shape torch.Size([1000])\n",
      "There are 1000 traces in the dataset\n",
      "There are 167 traces with  -20 < SNRs < 0 dB\n",
      "traces_in_snr_bounds shape torch.Size([167, 3, 3001])\n",
      "There are 1000 traces in the dataset\n",
      "There are 119 traces with  0 < SNRs < 2 dB\n",
      "traces_in_snr_bounds shape torch.Size([119, 3, 3001])\n",
      "There are 1000 traces in the dataset\n",
      "There are 167 traces with  2 < SNRs < 5 dB\n",
      "traces_in_snr_bounds shape torch.Size([167, 3, 3001])\n",
      "There are 1000 traces in the dataset\n",
      "There are 185 traces with  5 < SNRs < 10 dB\n",
      "traces_in_snr_bounds shape torch.Size([185, 3, 3001])\n",
      "There are 1000 traces in the dataset\n",
      "There are 206 traces with  10 < SNRs < 20 dB\n",
      "traces_in_snr_bounds shape torch.Size([206, 3, 3001])\n",
      "There are 1000 traces in the dataset\n",
      "There are 156 traces with  20 < SNRs < 100 dB\n",
      "traces_in_snr_bounds shape torch.Size([156, 3, 3001])\n"
     ]
    },
    {
     "name": "stderr",
     "output_type": "stream",
     "text": [
      " 17%|█▋        | 28/167 [03:53<24:36, 10.62s/it]"
     ]
    },
    {
     "name": "stdout",
     "output_type": "stream",
     "text": [
      "torch.Size([4496, 3, 3001]) torch.Size([4496]) torch.Size([4496])\n",
      "Load 1000 traces\n",
      "1000 traces loaded.\n",
      "Each trace has 3 channels.\n",
      "Each channel has 3001 samples.\n",
      "1000 labels loaded. Each trace has a corresponding label\n",
      "SNR_energy_ratio shape torch.Size([1000])\n",
      "There are 1000 traces in the dataset\n",
      "There are 180 traces with  -20 < SNRs < 0 dB\n",
      "traces_in_snr_bounds shape torch.Size([180, 3, 3001])\n",
      "There are 1000 traces in the dataset\n",
      "There are 121 traces with  0 < SNRs < 2 dB\n",
      "traces_in_snr_bounds shape torch.Size([121, 3, 3001])\n",
      "There are 1000 traces in the dataset\n",
      "There are 161 traces with  2 < SNRs < 5 dB\n",
      "traces_in_snr_bounds shape torch.Size([161, 3, 3001])\n",
      "There are 1000 traces in the dataset\n",
      "There are 163 traces with  5 < SNRs < 10 dB\n",
      "traces_in_snr_bounds shape torch.Size([163, 3, 3001])\n",
      "There are 1000 traces in the dataset\n",
      "There are 209 traces with  10 < SNRs < 20 dB\n",
      "traces_in_snr_bounds shape torch.Size([209, 3, 3001])\n",
      "There are 1000 traces in the dataset\n",
      "There are 166 traces with  20 < SNRs < 100 dB\n",
      "traces_in_snr_bounds shape torch.Size([166, 3, 3001])\n"
     ]
    },
    {
     "name": "stderr",
     "output_type": "stream",
     "text": [
      " 17%|█▋        | 29/167 [04:05<25:09, 10.93s/it]"
     ]
    },
    {
     "name": "stdout",
     "output_type": "stream",
     "text": [
      "torch.Size([4662, 3, 3001]) torch.Size([4662]) torch.Size([4662])\n",
      "Load 1000 traces\n",
      "1000 traces loaded.\n",
      "Each trace has 3 channels.\n",
      "Each channel has 3001 samples.\n",
      "1000 labels loaded. Each trace has a corresponding label\n",
      "SNR_energy_ratio shape torch.Size([1000])\n",
      "There are 1000 traces in the dataset\n",
      "There are 151 traces with  -20 < SNRs < 0 dB\n",
      "traces_in_snr_bounds shape torch.Size([151, 3, 3001])\n",
      "There are 1000 traces in the dataset\n",
      "There are 120 traces with  0 < SNRs < 2 dB\n",
      "traces_in_snr_bounds shape torch.Size([120, 3, 3001])\n",
      "There are 1000 traces in the dataset\n",
      "There are 159 traces with  2 < SNRs < 5 dB\n",
      "traces_in_snr_bounds shape torch.Size([159, 3, 3001])\n",
      "There are 1000 traces in the dataset\n",
      "There are 202 traces with  5 < SNRs < 10 dB\n",
      "traces_in_snr_bounds shape torch.Size([202, 3, 3001])\n",
      "There are 1000 traces in the dataset\n",
      "There are 217 traces with  10 < SNRs < 20 dB\n",
      "traces_in_snr_bounds shape torch.Size([217, 3, 3001])\n",
      "There are 1000 traces in the dataset\n",
      "There are 151 traces with  20 < SNRs < 100 dB\n",
      "traces_in_snr_bounds shape torch.Size([151, 3, 3001])\n"
     ]
    },
    {
     "name": "stderr",
     "output_type": "stream",
     "text": [
      " 18%|█▊        | 30/167 [04:17<25:27, 11.15s/it]"
     ]
    },
    {
     "name": "stdout",
     "output_type": "stream",
     "text": [
      "torch.Size([4813, 3, 3001]) torch.Size([4813]) torch.Size([4813])\n",
      "Load 1000 traces\n",
      "1000 traces loaded.\n",
      "Each trace has 3 channels.\n",
      "Each channel has 3001 samples.\n",
      "1000 labels loaded. Each trace has a corresponding label\n",
      "SNR_energy_ratio shape torch.Size([1000])\n",
      "There are 1000 traces in the dataset\n",
      "There are 175 traces with  -20 < SNRs < 0 dB\n",
      "traces_in_snr_bounds shape torch.Size([175, 3, 3001])\n",
      "There are 1000 traces in the dataset\n",
      "There are 139 traces with  0 < SNRs < 2 dB\n",
      "traces_in_snr_bounds shape torch.Size([139, 3, 3001])\n",
      "There are 1000 traces in the dataset\n",
      "There are 167 traces with  2 < SNRs < 5 dB\n",
      "traces_in_snr_bounds shape torch.Size([167, 3, 3001])\n",
      "There are 1000 traces in the dataset\n",
      "There are 164 traces with  5 < SNRs < 10 dB\n",
      "traces_in_snr_bounds shape torch.Size([164, 3, 3001])\n",
      "There are 1000 traces in the dataset\n",
      "There are 198 traces with  10 < SNRs < 20 dB\n",
      "traces_in_snr_bounds shape torch.Size([198, 3, 3001])\n",
      "There are 1000 traces in the dataset\n",
      "There are 157 traces with  20 < SNRs < 100 dB\n",
      "traces_in_snr_bounds shape torch.Size([157, 3, 3001])\n"
     ]
    },
    {
     "name": "stderr",
     "output_type": "stream",
     "text": [
      " 19%|█▊        | 31/167 [04:29<26:00, 11.47s/it]"
     ]
    },
    {
     "name": "stdout",
     "output_type": "stream",
     "text": [
      "torch.Size([4970, 3, 3001]) torch.Size([4970]) torch.Size([4970])\n",
      "Load 1000 traces\n",
      "1000 traces loaded.\n",
      "Each trace has 3 channels.\n",
      "Each channel has 3001 samples.\n",
      "1000 labels loaded. Each trace has a corresponding label\n",
      "SNR_energy_ratio shape torch.Size([1000])\n",
      "There are 1000 traces in the dataset\n",
      "There are 162 traces with  -20 < SNRs < 0 dB\n",
      "traces_in_snr_bounds shape torch.Size([162, 3, 3001])\n",
      "There are 1000 traces in the dataset\n",
      "There are 134 traces with  0 < SNRs < 2 dB\n",
      "traces_in_snr_bounds shape torch.Size([134, 3, 3001])\n",
      "There are 1000 traces in the dataset\n",
      "There are 170 traces with  2 < SNRs < 5 dB\n",
      "traces_in_snr_bounds shape torch.Size([170, 3, 3001])\n",
      "There are 1000 traces in the dataset\n",
      "There are 203 traces with  5 < SNRs < 10 dB\n",
      "traces_in_snr_bounds shape torch.Size([203, 3, 3001])\n",
      "There are 1000 traces in the dataset\n",
      "There are 189 traces with  10 < SNRs < 20 dB\n",
      "traces_in_snr_bounds shape torch.Size([189, 3, 3001])\n",
      "There are 1000 traces in the dataset\n",
      "There are 142 traces with  20 < SNRs < 100 dB\n",
      "traces_in_snr_bounds shape torch.Size([142, 3, 3001])\n"
     ]
    },
    {
     "name": "stderr",
     "output_type": "stream",
     "text": [
      " 19%|█▉        | 32/167 [04:41<26:10, 11.63s/it]"
     ]
    },
    {
     "name": "stdout",
     "output_type": "stream",
     "text": [
      "torch.Size([5112, 3, 3001]) torch.Size([5112]) torch.Size([5112])\n",
      "Load 1000 traces\n"
     ]
    },
    {
     "name": "stderr",
     "output_type": "stream",
     "text": [
      " 19%|█▉        | 32/167 [04:44<19:58,  8.88s/it]\n"
     ]
    },
    {
     "ename": "KeyboardInterrupt",
     "evalue": "",
     "output_type": "error",
     "traceback": [
      "\u001B[0;31m---------------------------------------------------------------------------\u001B[0m",
      "\u001B[0;31mKeyboardInterrupt\u001B[0m                         Traceback (most recent call last)",
      "Cell \u001B[0;32mIn[24], line 2\u001B[0m\n\u001B[1;32m      1\u001B[0m \u001B[38;5;28;01mfor\u001B[39;00m i \u001B[38;5;129;01min\u001B[39;00m tqdm(\u001B[38;5;28mrange\u001B[39m(\u001B[38;5;28mlen\u001B[39m(loader))):\n\u001B[0;32m----> 2\u001B[0m     traces, labels \u001B[38;5;241m=\u001B[39m \u001B[43mload_batch\u001B[49m\u001B[43m(\u001B[49m\u001B[43m)\u001B[49m\n\u001B[1;32m      3\u001B[0m     SNR \u001B[38;5;241m=\u001B[39m calc_batch_snr(batch_traces\u001B[38;5;241m=\u001B[39mtraces, labels\u001B[38;5;241m=\u001B[39mlabels)\n\u001B[1;32m      4\u001B[0m     bounds \u001B[38;5;241m=\u001B[39m [\u001B[38;5;241m-\u001B[39m\u001B[38;5;241m20\u001B[39m, \u001B[38;5;241m0\u001B[39m, \u001B[38;5;241m2\u001B[39m, \u001B[38;5;241m5\u001B[39m, \u001B[38;5;241m10\u001B[39m, \u001B[38;5;241m20\u001B[39m, \u001B[38;5;241m100\u001B[39m]\n",
      "Cell \u001B[0;32mIn[14], line 3\u001B[0m, in \u001B[0;36mload_batch\u001B[0;34m()\u001B[0m\n\u001B[1;32m      1\u001B[0m \u001B[38;5;28;01mdef\u001B[39;00m \u001B[38;5;21mload_batch\u001B[39m():\n\u001B[1;32m      2\u001B[0m     \u001B[38;5;28mprint\u001B[39m(\u001B[38;5;124mf\u001B[39m\u001B[38;5;124m'\u001B[39m\u001B[38;5;124mLoad \u001B[39m\u001B[38;5;132;01m{\u001B[39;00mBATCH_SIZE\u001B[38;5;132;01m}\u001B[39;00m\u001B[38;5;124m traces\u001B[39m\u001B[38;5;124m'\u001B[39m)\n\u001B[0;32m----> 3\u001B[0m     dataset_dict \u001B[38;5;241m=\u001B[39m \u001B[38;5;28;43mnext\u001B[39;49m\u001B[43m(\u001B[49m\u001B[38;5;28;43miter\u001B[39;49m\u001B[43m(\u001B[49m\u001B[43mloader\u001B[49m\u001B[43m)\u001B[49m\u001B[43m)\u001B[49m\n\u001B[1;32m      4\u001B[0m     dataset\u001B[38;5;241m=\u001B[39mdataset_dict[\u001B[38;5;124m'\u001B[39m\u001B[38;5;124mX\u001B[39m\u001B[38;5;124m'\u001B[39m]\n\u001B[1;32m      5\u001B[0m     \u001B[38;5;28mprint\u001B[39m(\u001B[38;5;124mf\u001B[39m\u001B[38;5;124m'\u001B[39m\u001B[38;5;132;01m{\u001B[39;00mdataset\u001B[38;5;241m.\u001B[39mshape[\u001B[38;5;241m0\u001B[39m]\u001B[38;5;132;01m}\u001B[39;00m\u001B[38;5;124m traces loaded.\u001B[39m\u001B[38;5;124m'\u001B[39m)\n",
      "File \u001B[0;32m~/miniconda3/envs/seis/lib/python3.10/site-packages/torch/utils/data/dataloader.py:628\u001B[0m, in \u001B[0;36m_BaseDataLoaderIter.__next__\u001B[0;34m(self)\u001B[0m\n\u001B[1;32m    625\u001B[0m \u001B[38;5;28;01mif\u001B[39;00m \u001B[38;5;28mself\u001B[39m\u001B[38;5;241m.\u001B[39m_sampler_iter \u001B[38;5;129;01mis\u001B[39;00m \u001B[38;5;28;01mNone\u001B[39;00m:\n\u001B[1;32m    626\u001B[0m     \u001B[38;5;66;03m# TODO(https://github.com/pytorch/pytorch/issues/76750)\u001B[39;00m\n\u001B[1;32m    627\u001B[0m     \u001B[38;5;28mself\u001B[39m\u001B[38;5;241m.\u001B[39m_reset()  \u001B[38;5;66;03m# type: ignore[call-arg]\u001B[39;00m\n\u001B[0;32m--> 628\u001B[0m data \u001B[38;5;241m=\u001B[39m \u001B[38;5;28;43mself\u001B[39;49m\u001B[38;5;241;43m.\u001B[39;49m\u001B[43m_next_data\u001B[49m\u001B[43m(\u001B[49m\u001B[43m)\u001B[49m\n\u001B[1;32m    629\u001B[0m \u001B[38;5;28mself\u001B[39m\u001B[38;5;241m.\u001B[39m_num_yielded \u001B[38;5;241m+\u001B[39m\u001B[38;5;241m=\u001B[39m \u001B[38;5;241m1\u001B[39m\n\u001B[1;32m    630\u001B[0m \u001B[38;5;28;01mif\u001B[39;00m \u001B[38;5;28mself\u001B[39m\u001B[38;5;241m.\u001B[39m_dataset_kind \u001B[38;5;241m==\u001B[39m _DatasetKind\u001B[38;5;241m.\u001B[39mIterable \u001B[38;5;129;01mand\u001B[39;00m \\\n\u001B[1;32m    631\u001B[0m         \u001B[38;5;28mself\u001B[39m\u001B[38;5;241m.\u001B[39m_IterableDataset_len_called \u001B[38;5;129;01mis\u001B[39;00m \u001B[38;5;129;01mnot\u001B[39;00m \u001B[38;5;28;01mNone\u001B[39;00m \u001B[38;5;129;01mand\u001B[39;00m \\\n\u001B[1;32m    632\u001B[0m         \u001B[38;5;28mself\u001B[39m\u001B[38;5;241m.\u001B[39m_num_yielded \u001B[38;5;241m>\u001B[39m \u001B[38;5;28mself\u001B[39m\u001B[38;5;241m.\u001B[39m_IterableDataset_len_called:\n",
      "File \u001B[0;32m~/miniconda3/envs/seis/lib/python3.10/site-packages/torch/utils/data/dataloader.py:1316\u001B[0m, in \u001B[0;36m_MultiProcessingDataLoaderIter._next_data\u001B[0;34m(self)\u001B[0m\n\u001B[1;32m   1313\u001B[0m     \u001B[38;5;28;01mreturn\u001B[39;00m \u001B[38;5;28mself\u001B[39m\u001B[38;5;241m.\u001B[39m_process_data(data)\n\u001B[1;32m   1315\u001B[0m \u001B[38;5;28;01massert\u001B[39;00m \u001B[38;5;129;01mnot\u001B[39;00m \u001B[38;5;28mself\u001B[39m\u001B[38;5;241m.\u001B[39m_shutdown \u001B[38;5;129;01mand\u001B[39;00m \u001B[38;5;28mself\u001B[39m\u001B[38;5;241m.\u001B[39m_tasks_outstanding \u001B[38;5;241m>\u001B[39m \u001B[38;5;241m0\u001B[39m\n\u001B[0;32m-> 1316\u001B[0m idx, data \u001B[38;5;241m=\u001B[39m \u001B[38;5;28;43mself\u001B[39;49m\u001B[38;5;241;43m.\u001B[39;49m\u001B[43m_get_data\u001B[49m\u001B[43m(\u001B[49m\u001B[43m)\u001B[49m\n\u001B[1;32m   1317\u001B[0m \u001B[38;5;28mself\u001B[39m\u001B[38;5;241m.\u001B[39m_tasks_outstanding \u001B[38;5;241m-\u001B[39m\u001B[38;5;241m=\u001B[39m \u001B[38;5;241m1\u001B[39m\n\u001B[1;32m   1318\u001B[0m \u001B[38;5;28;01mif\u001B[39;00m \u001B[38;5;28mself\u001B[39m\u001B[38;5;241m.\u001B[39m_dataset_kind \u001B[38;5;241m==\u001B[39m _DatasetKind\u001B[38;5;241m.\u001B[39mIterable:\n\u001B[1;32m   1319\u001B[0m     \u001B[38;5;66;03m# Check for _IterableDatasetStopIteration\u001B[39;00m\n",
      "File \u001B[0;32m~/miniconda3/envs/seis/lib/python3.10/site-packages/torch/utils/data/dataloader.py:1282\u001B[0m, in \u001B[0;36m_MultiProcessingDataLoaderIter._get_data\u001B[0;34m(self)\u001B[0m\n\u001B[1;32m   1278\u001B[0m     \u001B[38;5;66;03m# In this case, `self._data_queue` is a `queue.Queue`,. But we don't\u001B[39;00m\n\u001B[1;32m   1279\u001B[0m     \u001B[38;5;66;03m# need to call `.task_done()` because we don't use `.join()`.\u001B[39;00m\n\u001B[1;32m   1280\u001B[0m \u001B[38;5;28;01melse\u001B[39;00m:\n\u001B[1;32m   1281\u001B[0m     \u001B[38;5;28;01mwhile\u001B[39;00m \u001B[38;5;28;01mTrue\u001B[39;00m:\n\u001B[0;32m-> 1282\u001B[0m         success, data \u001B[38;5;241m=\u001B[39m \u001B[38;5;28;43mself\u001B[39;49m\u001B[38;5;241;43m.\u001B[39;49m\u001B[43m_try_get_data\u001B[49m\u001B[43m(\u001B[49m\u001B[43m)\u001B[49m\n\u001B[1;32m   1283\u001B[0m         \u001B[38;5;28;01mif\u001B[39;00m success:\n\u001B[1;32m   1284\u001B[0m             \u001B[38;5;28;01mreturn\u001B[39;00m data\n",
      "File \u001B[0;32m~/miniconda3/envs/seis/lib/python3.10/site-packages/torch/utils/data/dataloader.py:1120\u001B[0m, in \u001B[0;36m_MultiProcessingDataLoaderIter._try_get_data\u001B[0;34m(self, timeout)\u001B[0m\n\u001B[1;32m   1107\u001B[0m \u001B[38;5;28;01mdef\u001B[39;00m \u001B[38;5;21m_try_get_data\u001B[39m(\u001B[38;5;28mself\u001B[39m, timeout\u001B[38;5;241m=\u001B[39m_utils\u001B[38;5;241m.\u001B[39mMP_STATUS_CHECK_INTERVAL):\n\u001B[1;32m   1108\u001B[0m     \u001B[38;5;66;03m# Tries to fetch data from `self._data_queue` once for a given timeout.\u001B[39;00m\n\u001B[1;32m   1109\u001B[0m     \u001B[38;5;66;03m# This can also be used as inner loop of fetching without timeout, with\u001B[39;00m\n\u001B[0;32m   (...)\u001B[0m\n\u001B[1;32m   1117\u001B[0m     \u001B[38;5;66;03m# Returns a 2-tuple:\u001B[39;00m\n\u001B[1;32m   1118\u001B[0m     \u001B[38;5;66;03m#   (bool: whether successfully get data, any: data if successful else None)\u001B[39;00m\n\u001B[1;32m   1119\u001B[0m     \u001B[38;5;28;01mtry\u001B[39;00m:\n\u001B[0;32m-> 1120\u001B[0m         data \u001B[38;5;241m=\u001B[39m \u001B[38;5;28;43mself\u001B[39;49m\u001B[38;5;241;43m.\u001B[39;49m\u001B[43m_data_queue\u001B[49m\u001B[38;5;241;43m.\u001B[39;49m\u001B[43mget\u001B[49m\u001B[43m(\u001B[49m\u001B[43mtimeout\u001B[49m\u001B[38;5;241;43m=\u001B[39;49m\u001B[43mtimeout\u001B[49m\u001B[43m)\u001B[49m\n\u001B[1;32m   1121\u001B[0m         \u001B[38;5;28;01mreturn\u001B[39;00m (\u001B[38;5;28;01mTrue\u001B[39;00m, data)\n\u001B[1;32m   1122\u001B[0m     \u001B[38;5;28;01mexcept\u001B[39;00m \u001B[38;5;167;01mException\u001B[39;00m \u001B[38;5;28;01mas\u001B[39;00m e:\n\u001B[1;32m   1123\u001B[0m         \u001B[38;5;66;03m# At timeout and error, we manually check whether any worker has\u001B[39;00m\n\u001B[1;32m   1124\u001B[0m         \u001B[38;5;66;03m# failed. Note that this is the only mechanism for Windows to detect\u001B[39;00m\n\u001B[1;32m   1125\u001B[0m         \u001B[38;5;66;03m# worker failures.\u001B[39;00m\n",
      "File \u001B[0;32m~/miniconda3/envs/seis/lib/python3.10/multiprocessing/queues.py:113\u001B[0m, in \u001B[0;36mQueue.get\u001B[0;34m(self, block, timeout)\u001B[0m\n\u001B[1;32m    111\u001B[0m \u001B[38;5;28;01mif\u001B[39;00m block:\n\u001B[1;32m    112\u001B[0m     timeout \u001B[38;5;241m=\u001B[39m deadline \u001B[38;5;241m-\u001B[39m time\u001B[38;5;241m.\u001B[39mmonotonic()\n\u001B[0;32m--> 113\u001B[0m     \u001B[38;5;28;01mif\u001B[39;00m \u001B[38;5;129;01mnot\u001B[39;00m \u001B[38;5;28;43mself\u001B[39;49m\u001B[38;5;241;43m.\u001B[39;49m\u001B[43m_poll\u001B[49m\u001B[43m(\u001B[49m\u001B[43mtimeout\u001B[49m\u001B[43m)\u001B[49m:\n\u001B[1;32m    114\u001B[0m         \u001B[38;5;28;01mraise\u001B[39;00m Empty\n\u001B[1;32m    115\u001B[0m \u001B[38;5;28;01melif\u001B[39;00m \u001B[38;5;129;01mnot\u001B[39;00m \u001B[38;5;28mself\u001B[39m\u001B[38;5;241m.\u001B[39m_poll():\n",
      "File \u001B[0;32m~/miniconda3/envs/seis/lib/python3.10/multiprocessing/connection.py:262\u001B[0m, in \u001B[0;36m_ConnectionBase.poll\u001B[0;34m(self, timeout)\u001B[0m\n\u001B[1;32m    260\u001B[0m \u001B[38;5;28mself\u001B[39m\u001B[38;5;241m.\u001B[39m_check_closed()\n\u001B[1;32m    261\u001B[0m \u001B[38;5;28mself\u001B[39m\u001B[38;5;241m.\u001B[39m_check_readable()\n\u001B[0;32m--> 262\u001B[0m \u001B[38;5;28;01mreturn\u001B[39;00m \u001B[38;5;28;43mself\u001B[39;49m\u001B[38;5;241;43m.\u001B[39;49m\u001B[43m_poll\u001B[49m\u001B[43m(\u001B[49m\u001B[43mtimeout\u001B[49m\u001B[43m)\u001B[49m\n",
      "File \u001B[0;32m~/miniconda3/envs/seis/lib/python3.10/multiprocessing/connection.py:429\u001B[0m, in \u001B[0;36mConnection._poll\u001B[0;34m(self, timeout)\u001B[0m\n\u001B[1;32m    428\u001B[0m \u001B[38;5;28;01mdef\u001B[39;00m \u001B[38;5;21m_poll\u001B[39m(\u001B[38;5;28mself\u001B[39m, timeout):\n\u001B[0;32m--> 429\u001B[0m     r \u001B[38;5;241m=\u001B[39m \u001B[43mwait\u001B[49m\u001B[43m(\u001B[49m\u001B[43m[\u001B[49m\u001B[38;5;28;43mself\u001B[39;49m\u001B[43m]\u001B[49m\u001B[43m,\u001B[49m\u001B[43m \u001B[49m\u001B[43mtimeout\u001B[49m\u001B[43m)\u001B[49m\n\u001B[1;32m    430\u001B[0m     \u001B[38;5;28;01mreturn\u001B[39;00m \u001B[38;5;28mbool\u001B[39m(r)\n",
      "File \u001B[0;32m~/miniconda3/envs/seis/lib/python3.10/multiprocessing/connection.py:936\u001B[0m, in \u001B[0;36mwait\u001B[0;34m(object_list, timeout)\u001B[0m\n\u001B[1;32m    933\u001B[0m     deadline \u001B[38;5;241m=\u001B[39m time\u001B[38;5;241m.\u001B[39mmonotonic() \u001B[38;5;241m+\u001B[39m timeout\n\u001B[1;32m    935\u001B[0m \u001B[38;5;28;01mwhile\u001B[39;00m \u001B[38;5;28;01mTrue\u001B[39;00m:\n\u001B[0;32m--> 936\u001B[0m     ready \u001B[38;5;241m=\u001B[39m \u001B[43mselector\u001B[49m\u001B[38;5;241;43m.\u001B[39;49m\u001B[43mselect\u001B[49m\u001B[43m(\u001B[49m\u001B[43mtimeout\u001B[49m\u001B[43m)\u001B[49m\n\u001B[1;32m    937\u001B[0m     \u001B[38;5;28;01mif\u001B[39;00m ready:\n\u001B[1;32m    938\u001B[0m         \u001B[38;5;28;01mreturn\u001B[39;00m [key\u001B[38;5;241m.\u001B[39mfileobj \u001B[38;5;28;01mfor\u001B[39;00m (key, events) \u001B[38;5;129;01min\u001B[39;00m ready]\n",
      "File \u001B[0;32m~/miniconda3/envs/seis/lib/python3.10/selectors.py:416\u001B[0m, in \u001B[0;36m_PollLikeSelector.select\u001B[0;34m(self, timeout)\u001B[0m\n\u001B[1;32m    414\u001B[0m ready \u001B[38;5;241m=\u001B[39m []\n\u001B[1;32m    415\u001B[0m \u001B[38;5;28;01mtry\u001B[39;00m:\n\u001B[0;32m--> 416\u001B[0m     fd_event_list \u001B[38;5;241m=\u001B[39m \u001B[38;5;28;43mself\u001B[39;49m\u001B[38;5;241;43m.\u001B[39;49m\u001B[43m_selector\u001B[49m\u001B[38;5;241;43m.\u001B[39;49m\u001B[43mpoll\u001B[49m\u001B[43m(\u001B[49m\u001B[43mtimeout\u001B[49m\u001B[43m)\u001B[49m\n\u001B[1;32m    417\u001B[0m \u001B[38;5;28;01mexcept\u001B[39;00m \u001B[38;5;167;01mInterruptedError\u001B[39;00m:\n\u001B[1;32m    418\u001B[0m     \u001B[38;5;28;01mreturn\u001B[39;00m ready\n",
      "\u001B[0;31mKeyboardInterrupt\u001B[0m: "
     ]
    }
   ],
   "source": [
    "for i in tqdm(range(len(loader))):\n",
    "    traces, labels = load_batch()\n",
    "    SNR = calc_batch_snr(batch_traces=traces, labels=labels)\n",
    "    bounds = [-20, 0, 2, 5, 10, 20, 100]\n",
    "    batch_tuple_traces_labels_snrs_in_bounds_list = [get_traces_in_snr_bounds(traces=traces, labels=labels, SNR=SNR, low=bounds[i], high=bounds[i + 1]) for i in range(len(bounds) - 1)]\n",
    "\n",
    "    for j, (t,l,s) in enumerate(batch_tuple_traces_labels_snrs_in_bounds_list):\n",
    "        suffix = f'_{dataset_origin}_bounds_{bounds[j]}_{bounds[j+1]}.pt'\n",
    "        if i > 0:\n",
    "            t_prev = torch.load(os.path.join(SAVE_TO_PATH, 'traces' + suffix))\n",
    "            l_prev = torch.load(os.path.join(SAVE_TO_PATH, 'labels' + suffix))\n",
    "            s_prev = torch.load(os.path.join(SAVE_TO_PATH, 'snr' + suffix))\n",
    "\n",
    "            t = torch.vstack((t_prev, t))\n",
    "            l = torch.vstack((l_prev.unsqueeze(dim=1), l.unsqueeze(dim=1))).squeeze()\n",
    "            s = torch.vstack((s_prev.unsqueeze(dim=1), s.unsqueeze(dim=1))).squeeze()\n",
    "\n",
    "        torch.save(t, os.path.join(SAVE_TO_PATH, 'traces' + suffix))\n",
    "        torch.save(l, os.path.join(SAVE_TO_PATH, 'labels' + suffix))\n",
    "        torch.save(s, os.path.join(SAVE_TO_PATH, 'snr' + suffix))\n",
    "\n",
    "    print(t.shape, l.shape, s.shape)\n",
    "\n",
    "\n",
    "    # (full_high_SNR_traces, full_high_SNR_traces_labels, full_SNR_of_high_SNR_traces) = (batch_traces_in_bounds_list.clone(), batch_labels_in_snr_bounds_list.clone(), batch_SNR_of_high_SNR_traces.clone()) if i == 0 else \\\n",
    "    #     (torch.vstack((full_high_SNR_traces, batch_traces_in_bounds_list)), torch.vstack((full_high_SNR_traces_labels.unsqueeze(dim=1), batch_labels_in_snr_bounds_list.unsqueeze(dim=1))).squeeze(), torch.vstack((full_SNR_of_high_SNR_traces.unsqueeze(dim=1), batch_SNR_of_high_SNR_traces.unsqueeze(dim=1))).squeeze())\n",
    "\n",
    "# full_SNR_of_high_SNR_traces.shape, full_high_SNR_traces.shape, full_high_SNR_traces_labels.shape"
   ],
   "metadata": {
    "collapsed": false
   }
  },
  {
   "cell_type": "code",
   "execution_count": 72,
   "outputs": [
    {
     "data": {
      "text/plain": "(torch.Size([2829, 3, 3001]), torch.Size([2829]), torch.Size([2829]))"
     },
     "execution_count": 72,
     "metadata": {},
     "output_type": "execute_result"
    }
   ],
   "source": [
    "bounds = [-20, 0, 2, 5, 10, 20, 100]\n",
    "j=0\n",
    "suffix = f'_{dataset_origin}_bounds_{bounds[j]}_{bounds[j+1]}.pt'\n",
    "traces = torch.load(os.path.join(SAVE_TO_PATH, 'traces' + suffix))\n",
    "labels = torch.load(os.path.join(SAVE_TO_PATH, 'labels' + suffix))\n",
    "snr = torch.load(os.path.join(SAVE_TO_PATH, 'snr' + suffix))\n",
    "traces.shape, labels.shape, snr.shape"
   ],
   "metadata": {
    "collapsed": false
   }
  },
  {
   "cell_type": "code",
   "execution_count": 20,
   "outputs": [
    {
     "data": {
      "text/plain": "<Figure size 1500x1000 with 1 Axes>",
      "image/png": "[encoded data removed]"
     },
     "metadata": {},
     "output_type": "display_data"
    }
   ],
   "source": [
    "num_high_snr_traces = int(full_SNR_of_high_SNR_traces.shape[0])\n",
    "fig, ax = plt.subplots(figsize=(15, 10))\n",
    "ax.scatter(range(num_high_snr_traces), full_SNR_of_high_SNR_traces);"
   ],
   "metadata": {
    "collapsed": false
   }
  }
 ],
 "metadata": {
  "kernelspec": {
   "display_name": "seis",
   "language": "python",
   "name": "python3"
  },
  "language_info": {
   "codemirror_mode": {
    "name": "ipython",
    "version": 3
   },
   "file_extension": ".py",
   "mimetype": "text/x-python",
   "name": "python",
   "nbconvert_exporter": "python",
   "pygments_lexer": "ipython3",
   "version": "3.10.8"
  },
  "orig_nbformat": 4,
  "vscode": {
   "interpreter": {
    "hash": "fa76d2c83586c95486e2cc3c656ad2d093b47aefbf53fc633acb9a860f5157ab"
   }
  }
 },
 "nbformat": 4,
 "nbformat_minor": 2
}
