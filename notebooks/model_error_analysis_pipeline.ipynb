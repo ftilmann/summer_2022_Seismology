{
 "cells": [
  {
   "cell_type": "markdown",
   "metadata": {
    "collapsed": false
   },
   "source": [
    "# Model Error Pipeline"
   ]
  },
  {
   "cell_type": "markdown",
   "metadata": {
    "collapsed": false
   },
   "source": [
    "## Introduction"
   ]
  },
  {
   "cell_type": "markdown",
   "metadata": {
    "collapsed": false
   },
   "source": [
    "The purpose of this notebook is to examine the traces for which the model performed worse. In particular, consider the 10dB dataset generated using ETHZ and Joachim Noises and look at the traces where the pretrained model performed worse than a second away."
   ]
  },
  {
   "cell_type": "markdown",
   "metadata": {
    "collapsed": false
   },
   "source": [
    "## Preparations - Imports, Config, Data and model loading etc."
   ]
  },
  {
   "cell_type": "code",
   "execution_count": null,
   "metadata": {
    "collapsed": true
   },
   "outputs": [],
   "source": [
    "# seisbench\n",
    "import seisbench.models as sbm\n",
    "#plotting\n",
    "#torch - computing and machine learning libraries\n",
    "# seisynth\n",
    "from dataset_creation.utils import search_large_errors_given_desired_snr, create_noisy_traces, get_n_random_noises\n",
    "from experiments.filtering import band_filter_experiment, fft_filter_experiment\n",
    "from snr.calc_snr import CalcSNR, SnrCalcStrategy\n",
    "from experiments.shifting import shifting_experiment\n",
    "from utils.common import load_dataset_and_labels, load_pretrained_model"
   ]
  },
  {
   "cell_type": "code",
   "execution_count": null,
   "metadata": {
    "collapsed": false
   },
   "outputs": [],
   "source": [
    "NUM_SAMPLES=3001\n",
    "NUM_SHIFTS=5\n",
    "SAMPLE_RATE=100\n",
    "SYNTHESIZED_SNR=10\n",
    "SHIFTING_PLOTS_PATH='/home/moshe/GIT/summer_2022_Seismology/notebooks/shifting_plots'\n",
    "DATA_PATH='./noisy_datasets/ethz_3001_sample_joachim_noises_energy_ratio_snr/'\n",
    "NOISES_DATSET_PT='noises_dataset.pt'\n",
    "NOISES_PATH='/home/moshe/GIT/summer_2022_Seismology/notebooks/Noises'"
   ]
  },
  {
   "cell_type": "markdown",
   "metadata": {
    "collapsed": false
   },
   "source": [
    "### Load a \"Natural\" Dataset"
   ]
  },
  {
   "cell_type": "markdown",
   "source": [
    "Load a dataset of high SNR traces taken from the ETHZ dataset.\n",
    "The term *natural* states that these are real events and not synthetic data."
   ],
   "metadata": {
    "collapsed": false
   }
  },
  {
   "cell_type": "code",
   "execution_count": null,
   "metadata": {
    "collapsed": false
   },
   "outputs": [],
   "source": [
    "natural_dataset, natural_dataset_labels = load_dataset_and_labels(dataset_path=DATA_PATH + 'original_dataset.pt', labels_path=DATA_PATH + 'original_labels.pt')\n",
    "assert NUM_SAMPLES == natural_dataset.shape[-1], f'Expected Dataset contain {NUM_SAMPLES} samples. Got {natural_dataset.shape[-1]}'\n",
    "\n",
    "print(f'The loaded dataset has {natural_dataset.shape[0]} traces, each has {natural_dataset.shape[1]} channels of {natural_dataset.shape[2]} samples. Each entry is of type {natural_dataset.dtype}')\n",
    "\n",
    "print(f'The loaded labels has {natural_dataset_labels.shape[0]} labels. Each entry is of type {natural_dataset_labels.dtype}')\n",
    "\n",
    "num_traces = natural_dataset.shape[0]"
   ]
  },
  {
   "cell_type": "markdown",
   "metadata": {
    "collapsed": false
   },
   "source": [
    "### Load a Pretrained Phasenet Model"
   ]
  },
  {
   "cell_type": "code",
   "execution_count": null,
   "metadata": {
    "collapsed": false
   },
   "outputs": [],
   "source": [
    "pretrained_model = load_pretrained_model(model_class=sbm.PhaseNet, dataset_trained_on='ethz')\n",
    "pretrained_model.eval()"
   ]
  },
  {
   "cell_type": "code",
   "execution_count": null,
   "metadata": {
    "collapsed": false
   },
   "outputs": [],
   "source": [
    "full_noise_traces = get_n_random_noises(num_noises=num_traces, desired_window_size=NUM_SAMPLES + NUM_SHIFTS * SAMPLE_RATE, noises_path=NOISES_PATH, filename=NOISES_DATSET_PT)\n",
    "\n",
    "# Take the leftmost NUM_SAMPLES samples. The rest is left for shifts\n",
    "noises=full_noise_traces[:,:NUM_SAMPLES]\n",
    "\n",
    "full_noise_traces.shape, noises.shape"
   ]
  },
  {
   "cell_type": "code",
   "execution_count": null,
   "metadata": {
    "collapsed": false
   },
   "outputs": [],
   "source": [
    "large_error_traces_index_list = search_large_errors_given_desired_snr(dataset=natural_dataset, labels=natural_dataset_labels, noise_traces=noises, desired_snr=SYNTHESIZED_SNR, calc_snr=CalcSNR(SnrCalcStrategy.ENERGY_RATIO))\n",
    "\n",
    "\n",
    "print(f'There are {len(large_error_traces_index_list)} large errors')"
   ]
  },
  {
   "cell_type": "markdown",
   "metadata": {
    "collapsed": false
   },
   "source": [
    "## Shifting scheme for large error cases"
   ]
  },
  {
   "cell_type": "code",
   "execution_count": null,
   "metadata": {
    "collapsed": false
   },
   "outputs": [],
   "source": [
    "le_dataset = natural_dataset[large_error_traces_index_list]\n",
    "le_labels = natural_dataset_labels[large_error_traces_index_list]\n",
    "le_noises_full = full_noise_traces[large_error_traces_index_list]"
   ]
  },
  {
   "cell_type": "code",
   "execution_count": null,
   "metadata": {
    "collapsed": false
   },
   "outputs": [],
   "source": [
    "for trace, full_noise_trace, label in zip(le_dataset, le_noises_full, le_labels):\n",
    "    shifting_experiment(trace=trace, full_noise_trace=full_noise_trace, label=int(label), \\\n",
    "         model=pretrained_model, num_shifts=NUM_SHIFTS, synthesized_snr=SYNTHESIZED_SNR, silent_prints=True, save_plot_to=SHIFTING_PLOTS_PATH)"
   ]
  },
  {
   "cell_type": "markdown",
   "metadata": {
    "collapsed": false
   },
   "source": [
    "## Filter the large error traces using FFT"
   ]
  },
  {
   "cell_type": "code",
   "execution_count": null,
   "metadata": {
    "collapsed": false
   },
   "outputs": [],
   "source": [
    "noised_traces_list = create_noisy_traces(calc_snr=CalcSNR(SnrCalcStrategy.ENERGY_RATIO), dataset=le_dataset, desired_snr=SYNTHESIZED_SNR, labels=le_labels, noise_traces=noises[large_error_traces_index_list])\n",
    "\n",
    "\n",
    "def band_filter_experiment(lco, uco):\n",
    "    print(f'lower_cut_off={lco}, upper_cut_off={uco}')\n",
    "    fixed = fft_filter_experiment(traces_list=noised_traces_list, label_list=le_labels, model=pretrained_model,\n",
    "                                  sample_rate=SAMPLE_RATE, residual_threshold_seconds=1, lower_cut_off=lco,\n",
    "                                  upper_cut_off=uco, silent_prints=True, plot_fixed_traces=True)\n",
    "    print(fixed, 'fixed')\n",
    "    return fixed\n",
    "\n",
    "def cut_off_search(lower_cut_off, upper_cut_off):\n",
    "    max_fixed = 0\n",
    "    best_lco_uco = []\n",
    "    for lco in range(12, 13):\n",
    "        for uco in range(100, 101):\n",
    "            fixed = band_filter_experiment(lco, uco)\n",
    "            if fixed > max_fixed:\n",
    "                max_fixed = fixed\n",
    "                best_lco_uco = [(lco, uco)]\n",
    "            if fixed == max_fixed:\n",
    "                best_lco_uco.append((lco, uco))\n",
    "    print(f'cut off {best_lco_uco} fixed {max_fixed}')\n",
    "\n",
    "cut_off_search()"
   ]
  },
  {
   "cell_type": "code",
   "execution_count": null,
   "outputs": [],
   "source": [
    "band_filter_experiment(lco=5, uco=100)"
   ],
   "metadata": {
    "collapsed": false
   }
  }
 ],
 "metadata": {
  "kernelspec": {
   "display_name": "seis",
   "language": "python",
   "name": "python3"
  },
  "language_info": {
   "codemirror_mode": {
    "name": "ipython",
    "version": 3
   },
   "file_extension": ".py",
   "mimetype": "text/x-python",
   "name": "python",
   "nbconvert_exporter": "python",
   "pygments_lexer": "ipython3",
   "version": "3.10.8"
  },
  "vscode": {
   "interpreter": {
    "hash": "fa76d2c83586c95486e2cc3c656ad2d093b47aefbf53fc633acb9a860f5157ab"
   }
  }
 },
 "nbformat": 4,
 "nbformat_minor": 0
}
