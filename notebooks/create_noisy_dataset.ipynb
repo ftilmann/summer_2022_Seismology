{
 "cells": [
  {
   "cell_type": "code",
   "execution_count": 10,
   "metadata": {},
   "outputs": [],
   "source": [
    "import os\n",
    "from tqdm.notebook import tqdm\n",
    "import matplotlib.pyplot as plt\n",
    "import torch\n",
    "\n",
    "from dataset_creation.noisy_dataset import create_single_noisy_version\n",
    "from dataset_creation.utils import get_n_random_noises"
   ]
  },
  {
   "cell_type": "markdown",
   "source": [
    "# Create a Noisy Dataset"
   ],
   "metadata": {
    "collapsed": false
   }
  },
  {
   "cell_type": "markdown",
   "source": [
    "## Requirements And Configuration"
   ],
   "metadata": {
    "collapsed": false
   }
  },
  {
   "cell_type": "markdown",
   "source": [
    "The generated noisy traces should be a synthetic version of traces taken from the following dataset ('ethz', 'geofon'):"
   ],
   "metadata": {
    "collapsed": false
   }
  },
  {
   "cell_type": "code",
   "execution_count": 11,
   "outputs": [],
   "source": [
    "DATASETS_ORIGINS = ['ethz', 'geofon']\n",
    "dataset_origin = 'ethz'\n",
    "assert dataset_origin in DATASETS_ORIGINS, f'Expected dataset one of {DATASETS_ORIGINS}. Got {dataset_origin}.'"
   ],
   "metadata": {
    "collapsed": false
   }
  },
  {
   "cell_type": "code",
   "execution_count": 12,
   "outputs": [],
   "source": [
    "NUM_SAMPLES=3001                    # Trace sample length - If the dataset is built for phasenet: 3001 If it is for EQTransformer: 6000\n",
    "NUM_NOISY_VERSIONS_PER_TRACE=1      # How many noisy versions to synthesize using a single real trace\n",
    "DESIRED_SNR=10                   # What SNR level should the noisy synthesized trace be\n",
    "SAMPLING_RATE=100                   # Sampling Rate - PhaseNet and EQTransformer expect 100Hz\n",
    "NUM_OF_ORIGINAL_TRACES = 2000       # How many original traces to use for the noisy dataset - use slice from the start"
   ],
   "metadata": {
    "collapsed": false
   }
  },
  {
   "cell_type": "markdown",
   "source": [
    "If the generated noises should allow shifting experiments they should be longer than the original trace.\n",
    "Define how many 1-second-shifts will the dataset enable."
   ],
   "metadata": {
    "collapsed": false
   }
  },
  {
   "cell_type": "code",
   "execution_count": 13,
   "outputs": [],
   "source": [
    "NUM_SHIFTS=6\n",
    "AUGMENTED_WINDOW_SIZE=NUM_SAMPLES+SAMPLING_RATE*NUM_SHIFTS"
   ],
   "metadata": {
    "collapsed": false
   }
  },
  {
   "cell_type": "markdown",
   "source": [
    "Browse The path of the **event** traces that will be used for synthesizing."
   ],
   "metadata": {
    "collapsed": false
   }
  },
  {
   "cell_type": "code",
   "execution_count": 14,
   "outputs": [],
   "source": [
    "DATASET_PATH=f'/home/moshe/datasets/GFZ/noisy_datasets/{dataset_origin}_{NUM_SAMPLES}_sample_joachim_noises_energy_ratio_snr/'"
   ],
   "metadata": {
    "collapsed": false
   }
  },
  {
   "cell_type": "markdown",
   "source": [
    "Browse The path of the **noise** traces that will be used for synthesizing."
   ],
   "metadata": {
    "collapsed": false
   }
  },
  {
   "cell_type": "code",
   "execution_count": 15,
   "outputs": [],
   "source": [
    "NOISES_PATH='/home/moshe/datasets/GFZ/Noises'"
   ],
   "metadata": {
    "collapsed": false
   }
  },
  {
   "cell_type": "code",
   "execution_count": 16,
   "metadata": {},
   "outputs": [],
   "source": [
    "dataset_traces_path = os.path.join(DATASET_PATH, 'original_dataset.pt')[:NUM_OF_ORIGINAL_TRACES]\n",
    "dataset_labels_path = os.path.join(DATASET_PATH, 'original_labels.pt')[:NUM_OF_ORIGINAL_TRACES]\n",
    "\n",
    "assert os.path.exists(DATASET_PATH), f'Directory {DATASET_PATH} does not exist'\n",
    "assert os.path.exists(dataset_traces_path), f'file {dataset_traces_path} does not exist'\n",
    "assert os.path.exists(dataset_labels_path), f'file {dataset_labels_path} does not exist'"
   ]
  },
  {
   "attachments": {},
   "cell_type": "markdown",
   "metadata": {},
   "source": [
    "## Load Dataset"
   ]
  },
  {
   "cell_type": "code",
   "execution_count": 17,
   "outputs": [
    {
     "name": "stdout",
     "output_type": "stream",
     "text": [
      "Loaded 2000 traces and corresponding labels.\n"
     ]
    }
   ],
   "source": [
    "dataset=torch.load(dataset_traces_path)[:NUM_OF_ORIGINAL_TRACES]\n",
    "labels=torch.load(dataset_labels_path)[:NUM_OF_ORIGINAL_TRACES]\n",
    "\n",
    "num_traces = dataset.shape[0]\n",
    "num_labels = labels.shape[0]\n",
    "num_samples = dataset.shape[-1]\n",
    "\n",
    "assert num_labels==num_traces, f'Expected traces equal num labels.Got {num_traces} traces and {num_labels} labels'\n",
    "assert num_samples==NUM_SAMPLES, f'Expected {NUM_SAMPLES} in each trace. Got {num_samples}.'\n",
    "\n",
    "print(f'Loaded {num_traces} traces and corresponding labels.')"
   ],
   "metadata": {
    "collapsed": false
   }
  },
  {
   "cell_type": "markdown",
   "source": [
    "## Create a Noisy Dataset"
   ],
   "metadata": {
    "collapsed": false
   }
  },
  {
   "cell_type": "code",
   "execution_count": 18,
   "outputs": [
    {
     "data": {
      "text/plain": "  0%|          | 0/1 [00:00<?, ?it/s]",
      "application/vnd.jupyter.widget-view+json": {
       "version_major": 2,
       "version_minor": 0,
       "model_id": "417b6fd08c7945968304218205c549c2"
      }
     },
     "metadata": {},
     "output_type": "display_data"
    },
    {
     "name": "stderr",
     "output_type": "stream",
     "text": [
      "\n",
      "  0%|          | 0/2000 [00:00<?, ?it/s]\u001B[A\n",
      "  1%|          | 16/2000 [00:00<00:12, 158.62it/s]\u001B[A\n",
      "  2%|▏         | 32/2000 [00:00<00:18, 104.23it/s]\u001B[A\n",
      "  2%|▎         | 50/2000 [00:00<00:14, 130.68it/s]\u001B[A\n",
      "  3%|▎         | 69/2000 [00:00<00:12, 149.37it/s]\u001B[A\n",
      "  4%|▍         | 89/2000 [00:00<00:11, 164.54it/s]\u001B[A\n",
      "  6%|▌         | 110/2000 [00:00<00:10, 175.94it/s]\u001B[A\n",
      "  7%|▋         | 131/2000 [00:00<00:10, 185.85it/s]\u001B[A\n",
      "  8%|▊         | 151/2000 [00:00<00:09, 187.95it/s]\u001B[A\n",
      "  9%|▊         | 171/2000 [00:01<00:09, 188.75it/s]\u001B[A\n",
      " 10%|▉         | 193/2000 [00:01<00:09, 196.33it/s]\u001B[A\n",
      " 11%|█         | 213/2000 [00:01<00:09, 196.67it/s]\u001B[A\n",
      " 12%|█▏        | 234/2000 [00:01<00:08, 200.62it/s]\u001B[A\n",
      " 13%|█▎        | 255/2000 [00:01<00:08, 200.24it/s]\u001B[A\n",
      " 14%|█▍        | 276/2000 [00:01<00:09, 187.80it/s]\u001B[A\n",
      " 15%|█▍        | 295/2000 [00:01<00:09, 181.36it/s]\u001B[A\n",
      " 16%|█▌        | 314/2000 [00:01<00:09, 180.09it/s]\u001B[A\n",
      " 17%|█▋        | 333/2000 [00:01<00:09, 180.21it/s]\u001B[A\n",
      " 18%|█▊        | 352/2000 [00:01<00:09, 181.82it/s]\u001B[A\n",
      " 19%|█▊        | 371/2000 [00:02<00:08, 182.76it/s]\u001B[A\n",
      " 20%|█▉        | 390/2000 [00:02<00:08, 179.99it/s]\u001B[A\n",
      " 20%|██        | 409/2000 [00:02<00:08, 178.50it/s]\u001B[A\n",
      " 21%|██▏       | 427/2000 [00:02<00:08, 177.82it/s]\u001B[A\n",
      " 22%|██▏       | 447/2000 [00:02<00:08, 183.67it/s]\u001B[A\n",
      " 23%|██▎       | 466/2000 [00:02<00:08, 181.98it/s]\u001B[A\n",
      " 24%|██▍       | 485/2000 [00:02<00:08, 181.94it/s]\u001B[A\n",
      " 25%|██▌       | 504/2000 [00:02<00:08, 181.60it/s]\u001B[A\n",
      " 26%|██▌       | 524/2000 [00:02<00:07, 185.41it/s]\u001B[A\n",
      " 27%|██▋       | 543/2000 [00:03<00:08, 181.20it/s]\u001B[A\n",
      " 28%|██▊       | 562/2000 [00:03<00:07, 180.56it/s]\u001B[A\n",
      " 29%|██▉       | 581/2000 [00:03<00:07, 180.58it/s]\u001B[A\n",
      " 30%|███       | 600/2000 [00:03<00:07, 180.63it/s]\u001B[A\n",
      " 31%|███       | 619/2000 [00:03<00:07, 176.99it/s]\u001B[A\n",
      " 32%|███▏      | 637/2000 [00:03<00:07, 177.74it/s]\u001B[A\n",
      " 33%|███▎      | 657/2000 [00:03<00:07, 182.20it/s]\u001B[A\n",
      " 34%|███▍      | 676/2000 [00:03<00:07, 177.59it/s]\u001B[A\n",
      " 35%|███▍      | 694/2000 [00:03<00:07, 176.99it/s]\u001B[A\n",
      " 36%|███▌      | 716/2000 [00:03<00:06, 187.49it/s]\u001B[A\n",
      " 37%|███▋      | 737/2000 [00:04<00:06, 193.54it/s]\u001B[A\n",
      " 38%|███▊      | 757/2000 [00:04<00:06, 191.06it/s]\u001B[A\n",
      " 39%|███▉      | 778/2000 [00:04<00:06, 194.70it/s]\u001B[A\n",
      " 40%|███▉      | 799/2000 [00:04<00:06, 198.04it/s]\u001B[A\n",
      " 41%|████      | 820/2000 [00:04<00:05, 201.08it/s]\u001B[A\n",
      " 42%|████▏     | 842/2000 [00:04<00:05, 204.53it/s]\u001B[A\n",
      " 43%|████▎     | 863/2000 [00:04<00:05, 202.14it/s]\u001B[A\n",
      " 44%|████▍     | 885/2000 [00:04<00:05, 205.67it/s]\u001B[A\n",
      " 45%|████▌     | 906/2000 [00:04<00:05, 196.13it/s]\u001B[A\n",
      " 46%|████▋     | 926/2000 [00:05<00:05, 191.94it/s]\u001B[A\n",
      " 47%|████▋     | 946/2000 [00:05<00:05, 193.78it/s]\u001B[A\n",
      " 48%|████▊     | 966/2000 [00:05<00:05, 190.70it/s]\u001B[A\n",
      " 49%|████▉     | 986/2000 [00:05<00:05, 187.18it/s]\u001B[A\n",
      " 50%|█████     | 1005/2000 [00:05<00:05, 183.71it/s]\u001B[A\n",
      " 51%|█████     | 1024/2000 [00:05<00:05, 183.77it/s]\u001B[A\n",
      " 52%|█████▏    | 1045/2000 [00:05<00:04, 191.03it/s]\u001B[A\n",
      " 53%|█████▎    | 1065/2000 [00:05<00:04, 191.76it/s]\u001B[A\n",
      " 54%|█████▍    | 1086/2000 [00:05<00:04, 195.80it/s]\u001B[A\n",
      " 55%|█████▌    | 1106/2000 [00:05<00:04, 191.11it/s]\u001B[A\n",
      " 56%|█████▋    | 1126/2000 [00:06<00:04, 187.69it/s]\u001B[A\n",
      " 57%|█████▋    | 1145/2000 [00:06<00:04, 186.78it/s]\u001B[A\n",
      " 58%|█████▊    | 1164/2000 [00:06<00:04, 185.31it/s]\u001B[A\n",
      " 59%|█████▉    | 1183/2000 [00:06<00:04, 184.35it/s]\u001B[A\n",
      " 60%|██████    | 1202/2000 [00:06<00:04, 184.19it/s]\u001B[A\n",
      " 61%|██████    | 1223/2000 [00:06<00:04, 191.58it/s]\u001B[A\n",
      " 62%|██████▏   | 1243/2000 [00:06<00:03, 191.39it/s]\u001B[A\n",
      " 63%|██████▎   | 1263/2000 [00:06<00:03, 192.62it/s]\u001B[A\n",
      " 64%|██████▍   | 1284/2000 [00:06<00:03, 195.20it/s]\u001B[A\n",
      " 65%|██████▌   | 1304/2000 [00:07<00:03, 194.13it/s]\u001B[A\n",
      " 66%|██████▌   | 1324/2000 [00:07<00:03, 193.13it/s]\u001B[A\n",
      " 67%|██████▋   | 1346/2000 [00:07<00:03, 195.62it/s]\u001B[A\n",
      " 68%|██████▊   | 1366/2000 [00:07<00:03, 188.45it/s]\u001B[A\n",
      " 69%|██████▉   | 1385/2000 [00:07<00:03, 186.91it/s]\u001B[A\n",
      " 70%|███████   | 1404/2000 [00:07<00:03, 185.75it/s]\u001B[A\n",
      " 71%|███████   | 1423/2000 [00:07<00:03, 183.49it/s]\u001B[A\n",
      " 72%|███████▏  | 1442/2000 [00:07<00:03, 182.21it/s]\u001B[A\n",
      " 73%|███████▎  | 1461/2000 [00:07<00:02, 181.06it/s]\u001B[A\n",
      " 74%|███████▍  | 1480/2000 [00:07<00:02, 182.23it/s]\u001B[A\n",
      " 75%|███████▍  | 1499/2000 [00:08<00:02, 182.25it/s]\u001B[A\n",
      " 76%|███████▌  | 1520/2000 [00:08<00:02, 190.10it/s]\u001B[A\n",
      " 77%|███████▋  | 1540/2000 [00:08<00:02, 188.53it/s]\u001B[A\n",
      " 78%|███████▊  | 1559/2000 [00:08<00:02, 184.86it/s]\u001B[A\n",
      " 79%|███████▉  | 1578/2000 [00:08<00:02, 181.45it/s]\u001B[A\n",
      " 80%|███████▉  | 1597/2000 [00:08<00:02, 179.64it/s]\u001B[A\n",
      " 81%|████████  | 1618/2000 [00:08<00:02, 186.12it/s]\u001B[A\n",
      " 82%|████████▏ | 1638/2000 [00:08<00:01, 188.78it/s]\u001B[A\n",
      " 83%|████████▎ | 1659/2000 [00:08<00:01, 194.26it/s]\u001B[A\n",
      " 84%|████████▍ | 1680/2000 [00:09<00:01, 197.76it/s]\u001B[A\n",
      " 85%|████████▌ | 1700/2000 [00:09<00:01, 191.68it/s]\u001B[A\n",
      " 86%|████████▌ | 1720/2000 [00:09<00:01, 186.54it/s]\u001B[A\n",
      " 87%|████████▋ | 1739/2000 [00:09<00:01, 180.42it/s]\u001B[A\n",
      " 88%|████████▊ | 1758/2000 [00:09<00:01, 175.92it/s]\u001B[A\n",
      " 89%|████████▉ | 1778/2000 [00:09<00:01, 180.56it/s]\u001B[A\n",
      " 90%|████████▉ | 1797/2000 [00:09<00:01, 178.73it/s]\u001B[A\n",
      " 91%|█████████ | 1816/2000 [00:09<00:01, 180.24it/s]\u001B[A\n",
      " 92%|█████████▏| 1835/2000 [00:09<00:00, 178.71it/s]\u001B[A\n",
      " 93%|█████████▎| 1853/2000 [00:10<00:00, 176.30it/s]\u001B[A\n",
      " 94%|█████████▎| 1872/2000 [00:10<00:00, 178.94it/s]\u001B[A\n",
      " 94%|█████████▍| 1890/2000 [00:10<00:00, 177.24it/s]\u001B[A\n",
      " 95%|█████████▌| 1908/2000 [00:10<00:00, 177.26it/s]\u001B[A\n",
      " 96%|█████████▋| 1930/2000 [00:10<00:00, 187.40it/s]\u001B[A\n",
      " 98%|█████████▊| 1951/2000 [00:10<00:00, 193.49it/s]\u001B[A\n",
      " 99%|█████████▊| 1973/2000 [00:10<00:00, 199.49it/s]\u001B[A\n",
      "100%|██████████| 2000/2000 [00:10<00:00, 185.32it/s]\u001B[A\n"
     ]
    },
    {
     "name": "stdout",
     "output_type": "stream",
     "text": [
      "Created a list of 2000 random noises of shape torch.Size([3, 3601])\n",
      "stack to tensor\n",
      "Stacked to tensor of shape torch.Size([2000, 3, 3601])\n",
      "Trimmed 2000 noise traces to shape torch.Size([2000, 3, 3001])\n"
     ]
    },
    {
     "name": "stderr",
     "output_type": "stream",
     "text": [
      "\n",
      "  0%|          | 0/2000 [00:00<?, ?it/s]\u001B[A\n",
      "  2%|▏         | 42/2000 [00:00<00:04, 415.97it/s]\u001B[A\n",
      "  4%|▍         | 88/2000 [00:00<00:04, 440.46it/s]\u001B[A\n",
      "  7%|▋         | 133/2000 [00:00<00:04, 377.08it/s]\u001B[A\n",
      "  9%|▉         | 178/2000 [00:00<00:04, 400.37it/s]\u001B[A\n",
      " 12%|█▏        | 232/2000 [00:00<00:03, 444.29it/s]\u001B[A\n",
      " 14%|█▍        | 286/2000 [00:00<00:03, 472.43it/s]\u001B[A\n",
      " 17%|█▋        | 339/2000 [00:00<00:03, 487.87it/s]\u001B[A\n",
      " 20%|█▉        | 392/2000 [00:00<00:03, 499.10it/s]\u001B[A\n",
      " 22%|██▏       | 445/2000 [00:00<00:03, 506.43it/s]\u001B[A\n",
      " 25%|██▍       | 498/2000 [00:01<00:02, 513.08it/s]\u001B[A\n",
      " 28%|██▊       | 551/2000 [00:01<00:02, 515.11it/s]\u001B[A\n",
      " 30%|███       | 604/2000 [00:01<00:02, 518.13it/s]\u001B[A\n",
      " 33%|███▎      | 656/2000 [00:01<00:02, 517.15it/s]\u001B[A\n",
      " 35%|███▌      | 708/2000 [00:01<00:02, 514.32it/s]\u001B[A\n",
      " 38%|███▊      | 762/2000 [00:01<00:02, 519.20it/s]\u001B[A\n",
      " 41%|████      | 815/2000 [00:01<00:02, 521.44it/s]\u001B[A\n",
      " 43%|████▎     | 868/2000 [00:01<00:02, 523.81it/s]\u001B[A\n",
      " 46%|████▌     | 921/2000 [00:01<00:02, 523.56it/s]\u001B[A\n",
      " 49%|████▊     | 974/2000 [00:01<00:01, 524.57it/s]\u001B[A\n",
      " 51%|█████▏    | 1027/2000 [00:02<00:01, 522.00it/s]\u001B[A\n",
      " 54%|█████▍    | 1081/2000 [00:02<00:01, 524.57it/s]\u001B[A\n",
      " 57%|█████▋    | 1134/2000 [00:02<00:01, 521.59it/s]\u001B[A\n",
      " 59%|█████▉    | 1187/2000 [00:02<00:01, 521.00it/s]\u001B[A\n",
      " 62%|██████▏   | 1240/2000 [00:02<00:01, 519.49it/s]\u001B[A\n",
      " 65%|██████▍   | 1293/2000 [00:02<00:01, 520.32it/s]\u001B[A\n",
      " 67%|██████▋   | 1346/2000 [00:02<00:01, 520.12it/s]\u001B[A\n",
      " 70%|██████▉   | 1399/2000 [00:02<00:01, 522.75it/s]\u001B[A\n",
      " 73%|███████▎  | 1452/2000 [00:02<00:01, 521.90it/s]\u001B[A\n",
      " 75%|███████▌  | 1505/2000 [00:02<00:00, 512.47it/s]\u001B[A\n",
      " 78%|███████▊  | 1557/2000 [00:03<00:00, 473.95it/s]\u001B[A\n",
      " 80%|████████  | 1607/2000 [00:03<00:00, 480.58it/s]\u001B[A\n",
      " 83%|████████▎ | 1659/2000 [00:03<00:00, 491.24it/s]\u001B[A\n",
      " 86%|████████▌ | 1710/2000 [00:03<00:00, 495.53it/s]\u001B[A\n",
      " 88%|████████▊ | 1762/2000 [00:03<00:00, 501.60it/s]\u001B[A\n",
      " 91%|█████████ | 1813/2000 [00:03<00:00, 496.45it/s]\u001B[A\n",
      " 93%|█████████▎| 1863/2000 [00:03<00:00, 497.31it/s]\u001B[A\n",
      " 96%|█████████▌| 1914/2000 [00:03<00:00, 498.59it/s]\u001B[A\n",
      "100%|██████████| 2000/2000 [00:03<00:00, 500.65it/s]\u001B[A\n"
     ]
    },
    {
     "name": "stdout",
     "output_type": "stream",
     "text": [
      "Created 2000 noisy traces\n",
      "The following indices are not included []\n"
     ]
    }
   ],
   "source": [
    "noised_traces_list, noised_traces_labels_list, augmented_noise_traces_list, factors_list, indices_not_used_list = [],[],[],[], []\n",
    "pbar = tqdm(range(NUM_NOISY_VERSIONS_PER_TRACE))\n",
    "for i in pbar:\n",
    "    # prepare full noises traces\n",
    "    augmented_noise_traces_created: torch.tensor = get_n_random_noises(num_noises=num_traces, desired_window_size=AUGMENTED_WINDOW_SIZE, noises_path=NOISES_PATH, force_resample=True, filename='aaa', sampling_rate=SAMPLING_RATE, silent_exception_prints=True).squeeze()\n",
    "\n",
    "    version_noised_traces, version_labels, version_full_noise_traces, version_factors, version_not_included_indices =  create_single_noisy_version(original_traces=dataset, original_labels=labels, augmented_noise_traces=augmented_noise_traces_created, desired_snr=DESIRED_SNR)\n",
    "    noised_traces_list.append(version_noised_traces)\n",
    "    noised_traces_labels_list.append(version_labels.unsqueeze(dim=1))\n",
    "    augmented_noise_traces_list.append(version_full_noise_traces)\n",
    "    factors_list.append(version_factors.unsqueeze(dim=1))\n",
    "    indices_not_used_list.extend(version_not_included_indices)\n",
    "    pbar.set_description(f'Lists len {len(noised_traces_list), len(noised_traces_labels_list), len(augmented_noise_traces_list), len(factors_list)}')"
   ],
   "metadata": {
    "collapsed": false
   }
  },
  {
   "cell_type": "code",
   "execution_count": 19,
   "outputs": [
    {
     "data": {
      "text/plain": "(torch.Size([2000, 3, 3001]),\n torch.Size([2000]),\n torch.Size([2000, 3, 3601]),\n torch.Size([2000]),\n torch.Size([0]))"
     },
     "execution_count": 19,
     "metadata": {},
     "output_type": "execute_result"
    }
   ],
   "source": [
    "noised_traces = torch.vstack(noised_traces_list)\n",
    "noised_traces_labels = torch.vstack(noised_traces_labels_list).squeeze()\n",
    "augmented_noise_traces = torch.vstack(augmented_noise_traces_list)\n",
    "noising_factors = torch.vstack(factors_list).squeeze()\n",
    "indices_not_used = torch.tensor(list(set(indices_not_used_list)))\n",
    "noised_traces.shape, noised_traces_labels.shape, augmented_noise_traces.shape, noising_factors.shape, indices_not_used.shape"
   ],
   "metadata": {
    "collapsed": false
   }
  },
  {
   "cell_type": "code",
   "execution_count": 20,
   "outputs": [
    {
     "data": {
      "text/plain": "'/home/moshe/datasets/GFZ/noisy_datasets/ethz_3001_sample_joachim_noises_energy_ratio_snr/noisy_dataset_snr_10'"
     },
     "execution_count": 20,
     "metadata": {},
     "output_type": "execute_result"
    }
   ],
   "source": [
    "noisy_dataset_path = os.path.join(DATASET_PATH,f'noisy_dataset_snr_{DESIRED_SNR}')\n",
    "noisy_dataset_path"
   ],
   "metadata": {
    "collapsed": false
   }
  },
  {
   "cell_type": "markdown",
   "source": [
    "## Save Noisy Dataset to Files"
   ],
   "metadata": {
    "collapsed": false
   }
  },
  {
   "cell_type": "code",
   "execution_count": 21,
   "outputs": [],
   "source": [
    "assert os.path.exists(noisy_dataset_path), f'Path {noisy_dataset_path} does not exist.Create it'"
   ],
   "metadata": {
    "collapsed": false
   }
  },
  {
   "cell_type": "code",
   "execution_count": 22,
   "outputs": [],
   "source": [
    "torch.save(noised_traces, os.path.join(noisy_dataset_path, 'traces.pt'))\n",
    "torch.save(augmented_noise_traces, os.path.join(noisy_dataset_path, 'full_noise_traces.pt'))\n",
    "torch.save(noised_traces_labels, os.path.join(noisy_dataset_path, 'labels.pt'))\n",
    "torch.save(noising_factors, os.path.join(noisy_dataset_path, 'factors.pt'))\n",
    "torch.save(indices_not_used, os.path.join(noisy_dataset_path,'indices_not_used'))"
   ],
   "metadata": {
    "collapsed": false
   }
  },
  {
   "cell_type": "markdown",
   "source": [
    "## Plot Noising Example"
   ],
   "metadata": {
    "collapsed": false
   }
  },
  {
   "cell_type": "code",
   "execution_count": 23,
   "outputs": [
    {
     "data": {
      "text/plain": "<Figure size 2000x800 with 3 Axes>",
      "image/png": "[encoded data removed]"
     },
     "metadata": {},
     "output_type": "display_data"
    }
   ],
   "source": [
    "idx = 5\n",
    "trace  = noised_traces[idx]\n",
    "label  = noised_traces_labels[idx]\n",
    "factor = noising_factors[idx]\n",
    "noise = augmented_noise_traces[idx, :, :trace.shape[-1] ]\n",
    "\n",
    "fig, (ax_orig,ax_noise, ax_noised) = plt.subplots(1,3,figsize=(20,8), sharey='all')\n",
    "\n",
    "ax_orig.plot((trace - factor * noise)[0]);\n",
    "ax_orig.vlines(x=label, ymin=-1, ymax=1,  label='Onset', linestyles='dashed');\n",
    "ax_orig.set_title('Original Trace')\n",
    "ax_noise.plot(factor*noise[0]);\n",
    "ax_noise.set_title('Noise added')\n",
    "ax_noised.plot(trace[0]);\n",
    "ax_noised.set_title('Noised Trace')\n",
    "\n",
    "ax_noised.vlines(x=label, ymin=-1, ymax=1,  label='Onset', linestyles='dashed');\n",
    "\n",
    "\n",
    "# ax_orig.plot((trace - factor * noise).T)\n",
    "# ax_orig.vlines(x=label, ymin=-1, ymax=1,  label='Onset', linestyles='dashed')\n",
    "# ax_noise.plot(noise.T)\n",
    "# ax_noised.plot(trace.T)\n",
    "# ax_noised.vlines(x=label, ymin=-1, ymax=1,  label='Onset', linestyles='dashed')"
   ],
   "metadata": {
    "collapsed": false
   }
  },
  {
   "cell_type": "markdown",
   "source": [
    "## A Unified Version of The Noisy Datasets"
   ],
   "metadata": {
    "collapsed": false
   }
  },
  {
   "cell_type": "markdown",
   "source": [
    "For metrics benchmark it is preferred to create several SNR datasets using the same noises. For each SNR, a single noisy version is created."
   ],
   "metadata": {
    "collapsed": false
   }
  },
  {
   "cell_type": "markdown",
   "source": [
    "First, prepare the noise that will be used for all SNR levels."
   ],
   "metadata": {
    "collapsed": false
   }
  },
  {
   "cell_type": "code",
   "execution_count": 24,
   "outputs": [
    {
     "name": "stderr",
     "output_type": "stream",
     "text": [
      "100%|██████████| 2000/2000 [00:10<00:00, 197.53it/s]\n"
     ]
    },
    {
     "name": "stdout",
     "output_type": "stream",
     "text": [
      "Created a list of 2000 random noises of shape torch.Size([3, 3601])\n",
      "stack to tensor\n",
      "Stacked to tensor of shape torch.Size([2000, 3, 3601])\n"
     ]
    }
   ],
   "source": [
    "# prepare full noises traces\n",
    "augmented_noise_traces_created: torch.tensor = get_n_random_noises(num_noises=num_traces, desired_window_size=AUGMENTED_WINDOW_SIZE, noises_path=NOISES_PATH, force_resample=True, filename='aaa', sampling_rate=SAMPLING_RATE, silent_exception_prints=True).squeeze()"
   ],
   "metadata": {
    "collapsed": false
   }
  },
  {
   "cell_type": "code",
   "execution_count": 25,
   "outputs": [
    {
     "data": {
      "text/plain": "  0%|          | 0/10 [00:00<?, ?it/s]",
      "application/vnd.jupyter.widget-view+json": {
       "version_major": 2,
       "version_minor": 0,
       "model_id": "575fa7263ee642a09570b4c15f284d0f"
      }
     },
     "metadata": {},
     "output_type": "display_data"
    },
    {
     "name": "stdout",
     "output_type": "stream",
     "text": [
      "Trimmed 2000 noise traces to shape torch.Size([2000, 3, 3001])\n"
     ]
    },
    {
     "name": "stderr",
     "output_type": "stream",
     "text": [
      "\n",
      "  0%|          | 0/2000 [00:00<?, ?it/s]\u001B[A\n",
      "  1%|          | 11/2000 [00:00<00:22, 88.12it/s]\u001B[A\n",
      "  2%|▏         | 40/2000 [00:00<00:10, 194.97it/s]\u001B[A\n",
      "  3%|▎         | 61/2000 [00:00<00:11, 163.22it/s]\u001B[A\n",
      "  4%|▍         | 79/2000 [00:00<00:13, 144.99it/s]\u001B[A\n",
      "  6%|▌         | 114/2000 [00:00<00:09, 203.61it/s]\u001B[A\n",
      "  7%|▋         | 137/2000 [00:00<00:09, 200.04it/s]\u001B[A\n",
      "  8%|▊         | 159/2000 [00:00<00:09, 191.54it/s]\u001B[A\n",
      "  9%|▉         | 184/2000 [00:00<00:09, 196.26it/s]\u001B[A\n",
      " 11%|█         | 215/2000 [00:01<00:07, 226.25it/s]\u001B[A\n",
      " 12%|█▏        | 249/2000 [00:01<00:06, 257.55it/s]\u001B[A\n",
      " 14%|█▍        | 276/2000 [00:01<00:07, 218.96it/s]\u001B[A\n",
      " 16%|█▌        | 312/2000 [00:01<00:06, 253.87it/s]\u001B[A\n",
      " 17%|█▋        | 348/2000 [00:01<00:06, 254.82it/s]\u001B[A\n",
      " 19%|█▉        | 379/2000 [00:01<00:06, 248.29it/s]\u001B[A\n",
      " 20%|██        | 405/2000 [00:01<00:07, 226.87it/s]\u001B[A\n",
      " 21%|██▏       | 429/2000 [00:02<00:07, 218.38it/s]\u001B[A\n",
      " 23%|██▎       | 452/2000 [00:02<00:09, 163.74it/s]\u001B[A\n",
      " 24%|██▍       | 489/2000 [00:02<00:07, 206.20it/s]\u001B[A\n",
      " 26%|██▌       | 513/2000 [00:02<00:07, 204.98it/s]\u001B[A\n",
      " 27%|██▋       | 536/2000 [00:02<00:09, 156.85it/s]\u001B[A\n",
      " 28%|██▊       | 555/2000 [00:02<00:09, 155.96it/s]\u001B[A\n",
      " 29%|██▊       | 573/2000 [00:02<00:09, 157.86it/s]\u001B[A\n",
      " 30%|███       | 600/2000 [00:03<00:08, 173.04it/s]\u001B[A\n",
      " 31%|███       | 619/2000 [00:03<00:08, 172.27it/s]\u001B[A\n",
      " 32%|███▏      | 638/2000 [00:03<00:08, 156.62it/s]\u001B[A\n",
      " 33%|███▎      | 655/2000 [00:03<00:09, 142.98it/s]\u001B[A\n",
      " 34%|███▍      | 686/2000 [00:03<00:07, 170.74it/s]\u001B[A\n",
      " 35%|███▌      | 704/2000 [00:03<00:07, 169.11it/s]\u001B[A\n",
      " 36%|███▌      | 722/2000 [00:03<00:09, 129.68it/s]\u001B[A\n",
      " 37%|███▋      | 737/2000 [00:04<00:09, 132.95it/s]\u001B[A\n",
      " 38%|███▊      | 760/2000 [00:04<00:08, 149.08it/s]\u001B[A\n",
      " 39%|███▉      | 787/2000 [00:04<00:07, 168.41it/s]\u001B[A\n",
      " 40%|████      | 805/2000 [00:04<00:07, 167.46it/s]\u001B[A\n",
      " 42%|████▏     | 842/2000 [00:04<00:05, 218.43it/s]\u001B[A\n",
      " 43%|████▎     | 866/2000 [00:04<00:05, 213.16it/s]\u001B[A\n",
      " 45%|████▌     | 902/2000 [00:04<00:04, 229.09it/s]\u001B[A\n",
      " 46%|████▋     | 926/2000 [00:04<00:04, 220.69it/s]\u001B[A\n",
      " 47%|████▋     | 949/2000 [00:05<00:05, 193.21it/s]\u001B[A\n",
      " 48%|████▊     | 969/2000 [00:05<00:05, 187.48it/s]\u001B[A\n",
      " 49%|████▉     | 989/2000 [00:05<00:05, 183.21it/s]\u001B[A\n",
      " 51%|█████▏    | 1025/2000 [00:05<00:04, 228.12it/s]\u001B[A\n",
      " 52%|█████▏    | 1049/2000 [00:05<00:04, 198.05it/s]\u001B[A\n",
      " 54%|█████▎    | 1071/2000 [00:05<00:06, 151.65it/s]\u001B[A\n",
      " 55%|█████▍    | 1090/2000 [00:05<00:05, 155.18it/s]\u001B[A\n",
      " 55%|█████▌    | 1108/2000 [00:06<00:06, 144.22it/s]\u001B[A\n",
      " 56%|█████▌    | 1124/2000 [00:06<00:06, 144.63it/s]\u001B[A\n",
      " 58%|█████▊    | 1155/2000 [00:06<00:04, 170.55it/s]\u001B[A\n",
      " 60%|██████    | 1202/2000 [00:06<00:03, 232.52it/s]\u001B[A\n",
      " 61%|██████▏   | 1227/2000 [00:06<00:03, 204.48it/s]\u001B[A\n",
      " 63%|██████▎   | 1259/2000 [00:06<00:03, 214.94it/s]\u001B[A\n",
      " 64%|██████▍   | 1282/2000 [00:06<00:04, 164.14it/s]\u001B[A\n",
      " 65%|██████▌   | 1301/2000 [00:07<00:04, 165.56it/s]\u001B[A\n",
      " 66%|██████▌   | 1320/2000 [00:07<00:04, 152.62it/s]\u001B[A\n",
      " 67%|██████▋   | 1349/2000 [00:07<00:03, 172.31it/s]\u001B[A\n",
      " 69%|██████▉   | 1386/2000 [00:07<00:02, 217.38it/s]\u001B[A\n",
      " 70%|███████   | 1410/2000 [00:07<00:03, 193.63it/s]\u001B[A\n",
      " 72%|███████▏  | 1435/2000 [00:07<00:02, 196.72it/s]\u001B[A\n",
      " 73%|███████▎  | 1456/2000 [00:07<00:02, 192.58it/s]\u001B[A\n",
      " 74%|███████▍  | 1481/2000 [00:07<00:02, 206.46it/s]\u001B[A\n",
      " 75%|███████▌  | 1503/2000 [00:08<00:02, 191.22it/s]\u001B[A\n",
      " 76%|███████▌  | 1523/2000 [00:08<00:02, 168.33it/s]\u001B[A\n",
      " 78%|███████▊  | 1550/2000 [00:08<00:02, 180.29it/s]\u001B[A\n",
      " 79%|███████▉  | 1578/2000 [00:08<00:02, 191.45it/s]\u001B[A\n",
      " 80%|███████▉  | 1598/2000 [00:08<00:02, 186.22it/s]\u001B[A\n",
      " 81%|████████  | 1617/2000 [00:08<00:02, 140.32it/s]\u001B[A\n",
      " 82%|████████▏ | 1633/2000 [00:09<00:03, 121.98it/s]\u001B[A\n",
      " 82%|████████▏ | 1647/2000 [00:09<00:02, 118.66it/s]\u001B[A\n",
      " 84%|████████▎ | 1670/2000 [00:09<00:02, 134.59it/s]\u001B[A\n",
      " 85%|████████▌ | 1701/2000 [00:09<00:01, 173.09it/s]\u001B[A\n",
      " 86%|████████▌ | 1721/2000 [00:09<00:01, 169.14it/s]\u001B[A\n",
      " 87%|████████▋ | 1740/2000 [00:09<00:02, 127.93it/s]\u001B[A\n",
      " 88%|████████▊ | 1757/2000 [00:09<00:01, 132.07it/s]\u001B[A\n",
      " 90%|█████████ | 1805/2000 [00:09<00:00, 208.72it/s]\u001B[A\n",
      " 92%|█████████▏| 1843/2000 [00:10<00:00, 248.27it/s]\u001B[A\n",
      " 94%|█████████▎| 1872/2000 [00:10<00:00, 200.90it/s]\u001B[A\n",
      " 95%|█████████▍| 1896/2000 [00:10<00:00, 200.38it/s]\u001B[A\n",
      " 97%|█████████▋| 1935/2000 [00:10<00:00, 242.13it/s]\u001B[A\n",
      " 98%|█████████▊| 1963/2000 [00:10<00:00, 236.01it/s]\u001B[A\n",
      "100%|██████████| 2000/2000 [00:10<00:00, 182.05it/s]\u001B[A\n"
     ]
    },
    {
     "name": "stdout",
     "output_type": "stream",
     "text": [
      "Created 1816 noisy traces\n",
      "The following indices are not included [7, 10, 25, 47, 52, 58, 62, 77, 78, 89, 119, 128, 138, 140, 161, 183, 185, 238, 252, 258, 260, 277, 334, 347, 359, 378, 382, 385, 411, 421, 429, 431, 435, 436, 438, 486, 508, 511, 516, 522, 526, 528, 530, 549, 551, 564, 566, 582, 599, 601, 605, 620, 622, 628, 641, 645, 648, 662, 685, 687, 696, 705, 706, 710, 712, 715, 723, 735, 752, 759, 778, 786, 793, 799, 829, 844, 846, 881, 901, 905, 909, 933, 947, 948, 956, 960, 969, 970, 1024, 1029, 1035, 1039, 1052, 1055, 1056, 1060, 1070, 1074, 1089, 1090, 1098, 1100, 1108, 1117, 1132, 1154, 1201, 1209, 1213, 1222, 1239, 1258, 1265, 1268, 1269, 1274, 1279, 1283, 1294, 1307, 1308, 1313, 1335, 1348, 1356, 1386, 1388, 1408, 1433, 1434, 1436, 1442, 1477, 1490, 1492, 1506, 1512, 1517, 1533, 1549, 1552, 1577, 1585, 1596, 1601, 1604, 1612, 1614, 1616, 1617, 1624, 1628, 1632, 1640, 1643, 1664, 1669, 1700, 1703, 1720, 1725, 1728, 1729, 1731, 1736, 1755, 1756, 1842, 1846, 1852, 1857, 1858, 1873, 1875, 1934, 1945, 1947, 1963, 1966, 1967, 1972, 1987, 1997, 1999]\n",
      "Trimmed 2000 noise traces to shape torch.Size([2000, 3, 3001])\n"
     ]
    },
    {
     "name": "stderr",
     "output_type": "stream",
     "text": [
      "\n",
      "  0%|          | 0/2000 [00:00<?, ?it/s]\u001B[A\n",
      "  1%|          | 11/2000 [00:00<00:23, 85.63it/s]\u001B[A\n",
      "  2%|▏         | 40/2000 [00:00<00:10, 192.67it/s]\u001B[A\n",
      "  4%|▎         | 73/2000 [00:00<00:07, 250.06it/s]\u001B[A\n",
      "  5%|▌         | 107/2000 [00:00<00:06, 282.17it/s]\u001B[A\n",
      "  7%|▋         | 136/2000 [00:00<00:07, 253.22it/s]\u001B[A\n",
      "  9%|▉         | 184/2000 [00:00<00:06, 300.33it/s]\u001B[A\n",
      " 11%|█         | 215/2000 [00:00<00:06, 293.08it/s]\u001B[A\n",
      " 12%|█▏        | 249/2000 [00:00<00:05, 305.83it/s]\u001B[A\n",
      " 14%|█▍        | 284/2000 [00:01<00:05, 318.17it/s]\u001B[A\n",
      " 17%|█▋        | 335/2000 [00:01<00:04, 345.57it/s]\u001B[A\n",
      " 18%|█▊        | 370/2000 [00:01<00:04, 345.54it/s]\u001B[A\n",
      " 20%|██        | 405/2000 [00:01<00:05, 311.75it/s]\u001B[A\n",
      " 22%|██▏       | 441/2000 [00:01<00:04, 323.91it/s]\u001B[A\n",
      " 24%|██▍       | 487/2000 [00:01<00:04, 342.47it/s]\u001B[A\n",
      " 27%|██▋       | 546/2000 [00:01<00:03, 409.27it/s]\u001B[A\n",
      " 29%|██▉       | 588/2000 [00:01<00:03, 361.82it/s]\u001B[A\n",
      " 31%|███▏      | 626/2000 [00:02<00:04, 299.76it/s]\u001B[A\n",
      " 33%|███▎      | 659/2000 [00:02<00:05, 259.73it/s]\u001B[A\n",
      " 35%|███▍      | 697/2000 [00:02<00:04, 283.18it/s]\u001B[A\n",
      " 36%|███▋      | 728/2000 [00:02<00:05, 246.83it/s]\u001B[A\n",
      " 38%|███▊      | 755/2000 [00:02<00:05, 238.06it/s]\u001B[A\n",
      " 40%|███▉      | 791/2000 [00:02<00:04, 265.30it/s]\u001B[A\n",
      " 42%|████▏     | 830/2000 [00:02<00:04, 291.28it/s]\u001B[A\n",
      " 43%|████▎     | 865/2000 [00:02<00:03, 305.94it/s]\u001B[A\n",
      " 46%|████▋     | 925/2000 [00:03<00:02, 384.58it/s]\u001B[A\n",
      " 48%|████▊     | 966/2000 [00:03<00:03, 342.41it/s]\u001B[A\n",
      " 50%|█████     | 1003/2000 [00:03<00:02, 347.07it/s]\u001B[A\n",
      " 52%|█████▏    | 1040/2000 [00:03<00:03, 316.06it/s]\u001B[A\n",
      " 54%|█████▎    | 1074/2000 [00:03<00:03, 268.43it/s]\u001B[A\n",
      " 55%|█████▌    | 1103/2000 [00:03<00:03, 235.05it/s]\u001B[A\n",
      " 58%|█████▊    | 1155/2000 [00:03<00:03, 279.64it/s]\u001B[A\n",
      " 60%|██████    | 1202/2000 [00:04<00:02, 308.45it/s]\u001B[A\n",
      " 62%|██████▏   | 1240/2000 [00:04<00:02, 321.19it/s]\u001B[A\n",
      " 64%|██████▍   | 1275/2000 [00:04<00:02, 327.92it/s]\u001B[A\n",
      " 66%|██████▌   | 1310/2000 [00:04<00:02, 332.90it/s]\u001B[A\n",
      " 67%|██████▋   | 1349/2000 [00:04<00:01, 342.22it/s]\u001B[A\n",
      " 69%|██████▉   | 1384/2000 [00:04<00:01, 344.22it/s]\u001B[A\n",
      " 72%|███████▏  | 1435/2000 [00:04<00:01, 363.23it/s]\u001B[A\n",
      " 74%|███████▎  | 1472/2000 [00:04<00:01, 360.26it/s]\u001B[A\n",
      " 75%|███████▌  | 1509/2000 [00:04<00:01, 321.96it/s]\u001B[A\n",
      " 77%|███████▋  | 1542/2000 [00:05<00:01, 269.18it/s]\u001B[A\n",
      " 79%|███████▉  | 1578/2000 [00:05<00:01, 290.11it/s]\u001B[A\n",
      " 81%|████████  | 1613/2000 [00:05<00:01, 276.88it/s]\u001B[A\n",
      " 82%|████████▏ | 1642/2000 [00:05<00:01, 260.55it/s]\u001B[A\n",
      " 84%|████████▎ | 1670/2000 [00:05<00:01, 246.80it/s]\u001B[A\n",
      " 85%|████████▌ | 1704/2000 [00:05<00:01, 244.72it/s]\u001B[A\n",
      " 86%|████████▋ | 1729/2000 [00:05<00:01, 230.59it/s]\u001B[A\n",
      " 88%|████████▊ | 1764/2000 [00:05<00:00, 258.91it/s]\u001B[A\n",
      " 91%|█████████ | 1821/2000 [00:06<00:00, 338.99it/s]\u001B[A\n",
      " 93%|█████████▎| 1857/2000 [00:06<00:00, 341.35it/s]\u001B[A\n",
      " 95%|█████████▍| 1893/2000 [00:06<00:00, 311.41it/s]\u001B[A\n",
      " 97%|█████████▋| 1935/2000 [00:06<00:00, 328.66it/s]\u001B[A\n",
      " 98%|█████████▊| 1969/2000 [00:06<00:00, 274.17it/s]\u001B[A\n",
      "100%|██████████| 2000/2000 [00:06<00:00, 296.75it/s]\u001B[A\n"
     ]
    },
    {
     "name": "stdout",
     "output_type": "stream",
     "text": [
      "Created 1920 noisy traces\n",
      "The following indices are not included [7, 10, 25, 52, 89, 119, 128, 183, 185, 238, 277, 334, 347, 382, 385, 436, 486, 564, 566, 599, 601, 605, 628, 641, 648, 696, 710, 715, 723, 735, 752, 786, 829, 844, 933, 956, 970, 1035, 1039, 1055, 1056, 1060, 1089, 1090, 1098, 1154, 1201, 1239, 1268, 1279, 1348, 1356, 1434, 1442, 1477, 1492, 1512, 1517, 1533, 1549, 1596, 1612, 1616, 1640, 1664, 1669, 1700, 1703, 1725, 1728, 1729, 1842, 1857, 1875, 1934, 1963, 1966, 1967, 1972, 1997]\n",
      "Trimmed 2000 noise traces to shape torch.Size([2000, 3, 3001])\n"
     ]
    },
    {
     "name": "stderr",
     "output_type": "stream",
     "text": [
      "\n",
      "  0%|          | 0/2000 [00:00<?, ?it/s]\u001B[A\n",
      "  0%|          | 8/2000 [00:00<00:28, 69.05it/s]\u001B[A\n",
      "  1%|          | 17/2000 [00:00<00:24, 79.60it/s]\u001B[A\n",
      "  4%|▎         | 70/2000 [00:00<00:07, 275.27it/s]\u001B[A\n",
      "  6%|▌         | 112/2000 [00:00<00:05, 328.97it/s]\u001B[A\n",
      "  7%|▋         | 146/2000 [00:00<00:06, 285.92it/s]\u001B[A\n",
      "  9%|▉         | 186/2000 [00:00<00:05, 306.34it/s]\u001B[A\n",
      " 12%|█▏        | 239/2000 [00:00<00:05, 336.13it/s]\u001B[A\n",
      " 14%|█▍        | 278/2000 [00:00<00:05, 343.07it/s]\u001B[A\n",
      " 17%|█▋        | 335/2000 [00:01<00:04, 365.01it/s]\u001B[A\n",
      " 19%|█▊        | 372/2000 [00:01<00:04, 360.98it/s]\u001B[A\n",
      " 22%|██▏       | 430/2000 [00:01<00:03, 418.88it/s]\u001B[A\n",
      " 24%|██▎       | 473/2000 [00:01<00:03, 402.85it/s]\u001B[A\n",
      " 26%|██▋       | 530/2000 [00:01<00:03, 447.06it/s]\u001B[A\n",
      " 29%|██▉       | 588/2000 [00:01<00:02, 482.67it/s]\u001B[A\n",
      " 32%|███▏      | 638/2000 [00:01<00:03, 451.70it/s]\u001B[A\n",
      " 35%|███▍      | 697/2000 [00:01<00:02, 488.70it/s]\u001B[A\n",
      " 37%|███▋      | 747/2000 [00:01<00:03, 416.06it/s]\u001B[A\n",
      " 40%|████      | 805/2000 [00:02<00:02, 455.66it/s]\u001B[A\n",
      " 43%|████▎     | 853/2000 [00:02<00:02, 435.80it/s]\u001B[A\n",
      " 46%|████▌     | 911/2000 [00:02<00:02, 472.93it/s]\u001B[A\n",
      " 48%|████▊     | 960/2000 [00:02<00:02, 448.95it/s]\u001B[A\n",
      " 51%|█████     | 1018/2000 [00:02<00:02, 483.27it/s]\u001B[A\n",
      " 53%|█████▎    | 1068/2000 [00:02<00:02, 347.32it/s]\u001B[A\n",
      " 55%|█████▌    | 1109/2000 [00:03<00:03, 287.45it/s]\u001B[A\n",
      " 58%|█████▊    | 1155/2000 [00:03<00:02, 306.79it/s]\u001B[A\n",
      " 61%|██████    | 1213/2000 [00:03<00:02, 364.24it/s]\u001B[A\n",
      " 63%|██████▎   | 1255/2000 [00:03<00:02, 367.68it/s]\u001B[A\n",
      " 65%|██████▍   | 1296/2000 [00:03<00:01, 367.31it/s]\u001B[A\n",
      " 68%|██████▊   | 1354/2000 [00:03<00:01, 419.90it/s]\u001B[A\n",
      " 71%|███████   | 1412/2000 [00:03<00:01, 461.64it/s]\u001B[A\n",
      " 73%|███████▎  | 1461/2000 [00:03<00:01, 396.13it/s]\u001B[A\n",
      " 75%|███████▌  | 1504/2000 [00:03<00:01, 390.23it/s]\u001B[A\n",
      " 77%|███████▋  | 1546/2000 [00:04<00:01, 386.23it/s]\u001B[A\n",
      " 80%|████████  | 1602/2000 [00:04<00:00, 431.59it/s]\u001B[A\n",
      " 82%|████████▏ | 1647/2000 [00:04<00:00, 418.30it/s]\u001B[A\n",
      " 85%|████████▍ | 1691/2000 [00:04<00:00, 346.74it/s]\u001B[A\n",
      " 86%|████████▋ | 1729/2000 [00:04<00:00, 293.19it/s]\u001B[A\n",
      " 89%|████████▉ | 1787/2000 [00:04<00:00, 355.56it/s]\u001B[A\n",
      " 92%|█████████▏| 1844/2000 [00:04<00:00, 405.51it/s]\u001B[A\n",
      " 95%|█████████▌| 1900/2000 [00:04<00:00, 443.09it/s]\u001B[A\n",
      " 97%|█████████▋| 1948/2000 [00:05<00:00, 423.00it/s]\u001B[A\n",
      "100%|██████████| 2000/2000 [00:05<00:00, 385.08it/s]\u001B[A\n"
     ]
    },
    {
     "name": "stdout",
     "output_type": "stream",
     "text": [
      "Created 1964 noisy traces\n",
      "The following indices are not included [7, 10, 119, 128, 185, 238, 277, 334, 347, 436, 628, 710, 715, 829, 956, 1039, 1055, 1056, 1060, 1089, 1090, 1154, 1239, 1279, 1434, 1442, 1492, 1533, 1640, 1664, 1669, 1703, 1725, 1728, 1934, 1963]\n",
      "Trimmed 2000 noise traces to shape torch.Size([2000, 3, 3001])\n"
     ]
    },
    {
     "name": "stderr",
     "output_type": "stream",
     "text": [
      "\n",
      "  0%|          | 0/2000 [00:00<?, ?it/s]\u001B[A\n",
      "  2%|▏         | 42/2000 [00:00<00:04, 418.48it/s]\u001B[A\n",
      "  5%|▍         | 95/2000 [00:00<00:03, 481.64it/s]\u001B[A\n",
      "  7%|▋         | 144/2000 [00:00<00:04, 420.03it/s]\u001B[A\n",
      " 10%|▉         | 199/2000 [00:00<00:03, 464.89it/s]\u001B[A\n",
      " 12%|█▏        | 247/2000 [00:00<00:04, 426.71it/s]\u001B[A\n",
      " 15%|█▌        | 302/2000 [00:00<00:03, 464.08it/s]\u001B[A\n",
      " 18%|█▊        | 358/2000 [00:00<00:03, 493.16it/s]\u001B[A\n",
      " 21%|██        | 415/2000 [00:00<00:03, 513.64it/s]\u001B[A\n",
      " 23%|██▎       | 468/2000 [00:01<00:03, 465.49it/s]\u001B[A\n",
      " 26%|██▌       | 524/2000 [00:01<00:03, 491.36it/s]\u001B[A\n",
      " 29%|██▉       | 580/2000 [00:01<00:02, 508.49it/s]\u001B[A\n",
      " 32%|███▏      | 633/2000 [00:01<00:02, 513.52it/s]\u001B[A\n",
      " 34%|███▍      | 689/2000 [00:01<00:02, 527.01it/s]\u001B[A\n",
      " 37%|███▋      | 745/2000 [00:01<00:02, 534.91it/s]\u001B[A\n",
      " 40%|████      | 801/2000 [00:01<00:02, 541.82it/s]\u001B[A\n",
      " 43%|████▎     | 856/2000 [00:01<00:02, 487.79it/s]\u001B[A\n",
      " 46%|████▌     | 913/2000 [00:01<00:02, 509.13it/s]\u001B[A\n",
      " 48%|████▊     | 965/2000 [00:01<00:02, 469.58it/s]\u001B[A\n",
      " 51%|█████     | 1018/2000 [00:02<00:02, 485.40it/s]\u001B[A\n",
      " 53%|█████▎    | 1068/2000 [00:02<00:02, 445.28it/s]\u001B[A\n",
      " 56%|█████▌    | 1114/2000 [00:02<00:02, 378.60it/s]\u001B[A\n",
      " 58%|█████▊    | 1155/2000 [00:02<00:02, 372.01it/s]\u001B[A\n",
      " 61%|██████    | 1211/2000 [00:02<00:01, 418.46it/s]\u001B[A\n",
      " 63%|██████▎   | 1268/2000 [00:02<00:01, 457.22it/s]\u001B[A\n",
      " 66%|██████▌   | 1316/2000 [00:02<00:01, 456.66it/s]\u001B[A\n",
      " 68%|██████▊   | 1363/2000 [00:02<00:01, 448.80it/s]\u001B[A\n",
      " 71%|███████   | 1411/2000 [00:03<00:01, 456.33it/s]\u001B[A\n",
      " 73%|███████▎  | 1458/2000 [00:03<00:01, 423.24it/s]\u001B[A\n",
      " 75%|███████▌  | 1502/2000 [00:03<00:01, 406.75it/s]\u001B[A\n",
      " 77%|███████▋  | 1544/2000 [00:03<00:01, 393.33it/s]\u001B[A\n",
      " 80%|████████  | 1600/2000 [00:03<00:00, 436.29it/s]\u001B[A\n",
      " 83%|████████▎ | 1657/2000 [00:03<00:00, 471.37it/s]\u001B[A\n",
      " 85%|████████▌ | 1705/2000 [00:03<00:00, 366.20it/s]\u001B[A\n",
      " 87%|████████▋ | 1746/2000 [00:03<00:00, 362.79it/s]\u001B[A\n",
      " 90%|████████▉ | 1790/2000 [00:04<00:00, 380.92it/s]\u001B[A\n",
      " 92%|█████████▏| 1845/2000 [00:04<00:00, 424.43it/s]\u001B[A\n",
      " 95%|█████████▌| 1902/2000 [00:04<00:00, 461.73it/s]\u001B[A\n",
      "100%|██████████| 2000/2000 [00:04<00:00, 451.67it/s]\u001B[A\n"
     ]
    },
    {
     "name": "stdout",
     "output_type": "stream",
     "text": [
      "Created 1983 noisy traces\n",
      "The following indices are not included [128, 238, 436, 829, 956, 1060, 1089, 1090, 1154, 1442, 1492, 1533, 1664, 1669, 1703, 1725, 1963]\n",
      "Trimmed 2000 noise traces to shape torch.Size([2000, 3, 3001])\n"
     ]
    },
    {
     "name": "stderr",
     "output_type": "stream",
     "text": [
      "\n",
      "  0%|          | 0/2000 [00:00<?, ?it/s]\u001B[A\n",
      "  1%|▏         | 26/2000 [00:00<00:07, 257.39it/s]\u001B[A\n",
      "  4%|▍         | 77/2000 [00:00<00:04, 401.57it/s]\u001B[A\n",
      "  7%|▋         | 131/2000 [00:00<00:04, 463.60it/s]\u001B[A\n",
      "  9%|▉         | 187/2000 [00:00<00:03, 498.56it/s]\u001B[A\n",
      " 12%|█▏        | 243/2000 [00:00<00:03, 518.02it/s]\u001B[A\n",
      " 15%|█▍        | 299/2000 [00:00<00:03, 531.15it/s]\u001B[A\n",
      " 18%|█▊        | 354/2000 [00:00<00:03, 536.83it/s]\u001B[A\n",
      " 20%|██        | 409/2000 [00:00<00:02, 539.90it/s]\u001B[A\n",
      " 23%|██▎       | 463/2000 [00:00<00:03, 470.24it/s]\u001B[A\n",
      " 26%|██▌       | 512/2000 [00:01<00:03, 464.46it/s]\u001B[A\n",
      " 28%|██▊       | 560/2000 [00:01<00:03, 467.75it/s]\u001B[A\n",
      " 30%|███       | 610/2000 [00:01<00:02, 475.20it/s]\u001B[A\n",
      " 33%|███▎      | 665/2000 [00:01<00:02, 495.89it/s]\u001B[A\n",
      " 36%|███▌      | 716/2000 [00:01<00:02, 480.47it/s]\u001B[A\n",
      " 38%|███▊      | 767/2000 [00:01<00:02, 486.91it/s]\u001B[A\n",
      " 41%|████      | 817/2000 [00:01<00:02, 473.02it/s]\u001B[A\n",
      " 43%|████▎     | 865/2000 [00:01<00:02, 433.83it/s]\u001B[A\n",
      " 46%|████▌     | 920/2000 [00:01<00:02, 463.23it/s]\u001B[A\n",
      " 49%|████▉     | 977/2000 [00:02<00:02, 491.58it/s]\u001B[A\n",
      " 52%|█████▏    | 1032/2000 [00:02<00:01, 505.58it/s]\u001B[A\n",
      " 54%|█████▍    | 1086/2000 [00:02<00:01, 513.98it/s]\u001B[A\n",
      " 57%|█████▋    | 1143/2000 [00:02<00:01, 528.69it/s]\u001B[A\n",
      " 60%|█████▉    | 1198/2000 [00:02<00:01, 533.67it/s]\u001B[A\n",
      " 63%|██████▎   | 1254/2000 [00:02<00:01, 540.01it/s]\u001B[A\n",
      " 65%|██████▌   | 1309/2000 [00:02<00:01, 541.57it/s]\u001B[A\n",
      " 68%|██████▊   | 1365/2000 [00:02<00:01, 544.55it/s]\u001B[A\n",
      " 71%|███████   | 1420/2000 [00:02<00:01, 542.76it/s]\u001B[A\n",
      " 74%|███████▍  | 1475/2000 [00:02<00:00, 543.15it/s]\u001B[A\n",
      " 76%|███████▋  | 1530/2000 [00:03<00:00, 544.88it/s]\u001B[A\n",
      " 79%|███████▉  | 1586/2000 [00:03<00:00, 547.05it/s]\u001B[A\n",
      " 82%|████████▏ | 1641/2000 [00:03<00:00, 544.49it/s]\u001B[A\n",
      " 85%|████████▍ | 1696/2000 [00:03<00:00, 488.37it/s]\u001B[A\n",
      " 88%|████████▊ | 1752/2000 [00:03<00:00, 507.98it/s]\u001B[A\n",
      " 90%|█████████ | 1808/2000 [00:03<00:00, 520.58it/s]\u001B[A\n",
      " 93%|█████████▎| 1864/2000 [00:03<00:00, 530.70it/s]\u001B[A\n",
      " 96%|█████████▌| 1920/2000 [00:03<00:00, 536.41it/s]\u001B[A\n",
      "100%|██████████| 2000/2000 [00:03<00:00, 505.31it/s]\u001B[A\n"
     ]
    },
    {
     "name": "stdout",
     "output_type": "stream",
     "text": [
      "Created 1997 noisy traces\n",
      "The following indices are not included [436, 829, 1669]\n",
      "Trimmed 2000 noise traces to shape torch.Size([2000, 3, 3001])\n"
     ]
    },
    {
     "name": "stderr",
     "output_type": "stream",
     "text": [
      "\n",
      "  0%|          | 0/2000 [00:00<?, ?it/s]\u001B[A\n",
      "  1%|▏         | 28/2000 [00:00<00:07, 277.65it/s]\u001B[A\n",
      "  4%|▍         | 80/2000 [00:00<00:04, 417.33it/s]\u001B[A\n",
      "  7%|▋         | 133/2000 [00:00<00:04, 466.20it/s]\u001B[A\n",
      "  9%|▉         | 187/2000 [00:00<00:03, 491.99it/s]\u001B[A\n",
      " 12%|█▏        | 242/2000 [00:00<00:03, 509.89it/s]\u001B[A\n",
      " 15%|█▍        | 297/2000 [00:00<00:03, 521.07it/s]\u001B[A\n",
      " 18%|█▊        | 350/2000 [00:00<00:03, 522.07it/s]\u001B[A\n",
      " 20%|██        | 404/2000 [00:00<00:03, 526.24it/s]\u001B[A\n",
      " 23%|██▎       | 459/2000 [00:00<00:02, 532.85it/s]\u001B[A\n",
      " 26%|██▌       | 513/2000 [00:01<00:02, 534.42it/s]\u001B[A\n",
      " 28%|██▊       | 568/2000 [00:01<00:02, 537.13it/s]\u001B[A\n",
      " 31%|███       | 622/2000 [00:01<00:02, 533.81it/s]\u001B[A\n",
      " 34%|███▍      | 677/2000 [00:01<00:02, 536.27it/s]\u001B[A\n",
      " 37%|███▋      | 732/2000 [00:01<00:02, 537.93it/s]\u001B[A\n",
      " 39%|███▉      | 786/2000 [00:01<00:02, 537.89it/s]\u001B[A\n",
      " 42%|████▏     | 840/2000 [00:01<00:02, 482.75it/s]\u001B[A\n",
      " 45%|████▍     | 894/2000 [00:01<00:02, 497.45it/s]\u001B[A\n",
      " 47%|████▋     | 948/2000 [00:01<00:02, 509.21it/s]\u001B[A\n",
      " 50%|█████     | 1003/2000 [00:01<00:01, 518.99it/s]\u001B[A\n",
      " 53%|█████▎    | 1056/2000 [00:02<00:01, 521.95it/s]\u001B[A\n",
      " 56%|█████▌    | 1111/2000 [00:02<00:01, 527.38it/s]\u001B[A\n",
      " 58%|█████▊    | 1165/2000 [00:02<00:01, 529.90it/s]\u001B[A\n",
      " 61%|██████    | 1220/2000 [00:02<00:01, 535.26it/s]\u001B[A\n",
      " 64%|██████▍   | 1275/2000 [00:02<00:01, 538.87it/s]\u001B[A\n",
      " 66%|██████▋   | 1330/2000 [00:02<00:01, 541.02it/s]\u001B[A\n",
      " 69%|██████▉   | 1385/2000 [00:02<00:01, 543.25it/s]\u001B[A\n",
      " 72%|███████▏  | 1440/2000 [00:02<00:01, 539.01it/s]\u001B[A\n",
      " 75%|███████▍  | 1495/2000 [00:02<00:00, 542.24it/s]\u001B[A\n",
      " 78%|███████▊  | 1550/2000 [00:02<00:00, 543.51it/s]\u001B[A\n",
      " 80%|████████  | 1605/2000 [00:03<00:00, 543.28it/s]\u001B[A\n",
      " 83%|████████▎ | 1660/2000 [00:03<00:00, 543.94it/s]\u001B[A\n",
      " 86%|████████▌ | 1715/2000 [00:03<00:00, 541.44it/s]\u001B[A\n",
      " 88%|████████▊ | 1770/2000 [00:03<00:00, 540.86it/s]\u001B[A\n",
      " 91%|█████████▏| 1825/2000 [00:03<00:00, 542.46it/s]\u001B[A\n",
      " 94%|█████████▍| 1880/2000 [00:03<00:00, 541.50it/s]\u001B[A\n",
      " 97%|█████████▋| 1935/2000 [00:03<00:00, 541.81it/s]\u001B[A\n",
      "100%|██████████| 2000/2000 [00:03<00:00, 526.03it/s]\u001B[A\n"
     ]
    },
    {
     "name": "stdout",
     "output_type": "stream",
     "text": [
      "Created 1999 noisy traces\n",
      "The following indices are not included [829]\n",
      "Trimmed 2000 noise traces to shape torch.Size([2000, 3, 3001])\n"
     ]
    },
    {
     "name": "stderr",
     "output_type": "stream",
     "text": [
      "\n",
      "  0%|          | 0/2000 [00:00<?, ?it/s]\u001B[A\n",
      "  1%|▏         | 29/2000 [00:00<00:06, 284.24it/s]\u001B[A\n",
      "  4%|▍         | 75/2000 [00:00<00:04, 385.05it/s]\u001B[A\n",
      "  6%|▋         | 130/2000 [00:00<00:04, 456.43it/s]\u001B[A\n",
      "  9%|▉         | 179/2000 [00:00<00:03, 469.17it/s]\u001B[A\n",
      " 11%|█▏        | 228/2000 [00:00<00:03, 473.76it/s]\u001B[A\n",
      " 14%|█▍        | 276/2000 [00:00<00:03, 475.82it/s]\u001B[A\n",
      " 16%|█▋        | 326/2000 [00:00<00:03, 480.74it/s]\u001B[A\n",
      " 19%|█▉        | 375/2000 [00:00<00:03, 475.45it/s]\u001B[A\n",
      " 21%|██▏       | 425/2000 [00:00<00:03, 481.71it/s]\u001B[A\n",
      " 24%|██▍       | 475/2000 [00:01<00:03, 484.37it/s]\u001B[A\n",
      " 26%|██▌       | 524/2000 [00:01<00:03, 477.95it/s]\u001B[A\n",
      " 29%|██▊       | 572/2000 [00:01<00:03, 474.10it/s]\u001B[A\n",
      " 31%|███       | 621/2000 [00:01<00:02, 476.78it/s]\u001B[A\n",
      " 34%|███▎      | 670/2000 [00:01<00:02, 480.32it/s]\u001B[A\n",
      " 36%|███▌      | 720/2000 [00:01<00:02, 484.60it/s]\u001B[A\n",
      " 39%|███▊      | 771/2000 [00:01<00:02, 490.75it/s]\u001B[A\n",
      " 41%|████      | 821/2000 [00:01<00:02, 482.94it/s]\u001B[A\n",
      " 44%|████▍     | 875/2000 [00:01<00:02, 499.41it/s]\u001B[A\n",
      " 46%|████▋     | 930/2000 [00:01<00:02, 513.06it/s]\u001B[A\n",
      " 49%|████▉     | 985/2000 [00:02<00:01, 522.04it/s]\u001B[A\n",
      " 52%|█████▏    | 1039/2000 [00:02<00:01, 526.43it/s]\u001B[A\n",
      " 55%|█████▍    | 1094/2000 [00:02<00:01, 531.13it/s]\u001B[A\n",
      " 57%|█████▋    | 1149/2000 [00:02<00:01, 534.12it/s]\u001B[A\n",
      " 60%|██████    | 1204/2000 [00:02<00:01, 535.95it/s]\u001B[A\n",
      " 63%|██████▎   | 1258/2000 [00:02<00:01, 534.18it/s]\u001B[A\n",
      " 66%|██████▌   | 1312/2000 [00:02<00:01, 534.99it/s]\u001B[A\n",
      " 68%|██████▊   | 1366/2000 [00:02<00:01, 535.80it/s]\u001B[A\n",
      " 71%|███████   | 1420/2000 [00:02<00:01, 536.25it/s]\u001B[A\n",
      " 74%|███████▍  | 1475/2000 [00:02<00:00, 537.97it/s]\u001B[A\n",
      " 76%|███████▋  | 1529/2000 [00:03<00:00, 537.82it/s]\u001B[A\n",
      " 79%|███████▉  | 1583/2000 [00:03<00:00, 537.80it/s]\u001B[A\n",
      " 82%|████████▏ | 1637/2000 [00:03<00:00, 534.30it/s]\u001B[A\n",
      " 85%|████████▍ | 1691/2000 [00:03<00:00, 534.23it/s]\u001B[A\n",
      " 87%|████████▋ | 1745/2000 [00:03<00:00, 532.76it/s]\u001B[A\n",
      " 90%|████████▉ | 1799/2000 [00:03<00:00, 532.62it/s]\u001B[A\n",
      " 93%|█████████▎| 1854/2000 [00:03<00:00, 535.42it/s]\u001B[A\n",
      " 95%|█████████▌| 1908/2000 [00:03<00:00, 530.44it/s]\u001B[A\n",
      "100%|██████████| 2000/2000 [00:03<00:00, 508.09it/s]\u001B[A\n"
     ]
    },
    {
     "name": "stdout",
     "output_type": "stream",
     "text": [
      "Created 2000 noisy traces\n",
      "The following indices are not included []\n",
      "Trimmed 2000 noise traces to shape torch.Size([2000, 3, 3001])\n"
     ]
    },
    {
     "name": "stderr",
     "output_type": "stream",
     "text": [
      "\n",
      "  0%|          | 0/2000 [00:00<?, ?it/s]\u001B[A\n",
      "  2%|▏         | 35/2000 [00:00<00:05, 349.94it/s]\u001B[A\n",
      "  4%|▍         | 78/2000 [00:00<00:04, 394.21it/s]\u001B[A\n",
      "  6%|▋         | 125/2000 [00:00<00:04, 426.01it/s]\u001B[A\n",
      "  9%|▉         | 179/2000 [00:00<00:03, 467.29it/s]\u001B[A\n",
      " 11%|█▏        | 226/2000 [00:00<00:04, 443.04it/s]\u001B[A\n",
      " 14%|█▎        | 271/2000 [00:00<00:04, 418.88it/s]\u001B[A\n",
      " 16%|█▌        | 323/2000 [00:00<00:03, 448.79it/s]\u001B[A\n",
      " 19%|█▉        | 376/2000 [00:00<00:03, 472.50it/s]\u001B[A\n",
      " 22%|██▏       | 430/2000 [00:00<00:03, 490.37it/s]\u001B[A\n",
      " 24%|██▍       | 484/2000 [00:01<00:03, 503.26it/s]\u001B[A\n",
      " 27%|██▋       | 538/2000 [00:01<00:02, 511.97it/s]\u001B[A\n",
      " 30%|██▉       | 592/2000 [00:01<00:02, 517.22it/s]\u001B[A\n",
      " 32%|███▏      | 645/2000 [00:01<00:02, 519.76it/s]\u001B[A\n",
      " 35%|███▍      | 699/2000 [00:01<00:02, 522.50it/s]\u001B[A\n",
      " 38%|███▊      | 753/2000 [00:01<00:02, 525.40it/s]\u001B[A\n",
      " 40%|████      | 807/2000 [00:01<00:02, 527.87it/s]\u001B[A\n",
      " 43%|████▎     | 861/2000 [00:01<00:02, 530.33it/s]\u001B[A\n",
      " 46%|████▌     | 915/2000 [00:01<00:02, 530.81it/s]\u001B[A\n",
      " 48%|████▊     | 969/2000 [00:01<00:01, 531.03it/s]\u001B[A\n",
      " 51%|█████     | 1023/2000 [00:02<00:01, 529.33it/s]\u001B[A\n",
      " 54%|█████▍    | 1076/2000 [00:02<00:01, 528.53it/s]\u001B[A\n",
      " 57%|█████▋    | 1131/2000 [00:02<00:01, 532.59it/s]\u001B[A\n",
      " 59%|█████▉    | 1185/2000 [00:02<00:01, 533.85it/s]\u001B[A\n",
      " 62%|██████▏   | 1239/2000 [00:02<00:01, 532.10it/s]\u001B[A\n",
      " 65%|██████▍   | 1293/2000 [00:02<00:01, 532.52it/s]\u001B[A\n",
      " 67%|██████▋   | 1348/2000 [00:02<00:01, 536.35it/s]\u001B[A\n",
      " 70%|███████   | 1402/2000 [00:02<00:01, 535.84it/s]\u001B[A\n",
      " 73%|███████▎  | 1456/2000 [00:02<00:01, 534.42it/s]\u001B[A\n",
      " 76%|███████▌  | 1510/2000 [00:02<00:00, 532.43it/s]\u001B[A\n",
      " 78%|███████▊  | 1565/2000 [00:03<00:00, 535.14it/s]\u001B[A\n",
      " 81%|████████  | 1619/2000 [00:03<00:00, 535.05it/s]\u001B[A\n",
      " 84%|████████▎ | 1673/2000 [00:03<00:00, 533.53it/s]\u001B[A\n",
      " 86%|████████▋ | 1728/2000 [00:03<00:00, 537.41it/s]\u001B[A\n",
      " 89%|████████▉ | 1782/2000 [00:03<00:00, 535.53it/s]\u001B[A\n",
      " 92%|█████████▏| 1836/2000 [00:03<00:00, 533.87it/s]\u001B[A\n",
      " 95%|█████████▍| 1891/2000 [00:03<00:00, 535.82it/s]\u001B[A\n",
      " 97%|█████████▋| 1945/2000 [00:03<00:00, 532.38it/s]\u001B[A\n",
      "100%|██████████| 2000/2000 [00:03<00:00, 514.19it/s]\u001B[A\n"
     ]
    },
    {
     "name": "stdout",
     "output_type": "stream",
     "text": [
      "Created 2000 noisy traces\n",
      "The following indices are not included []\n",
      "Trimmed 2000 noise traces to shape torch.Size([2000, 3, 3001])\n"
     ]
    },
    {
     "name": "stderr",
     "output_type": "stream",
     "text": [
      "\n",
      "  0%|          | 0/2000 [00:00<?, ?it/s]\u001B[A\n",
      "  1%|▏         | 25/2000 [00:00<00:07, 247.70it/s]\u001B[A\n",
      "  4%|▎         | 70/2000 [00:00<00:05, 362.95it/s]\u001B[A\n",
      "  6%|▌         | 124/2000 [00:00<00:04, 441.50it/s]\u001B[A\n",
      "  9%|▉         | 177/2000 [00:00<00:03, 475.53it/s]\u001B[A\n",
      " 11%|█▏        | 229/2000 [00:00<00:03, 489.14it/s]\u001B[A\n",
      " 14%|█▍        | 280/2000 [00:00<00:03, 495.24it/s]\u001B[A\n",
      " 17%|█▋        | 331/2000 [00:00<00:03, 496.91it/s]\u001B[A\n",
      " 19%|█▉        | 382/2000 [00:00<00:03, 500.22it/s]\u001B[A\n",
      " 22%|██▏       | 435/2000 [00:00<00:03, 506.39it/s]\u001B[A\n",
      " 24%|██▍       | 486/2000 [00:01<00:02, 506.65it/s]\u001B[A\n",
      " 27%|██▋       | 537/2000 [00:01<00:02, 507.57it/s]\u001B[A\n",
      " 29%|██▉       | 589/2000 [00:01<00:02, 511.01it/s]\u001B[A\n",
      " 32%|███▏      | 641/2000 [00:01<00:02, 511.24it/s]\u001B[A\n",
      " 35%|███▍      | 694/2000 [00:01<00:02, 514.97it/s]\u001B[A\n",
      " 37%|███▋      | 747/2000 [00:01<00:02, 517.24it/s]\u001B[A\n",
      " 40%|████      | 800/2000 [00:01<00:02, 520.41it/s]\u001B[A\n",
      " 43%|████▎     | 853/2000 [00:01<00:02, 521.55it/s]\u001B[A\n",
      " 45%|████▌     | 906/2000 [00:01<00:02, 521.58it/s]\u001B[A\n",
      " 48%|████▊     | 959/2000 [00:01<00:01, 523.15it/s]\u001B[A\n",
      " 51%|█████     | 1012/2000 [00:02<00:01, 522.52it/s]\u001B[A\n",
      " 53%|█████▎    | 1065/2000 [00:02<00:01, 523.82it/s]\u001B[A\n",
      " 56%|█████▌    | 1118/2000 [00:02<00:01, 524.98it/s]\u001B[A\n",
      " 59%|█████▊    | 1171/2000 [00:02<00:01, 490.40it/s]\u001B[A\n",
      " 61%|██████    | 1221/2000 [00:02<00:01, 492.47it/s]\u001B[A\n",
      " 64%|██████▎   | 1271/2000 [00:02<00:01, 492.62it/s]\u001B[A\n",
      " 66%|██████▌   | 1321/2000 [00:02<00:01, 479.86it/s]\u001B[A\n",
      " 68%|██████▊   | 1370/2000 [00:02<00:01, 470.86it/s]\u001B[A\n",
      " 71%|███████   | 1423/2000 [00:02<00:01, 486.83it/s]\u001B[A\n",
      " 74%|███████▎  | 1472/2000 [00:02<00:01, 487.73it/s]\u001B[A\n",
      " 76%|███████▌  | 1522/2000 [00:03<00:00, 489.38it/s]\u001B[A\n",
      " 79%|███████▊  | 1572/2000 [00:03<00:00, 482.79it/s]\u001B[A\n",
      " 81%|████████  | 1622/2000 [00:03<00:00, 486.40it/s]\u001B[A\n",
      " 84%|████████▎ | 1672/2000 [00:03<00:00, 489.92it/s]\u001B[A\n",
      " 86%|████████▌ | 1722/2000 [00:03<00:00, 489.75it/s]\u001B[A\n",
      " 89%|████████▊ | 1773/2000 [00:03<00:00, 493.48it/s]\u001B[A\n",
      " 91%|█████████ | 1823/2000 [00:03<00:00, 482.41it/s]\u001B[A\n",
      " 94%|█████████▎| 1873/2000 [00:03<00:00, 485.99it/s]\u001B[A\n",
      " 96%|█████████▌| 1922/2000 [00:03<00:00, 484.97it/s]\u001B[A\n",
      "100%|██████████| 2000/2000 [00:04<00:00, 493.24it/s]\u001B[A\n"
     ]
    },
    {
     "name": "stdout",
     "output_type": "stream",
     "text": [
      "Created 2000 noisy traces\n",
      "The following indices are not included []\n",
      "Trimmed 2000 noise traces to shape torch.Size([2000, 3, 3001])\n"
     ]
    },
    {
     "name": "stderr",
     "output_type": "stream",
     "text": [
      "\n",
      "  0%|          | 0/2000 [00:00<?, ?it/s]\u001B[A\n",
      "  2%|▎         | 50/2000 [00:00<00:03, 491.24it/s]\u001B[A\n",
      "  5%|▌         | 100/2000 [00:00<00:03, 494.76it/s]\u001B[A\n",
      "  8%|▊         | 152/2000 [00:00<00:03, 505.37it/s]\u001B[A\n",
      " 10%|█         | 204/2000 [00:00<00:03, 507.83it/s]\u001B[A\n",
      " 13%|█▎        | 255/2000 [00:00<00:03, 494.30it/s]\u001B[A\n",
      " 15%|█▌        | 307/2000 [00:00<00:03, 501.46it/s]\u001B[A\n",
      " 18%|█▊        | 359/2000 [00:00<00:03, 506.68it/s]\u001B[A\n",
      " 21%|██        | 412/2000 [00:00<00:03, 513.46it/s]\u001B[A\n",
      " 23%|██▎       | 465/2000 [00:00<00:02, 518.24it/s]\u001B[A\n",
      " 26%|██▌       | 518/2000 [00:01<00:02, 520.44it/s]\u001B[A\n",
      " 29%|██▊       | 571/2000 [00:01<00:02, 522.21it/s]\u001B[A\n",
      " 31%|███▏      | 625/2000 [00:01<00:02, 525.05it/s]\u001B[A\n",
      " 34%|███▍      | 678/2000 [00:01<00:02, 524.97it/s]\u001B[A\n",
      " 37%|███▋      | 732/2000 [00:01<00:02, 526.60it/s]\u001B[A\n",
      " 39%|███▉      | 785/2000 [00:01<00:02, 522.29it/s]\u001B[A\n",
      " 42%|████▏     | 839/2000 [00:01<00:02, 524.94it/s]\u001B[A\n",
      " 45%|████▍     | 892/2000 [00:01<00:02, 525.57it/s]\u001B[A\n",
      " 47%|████▋     | 945/2000 [00:01<00:02, 526.54it/s]\u001B[A\n",
      " 50%|████▉     | 998/2000 [00:01<00:01, 527.41it/s]\u001B[A\n",
      " 53%|█████▎    | 1052/2000 [00:02<00:01, 529.08it/s]\u001B[A\n",
      " 55%|█████▌    | 1106/2000 [00:02<00:01, 530.68it/s]\u001B[A\n",
      " 58%|█████▊    | 1160/2000 [00:02<00:01, 530.02it/s]\u001B[A\n",
      " 61%|██████    | 1214/2000 [00:02<00:01, 531.32it/s]\u001B[A\n",
      " 63%|██████▎   | 1268/2000 [00:02<00:01, 529.20it/s]\u001B[A\n",
      " 66%|██████▌   | 1321/2000 [00:02<00:01, 507.91it/s]\u001B[A\n",
      " 69%|██████▊   | 1372/2000 [00:02<00:01, 495.99it/s]\u001B[A\n",
      " 71%|███████▏  | 1425/2000 [00:02<00:01, 504.30it/s]\u001B[A\n",
      " 74%|███████▍  | 1478/2000 [00:02<00:01, 508.77it/s]\u001B[A\n",
      " 76%|███████▋  | 1530/2000 [00:02<00:00, 511.99it/s]\u001B[A\n",
      " 79%|███████▉  | 1582/2000 [00:03<00:00, 513.81it/s]\u001B[A\n",
      " 82%|████████▏ | 1634/2000 [00:03<00:00, 515.03it/s]\u001B[A\n",
      " 84%|████████▍ | 1687/2000 [00:03<00:00, 517.84it/s]\u001B[A\n",
      " 87%|████████▋ | 1740/2000 [00:03<00:00, 521.41it/s]\u001B[A\n",
      " 90%|████████▉ | 1793/2000 [00:03<00:00, 521.86it/s]\u001B[A\n",
      " 92%|█████████▏| 1846/2000 [00:03<00:00, 521.80it/s]\u001B[A\n",
      " 95%|█████████▍| 1899/2000 [00:03<00:00, 521.84it/s]\u001B[A\n",
      "100%|██████████| 2000/2000 [00:03<00:00, 517.98it/s]\u001B[A\n"
     ]
    },
    {
     "name": "stdout",
     "output_type": "stream",
     "text": [
      "Created 2000 noisy traces\n",
      "The following indices are not included []\n"
     ]
    }
   ],
   "source": [
    "# noised_traces_list, noised_traces_labels_list, augmented_noise_traces_list, factors_list, indices_not_used_list = [],[],[],[], []\n",
    "desired_snr_list = list(range(1,11))\n",
    "noisy_dataset_paths = {}\n",
    "for desired_snr in desired_snr_list:\n",
    "    noisy_dataset_path = os.path.join(DATASET_PATH,f'noisy_dataset_snr_{desired_snr}')\n",
    "    assert os.path.exists(noisy_dataset_path), f'Path {noisy_dataset_path} does not exist.Create it'\n",
    "    noisy_dataset_paths[desired_snr] = noisy_dataset_path\n",
    "\n",
    "pbar = tqdm(desired_snr_list)\n",
    "for desired_snr in pbar:\n",
    "    noised_traces, noised_traces_labels, full_noise_traces_used, factors, indices_not_used_list =  create_single_noisy_version(original_traces=dataset, original_labels=labels, augmented_noise_traces=augmented_noise_traces_created, desired_snr=desired_snr)\n",
    "    # noised_traces_list.append(version_noised_traces)\n",
    "    # noised_traces_labels_list.append(version_labels.unsqueeze(dim=1))\n",
    "    # augmented_noise_traces_list.append(version_full_noise_traces)\n",
    "    # factors_list.append(version_factors.unsqueeze(dim=1))\n",
    "    # indices_not_used_list.extend(version_not_included_indices)\n",
    "\n",
    "\n",
    "    # noised_traces = torch.vstack(noised_traces_list)\n",
    "    # noised_traces_labels = torch.vstack(noised_traces_labels_list).squeeze()\n",
    "    # augmented_noise_traces = torch.vstack(augmented_noise_traces_list)\n",
    "    # noising_factors = torch.vstack(factors_list).squeeze()\n",
    "    indices_not_used = torch.tensor(list(set(indices_not_used_list)))\n",
    "    # noised_traces.shape, noised_traces_labels.shape, augmented_noise_traces.shape, noising_factors.shape, indices_not_used.shape\n",
    "    noisy_dataset_path = noisy_dataset_paths[desired_snr]\n",
    "    torch.save(noised_traces, os.path.join(noisy_dataset_path, 'traces.pt'))\n",
    "    torch.save(augmented_noise_traces, os.path.join(noisy_dataset_path, 'full_noise_traces.pt'))\n",
    "    torch.save(noised_traces_labels, os.path.join(noisy_dataset_path, 'labels.pt'))\n",
    "    torch.save(noising_factors, os.path.join(noisy_dataset_path, 'factors.pt'))\n",
    "    torch.save(indices_not_used, os.path.join(noisy_dataset_path,'indices_not_used'))\n",
    "    pbar.set_description(f'SNR {desired_snr}: {noised_traces.shape[0]} noised traces created and saved.')\n",
    "    del noised_traces, noised_traces_labels, full_noise_traces_used, factors, indices_not_used_list , indices_not_used"
   ],
   "metadata": {
    "collapsed": false
   }
  }
 ],
 "metadata": {
  "kernelspec": {
   "display_name": "seis",
   "language": "python",
   "name": "python3"
  },
  "language_info": {
   "codemirror_mode": {
    "name": "ipython",
    "version": 3
   },
   "file_extension": ".py",
   "mimetype": "text/x-python",
   "name": "python",
   "nbconvert_exporter": "python",
   "pygments_lexer": "ipython3",
   "version": "3.10.8"
  },
  "orig_nbformat": 4,
  "vscode": {
   "interpreter": {
    "hash": "fa76d2c83586c95486e2cc3c656ad2d093b47aefbf53fc633acb9a860f5157ab"
   }
  }
 },
 "nbformat": 4,
 "nbformat_minor": 2
}
