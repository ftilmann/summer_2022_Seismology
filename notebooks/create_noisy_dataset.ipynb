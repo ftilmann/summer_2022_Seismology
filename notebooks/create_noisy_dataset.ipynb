{
 "cells": [
  {
   "cell_type": "code",
   "execution_count": 1,
   "metadata": {},
   "outputs": [],
   "source": [
    "import os\n",
    "from tqdm.notebook import tqdm\n",
    "import matplotlib.pyplot as plt\n",
    "import torch\n",
    "\n",
    "from dataset_creation.noisy_dataset import create_single_noisy_version\n",
    "from dataset_creation.utils import get_n_random_noises"
   ]
  },
  {
   "cell_type": "markdown",
   "source": [
    "# Create a Noisy Dataset"
   ],
   "metadata": {
    "collapsed": false
   }
  },
  {
   "cell_type": "markdown",
   "source": [
    "## Requirements And Configuration"
   ],
   "metadata": {
    "collapsed": false
   }
  },
  {
   "cell_type": "markdown",
   "source": [
    "The generated noisy traces should be a synthetic version of traces taken from the following dataset ('ethz', 'geofon'):"
   ],
   "metadata": {
    "collapsed": false
   }
  },
  {
   "cell_type": "code",
   "execution_count": 2,
   "outputs": [],
   "source": [
    "DATASETS_ORIGINS = ['ethz', 'geofon']\n",
    "dataset_origin = 'ethz'\n",
    "assert dataset_origin in DATASETS_ORIGINS, f'Expected dataset one of {DATASETS_ORIGINS}. Got {dataset_origin}.'"
   ],
   "metadata": {
    "collapsed": false
   }
  },
  {
   "cell_type": "code",
   "execution_count": 3,
   "outputs": [],
   "source": [
    "NUM_SAMPLES=3001                    # Trace sample length - If the dataset is built for phasenet: 3001 If it is for EQTransformer: 6000\n",
    "NUM_NOISY_VERSIONS_PER_TRACE=1      # How many noisy versions to synthesize using a single real trace\n",
    "DESIRED_SNR=10                      # What SNR level should the noisy synthesized trace be\n",
    "SAMPLING_RATE=100                   # Sampling Rate - PhaseNet and EQTransformer expect 100Hz\n",
    "NUM_OF_ORIGINAL_TRACES = 2100       # How many original traces to use for the noisy dataset - use slice from the start"
   ],
   "metadata": {
    "collapsed": false
   }
  },
  {
   "cell_type": "markdown",
   "source": [
    "If the generated noises should allow shifting experiments they should be longer than the original trace.\n",
    "Define how many 1-second-shifts will the dataset enable."
   ],
   "metadata": {
    "collapsed": false
   }
  },
  {
   "cell_type": "code",
   "execution_count": 4,
   "outputs": [],
   "source": [
    "NUM_SHIFTS=6\n",
    "AUGMENTED_WINDOW_SIZE=NUM_SAMPLES+SAMPLING_RATE*NUM_SHIFTS"
   ],
   "metadata": {
    "collapsed": false
   }
  },
  {
   "cell_type": "markdown",
   "source": [
    "Browse The path of the **event** traces that will be used for synthesizing."
   ],
   "metadata": {
    "collapsed": false
   }
  },
  {
   "cell_type": "code",
   "execution_count": 5,
   "outputs": [],
   "source": [
    "DATASET_PATH=f'/home/moshe/datasets/GFZ/noisy_datasets/{dataset_origin}_{NUM_SAMPLES}_sample_joachim_noises_energy_ratio_snr/'"
   ],
   "metadata": {
    "collapsed": false
   }
  },
  {
   "cell_type": "markdown",
   "source": [
    "Browse The path of the **noise** traces that will be used for synthesizing."
   ],
   "metadata": {
    "collapsed": false
   }
  },
  {
   "cell_type": "code",
   "execution_count": 6,
   "outputs": [],
   "source": [
    "NOISES_PATH='/home/moshe/datasets/GFZ/Noises'"
   ],
   "metadata": {
    "collapsed": false
   }
  },
  {
   "cell_type": "code",
   "execution_count": 7,
   "metadata": {},
   "outputs": [],
   "source": [
    "dataset_traces_path = os.path.join(DATASET_PATH, 'original_dataset.pt')[:NUM_OF_ORIGINAL_TRACES]\n",
    "dataset_labels_path = os.path.join(DATASET_PATH, 'original_labels.pt')[:NUM_OF_ORIGINAL_TRACES]\n",
    "\n",
    "assert os.path.exists(DATASET_PATH), f'Directory {DATASET_PATH} does not exist'\n",
    "assert os.path.exists(dataset_traces_path), f'file {dataset_traces_path} does not exist'\n",
    "assert os.path.exists(dataset_labels_path), f'file {dataset_labels_path} does not exist'"
   ]
  },
  {
   "attachments": {},
   "cell_type": "markdown",
   "metadata": {},
   "source": [
    "## Load Dataset"
   ]
  },
  {
   "cell_type": "code",
   "execution_count": 8,
   "outputs": [
    {
     "name": "stdout",
     "output_type": "stream",
     "text": [
      "Loaded 2100 traces and corresponding labels.\n"
     ]
    }
   ],
   "source": [
    "dataset=torch.load(dataset_traces_path)[:NUM_OF_ORIGINAL_TRACES]\n",
    "labels=torch.load(dataset_labels_path)[:NUM_OF_ORIGINAL_TRACES]\n",
    "\n",
    "num_traces = dataset.shape[0]\n",
    "num_labels = labels.shape[0]\n",
    "num_samples = dataset.shape[-1]\n",
    "\n",
    "assert num_labels==num_traces, f'Expected traces equal num labels.Got {num_traces} traces and {num_labels} labels'\n",
    "assert num_samples==NUM_SAMPLES, f'Expected {NUM_SAMPLES} in each trace. Got {num_samples}.'\n",
    "\n",
    "print(f'Loaded {num_traces} traces and corresponding labels.')"
   ],
   "metadata": {
    "collapsed": false
   }
  },
  {
   "cell_type": "markdown",
   "source": [
    "## Create a Noisy Dataset"
   ],
   "metadata": {
    "collapsed": false
   }
  },
  {
   "cell_type": "code",
   "execution_count": 9,
   "outputs": [
    {
     "data": {
      "text/plain": "  0%|          | 0/1 [00:00<?, ?it/s]",
      "application/vnd.jupyter.widget-view+json": {
       "version_major": 2,
       "version_minor": 0,
       "model_id": "a01489e72a3f44eba2d9f5253a471225"
      }
     },
     "metadata": {},
     "output_type": "display_data"
    },
    {
     "name": "stderr",
     "output_type": "stream",
     "text": [
      "\n",
      "  0%|          | 0/2100 [00:00<?, ?it/s]\u001B[A\n",
      "  0%|          | 1/2100 [00:00<06:35,  5.31it/s]\u001B[A\n",
      "  0%|          | 10/2100 [00:00<01:15, 27.80it/s]\u001B[A\n",
      "  1%|          | 26/2100 [00:00<00:31, 66.08it/s]\u001B[A\n",
      "  2%|▏         | 42/2100 [00:00<00:22, 93.11it/s]\u001B[A\n",
      "  3%|▎         | 59/2100 [00:00<00:17, 115.33it/s]\u001B[A\n",
      "  4%|▎         | 78/2100 [00:00<00:14, 135.45it/s]\u001B[A\n",
      "  5%|▍         | 97/2100 [00:00<00:13, 150.85it/s]\u001B[A\n",
      "  6%|▌         | 116/2100 [00:01<00:12, 160.83it/s]\u001B[A\n",
      "  6%|▋         | 134/2100 [00:01<00:11, 166.22it/s]\u001B[A\n",
      "  7%|▋         | 152/2100 [00:01<00:11, 169.10it/s]\u001B[A\n",
      "  8%|▊         | 170/2100 [00:01<00:11, 166.16it/s]\u001B[A\n",
      "  9%|▉         | 190/2100 [00:01<00:10, 175.38it/s]\u001B[A\n",
      " 10%|█         | 210/2100 [00:01<00:10, 181.83it/s]\u001B[A\n",
      " 11%|█         | 230/2100 [00:01<00:10, 185.10it/s]\u001B[A\n",
      " 12%|█▏        | 249/2100 [00:01<00:10, 178.93it/s]\u001B[A\n",
      " 13%|█▎        | 268/2100 [00:01<00:10, 177.08it/s]\u001B[A\n",
      " 14%|█▎        | 286/2100 [00:01<00:10, 177.11it/s]\u001B[A\n",
      " 14%|█▍        | 304/2100 [00:02<00:10, 176.00it/s]\u001B[A\n",
      " 15%|█▌        | 323/2100 [00:02<00:09, 179.31it/s]\u001B[A\n",
      " 16%|█▌        | 341/2100 [00:02<00:09, 176.43it/s]\u001B[A\n",
      " 17%|█▋        | 359/2100 [00:02<00:09, 175.87it/s]\u001B[A\n",
      " 18%|█▊        | 377/2100 [00:02<00:09, 177.05it/s]\u001B[A\n",
      " 19%|█▉        | 395/2100 [00:02<00:09, 177.27it/s]\u001B[A\n",
      " 20%|█▉        | 413/2100 [00:02<00:09, 177.31it/s]\u001B[A\n",
      " 21%|██        | 433/2100 [00:02<00:09, 183.32it/s]\u001B[A\n",
      " 22%|██▏       | 453/2100 [00:02<00:08, 186.15it/s]\u001B[A\n",
      " 23%|██▎       | 473/2100 [00:02<00:08, 187.78it/s]\u001B[A\n",
      " 23%|██▎       | 492/2100 [00:03<00:08, 185.71it/s]\u001B[A\n",
      " 24%|██▍       | 511/2100 [00:03<00:08, 180.70it/s]\u001B[A\n",
      " 25%|██▌       | 530/2100 [00:03<00:08, 178.53it/s]\u001B[A\n",
      " 26%|██▌       | 548/2100 [00:03<00:08, 176.91it/s]\u001B[A\n",
      " 27%|██▋       | 568/2100 [00:03<00:08, 182.30it/s]\u001B[A\n",
      " 28%|██▊       | 588/2100 [00:03<00:08, 187.29it/s]\u001B[A\n",
      " 29%|██▉       | 608/2100 [00:03<00:07, 190.06it/s]\u001B[A\n",
      " 30%|██▉       | 629/2100 [00:03<00:07, 195.05it/s]\u001B[A\n",
      " 31%|███       | 649/2100 [00:03<00:07, 195.04it/s]\u001B[A\n",
      " 32%|███▏      | 669/2100 [00:04<00:07, 194.89it/s]\u001B[A\n",
      " 33%|███▎      | 689/2100 [00:04<00:07, 195.43it/s]\u001B[A\n",
      " 34%|███▍      | 709/2100 [00:04<00:07, 194.89it/s]\u001B[A\n",
      " 35%|███▍      | 729/2100 [00:04<00:07, 194.46it/s]\u001B[A\n",
      " 36%|███▌      | 749/2100 [00:04<00:06, 194.69it/s]\u001B[A\n",
      " 37%|███▋      | 769/2100 [00:04<00:06, 194.41it/s]\u001B[A\n",
      " 38%|███▊      | 789/2100 [00:04<00:06, 192.99it/s]\u001B[A\n",
      " 39%|███▊      | 809/2100 [00:04<00:06, 194.90it/s]\u001B[A\n",
      " 39%|███▉      | 829/2100 [00:04<00:06, 194.33it/s]\u001B[A\n",
      " 40%|████      | 850/2100 [00:04<00:06, 197.91it/s]\u001B[A\n",
      " 41%|████▏     | 870/2100 [00:05<00:06, 198.15it/s]\u001B[A\n",
      " 42%|████▏     | 891/2100 [00:05<00:06, 201.05it/s]\u001B[A\n",
      " 43%|████▎     | 912/2100 [00:05<00:05, 201.72it/s]\u001B[A\n",
      " 44%|████▍     | 933/2100 [00:05<00:05, 197.83it/s]\u001B[A\n",
      " 45%|████▌     | 955/2100 [00:05<00:05, 202.67it/s]\u001B[A\n",
      " 46%|████▋     | 976/2100 [00:05<00:05, 204.70it/s]\u001B[A\n",
      " 47%|████▋     | 997/2100 [00:05<00:05, 203.21it/s]\u001B[A\n",
      " 48%|████▊     | 1018/2100 [00:05<00:05, 201.32it/s]\u001B[A\n",
      " 49%|████▉     | 1039/2100 [00:05<00:05, 193.55it/s]\u001B[A\n",
      " 50%|█████     | 1059/2100 [00:06<00:05, 190.25it/s]\u001B[A\n",
      " 51%|█████▏    | 1079/2100 [00:06<00:05, 186.95it/s]\u001B[A\n",
      " 52%|█████▏    | 1098/2100 [00:06<00:05, 181.47it/s]\u001B[A\n",
      " 53%|█████▎    | 1117/2100 [00:06<00:05, 174.40it/s]\u001B[A\n",
      " 54%|█████▍    | 1136/2100 [00:06<00:05, 176.81it/s]\u001B[A\n",
      " 55%|█████▍    | 1154/2100 [00:06<00:05, 176.07it/s]\u001B[A\n",
      " 56%|█████▌    | 1172/2100 [00:06<00:05, 176.46it/s]\u001B[A\n",
      " 57%|█████▋    | 1190/2100 [00:06<00:05, 175.42it/s]\u001B[A\n",
      " 58%|█████▊    | 1209/2100 [00:06<00:05, 177.65it/s]\u001B[A\n",
      " 58%|█████▊    | 1227/2100 [00:06<00:04, 177.89it/s]\u001B[A\n",
      " 59%|█████▉    | 1245/2100 [00:07<00:04, 177.47it/s]\u001B[A\n",
      " 60%|██████    | 1263/2100 [00:07<00:04, 175.93it/s]\u001B[A\n",
      " 61%|██████    | 1282/2100 [00:07<00:04, 177.76it/s]\u001B[A\n",
      " 62%|██████▏   | 1302/2100 [00:07<00:04, 184.04it/s]\u001B[A\n",
      " 63%|██████▎   | 1321/2100 [00:07<00:04, 180.78it/s]\u001B[A\n",
      " 64%|██████▍   | 1342/2100 [00:07<00:04, 187.35it/s]\u001B[A\n",
      " 65%|██████▍   | 1361/2100 [00:07<00:03, 185.59it/s]\u001B[A\n",
      " 66%|██████▌   | 1380/2100 [00:07<00:03, 183.67it/s]\u001B[A\n",
      " 67%|██████▋   | 1400/2100 [00:07<00:03, 187.47it/s]\u001B[A\n",
      " 68%|██████▊   | 1422/2100 [00:08<00:03, 195.32it/s]\u001B[A\n",
      " 69%|██████▉   | 1444/2100 [00:08<00:03, 199.70it/s]\u001B[A\n",
      " 70%|██████▉   | 1466/2100 [00:08<00:03, 204.70it/s]\u001B[A\n",
      " 71%|███████   | 1487/2100 [00:08<00:03, 196.17it/s]\u001B[A\n",
      " 72%|███████▏  | 1507/2100 [00:08<00:03, 191.97it/s]\u001B[A\n",
      " 73%|███████▎  | 1527/2100 [00:08<00:03, 188.06it/s]\u001B[A\n",
      " 74%|███████▎  | 1546/2100 [00:08<00:02, 187.57it/s]\u001B[A\n",
      " 75%|███████▍  | 1565/2100 [00:08<00:02, 186.07it/s]\u001B[A\n",
      " 75%|███████▌  | 1584/2100 [00:08<00:02, 185.81it/s]\u001B[A\n",
      " 76%|███████▋  | 1603/2100 [00:08<00:02, 184.89it/s]\u001B[A\n",
      " 77%|███████▋  | 1622/2100 [00:09<00:02, 184.75it/s]\u001B[A\n",
      " 78%|███████▊  | 1642/2100 [00:09<00:02, 187.98it/s]\u001B[A\n",
      " 79%|███████▉  | 1663/2100 [00:09<00:02, 192.12it/s]\u001B[A\n",
      " 80%|████████  | 1683/2100 [00:09<00:02, 190.69it/s]\u001B[A\n",
      " 81%|████████  | 1704/2100 [00:09<00:02, 195.09it/s]\u001B[A\n",
      " 82%|████████▏ | 1724/2100 [00:09<00:01, 195.09it/s]\u001B[A\n",
      " 83%|████████▎ | 1744/2100 [00:09<00:01, 188.93it/s]\u001B[A\n",
      " 84%|████████▍ | 1763/2100 [00:09<00:01, 181.29it/s]\u001B[A\n",
      " 85%|████████▍ | 1782/2100 [00:09<00:01, 180.32it/s]\u001B[A\n",
      " 86%|████████▌ | 1803/2100 [00:10<00:01, 187.10it/s]\u001B[A\n",
      " 87%|████████▋ | 1824/2100 [00:10<00:01, 192.33it/s]\u001B[A\n",
      " 88%|████████▊ | 1845/2100 [00:10<00:01, 195.99it/s]\u001B[A\n",
      " 89%|████████▉ | 1865/2100 [00:10<00:01, 191.81it/s]\u001B[A\n",
      " 90%|████████▉ | 1885/2100 [00:10<00:01, 189.56it/s]\u001B[A\n",
      " 91%|█████████ | 1906/2100 [00:10<00:01, 193.92it/s]\u001B[A\n",
      " 92%|█████████▏| 1926/2100 [00:10<00:00, 189.21it/s]\u001B[A\n",
      " 93%|█████████▎| 1948/2100 [00:10<00:00, 195.80it/s]\u001B[A\n",
      " 94%|█████████▎| 1968/2100 [00:10<00:00, 195.05it/s]\u001B[A\n",
      " 95%|█████████▍| 1989/2100 [00:10<00:00, 199.28it/s]\u001B[A\n",
      " 96%|█████████▌| 2011/2100 [00:11<00:00, 203.06it/s]\u001B[A\n",
      " 97%|█████████▋| 2033/2100 [00:11<00:00, 205.45it/s]\u001B[A\n",
      " 98%|█████████▊| 2054/2100 [00:11<00:00, 206.38it/s]\u001B[A\n",
      " 99%|█████████▉| 2075/2100 [00:11<00:00, 205.47it/s]\u001B[A\n",
      "100%|██████████| 2100/2100 [00:11<00:00, 182.31it/s]\u001B[A\n"
     ]
    },
    {
     "name": "stdout",
     "output_type": "stream",
     "text": [
      "Created a list of 2100 random noises of shape torch.Size([3, 3601])\n",
      "stack to tensor\n",
      "Stacked to tensor of shape torch.Size([2100, 3, 3601])\n",
      "Trimmed 2100 noise traces to shape torch.Size([2100, 3, 3001])\n"
     ]
    },
    {
     "name": "stderr",
     "output_type": "stream",
     "text": [
      "\n",
      "  0%|          | 0/2100 [00:00<?, ?it/s]\u001B[A\n",
      "  2%|▏         | 43/2100 [00:00<00:04, 424.84it/s]\u001B[A\n",
      "  4%|▍         | 87/2100 [00:00<00:04, 430.85it/s]\u001B[A\n",
      "  7%|▋         | 138/2100 [00:00<00:04, 463.56it/s]\u001B[A\n",
      "  9%|▉         | 188/2100 [00:00<00:04, 477.78it/s]\u001B[A\n",
      " 11%|█▏        | 238/2100 [00:00<00:03, 485.43it/s]\u001B[A\n",
      " 14%|█▍        | 290/2100 [00:00<00:03, 494.64it/s]\u001B[A\n",
      " 16%|█▌        | 341/2100 [00:00<00:03, 499.46it/s]\u001B[A\n",
      " 19%|█▊        | 391/2100 [00:00<00:03, 491.50it/s]\u001B[A\n",
      " 21%|██        | 443/2100 [00:00<00:03, 498.03it/s]\u001B[A\n",
      " 24%|██▎       | 494/2100 [00:01<00:03, 499.22it/s]\u001B[A\n",
      " 26%|██▌       | 544/2100 [00:01<00:03, 472.46it/s]\u001B[A\n",
      " 28%|██▊       | 595/2100 [00:01<00:03, 482.02it/s]\u001B[A\n",
      " 31%|███       | 646/2100 [00:01<00:02, 489.32it/s]\u001B[A\n",
      " 33%|███▎      | 698/2100 [00:01<00:02, 497.25it/s]\u001B[A\n",
      " 36%|███▌      | 750/2100 [00:01<00:02, 503.47it/s]\u001B[A\n",
      " 38%|███▊      | 803/2100 [00:01<00:02, 509.07it/s]\u001B[A\n",
      " 41%|████      | 855/2100 [00:01<00:02, 510.68it/s]\u001B[A\n",
      " 43%|████▎     | 907/2100 [00:01<00:02, 510.40it/s]\u001B[A\n",
      " 46%|████▌     | 959/2100 [00:01<00:02, 511.64it/s]\u001B[A\n",
      " 48%|████▊     | 1011/2100 [00:02<00:02, 510.12it/s]\u001B[A\n",
      " 51%|█████     | 1063/2100 [00:02<00:02, 510.64it/s]\u001B[A\n",
      " 53%|█████▎    | 1115/2100 [00:02<00:01, 510.76it/s]\u001B[A\n",
      " 56%|█████▌    | 1167/2100 [00:02<00:01, 511.75it/s]\u001B[A\n",
      " 58%|█████▊    | 1219/2100 [00:02<00:01, 513.46it/s]\u001B[A\n",
      " 61%|██████    | 1271/2100 [00:02<00:01, 481.12it/s]\u001B[A\n",
      " 63%|██████▎   | 1323/2100 [00:02<00:01, 489.76it/s]\u001B[A\n",
      " 65%|██████▌   | 1375/2100 [00:02<00:01, 496.46it/s]\u001B[A\n",
      " 68%|██████▊   | 1426/2100 [00:02<00:01, 499.71it/s]\u001B[A\n",
      " 70%|███████   | 1478/2100 [00:02<00:01, 504.38it/s]\u001B[A\n",
      " 73%|███████▎  | 1530/2100 [00:03<00:01, 507.22it/s]\u001B[A\n",
      " 75%|███████▌  | 1581/2100 [00:03<00:01, 495.72it/s]\u001B[A\n",
      " 78%|███████▊  | 1631/2100 [00:03<00:00, 481.91it/s]\u001B[A\n",
      " 80%|████████  | 1680/2100 [00:03<00:00, 476.53it/s]\u001B[A\n",
      " 82%|████████▏ | 1728/2100 [00:03<00:00, 468.33it/s]\u001B[A\n",
      " 85%|████████▍ | 1775/2100 [00:03<00:00, 468.33it/s]\u001B[A\n",
      " 87%|████████▋ | 1822/2100 [00:03<00:00, 468.55it/s]\u001B[A\n",
      " 89%|████████▉ | 1870/2100 [00:03<00:00, 470.36it/s]\u001B[A\n",
      " 91%|█████████▏| 1918/2100 [00:03<00:00, 470.59it/s]\u001B[A\n",
      " 94%|█████████▎| 1966/2100 [00:04<00:00, 471.27it/s]\u001B[A\n",
      " 96%|█████████▌| 2014/2100 [00:04<00:00, 470.19it/s]\u001B[A\n",
      "100%|██████████| 2100/2100 [00:04<00:00, 489.11it/s]\u001B[A\n"
     ]
    },
    {
     "name": "stdout",
     "output_type": "stream",
     "text": [
      "Created 2100 noisy traces\n",
      "The following indices are not included []\n"
     ]
    }
   ],
   "source": [
    "noised_traces_list, noised_traces_labels_list, augmented_noise_traces_list, factors_list, indices_not_used_list = [],[],[],[], []\n",
    "pbar = tqdm(range(NUM_NOISY_VERSIONS_PER_TRACE))\n",
    "for i in pbar:\n",
    "    # prepare full noises traces\n",
    "    augmented_noise_traces_created: torch.tensor = get_n_random_noises(num_noises=num_traces, desired_window_size=AUGMENTED_WINDOW_SIZE, noises_path=NOISES_PATH, force_resample=True, filename='aaa', sampling_rate=SAMPLING_RATE, silent_exception_prints=True).squeeze()\n",
    "\n",
    "    version_noised_traces, version_labels, version_full_noise_traces, version_factors, version_not_included_indices =  create_single_noisy_version(original_traces=dataset, original_labels=labels, augmented_noise_traces=augmented_noise_traces_created, desired_snr=DESIRED_SNR)\n",
    "    noised_traces_list.append(version_noised_traces)\n",
    "    noised_traces_labels_list.append(version_labels.unsqueeze(dim=1))\n",
    "    augmented_noise_traces_list.append(version_full_noise_traces)\n",
    "    factors_list.append(version_factors.unsqueeze(dim=1))\n",
    "    indices_not_used_list.extend(version_not_included_indices)\n",
    "    pbar.set_description(f'Lists len {len(noised_traces_list), len(noised_traces_labels_list), len(augmented_noise_traces_list), len(factors_list)}')"
   ],
   "metadata": {
    "collapsed": false
   }
  },
  {
   "cell_type": "code",
   "execution_count": 10,
   "outputs": [
    {
     "data": {
      "text/plain": "(torch.Size([2100, 3, 3001]),\n torch.Size([2100]),\n torch.Size([2100, 3, 3601]),\n torch.Size([2100]),\n torch.Size([0]))"
     },
     "execution_count": 10,
     "metadata": {},
     "output_type": "execute_result"
    }
   ],
   "source": [
    "noised_traces = torch.vstack(noised_traces_list)\n",
    "noised_traces_labels = torch.vstack(noised_traces_labels_list).squeeze()\n",
    "augmented_noise_traces = torch.vstack(augmented_noise_traces_list)\n",
    "noising_factors = torch.vstack(factors_list).squeeze()\n",
    "indices_not_used = torch.tensor(list(set(indices_not_used_list)))\n",
    "noised_traces.shape, noised_traces_labels.shape, augmented_noise_traces.shape, noising_factors.shape, indices_not_used.shape"
   ],
   "metadata": {
    "collapsed": false
   }
  },
  {
   "cell_type": "code",
   "execution_count": 11,
   "outputs": [
    {
     "data": {
      "text/plain": "'/home/moshe/datasets/GFZ/noisy_datasets/ethz_3001_sample_joachim_noises_energy_ratio_snr/noisy_dataset_snr_10'"
     },
     "execution_count": 11,
     "metadata": {},
     "output_type": "execute_result"
    }
   ],
   "source": [
    "noisy_dataset_path = os.path.join(DATASET_PATH,f'noisy_dataset_snr_{DESIRED_SNR}')\n",
    "noisy_dataset_path"
   ],
   "metadata": {
    "collapsed": false
   }
  },
  {
   "cell_type": "markdown",
   "source": [
    "## Save Noisy Indices To Files"
   ],
   "metadata": {
    "collapsed": false
   }
  },
  {
   "cell_type": "code",
   "execution_count": 12,
   "outputs": [],
   "source": [
    "assert os.path.exists(noisy_dataset_path), f'Path {noisy_dataset_path} does not exist.Create it'"
   ],
   "metadata": {
    "collapsed": false
   }
  },
  {
   "cell_type": "code",
   "execution_count": 13,
   "outputs": [],
   "source": [
    "torch.save(noised_traces, os.path.join(noisy_dataset_path, 'traces.pt'))\n",
    "torch.save(augmented_noise_traces, os.path.join(noisy_dataset_path, 'full_noise_traces.pt'))\n",
    "torch.save(noised_traces_labels, os.path.join(noisy_dataset_path, 'labels.pt'))\n",
    "torch.save(noising_factors, os.path.join(noisy_dataset_path, 'factors.pt'))\n",
    "torch.save(indices_not_used, os.path.join(noisy_dataset_path,'indices_not_used'))"
   ],
   "metadata": {
    "collapsed": false
   }
  },
  {
   "cell_type": "markdown",
   "source": [
    "## Plot Noising Example"
   ],
   "metadata": {
    "collapsed": false
   }
  },
  {
   "cell_type": "code",
   "execution_count": 14,
   "outputs": [
    {
     "data": {
      "text/plain": "<Figure size 2000x800 with 3 Axes>",
      "image/png": "[encoded data removed]"
     },
     "metadata": {},
     "output_type": "display_data"
    }
   ],
   "source": [
    "idx = 5\n",
    "trace  = noised_traces[idx]\n",
    "label  = noised_traces_labels[idx]\n",
    "factor = noising_factors[idx]\n",
    "noise = augmented_noise_traces[idx, :, :trace.shape[-1] ]\n",
    "\n",
    "fig, (ax_orig,ax_noise, ax_noised) = plt.subplots(1,3,figsize=(20,8), sharey='all')\n",
    "\n",
    "ax_orig.plot((trace - factor * noise)[0]);\n",
    "ax_orig.vlines(x=label, ymin=-1, ymax=1,  label='Onset', linestyles='dashed');\n",
    "ax_orig.set_title('Original Trace')\n",
    "ax_noise.plot(factor*noise[0]);\n",
    "ax_noise.set_title('Noise added')\n",
    "ax_noised.plot(trace[0]);\n",
    "ax_noised.set_title('Noised Trace')\n",
    "\n",
    "ax_noised.vlines(x=label, ymin=-1, ymax=1,  label='Onset', linestyles='dashed');"
   ],
   "metadata": {
    "collapsed": false
   }
  },
  {
   "cell_type": "markdown",
   "source": [
    "## A Unified Version of The Noisy Datasets"
   ],
   "metadata": {
    "collapsed": false
   }
  },
  {
   "cell_type": "markdown",
   "source": [
    "For metrics benchmark it is preferred to create several SNR datasets using the same noises. For each SNR, a single noisy version is created."
   ],
   "metadata": {
    "collapsed": false
   }
  },
  {
   "cell_type": "markdown",
   "source": [
    "First, prepare the noise that will be used for all SNR levels."
   ],
   "metadata": {
    "collapsed": false
   }
  },
  {
   "cell_type": "code",
   "execution_count": 15,
   "outputs": [
    {
     "name": "stderr",
     "output_type": "stream",
     "text": [
      "100%|██████████| 2100/2100 [00:10<00:00, 194.62it/s]\n"
     ]
    },
    {
     "name": "stdout",
     "output_type": "stream",
     "text": [
      "Created a list of 2100 random noises of shape torch.Size([3, 3601])\n",
      "stack to tensor\n",
      "Stacked to tensor of shape torch.Size([2100, 3, 3601])\n"
     ]
    }
   ],
   "source": [
    "# prepare full noises traces\n",
    "augmented_noise_traces_created: torch.tensor = get_n_random_noises(num_noises=num_traces, desired_window_size=AUGMENTED_WINDOW_SIZE, noises_path=NOISES_PATH, force_resample=True, filename='aaa', sampling_rate=SAMPLING_RATE, silent_exception_prints=True).squeeze()"
   ],
   "metadata": {
    "collapsed": false
   }
  },
  {
   "cell_type": "code",
   "execution_count": 16,
   "outputs": [
    {
     "data": {
      "text/plain": "  0%|          | 0/10 [00:00<?, ?it/s]",
      "application/vnd.jupyter.widget-view+json": {
       "version_major": 2,
       "version_minor": 0,
       "model_id": "e033863d32684be89e56e9c1944848a1"
      }
     },
     "metadata": {},
     "output_type": "display_data"
    },
    {
     "name": "stdout",
     "output_type": "stream",
     "text": [
      "Trimmed 2100 noise traces to shape torch.Size([2100, 3, 3001])\n"
     ]
    },
    {
     "name": "stderr",
     "output_type": "stream",
     "text": [
      "\n",
      "  0%|          | 0/2100 [00:00<?, ?it/s]\u001B[A\n",
      "  1%|          | 23/2100 [00:00<00:12, 160.84it/s]\u001B[A\n",
      "  2%|▏         | 49/2100 [00:00<00:11, 182.53it/s]\u001B[A\n",
      "  4%|▍         | 83/2100 [00:00<00:08, 242.31it/s]\u001B[A\n",
      "  5%|▌         | 109/2100 [00:00<00:10, 197.75it/s]\u001B[A\n",
      "  6%|▌         | 131/2100 [00:00<00:16, 117.09it/s]\u001B[A\n",
      "  7%|▋         | 147/2100 [00:01<00:21, 90.81it/s] \u001B[A\n",
      "  8%|▊         | 160/2100 [00:01<00:20, 93.32it/s]\u001B[A\n",
      "  9%|▉         | 194/2100 [00:01<00:13, 138.24it/s]\u001B[A\n",
      " 10%|█         | 220/2100 [00:01<00:12, 154.35it/s]\u001B[A\n",
      " 12%|█▏        | 254/2100 [00:01<00:10, 179.25it/s]\u001B[A\n",
      " 13%|█▎        | 283/2100 [00:01<00:09, 190.57it/s]\u001B[A\n",
      " 15%|█▍        | 305/2100 [00:01<00:09, 189.44it/s]\u001B[A\n",
      " 16%|█▌        | 326/2100 [00:02<00:09, 187.15it/s]\u001B[A\n",
      " 17%|█▋        | 354/2100 [00:02<00:08, 195.68it/s]\u001B[A\n",
      " 18%|█▊        | 375/2100 [00:02<00:10, 171.23it/s]\u001B[A\n",
      " 19%|█▊        | 393/2100 [00:02<00:10, 162.49it/s]\u001B[A\n",
      " 21%|██        | 431/2100 [00:02<00:07, 214.09it/s]\u001B[A\n",
      " 22%|██▏       | 455/2100 [00:02<00:08, 190.78it/s]\u001B[A\n",
      " 23%|██▎       | 476/2100 [00:02<00:08, 187.72it/s]\u001B[A\n",
      " 24%|██▎       | 496/2100 [00:02<00:08, 183.39it/s]\u001B[A\n",
      " 25%|██▍       | 516/2100 [00:03<00:09, 163.77it/s]\u001B[A\n",
      " 25%|██▌       | 534/2100 [00:03<00:11, 140.77it/s]\u001B[A\n",
      " 27%|██▋       | 557/2100 [00:03<00:10, 146.76it/s]\u001B[A\n",
      " 28%|██▊       | 581/2100 [00:03<00:09, 159.36it/s]\u001B[A\n",
      " 28%|██▊       | 598/2100 [00:03<00:10, 141.59it/s]\u001B[A\n",
      " 29%|██▉       | 615/2100 [00:03<00:10, 142.37it/s]\u001B[A\n",
      " 30%|███       | 631/2100 [00:03<00:10, 144.20it/s]\u001B[A\n",
      " 31%|███       | 646/2100 [00:04<00:10, 144.18it/s]\u001B[A\n",
      " 32%|███▏      | 678/2100 [00:04<00:08, 175.46it/s]\u001B[A\n",
      " 33%|███▎      | 696/2100 [00:04<00:08, 156.32it/s]\u001B[A\n",
      " 34%|███▍      | 714/2100 [00:04<00:08, 158.12it/s]\u001B[A\n",
      " 35%|███▌      | 739/2100 [00:04<00:07, 171.48it/s]\u001B[A\n",
      " 36%|███▌      | 757/2100 [00:04<00:08, 153.28it/s]\u001B[A\n",
      " 37%|███▋      | 773/2100 [00:04<00:09, 144.14it/s]\u001B[A\n",
      " 38%|███▊      | 788/2100 [00:04<00:09, 142.42it/s]\u001B[A\n",
      " 40%|████      | 841/2100 [00:05<00:05, 239.91it/s]\u001B[A\n",
      " 41%|████▏     | 867/2100 [00:05<00:06, 188.25it/s]\u001B[A\n",
      " 42%|████▏     | 889/2100 [00:05<00:07, 158.38it/s]\u001B[A\n",
      " 43%|████▎     | 908/2100 [00:05<00:08, 144.07it/s]\u001B[A\n",
      " 44%|████▍     | 925/2100 [00:05<00:08, 139.43it/s]\u001B[A\n",
      " 45%|████▌     | 950/2100 [00:05<00:07, 156.35it/s]\u001B[A\n",
      " 46%|████▌     | 967/2100 [00:06<00:07, 143.45it/s]\u001B[A\n",
      " 47%|████▋     | 986/2100 [00:06<00:07, 148.68it/s]\u001B[A\n",
      " 48%|████▊     | 1015/2100 [00:06<00:06, 167.57it/s]\u001B[A\n",
      " 49%|████▉     | 1033/2100 [00:06<00:06, 156.21it/s]\u001B[A\n",
      " 50%|████▉     | 1049/2100 [00:06<00:07, 150.14it/s]\u001B[A\n",
      " 51%|█████     | 1065/2100 [00:06<00:07, 133.54it/s]\u001B[A\n",
      " 51%|█████▏    | 1079/2100 [00:06<00:07, 131.42it/s]\u001B[A\n",
      " 52%|█████▏    | 1095/2100 [00:06<00:07, 130.35it/s]\u001B[A\n",
      " 53%|█████▎    | 1121/2100 [00:07<00:06, 154.28it/s]\u001B[A\n",
      " 55%|█████▍    | 1150/2100 [00:07<00:05, 175.84it/s]\u001B[A\n",
      " 57%|█████▋    | 1187/2100 [00:07<00:04, 223.79it/s]\u001B[A\n",
      " 58%|█████▊    | 1211/2100 [00:07<00:04, 196.40it/s]\u001B[A\n",
      " 59%|█████▊    | 1232/2100 [00:07<00:05, 161.95it/s]\u001B[A\n",
      " 60%|█████▉    | 1250/2100 [00:07<00:05, 143.97it/s]\u001B[A\n",
      " 60%|██████    | 1266/2100 [00:07<00:05, 144.10it/s]\u001B[A\n",
      " 61%|██████    | 1282/2100 [00:08<00:05, 145.32it/s]\u001B[A\n",
      " 63%|██████▎   | 1314/2100 [00:08<00:04, 187.87it/s]\u001B[A\n",
      " 64%|██████▍   | 1339/2100 [00:08<00:03, 203.32it/s]\u001B[A\n",
      " 66%|██████▌   | 1378/2100 [00:08<00:03, 235.84it/s]\u001B[A\n",
      " 67%|██████▋   | 1403/2100 [00:08<00:03, 191.79it/s]\u001B[A\n",
      " 68%|██████▊   | 1424/2100 [00:08<00:04, 167.65it/s]\u001B[A\n",
      " 69%|██████▉   | 1456/2100 [00:08<00:03, 184.70it/s]\u001B[A\n",
      " 71%|███████   | 1482/2100 [00:09<00:03, 186.95it/s]\u001B[A\n",
      " 72%|███████▏  | 1502/2100 [00:09<00:03, 180.29it/s]\u001B[A\n",
      " 73%|███████▎  | 1531/2100 [00:09<00:02, 206.16it/s]\u001B[A\n",
      " 74%|███████▍  | 1553/2100 [00:09<00:02, 196.45it/s]\u001B[A\n",
      " 75%|███████▍  | 1574/2100 [00:09<00:03, 155.76it/s]\u001B[A\n",
      " 76%|███████▌  | 1592/2100 [00:09<00:03, 157.36it/s]\u001B[A\n",
      " 77%|███████▋  | 1609/2100 [00:09<00:03, 156.85it/s]\u001B[A\n",
      " 77%|███████▋  | 1626/2100 [00:09<00:03, 143.28it/s]\u001B[A\n",
      " 78%|███████▊  | 1642/2100 [00:10<00:03, 131.83it/s]\u001B[A\n",
      " 80%|███████▉  | 1671/2100 [00:10<00:02, 158.73it/s]\u001B[A\n",
      " 81%|████████  | 1705/2100 [00:10<00:01, 201.96it/s]\u001B[A\n",
      " 82%|████████▏ | 1727/2100 [00:10<00:02, 180.83it/s]\u001B[A\n",
      " 83%|████████▎ | 1747/2100 [00:10<00:02, 164.89it/s]\u001B[A\n",
      " 84%|████████▍ | 1773/2100 [00:10<00:01, 177.66it/s]\u001B[A\n",
      " 86%|████████▌ | 1811/2100 [00:10<00:01, 225.39it/s]\u001B[A\n",
      " 87%|████████▋ | 1836/2100 [00:11<00:01, 170.34it/s]\u001B[A\n",
      " 88%|████████▊ | 1857/2100 [00:11<00:01, 170.55it/s]\u001B[A\n",
      " 89%|████████▉ | 1877/2100 [00:11<00:01, 167.97it/s]\u001B[A\n",
      " 90%|█████████ | 1896/2100 [00:11<00:01, 154.82it/s]\u001B[A\n",
      " 91%|█████████ | 1913/2100 [00:11<00:01, 155.61it/s]\u001B[A\n",
      " 92%|█████████▏| 1930/2100 [00:11<00:01, 155.58it/s]\u001B[A\n",
      " 93%|█████████▎| 1953/2100 [00:11<00:00, 166.92it/s]\u001B[A\n",
      " 94%|█████████▍| 1973/2100 [00:11<00:00, 170.00it/s]\u001B[A\n",
      " 95%|█████████▍| 1991/2100 [00:12<00:00, 168.36it/s]\u001B[A\n",
      " 96%|█████████▌| 2017/2100 [00:12<00:00, 181.68it/s]\u001B[A\n",
      " 97%|█████████▋| 2040/2100 [00:12<00:00, 185.09it/s]\u001B[A\n",
      " 99%|█████████▊| 2072/2100 [00:12<00:00, 203.12it/s]\u001B[A\n",
      "100%|██████████| 2100/2100 [00:12<00:00, 166.76it/s]\u001B[A\n"
     ]
    },
    {
     "name": "stdout",
     "output_type": "stream",
     "text": [
      "Created 1892 noisy traces\n",
      "The following indices are not included [19, 22, 39, 48, 67, 93, 106, 107, 113, 115, 116, 117, 118, 123, 128, 130, 131, 132, 133, 137, 141, 145, 148, 159, 193, 201, 219, 228, 253, 280, 282, 288, 300, 308, 318, 340, 353, 357, 360, 373, 378, 388, 407, 440, 451, 453, 467, 472, 492, 493, 499, 505, 511, 521, 524, 535, 556, 560, 580, 581, 588, 597, 610, 614, 617, 630, 639, 640, 651, 677, 688, 689, 695, 707, 713, 716, 738, 746, 747, 750, 764, 767, 776, 781, 846, 848, 865, 878, 882, 886, 889, 894, 902, 910, 911, 935, 949, 952, 958, 966, 984, 985, 997, 1014, 1015, 1019, 1039, 1046, 1049, 1054, 1064, 1072, 1077, 1085, 1094, 1103, 1120, 1141, 1149, 1166, 1192, 1193, 1209, 1211, 1216, 1221, 1222, 1232, 1239, 1249, 1251, 1252, 1268, 1277, 1300, 1328, 1377, 1386, 1388, 1400, 1411, 1417, 1423, 1442, 1455, 1462, 1481, 1493, 1497, 1503, 1540, 1544, 1553, 1555, 1558, 1559, 1585, 1589, 1595, 1606, 1611, 1613, 1615, 1632, 1634, 1641, 1657, 1670, 1674, 1712, 1721, 1725, 1735, 1737, 1740, 1754, 1772, 1810, 1820, 1823, 1825, 1829, 1832, 1845, 1852, 1861, 1872, 1879, 1883, 1885, 1904, 1909, 1914, 1929, 1939, 1952, 1953, 1972, 1976, 1978, 2013, 2016, 2033, 2039, 2043, 2071, 2079, 2098]\n",
      "Trimmed 2100 noise traces to shape torch.Size([2100, 3, 3001])\n"
     ]
    },
    {
     "name": "stderr",
     "output_type": "stream",
     "text": [
      "\n",
      "  0%|          | 0/2100 [00:00<?, ?it/s]\u001B[A\n",
      "  2%|▏         | 36/2100 [00:00<00:05, 356.20it/s]\u001B[A\n",
      "  3%|▎         | 72/2100 [00:00<00:07, 267.30it/s]\u001B[A\n",
      "  6%|▌         | 116/2100 [00:00<00:06, 313.85it/s]\u001B[A\n",
      "  7%|▋         | 149/2100 [00:00<00:10, 177.50it/s]\u001B[A\n",
      " 10%|▉         | 209/2100 [00:00<00:07, 266.82it/s]\u001B[A\n",
      " 12%|█▏        | 246/2100 [00:00<00:07, 263.81it/s]\u001B[A\n",
      " 13%|█▎        | 281/2100 [00:01<00:06, 282.64it/s]\u001B[A\n",
      " 15%|█▌        | 315/2100 [00:01<00:06, 265.33it/s]\u001B[A\n",
      " 17%|█▋        | 348/2100 [00:01<00:06, 280.07it/s]\u001B[A\n",
      " 18%|█▊        | 379/2100 [00:01<00:07, 237.74it/s]\u001B[A\n",
      " 20%|█▉        | 413/2100 [00:01<00:06, 260.92it/s]\u001B[A\n",
      " 21%|██▏       | 447/2100 [00:01<00:05, 280.37it/s]\u001B[A\n",
      " 23%|██▎       | 478/2100 [00:01<00:06, 235.11it/s]\u001B[A\n",
      " 24%|██▍       | 505/2100 [00:02<00:07, 209.26it/s]\u001B[A\n",
      " 25%|██▌       | 529/2100 [00:02<00:07, 201.62it/s]\u001B[A\n",
      " 28%|██▊       | 578/2100 [00:02<00:05, 267.03it/s]\u001B[A\n",
      " 29%|██▉       | 608/2100 [00:02<00:05, 253.11it/s]\u001B[A\n",
      " 31%|███       | 643/2100 [00:02<00:05, 275.78it/s]\u001B[A\n",
      " 33%|███▎      | 689/2100 [00:02<00:04, 306.97it/s]\u001B[A\n",
      " 34%|███▍      | 722/2100 [00:02<00:04, 283.35it/s]\u001B[A\n",
      " 36%|███▌      | 752/2100 [00:02<00:05, 265.24it/s]\u001B[A\n",
      " 37%|███▋      | 782/2100 [00:03<00:05, 253.39it/s]\u001B[A\n",
      " 40%|███▉      | 838/2100 [00:03<00:03, 329.18it/s]\u001B[A\n",
      " 42%|████▏     | 887/2100 [00:03<00:03, 348.91it/s]\u001B[A\n",
      " 44%|████▍     | 924/2100 [00:03<00:03, 317.50it/s]\u001B[A\n",
      " 46%|████▌     | 967/2100 [00:03<00:03, 333.58it/s]\u001B[A\n",
      " 48%|████▊     | 1002/2100 [00:03<00:03, 279.70it/s]\u001B[A\n",
      " 49%|████▉     | 1032/2100 [00:03<00:04, 236.35it/s]\u001B[A\n",
      " 50%|█████     | 1058/2100 [00:04<00:04, 227.29it/s]\u001B[A\n",
      " 52%|█████▏    | 1092/2100 [00:04<00:03, 252.68it/s]\u001B[A\n",
      " 53%|█████▎    | 1120/2100 [00:04<00:04, 241.48it/s]\u001B[A\n",
      " 55%|█████▌    | 1155/2100 [00:04<00:03, 267.26it/s]\u001B[A\n",
      " 57%|█████▋    | 1201/2100 [00:04<00:02, 316.86it/s]\u001B[A\n",
      " 59%|█████▉    | 1235/2100 [00:04<00:02, 289.16it/s]\u001B[A\n",
      " 60%|██████    | 1266/2100 [00:04<00:03, 245.74it/s]\u001B[A\n",
      " 62%|██████▏   | 1300/2100 [00:04<00:02, 267.42it/s]\u001B[A\n",
      " 64%|██████▎   | 1335/2100 [00:04<00:02, 287.65it/s]\u001B[A\n",
      " 66%|██████▋   | 1394/2100 [00:05<00:01, 366.73it/s]\u001B[A\n",
      " 68%|██████▊   | 1434/2100 [00:05<00:02, 329.23it/s]\u001B[A\n",
      " 70%|███████   | 1470/2100 [00:05<00:01, 328.67it/s]\u001B[A\n",
      " 72%|███████▏  | 1505/2100 [00:05<00:02, 273.88it/s]\u001B[A\n",
      " 73%|███████▎  | 1541/2100 [00:05<00:01, 290.64it/s]\u001B[A\n",
      " 75%|███████▍  | 1573/2100 [00:05<00:01, 273.04it/s]\u001B[A\n",
      " 77%|███████▋  | 1607/2100 [00:05<00:01, 288.53it/s]\u001B[A\n",
      " 78%|███████▊  | 1638/2100 [00:06<00:01, 243.94it/s]\u001B[A\n",
      " 80%|███████▉  | 1671/2100 [00:06<00:01, 263.27it/s]\u001B[A\n",
      " 82%|████████▏ | 1713/2100 [00:06<00:01, 291.09it/s]\u001B[A\n",
      " 83%|████████▎ | 1744/2100 [00:06<00:01, 256.31it/s]\u001B[A\n",
      " 85%|████████▍ | 1777/2100 [00:06<00:01, 274.03it/s]\u001B[A\n",
      " 86%|████████▌ | 1811/2100 [00:06<00:01, 282.32it/s]\u001B[A\n",
      " 88%|████████▊ | 1841/2100 [00:06<00:01, 234.63it/s]\u001B[A\n",
      " 89%|████████▉ | 1867/2100 [00:06<00:01, 223.82it/s]\u001B[A\n",
      " 91%|█████████ | 1905/2100 [00:07<00:00, 257.07it/s]\u001B[A\n",
      " 94%|█████████▎| 1964/2100 [00:07<00:00, 340.14it/s]\u001B[A\n",
      " 95%|█████████▌| 2001/2100 [00:07<00:00, 309.94it/s]\u001B[A\n",
      " 97%|█████████▋| 2035/2100 [00:07<00:00, 317.47it/s]\u001B[A\n",
      "100%|██████████| 2100/2100 [00:07<00:00, 274.71it/s]\u001B[A\n"
     ]
    },
    {
     "name": "stdout",
     "output_type": "stream",
     "text": [
      "Created 2007 noisy traces\n",
      "The following indices are not included [39, 48, 115, 116, 123, 130, 132, 133, 141, 148, 219, 228, 280, 282, 300, 340, 353, 360, 378, 407, 440, 451, 453, 472, 492, 493, 499, 521, 524, 580, 588, 639, 688, 713, 716, 747, 750, 776, 781, 886, 889, 910, 966, 984, 985, 997, 1014, 1015, 1019, 1039, 1054, 1064, 1094, 1103, 1141, 1222, 1232, 1239, 1251, 1252, 1277, 1328, 1400, 1411, 1442, 1481, 1497, 1503, 1540, 1553, 1558, 1606, 1611, 1615, 1634, 1641, 1712, 1725, 1735, 1754, 1810, 1820, 1823, 1825, 1845, 1852, 1904, 1972, 1976, 2033, 2043, 2071, 2079]\n",
      "Trimmed 2100 noise traces to shape torch.Size([2100, 3, 3001])\n"
     ]
    },
    {
     "name": "stderr",
     "output_type": "stream",
     "text": [
      "\n",
      "  0%|          | 0/2100 [00:00<?, ?it/s]\u001B[A\n",
      "  1%|          | 25/2100 [00:00<00:08, 247.29it/s]\u001B[A\n",
      "  2%|▏         | 50/2100 [00:00<00:10, 204.13it/s]\u001B[A\n",
      "  4%|▍         | 89/2100 [00:00<00:07, 279.32it/s]\u001B[A\n",
      "  6%|▌         | 124/2100 [00:00<00:06, 302.97it/s]\u001B[A\n",
      "  7%|▋         | 156/2100 [00:00<00:08, 220.34it/s]\u001B[A\n",
      " 10%|█         | 213/2100 [00:00<00:06, 309.87it/s]\u001B[A\n",
      " 12%|█▏        | 249/2100 [00:00<00:05, 317.67it/s]\u001B[A\n",
      " 14%|█▍        | 301/2100 [00:01<00:05, 341.06it/s]\u001B[A\n",
      " 17%|█▋        | 354/2100 [00:01<00:04, 356.50it/s]\u001B[A\n",
      " 20%|█▉        | 410/2100 [00:01<00:04, 406.73it/s]\u001B[A\n",
      " 22%|██▏       | 453/2100 [00:01<00:04, 356.61it/s]\u001B[A\n",
      " 23%|██▎       | 491/2100 [00:01<00:04, 322.02it/s]\u001B[A\n",
      " 25%|██▌       | 526/2100 [00:01<00:05, 271.44it/s]\u001B[A\n",
      " 28%|██▊       | 582/2100 [00:01<00:04, 334.53it/s]\u001B[A\n",
      " 30%|███       | 640/2100 [00:01<00:04, 358.75it/s]\u001B[A\n",
      " 33%|███▎      | 687/2100 [00:02<00:03, 384.71it/s]\u001B[A\n",
      " 35%|███▍      | 729/2100 [00:02<00:03, 380.42it/s]\u001B[A\n",
      " 37%|███▋      | 769/2100 [00:02<00:03, 341.74it/s]\u001B[A\n",
      " 38%|███▊      | 805/2100 [00:02<00:04, 298.98it/s]\u001B[A\n",
      " 40%|████      | 848/2100 [00:02<00:03, 329.10it/s]\u001B[A\n",
      " 42%|████▏     | 887/2100 [00:02<00:03, 334.07it/s]\u001B[A\n",
      " 45%|████▌     | 945/2100 [00:02<00:02, 395.76it/s]\u001B[A\n",
      " 47%|████▋     | 987/2100 [00:02<00:03, 352.79it/s]\u001B[A\n",
      " 49%|████▉     | 1025/2100 [00:03<00:03, 295.84it/s]\u001B[A\n",
      " 50%|█████     | 1058/2100 [00:03<00:03, 279.80it/s]\u001B[A\n",
      " 53%|█████▎    | 1104/2100 [00:03<00:03, 306.53it/s]\u001B[A\n",
      " 54%|█████▍    | 1142/2100 [00:03<00:03, 318.74it/s]\u001B[A\n",
      " 57%|█████▋    | 1199/2100 [00:03<00:02, 381.81it/s]\u001B[A\n",
      " 60%|█████▉    | 1252/2100 [00:03<00:02, 389.16it/s]\u001B[A\n",
      " 62%|██████▏   | 1293/2100 [00:03<00:02, 383.19it/s]\u001B[A\n",
      " 64%|██████▍   | 1352/2100 [00:03<00:01, 436.30it/s]\u001B[A\n",
      " 67%|██████▋   | 1401/2100 [00:04<00:01, 421.34it/s]\u001B[A\n",
      " 69%|██████▉   | 1445/2100 [00:04<00:01, 401.74it/s]\u001B[A\n",
      " 72%|███████▏  | 1502/2100 [00:04<00:01, 444.68it/s]\u001B[A\n",
      " 74%|███████▎  | 1548/2100 [00:04<00:01, 423.47it/s]\u001B[A\n",
      " 76%|███████▌  | 1592/2100 [00:04<00:01, 368.26it/s]\u001B[A\n",
      " 78%|███████▊  | 1631/2100 [00:04<00:01, 363.01it/s]\u001B[A\n",
      " 79%|███████▉  | 1669/2100 [00:04<00:01, 359.98it/s]\u001B[A\n",
      " 82%|████████▏ | 1713/2100 [00:04<00:01, 362.50it/s]\u001B[A\n",
      " 83%|████████▎ | 1750/2100 [00:05<00:01, 346.21it/s]\u001B[A\n",
      " 85%|████████▌ | 1785/2100 [00:05<00:00, 344.42it/s]\u001B[A\n",
      " 87%|████████▋ | 1820/2100 [00:05<00:00, 343.48it/s]\u001B[A\n",
      " 88%|████████▊ | 1855/2100 [00:05<00:00, 282.03it/s]\u001B[A\n",
      " 91%|█████████ | 1913/2100 [00:05<00:00, 354.47it/s]\u001B[A\n",
      " 94%|█████████▍| 1971/2100 [00:05<00:00, 411.39it/s]\u001B[A\n",
      " 97%|█████████▋| 2028/2100 [00:05<00:00, 453.50it/s]\u001B[A\n",
      "100%|██████████| 2100/2100 [00:05<00:00, 355.03it/s]\u001B[A\n"
     ]
    },
    {
     "name": "stdout",
     "output_type": "stream",
     "text": [
      "Created 2050 noisy traces\n",
      "The following indices are not included [39, 48, 123, 130, 132, 141, 148, 219, 300, 353, 440, 451, 453, 472, 493, 499, 524, 639, 688, 747, 750, 776, 781, 886, 966, 984, 997, 1014, 1019, 1039, 1054, 1103, 1141, 1251, 1252, 1400, 1442, 1540, 1553, 1558, 1611, 1641, 1712, 1725, 1754, 1810, 1820, 1825, 1852, 2033]\n",
      "Trimmed 2100 noise traces to shape torch.Size([2100, 3, 3001])\n"
     ]
    },
    {
     "name": "stderr",
     "output_type": "stream",
     "text": [
      "\n",
      "  0%|          | 0/2100 [00:00<?, ?it/s]\u001B[A\n",
      "  1%|          | 23/2100 [00:00<00:09, 225.76it/s]\u001B[A\n",
      "  2%|▏         | 52/2100 [00:00<00:07, 260.94it/s]\u001B[A\n",
      "  5%|▍         | 98/2100 [00:00<00:05, 350.78it/s]\u001B[A\n",
      "  6%|▋         | 134/2100 [00:00<00:05, 332.75it/s]\u001B[A\n",
      "  8%|▊         | 168/2100 [00:00<00:05, 331.79it/s]\u001B[A\n",
      " 10%|█         | 220/2100 [00:00<00:05, 350.38it/s]\u001B[A\n",
      " 13%|█▎        | 272/2100 [00:00<00:04, 399.02it/s]\u001B[A\n",
      " 15%|█▍        | 313/2100 [00:00<00:04, 384.69it/s]\u001B[A\n",
      " 18%|█▊        | 369/2100 [00:00<00:03, 434.98it/s]\u001B[A\n",
      " 20%|██        | 425/2100 [00:01<00:03, 470.42it/s]\u001B[A\n",
      " 23%|██▎       | 473/2100 [00:01<00:04, 398.39it/s]\u001B[A\n",
      " 25%|██▍       | 516/2100 [00:01<00:04, 375.65it/s]\u001B[A\n",
      " 27%|██▋       | 566/2100 [00:01<00:03, 406.96it/s]\u001B[A\n",
      " 29%|██▉       | 616/2100 [00:01<00:03, 429.86it/s]\u001B[A\n",
      " 31%|███▏      | 661/2100 [00:01<00:03, 392.98it/s]\u001B[A\n",
      " 34%|███▍      | 714/2100 [00:01<00:03, 428.37it/s]\u001B[A\n",
      " 36%|███▌      | 759/2100 [00:01<00:03, 410.93it/s]\u001B[A\n",
      " 38%|███▊      | 802/2100 [00:02<00:03, 347.91it/s]\u001B[A\n",
      " 41%|████      | 854/2100 [00:02<00:03, 388.60it/s]\u001B[A\n",
      " 43%|████▎     | 904/2100 [00:02<00:02, 417.02it/s]\u001B[A\n",
      " 46%|████▌     | 956/2100 [00:02<00:02, 443.26it/s]\u001B[A\n",
      " 48%|████▊     | 1003/2100 [00:02<00:02, 405.28it/s]\u001B[A\n",
      " 50%|████▉     | 1046/2100 [00:02<00:02, 389.07it/s]\u001B[A\n",
      " 52%|█████▏    | 1100/2100 [00:02<00:02, 428.39it/s]\u001B[A\n",
      " 55%|█████▍    | 1145/2100 [00:02<00:02, 404.25it/s]\u001B[A\n",
      " 57%|█████▋    | 1199/2100 [00:03<00:02, 438.46it/s]\u001B[A\n",
      " 60%|█████▉    | 1252/2100 [00:03<00:02, 420.59it/s]\u001B[A\n",
      " 62%|██████▏   | 1307/2100 [00:03<00:01, 454.37it/s]\u001B[A\n",
      " 65%|██████▍   | 1362/2100 [00:03<00:01, 479.56it/s]\u001B[A\n",
      " 67%|██████▋   | 1413/2100 [00:03<00:01, 487.71it/s]\u001B[A\n",
      " 70%|██████▉   | 1463/2100 [00:03<00:01, 435.29it/s]\u001B[A\n",
      " 72%|███████▏  | 1515/2100 [00:03<00:01, 456.41it/s]\u001B[A\n",
      " 74%|███████▍  | 1562/2100 [00:03<00:01, 424.50it/s]\u001B[A\n",
      " 77%|███████▋  | 1613/2100 [00:03<00:01, 446.31it/s]\u001B[A\n",
      " 79%|███████▉  | 1659/2100 [00:04<00:01, 414.87it/s]\u001B[A\n",
      " 81%|████████▏ | 1707/2100 [00:04<00:00, 430.29it/s]\u001B[A\n",
      " 83%|████████▎ | 1751/2100 [00:04<00:00, 403.63it/s]\u001B[A\n",
      " 85%|████████▌ | 1793/2100 [00:04<00:00, 379.98it/s]\u001B[A\n",
      " 87%|████████▋ | 1832/2100 [00:04<00:00, 365.60it/s]\u001B[A\n",
      " 89%|████████▉ | 1870/2100 [00:04<00:00, 350.05it/s]\u001B[A\n",
      " 91%|█████████▏| 1917/2100 [00:04<00:00, 380.30it/s]\u001B[A\n",
      " 94%|█████████▍| 1971/2100 [00:04<00:00, 423.07it/s]\u001B[A\n",
      " 96%|█████████▋| 2023/2100 [00:04<00:00, 449.44it/s]\u001B[A\n",
      "100%|██████████| 2100/2100 [00:05<00:00, 408.83it/s]\u001B[A\n"
     ]
    },
    {
     "name": "stdout",
     "output_type": "stream",
     "text": [
      "Created 2076 noisy traces\n",
      "The following indices are not included [48, 132, 148, 219, 300, 453, 472, 499, 639, 747, 776, 781, 966, 1019, 1103, 1251, 1442, 1540, 1641, 1725, 1754, 1820, 1852, 2033]\n",
      "Trimmed 2100 noise traces to shape torch.Size([2100, 3, 3001])\n"
     ]
    },
    {
     "name": "stderr",
     "output_type": "stream",
     "text": [
      "\n",
      "  0%|          | 0/2100 [00:00<?, ?it/s]\u001B[A\n",
      "  1%|          | 17/2100 [00:00<00:12, 168.31it/s]\u001B[A\n",
      "  3%|▎         | 65/2100 [00:00<00:05, 349.53it/s]\u001B[A\n",
      "  5%|▍         | 100/2100 [00:00<00:05, 341.11it/s]\u001B[A\n",
      "  7%|▋         | 154/2100 [00:00<00:04, 414.76it/s]\u001B[A\n",
      " 10%|▉         | 208/2100 [00:00<00:04, 457.60it/s]\u001B[A\n",
      " 12%|█▏        | 262/2100 [00:00<00:03, 484.60it/s]\u001B[A\n",
      " 15%|█▍        | 314/2100 [00:00<00:03, 494.32it/s]\u001B[A\n",
      " 17%|█▋        | 367/2100 [00:00<00:03, 504.25it/s]\u001B[A\n",
      " 20%|██        | 421/2100 [00:00<00:03, 513.94it/s]\u001B[A\n",
      " 23%|██▎       | 473/2100 [00:01<00:03, 463.59it/s]\u001B[A\n",
      " 25%|██▍       | 521/2100 [00:01<00:03, 432.56it/s]\u001B[A\n",
      " 27%|██▋       | 576/2100 [00:01<00:03, 463.83it/s]\u001B[A\n",
      " 30%|███       | 631/2100 [00:01<00:03, 487.06it/s]\u001B[A\n",
      " 33%|███▎      | 688/2100 [00:01<00:02, 508.14it/s]\u001B[A\n",
      " 35%|███▌      | 743/2100 [00:01<00:02, 518.88it/s]\u001B[A\n",
      " 38%|███▊      | 796/2100 [00:01<00:03, 428.16it/s]\u001B[A\n",
      " 40%|████      | 848/2100 [00:01<00:02, 450.68it/s]\u001B[A\n",
      " 43%|████▎     | 903/2100 [00:01<00:02, 476.80it/s]\u001B[A\n",
      " 46%|████▌     | 959/2100 [00:02<00:02, 497.27it/s]\u001B[A\n",
      " 48%|████▊     | 1015/2100 [00:02<00:02, 514.61it/s]\u001B[A\n",
      " 51%|█████     | 1072/2100 [00:02<00:01, 527.92it/s]\u001B[A\n",
      " 54%|█████▎    | 1128/2100 [00:02<00:01, 535.35it/s]\u001B[A\n",
      " 56%|█████▋    | 1183/2100 [00:02<00:01, 538.57it/s]\u001B[A\n",
      " 59%|█████▉    | 1238/2100 [00:02<00:01, 540.28it/s]\u001B[A\n",
      " 62%|██████▏   | 1293/2100 [00:02<00:01, 481.89it/s]\u001B[A\n",
      " 64%|██████▍   | 1346/2100 [00:02<00:01, 494.75it/s]\u001B[A\n",
      " 67%|██████▋   | 1401/2100 [00:02<00:01, 509.78it/s]\u001B[A\n",
      " 69%|██████▉   | 1455/2100 [00:03<00:01, 516.41it/s]\u001B[A\n",
      " 72%|███████▏  | 1508/2100 [00:03<00:01, 491.81it/s]\u001B[A\n",
      " 74%|███████▍  | 1558/2100 [00:03<00:01, 449.35it/s]\u001B[A\n",
      " 77%|███████▋  | 1610/2100 [00:03<00:01, 466.61it/s]\u001B[A\n",
      " 79%|███████▉  | 1662/2100 [00:03<00:00, 479.76it/s]\u001B[A\n",
      " 82%|████████▏ | 1715/2100 [00:03<00:00, 491.54it/s]\u001B[A\n",
      " 84%|████████▍ | 1768/2100 [00:03<00:00, 501.45it/s]\u001B[A\n",
      " 87%|████████▋ | 1820/2100 [00:03<00:00, 506.12it/s]\u001B[A\n",
      " 89%|████████▉ | 1871/2100 [00:03<00:00, 452.18it/s]\u001B[A\n",
      " 92%|█████████▏| 1925/2100 [00:04<00:00, 474.24it/s]\u001B[A\n",
      " 94%|█████████▍| 1979/2100 [00:04<00:00, 490.19it/s]\u001B[A\n",
      " 97%|█████████▋| 2032/2100 [00:04<00:00, 501.09it/s]\u001B[A\n",
      "100%|██████████| 2100/2100 [00:04<00:00, 483.60it/s]\u001B[A\n"
     ]
    },
    {
     "name": "stdout",
     "output_type": "stream",
     "text": [
      "Created 2093 noisy traces\n",
      "The following indices are not included [453, 499, 747, 781, 1251, 1540, 1852]\n",
      "Trimmed 2100 noise traces to shape torch.Size([2100, 3, 3001])\n"
     ]
    },
    {
     "name": "stderr",
     "output_type": "stream",
     "text": [
      "\n",
      "  0%|          | 0/2100 [00:00<?, ?it/s]\u001B[A\n",
      "  1%|          | 20/2100 [00:00<00:10, 199.74it/s]\u001B[A\n",
      "  3%|▎         | 64/2100 [00:00<00:05, 340.27it/s]\u001B[A\n",
      "  6%|▌         | 118/2100 [00:00<00:04, 430.68it/s]\u001B[A\n",
      "  8%|▊         | 171/2100 [00:00<00:04, 468.82it/s]\u001B[A\n",
      " 11%|█         | 224/2100 [00:00<00:03, 488.33it/s]\u001B[A\n",
      " 13%|█▎        | 278/2100 [00:00<00:03, 503.93it/s]\u001B[A\n",
      " 16%|█▌        | 331/2100 [00:00<00:03, 512.23it/s]\u001B[A\n",
      " 18%|█▊        | 384/2100 [00:00<00:03, 516.65it/s]\u001B[A\n",
      " 21%|██        | 437/2100 [00:00<00:03, 518.27it/s]\u001B[A\n",
      " 23%|██▎       | 490/2100 [00:01<00:03, 520.30it/s]\u001B[A\n",
      " 26%|██▌       | 544/2100 [00:01<00:02, 524.02it/s]\u001B[A\n",
      " 28%|██▊       | 597/2100 [00:01<00:02, 525.26it/s]\u001B[A\n",
      " 31%|███       | 650/2100 [00:01<00:02, 524.20it/s]\u001B[A\n",
      " 33%|███▎      | 703/2100 [00:01<00:02, 523.65it/s]\u001B[A\n",
      " 36%|███▌      | 757/2100 [00:01<00:02, 526.31it/s]\u001B[A\n",
      " 39%|███▊      | 810/2100 [00:01<00:02, 471.87it/s]\u001B[A\n",
      " 41%|████      | 863/2100 [00:01<00:02, 487.75it/s]\u001B[A\n",
      " 44%|████▎     | 916/2100 [00:01<00:02, 498.27it/s]\u001B[A\n",
      " 46%|████▌     | 969/2100 [00:01<00:02, 506.74it/s]\u001B[A\n",
      " 49%|████▊     | 1022/2100 [00:02<00:02, 513.48it/s]\u001B[A\n",
      " 51%|█████▏    | 1078/2100 [00:02<00:01, 524.70it/s]\u001B[A\n",
      " 54%|█████▍    | 1133/2100 [00:02<00:01, 532.01it/s]\u001B[A\n",
      " 57%|█████▋    | 1189/2100 [00:02<00:01, 537.92it/s]\u001B[A\n",
      " 59%|█████▉    | 1245/2100 [00:02<00:01, 541.37it/s]\u001B[A\n",
      " 62%|██████▏   | 1300/2100 [00:02<00:01, 484.21it/s]\u001B[A\n",
      " 65%|██████▍   | 1355/2100 [00:02<00:01, 501.38it/s]\u001B[A\n",
      " 67%|██████▋   | 1411/2100 [00:02<00:01, 515.34it/s]\u001B[A\n",
      " 70%|██████▉   | 1466/2100 [00:02<00:01, 523.38it/s]\u001B[A\n",
      " 72%|███████▏  | 1521/2100 [00:03<00:01, 528.57it/s]\u001B[A\n",
      " 75%|███████▌  | 1575/2100 [00:03<00:00, 525.79it/s]\u001B[A\n",
      " 78%|███████▊  | 1628/2100 [00:03<00:00, 521.83it/s]\u001B[A\n",
      " 80%|████████  | 1681/2100 [00:03<00:00, 514.13it/s]\u001B[A\n",
      " 83%|████████▎ | 1735/2100 [00:03<00:00, 521.30it/s]\u001B[A\n",
      " 85%|████████▌ | 1789/2100 [00:03<00:00, 524.60it/s]\u001B[A\n",
      " 88%|████████▊ | 1843/2100 [00:03<00:00, 526.62it/s]\u001B[A\n",
      " 90%|█████████ | 1896/2100 [00:03<00:00, 524.20it/s]\u001B[A\n",
      " 93%|█████████▎| 1949/2100 [00:03<00:00, 525.80it/s]\u001B[A\n",
      " 95%|█████████▌| 2003/2100 [00:03<00:00, 529.53it/s]\u001B[A\n",
      "100%|██████████| 2100/2100 [00:04<00:00, 511.18it/s]\u001B[A\n"
     ]
    },
    {
     "name": "stdout",
     "output_type": "stream",
     "text": [
      "Created 2098 noisy traces\n",
      "The following indices are not included [781, 1251]\n",
      "Trimmed 2100 noise traces to shape torch.Size([2100, 3, 3001])\n"
     ]
    },
    {
     "name": "stderr",
     "output_type": "stream",
     "text": [
      "\n",
      "  0%|          | 0/2100 [00:00<?, ?it/s]\u001B[A\n",
      "  1%|          | 21/2100 [00:00<00:10, 205.18it/s]\u001B[A\n",
      "  3%|▎         | 67/2100 [00:00<00:05, 352.59it/s]\u001B[A\n",
      "  6%|▌         | 122/2100 [00:00<00:04, 439.95it/s]\u001B[A\n",
      "  8%|▊         | 178/2100 [00:00<00:03, 484.70it/s]\u001B[A\n",
      " 11%|█         | 232/2100 [00:00<00:03, 502.94it/s]\u001B[A\n",
      " 14%|█▎        | 286/2100 [00:00<00:03, 513.02it/s]\u001B[A\n",
      " 16%|█▌        | 341/2100 [00:00<00:03, 522.98it/s]\u001B[A\n",
      " 19%|█▉        | 394/2100 [00:00<00:03, 524.30it/s]\u001B[A\n",
      " 21%|██▏       | 449/2100 [00:00<00:03, 529.96it/s]\u001B[A\n",
      " 24%|██▍       | 503/2100 [00:01<00:02, 532.91it/s]\u001B[A\n",
      " 27%|██▋       | 557/2100 [00:01<00:02, 531.01it/s]\u001B[A\n",
      " 29%|██▉       | 611/2100 [00:01<00:02, 530.31it/s]\u001B[A\n",
      " 32%|███▏      | 665/2100 [00:01<00:02, 530.80it/s]\u001B[A\n",
      " 34%|███▍      | 719/2100 [00:01<00:02, 529.93it/s]\u001B[A\n",
      " 37%|███▋      | 772/2100 [00:01<00:02, 506.25it/s]\u001B[A\n",
      " 39%|███▉      | 823/2100 [00:01<00:02, 459.12it/s]\u001B[A\n",
      " 42%|████▏     | 878/2100 [00:01<00:02, 482.40it/s]\u001B[A\n",
      " 44%|████▍     | 933/2100 [00:01<00:02, 499.51it/s]\u001B[A\n",
      " 47%|████▋     | 985/2100 [00:01<00:02, 503.13it/s]\u001B[A\n",
      " 49%|████▉     | 1039/2100 [00:02<00:02, 512.55it/s]\u001B[A\n",
      " 52%|█████▏    | 1094/2100 [00:02<00:01, 521.37it/s]\u001B[A\n",
      " 55%|█████▍    | 1149/2100 [00:02<00:01, 527.12it/s]\u001B[A\n",
      " 57%|█████▋    | 1203/2100 [00:02<00:01, 530.89it/s]\u001B[A\n",
      " 60%|█████▉    | 1258/2100 [00:02<00:01, 535.36it/s]\u001B[A\n",
      " 63%|██████▎   | 1313/2100 [00:02<00:01, 536.87it/s]\u001B[A\n",
      " 65%|██████▌   | 1367/2100 [00:02<00:01, 534.33it/s]\u001B[A\n",
      " 68%|██████▊   | 1422/2100 [00:02<00:01, 537.16it/s]\u001B[A\n",
      " 70%|███████   | 1476/2100 [00:02<00:01, 535.99it/s]\u001B[A\n",
      " 73%|███████▎  | 1530/2100 [00:02<00:01, 526.29it/s]\u001B[A\n",
      " 76%|███████▌  | 1586/2100 [00:03<00:00, 534.24it/s]\u001B[A\n",
      " 78%|███████▊  | 1640/2100 [00:03<00:00, 505.42it/s]\u001B[A\n",
      " 81%|████████  | 1694/2100 [00:03<00:00, 512.88it/s]\u001B[A\n",
      " 83%|████████▎ | 1748/2100 [00:03<00:00, 519.97it/s]\u001B[A\n",
      " 86%|████████▌ | 1802/2100 [00:03<00:00, 523.41it/s]\u001B[A\n",
      " 88%|████████▊ | 1857/2100 [00:03<00:00, 529.23it/s]\u001B[A\n",
      " 91%|█████████ | 1912/2100 [00:03<00:00, 534.45it/s]\u001B[A\n",
      " 94%|█████████▎| 1967/2100 [00:03<00:00, 537.28it/s]\u001B[A\n",
      " 96%|█████████▌| 2021/2100 [00:03<00:00, 534.78it/s]\u001B[A\n",
      "100%|██████████| 2100/2100 [00:04<00:00, 515.59it/s]\u001B[A\n"
     ]
    },
    {
     "name": "stdout",
     "output_type": "stream",
     "text": [
      "Created 2099 noisy traces\n",
      "The following indices are not included [781]\n",
      "Trimmed 2100 noise traces to shape torch.Size([2100, 3, 3001])\n"
     ]
    },
    {
     "name": "stderr",
     "output_type": "stream",
     "text": [
      "\n",
      "  0%|          | 0/2100 [00:00<?, ?it/s]\u001B[A\n",
      "  1%|          | 15/2100 [00:00<00:13, 149.38it/s]\u001B[A\n",
      "  3%|▎         | 59/2100 [00:00<00:06, 318.10it/s]\u001B[A\n",
      "  5%|▍         | 102/2100 [00:00<00:05, 368.70it/s]\u001B[A\n",
      "  7%|▋         | 150/2100 [00:00<00:04, 409.48it/s]\u001B[A\n",
      "  9%|▉         | 196/2100 [00:00<00:04, 425.72it/s]\u001B[A\n",
      " 12%|█▏        | 243/2100 [00:00<00:04, 440.27it/s]\u001B[A\n",
      " 14%|█▍        | 290/2100 [00:00<00:04, 449.86it/s]\u001B[A\n",
      " 16%|█▌        | 335/2100 [00:00<00:03, 443.08it/s]\u001B[A\n",
      " 18%|█▊        | 380/2100 [00:00<00:04, 427.82it/s]\u001B[A\n",
      " 20%|██        | 427/2100 [00:01<00:03, 439.62it/s]\u001B[A\n",
      " 23%|██▎       | 474/2100 [00:01<00:03, 447.92it/s]\u001B[A\n",
      " 25%|██▍       | 521/2100 [00:01<00:03, 453.82it/s]\u001B[A\n",
      " 27%|██▋       | 567/2100 [00:01<00:03, 449.04it/s]\u001B[A\n",
      " 29%|██▉       | 614/2100 [00:01<00:03, 454.96it/s]\u001B[A\n",
      " 32%|███▏      | 663/2100 [00:01<00:03, 462.99it/s]\u001B[A\n",
      " 34%|███▍      | 712/2100 [00:01<00:02, 469.29it/s]\u001B[A\n",
      " 36%|███▌      | 761/2100 [00:01<00:02, 473.81it/s]\u001B[A\n",
      " 39%|███▊      | 809/2100 [00:01<00:02, 470.81it/s]\u001B[A\n",
      " 41%|████      | 858/2100 [00:01<00:02, 475.02it/s]\u001B[A\n",
      " 43%|████▎     | 908/2100 [00:02<00:02, 480.11it/s]\u001B[A\n",
      " 46%|████▌     | 958/2100 [00:02<00:02, 483.81it/s]\u001B[A\n",
      " 48%|████▊     | 1008/2100 [00:02<00:02, 487.32it/s]\u001B[A\n",
      " 50%|█████     | 1057/2100 [00:02<00:02, 478.08it/s]\u001B[A\n",
      " 53%|█████▎    | 1105/2100 [00:02<00:02, 477.71it/s]\u001B[A\n",
      " 55%|█████▍    | 1154/2100 [00:02<00:01, 480.19it/s]\u001B[A\n",
      " 57%|█████▋    | 1204/2100 [00:02<00:01, 484.24it/s]\u001B[A\n",
      " 60%|█████▉    | 1254/2100 [00:02<00:01, 486.85it/s]\u001B[A\n",
      " 62%|██████▏   | 1304/2100 [00:02<00:01, 489.56it/s]\u001B[A\n",
      " 65%|██████▍   | 1358/2100 [00:02<00:01, 502.47it/s]\u001B[A\n",
      " 67%|██████▋   | 1413/2100 [00:03<00:01, 515.41it/s]\u001B[A\n",
      " 70%|██████▉   | 1467/2100 [00:03<00:01, 521.01it/s]\u001B[A\n",
      " 72%|███████▏  | 1521/2100 [00:03<00:01, 525.94it/s]\u001B[A\n",
      " 75%|███████▌  | 1576/2100 [00:03<00:00, 532.99it/s]\u001B[A\n",
      " 78%|███████▊  | 1630/2100 [00:03<00:00, 532.64it/s]\u001B[A\n",
      " 80%|████████  | 1684/2100 [00:03<00:00, 534.05it/s]\u001B[A\n",
      " 83%|████████▎ | 1738/2100 [00:03<00:00, 534.06it/s]\u001B[A\n",
      " 85%|████████▌ | 1792/2100 [00:03<00:00, 532.50it/s]\u001B[A\n",
      " 88%|████████▊ | 1846/2100 [00:03<00:00, 531.36it/s]\u001B[A\n",
      " 90%|█████████ | 1900/2100 [00:03<00:00, 531.36it/s]\u001B[A\n",
      " 93%|█████████▎| 1954/2100 [00:04<00:00, 529.84it/s]\u001B[A\n",
      " 96%|█████████▌| 2008/2100 [00:04<00:00, 531.74it/s]\u001B[A\n",
      "100%|██████████| 2100/2100 [00:04<00:00, 482.55it/s]\u001B[A\n"
     ]
    },
    {
     "name": "stdout",
     "output_type": "stream",
     "text": [
      "Created 2100 noisy traces\n",
      "The following indices are not included []\n",
      "Trimmed 2100 noise traces to shape torch.Size([2100, 3, 3001])\n"
     ]
    },
    {
     "name": "stderr",
     "output_type": "stream",
     "text": [
      "\n",
      "  0%|          | 0/2100 [00:00<?, ?it/s]\u001B[A\n",
      "  1%|          | 19/2100 [00:00<00:11, 188.46it/s]\u001B[A\n",
      "  3%|▎         | 68/2100 [00:00<00:05, 361.35it/s]\u001B[A\n",
      "  5%|▌         | 105/2100 [00:00<00:05, 358.65it/s]\u001B[A\n",
      "  8%|▊         | 159/2100 [00:00<00:04, 427.47it/s]\u001B[A\n",
      " 10%|█         | 211/2100 [00:00<00:04, 458.38it/s]\u001B[A\n",
      " 12%|█▏        | 257/2100 [00:00<00:04, 454.24it/s]\u001B[A\n",
      " 15%|█▍        | 305/2100 [00:00<00:03, 461.33it/s]\u001B[A\n",
      " 17%|█▋        | 353/2100 [00:00<00:03, 463.92it/s]\u001B[A\n",
      " 19%|█▉        | 400/2100 [00:00<00:03, 464.96it/s]\u001B[A\n",
      " 21%|██▏       | 448/2100 [00:01<00:03, 469.28it/s]\u001B[A\n",
      " 24%|██▎       | 495/2100 [00:01<00:03, 452.52it/s]\u001B[A\n",
      " 26%|██▌       | 546/2100 [00:01<00:03, 468.58it/s]\u001B[A\n",
      " 28%|██▊       | 596/2100 [00:01<00:03, 476.33it/s]\u001B[A\n",
      " 31%|███       | 647/2100 [00:01<00:02, 484.84it/s]\u001B[A\n",
      " 33%|███▎      | 699/2100 [00:01<00:02, 492.59it/s]\u001B[A\n",
      " 36%|███▌      | 751/2100 [00:01<00:02, 499.54it/s]\u001B[A\n",
      " 38%|███▊      | 803/2100 [00:01<00:02, 505.46it/s]\u001B[A\n",
      " 41%|████      | 855/2100 [00:01<00:02, 506.87it/s]\u001B[A\n",
      " 43%|████▎     | 906/2100 [00:01<00:02, 498.96it/s]\u001B[A\n",
      " 46%|████▌     | 956/2100 [00:02<00:02, 493.77it/s]\u001B[A\n",
      " 48%|████▊     | 1006/2100 [00:02<00:02, 487.51it/s]\u001B[A\n",
      " 50%|█████     | 1059/2100 [00:02<00:02, 498.21it/s]\u001B[A\n",
      " 53%|█████▎    | 1113/2100 [00:02<00:01, 508.22it/s]\u001B[A\n",
      " 56%|█████▌    | 1166/2100 [00:02<00:01, 513.52it/s]\u001B[A\n",
      " 58%|█████▊    | 1219/2100 [00:02<00:01, 517.13it/s]\u001B[A\n",
      " 61%|██████    | 1272/2100 [00:02<00:01, 518.80it/s]\u001B[A\n",
      " 63%|██████▎   | 1324/2100 [00:02<00:01, 518.29it/s]\u001B[A\n",
      " 66%|██████▌   | 1377/2100 [00:02<00:01, 519.80it/s]\u001B[A\n",
      " 68%|██████▊   | 1430/2100 [00:02<00:01, 522.46it/s]\u001B[A\n",
      " 71%|███████   | 1483/2100 [00:03<00:01, 523.75it/s]\u001B[A\n",
      " 73%|███████▎  | 1536/2100 [00:03<00:01, 523.13it/s]\u001B[A\n",
      " 76%|███████▌  | 1590/2100 [00:03<00:00, 525.93it/s]\u001B[A\n",
      " 78%|███████▊  | 1643/2100 [00:03<00:00, 523.52it/s]\u001B[A\n",
      " 81%|████████  | 1696/2100 [00:03<00:00, 523.57it/s]\u001B[A\n",
      " 83%|████████▎ | 1749/2100 [00:03<00:00, 516.93it/s]\u001B[A\n",
      " 86%|████████▌ | 1801/2100 [00:03<00:00, 514.24it/s]\u001B[A\n",
      " 88%|████████▊ | 1854/2100 [00:03<00:00, 516.91it/s]\u001B[A\n",
      " 91%|█████████ | 1906/2100 [00:03<00:00, 516.86it/s]\u001B[A\n",
      " 93%|█████████▎| 1958/2100 [00:03<00:00, 515.51it/s]\u001B[A\n",
      " 96%|█████████▌| 2010/2100 [00:04<00:00, 515.44it/s]\u001B[A\n",
      "100%|██████████| 2100/2100 [00:04<00:00, 493.90it/s]\u001B[A\n"
     ]
    },
    {
     "name": "stdout",
     "output_type": "stream",
     "text": [
      "Created 2100 noisy traces\n",
      "The following indices are not included []\n",
      "Trimmed 2100 noise traces to shape torch.Size([2100, 3, 3001])\n"
     ]
    },
    {
     "name": "stderr",
     "output_type": "stream",
     "text": [
      "\n",
      "  0%|          | 0/2100 [00:00<?, ?it/s]\u001B[A\n",
      "  2%|▏         | 34/2100 [00:00<00:06, 335.19it/s]\u001B[A\n",
      "  4%|▎         | 78/2100 [00:00<00:05, 394.89it/s]\u001B[A\n",
      "  6%|▋         | 132/2100 [00:00<00:04, 460.30it/s]\u001B[A\n",
      "  9%|▊         | 180/2100 [00:00<00:04, 465.42it/s]\u001B[A\n",
      " 11%|█         | 229/2100 [00:00<00:03, 470.16it/s]\u001B[A\n",
      " 13%|█▎        | 282/2100 [00:00<00:03, 489.44it/s]\u001B[A\n",
      " 16%|█▌        | 334/2100 [00:00<00:03, 496.51it/s]\u001B[A\n",
      " 18%|█▊        | 386/2100 [00:00<00:03, 503.48it/s]\u001B[A\n",
      " 21%|██        | 437/2100 [00:00<00:03, 503.74it/s]\u001B[A\n",
      " 23%|██▎       | 488/2100 [00:01<00:03, 505.18it/s]\u001B[A\n",
      " 26%|██▌       | 540/2100 [00:01<00:03, 507.67it/s]\u001B[A\n",
      " 28%|██▊       | 591/2100 [00:01<00:02, 503.60it/s]\u001B[A\n",
      " 31%|███       | 642/2100 [00:01<00:02, 501.06it/s]\u001B[A\n",
      " 33%|███▎      | 693/2100 [00:01<00:02, 500.25it/s]\u001B[A\n",
      " 35%|███▌      | 744/2100 [00:01<00:02, 500.59it/s]\u001B[A\n",
      " 38%|███▊      | 796/2100 [00:01<00:02, 503.87it/s]\u001B[A\n",
      " 40%|████      | 847/2100 [00:01<00:02, 502.52it/s]\u001B[A\n",
      " 43%|████▎     | 899/2100 [00:01<00:02, 504.80it/s]\u001B[A\n",
      " 45%|████▌     | 951/2100 [00:01<00:02, 506.25it/s]\u001B[A\n",
      " 48%|████▊     | 1002/2100 [00:02<00:02, 506.55it/s]\u001B[A\n",
      " 50%|█████     | 1054/2100 [00:02<00:02, 507.66it/s]\u001B[A\n",
      " 53%|█████▎    | 1105/2100 [00:02<00:01, 507.01it/s]\u001B[A\n",
      " 55%|█████▌    | 1157/2100 [00:02<00:01, 507.93it/s]\u001B[A\n",
      " 58%|█████▊    | 1209/2100 [00:02<00:01, 509.99it/s]\u001B[A\n",
      " 60%|██████    | 1261/2100 [00:02<00:01, 511.13it/s]\u001B[A\n",
      " 63%|██████▎   | 1313/2100 [00:02<00:01, 511.18it/s]\u001B[A\n",
      " 65%|██████▌   | 1365/2100 [00:02<00:01, 511.51it/s]\u001B[A\n",
      " 67%|██████▋   | 1417/2100 [00:02<00:01, 513.67it/s]\u001B[A\n",
      " 70%|██████▉   | 1469/2100 [00:02<00:01, 511.30it/s]\u001B[A\n",
      " 72%|███████▏  | 1521/2100 [00:03<00:01, 511.17it/s]\u001B[A\n",
      " 75%|███████▍  | 1574/2100 [00:03<00:01, 516.65it/s]\u001B[A\n",
      " 77%|███████▋  | 1626/2100 [00:03<00:00, 516.68it/s]\u001B[A\n",
      " 80%|███████▉  | 1678/2100 [00:03<00:00, 497.46it/s]\u001B[A\n",
      " 82%|████████▏ | 1728/2100 [00:03<00:00, 491.00it/s]\u001B[A\n",
      " 85%|████████▍ | 1778/2100 [00:03<00:00, 486.86it/s]\u001B[A\n",
      " 87%|████████▋ | 1827/2100 [00:03<00:00, 485.57it/s]\u001B[A\n",
      " 89%|████████▉ | 1876/2100 [00:03<00:00, 483.32it/s]\u001B[A\n",
      " 92%|█████████▏| 1925/2100 [00:03<00:00, 473.58it/s]\u001B[A\n",
      " 94%|█████████▍| 1974/2100 [00:03<00:00, 475.62it/s]\u001B[A\n",
      " 96%|█████████▋| 2022/2100 [00:04<00:00, 475.48it/s]\u001B[A\n",
      "100%|██████████| 2100/2100 [00:04<00:00, 492.77it/s]\u001B[A\n"
     ]
    },
    {
     "name": "stdout",
     "output_type": "stream",
     "text": [
      "Created 2100 noisy traces\n",
      "The following indices are not included []\n"
     ]
    }
   ],
   "source": [
    "desired_snr_list = list(range(1,11))\n",
    "noisy_dataset_paths = {}\n",
    "for desired_snr in desired_snr_list:\n",
    "    noisy_dataset_path = os.path.join(DATASET_PATH,f'noisy_dataset_snr_{desired_snr}')\n",
    "    assert os.path.exists(noisy_dataset_path), f'Path {noisy_dataset_path} does not exist.Create it'\n",
    "    noisy_dataset_paths[desired_snr] = noisy_dataset_path\n",
    "\n",
    "pbar = tqdm(desired_snr_list)\n",
    "for desired_snr in pbar:\n",
    "    noised_traces, noised_traces_labels, full_noise_traces_used, factors, indices_not_used_list =  create_single_noisy_version(original_traces=dataset, original_labels=labels, augmented_noise_traces=augmented_noise_traces_created, desired_snr=desired_snr)\n",
    "\n",
    "    indices_not_used = torch.tensor(list(set(indices_not_used_list)))\n",
    "    noisy_dataset_path = noisy_dataset_paths[desired_snr]\n",
    "    torch.save(noised_traces, os.path.join(noisy_dataset_path, 'traces.pt'))\n",
    "    torch.save(augmented_noise_traces, os.path.join(noisy_dataset_path, 'full_noise_traces.pt'))\n",
    "    torch.save(noised_traces_labels, os.path.join(noisy_dataset_path, 'labels.pt'))\n",
    "    torch.save(noising_factors, os.path.join(noisy_dataset_path, 'factors.pt'))\n",
    "    torch.save(indices_not_used, os.path.join(noisy_dataset_path,'indices_not_used'))\n",
    "    pbar.set_description(f'SNR {desired_snr}: {noised_traces.shape[0]} noised traces created and saved.')\n",
    "    del noised_traces, noised_traces_labels, full_noise_traces_used, factors, indices_not_used_list , indices_not_used"
   ],
   "metadata": {
    "collapsed": false
   }
  }
 ],
 "metadata": {
  "kernelspec": {
   "display_name": "seis",
   "language": "python",
   "name": "python3"
  },
  "language_info": {
   "codemirror_mode": {
    "name": "ipython",
    "version": 3
   },
   "file_extension": ".py",
   "mimetype": "text/x-python",
   "name": "python",
   "nbconvert_exporter": "python",
   "pygments_lexer": "ipython3",
   "version": "3.10.8"
  },
  "orig_nbformat": 4,
  "vscode": {
   "interpreter": {
    "hash": "fa76d2c83586c95486e2cc3c656ad2d093b47aefbf53fc633acb9a860f5157ab"
   }
  }
 },
 "nbformat": 4,
 "nbformat_minor": 2
}
