{
 "cells": [
  {
   "cell_type": "code",
   "execution_count": 1,
   "metadata": {},
   "outputs": [],
   "source": [
    "import os\n",
    "import torch\n",
    "from dataset_creation.utils import get_n_random_noises, create_noisy_traces\n",
    "from snr.calc_snr import CalcSNR, SnrCalcStrategy"
   ]
  },
  {
   "cell_type": "code",
   "execution_count": 2,
   "outputs": [],
   "source": [
    "DATASETS_ORIGINS = ['ethz', 'geofon']\n",
    "dataset_origin = 'ethz'\n",
    "assert dataset_origin in DATASETS_ORIGINS, f'Expected dataset one of {DATASETS_ORIGINS}. Got {dataset_origin}.'"
   ],
   "metadata": {
    "collapsed": false
   }
  },
  {
   "cell_type": "code",
   "execution_count": 3,
   "metadata": {},
   "outputs": [],
   "source": [
    "NUM_SHIFTS=6\n",
    "NUM_SAMPLES=6000\n",
    "DATASET_PATH=f'/home/moshe/datasets/GFZ/noisy_datasets/{dataset_origin}_{NUM_SAMPLES}_sample_joachim_noises_energy_ratio_snr/'\n",
    "NOISES_PATH='/home/moshe/datasets/GFZ/Noises'\n",
    "NUM_NOISY_VERSIONS_PER_TRACE=8\n",
    "DESIRED_SNR=10\n",
    "SAMPLING_RATE=100\n",
    "AUGMENTED_WINDOW_SIZE=NUM_SAMPLES+SAMPLING_RATE*NUM_SHIFTS"
   ]
  },
  {
   "cell_type": "code",
   "execution_count": 4,
   "metadata": {},
   "outputs": [],
   "source": [
    "dataset_traces_path = os.path.join(DATASET_PATH, 'original_dataset.pt')\n",
    "dataset_labels_path = os.path.join(DATASET_PATH, 'original_labels.pt')\n",
    "\n",
    "assert os.path.exists(DATASET_PATH), f'Directory {DATASET_PATH} does not exist'\n",
    "assert os.path.exists(dataset_traces_path), f'file {dataset_traces_path} does not exist'\n",
    "assert os.path.exists(dataset_labels_path), f'file {dataset_labels_path} does not exist'"
   ]
  },
  {
   "attachments": {},
   "cell_type": "markdown",
   "metadata": {},
   "source": [
    "## Load Dataset"
   ]
  },
  {
   "cell_type": "code",
   "execution_count": 5,
   "metadata": {},
   "outputs": [
    {
     "name": "stdout",
     "output_type": "stream",
     "text": [
      "Loaded 1856 traces and corresponding labels.\n"
     ]
    }
   ],
   "source": [
    "dataset=torch.load(dataset_traces_path)\n",
    "labels=torch.load(dataset_labels_path)\n",
    "\n",
    "num_traces = dataset.shape[0]\n",
    "num_labels = labels.shape[0]\n",
    "num_samples = dataset.shape[-1]\n",
    "\n",
    "assert num_labels==num_traces, f'Expected traces equal num labels.Got {num_traces} traces and {num_labels} labels'\n",
    "assert num_samples==NUM_SAMPLES, f'Expected {NUM_SAMPLES} in each trace. Got {num_samples}.'\n",
    "\n",
    "print(f'Loaded {num_traces} traces and corresponding labels.')"
   ]
  },
  {
   "attachments": {},
   "cell_type": "markdown",
   "metadata": {},
   "source": [
    "\n"
   ]
  },
  {
   "cell_type": "markdown",
   "source": [
    "## Create a Noisy Dataset"
   ],
   "metadata": {
    "collapsed": false
   }
  },
  {
   "cell_type": "code",
   "execution_count": 6,
   "metadata": {},
   "outputs": [],
   "source": [
    "def create_single_noisy_version():\n",
    "    # prepare full noises traces\n",
    "    full_noise_traces: torch.tensor = get_n_random_noises(num_noises=num_traces, desired_window_size=AUGMENTED_WINDOW_SIZE, noises_path=NOISES_PATH,force_resample=True, filename='aaa', sampling_rate=SAMPLING_RATE, silent_exception_prints=True).squeeze()\n",
    "    print(f'Loaded {full_noise_traces.shape[0]} noise traces. shape {full_noise_traces.shape}')\n",
    "    # Trim the noise traces. Adjust to dataset num samples.\n",
    "    noise_traces: torch.tensor = full_noise_traces[:,:,:NUM_SAMPLES].clone()\n",
    "\n",
    "    print(f'Trimmed {noise_traces.shape[0]} noise traces to shape {noise_traces.shape}')\n",
    "    # Create the noisy traces and get the ones that did not succeed\n",
    "    version_noised_traces_list, version_noise_factors, version_not_included_indices = create_noisy_traces(dataset=dataset,desired_snr=DESIRED_SNR, labels=labels, noise_traces=noise_traces, calc_snr=CalcSNR(SnrCalcStrategy.ENERGY_RATIO))\n",
    "    print(f'Created {len(version_noised_traces_list)} noisy traces')\n",
    "    print(f'The following indices are not included {version_not_included_indices}')\n",
    "    # Remove the corresponding indices from the full noises list and the label list\n",
    "    included_indices_list = [i for i in range(num_traces) if i not in version_not_included_indices]\n",
    "    version_labels = labels[included_indices_list].clone()\n",
    "    version_full_noise_traces = full_noise_traces[included_indices_list].clone()\n",
    "    return torch.stack(version_noised_traces_list, dim=0), version_labels, version_full_noise_traces, torch.tensor(version_noise_factors)"
   ]
  },
  {
   "cell_type": "code",
   "execution_count": 7,
   "outputs": [],
   "source": [
    "# all_noised_traces, all_labels, all_full_noise_traces, all_factors =  create_single_noisy_version()"
   ],
   "metadata": {
    "collapsed": false
   }
  },
  {
   "cell_type": "code",
   "execution_count": 8,
   "outputs": [
    {
     "name": "stdout",
     "output_type": "stream",
     "text": [
      "i = 0 create_single_noisy_version\n"
     ]
    },
    {
     "name": "stderr",
     "output_type": "stream",
     "text": [
      "100%|██████████| 1856/1856 [00:10<00:00, 181.53it/s]\n"
     ]
    },
    {
     "name": "stdout",
     "output_type": "stream",
     "text": [
      "Created a list of 1856 random noises of shape torch.Size([3, 6600])\n",
      "stack to tensor\n",
      "Stacked to tensor of shape torch.Size([1856, 3, 6600])\n",
      "Loaded 1856 noise traces. shape torch.Size([1856, 3, 6600])\n",
      "Trimmed 1856 noise traces to shape torch.Size([1856, 3, 6000])\n"
     ]
    },
    {
     "name": "stderr",
     "output_type": "stream",
     "text": [
      "100%|██████████| 1856/1856 [00:05<00:00, 354.48it/s]\n"
     ]
    },
    {
     "name": "stdout",
     "output_type": "stream",
     "text": [
      "Created 1856 noisy traces\n",
      "The following indices are not included []\n",
      "version shapes\n",
      "torch.Size([1856, 3, 6000]) torch.Size([1856]) torch.Size([1856, 3, 6600]) torch.Size([1856])\n",
      "i = 1 create_single_noisy_version\n"
     ]
    },
    {
     "name": "stderr",
     "output_type": "stream",
     "text": [
      "100%|██████████| 1856/1856 [00:09<00:00, 194.16it/s]\n"
     ]
    },
    {
     "name": "stdout",
     "output_type": "stream",
     "text": [
      "Created a list of 1856 random noises of shape torch.Size([3, 6600])\n",
      "stack to tensor\n",
      "Stacked to tensor of shape torch.Size([1856, 3, 6600])\n",
      "Loaded 1856 noise traces. shape torch.Size([1856, 3, 6600])\n",
      "Trimmed 1856 noise traces to shape torch.Size([1856, 3, 6000])\n"
     ]
    },
    {
     "name": "stderr",
     "output_type": "stream",
     "text": [
      "100%|██████████| 1856/1856 [00:05<00:00, 362.42it/s]\n"
     ]
    },
    {
     "name": "stdout",
     "output_type": "stream",
     "text": [
      "Created 1856 noisy traces\n",
      "The following indices are not included []\n",
      "version shapes\n",
      "torch.Size([1856, 3, 6000]) torch.Size([1856]) torch.Size([1856, 3, 6600]) torch.Size([1856])\n",
      "all shapes\n",
      "torch.Size([1856, 3, 6000]) torch.Size([1856]) torch.Size([1856, 3, 6600]) torch.Size([1856])\n",
      "i = 2 create_single_noisy_version\n"
     ]
    },
    {
     "name": "stderr",
     "output_type": "stream",
     "text": [
      "100%|██████████| 1856/1856 [00:08<00:00, 217.63it/s]\n"
     ]
    },
    {
     "name": "stdout",
     "output_type": "stream",
     "text": [
      "Created a list of 1856 random noises of shape torch.Size([3, 6600])\n",
      "stack to tensor\n",
      "Stacked to tensor of shape torch.Size([1856, 3, 6600])\n",
      "Loaded 1856 noise traces. shape torch.Size([1856, 3, 6600])\n",
      "Trimmed 1856 noise traces to shape torch.Size([1856, 3, 6000])\n"
     ]
    },
    {
     "name": "stderr",
     "output_type": "stream",
     "text": [
      "100%|██████████| 1856/1856 [00:04<00:00, 374.08it/s]\n"
     ]
    },
    {
     "name": "stdout",
     "output_type": "stream",
     "text": [
      "Created 1856 noisy traces\n",
      "The following indices are not included []\n",
      "version shapes\n",
      "torch.Size([1856, 3, 6000]) torch.Size([1856]) torch.Size([1856, 3, 6600]) torch.Size([1856])\n",
      "all shapes\n",
      "torch.Size([3712, 3, 6000]) torch.Size([3712]) torch.Size([3712, 3, 6600]) torch.Size([3712])\n",
      "i = 3 create_single_noisy_version\n"
     ]
    },
    {
     "name": "stderr",
     "output_type": "stream",
     "text": [
      "100%|██████████| 1856/1856 [00:08<00:00, 206.54it/s]\n"
     ]
    },
    {
     "name": "stdout",
     "output_type": "stream",
     "text": [
      "Created a list of 1856 random noises of shape torch.Size([3, 6600])\n",
      "stack to tensor\n",
      "Stacked to tensor of shape torch.Size([1856, 3, 6600])\n",
      "Loaded 1856 noise traces. shape torch.Size([1856, 3, 6600])\n",
      "Trimmed 1856 noise traces to shape torch.Size([1856, 3, 6000])\n"
     ]
    },
    {
     "name": "stderr",
     "output_type": "stream",
     "text": [
      "100%|██████████| 1856/1856 [00:04<00:00, 373.76it/s]\n"
     ]
    },
    {
     "name": "stdout",
     "output_type": "stream",
     "text": [
      "Created 1856 noisy traces\n",
      "The following indices are not included []\n",
      "version shapes\n",
      "torch.Size([1856, 3, 6000]) torch.Size([1856]) torch.Size([1856, 3, 6600]) torch.Size([1856])\n",
      "all shapes\n",
      "torch.Size([5568, 3, 6000]) torch.Size([5568]) torch.Size([5568, 3, 6600]) torch.Size([5568])\n",
      "i = 4 create_single_noisy_version\n"
     ]
    },
    {
     "name": "stderr",
     "output_type": "stream",
     "text": [
      "100%|██████████| 1856/1856 [00:08<00:00, 212.69it/s]\n"
     ]
    },
    {
     "name": "stdout",
     "output_type": "stream",
     "text": [
      "Created a list of 1856 random noises of shape torch.Size([3, 6600])\n",
      "stack to tensor\n",
      "Stacked to tensor of shape torch.Size([1856, 3, 6600])\n",
      "Loaded 1856 noise traces. shape torch.Size([1856, 3, 6600])\n",
      "Trimmed 1856 noise traces to shape torch.Size([1856, 3, 6000])\n"
     ]
    },
    {
     "name": "stderr",
     "output_type": "stream",
     "text": [
      "100%|██████████| 1856/1856 [00:04<00:00, 375.87it/s]\n"
     ]
    },
    {
     "name": "stdout",
     "output_type": "stream",
     "text": [
      "Created 1856 noisy traces\n",
      "The following indices are not included []\n",
      "version shapes\n",
      "torch.Size([1856, 3, 6000]) torch.Size([1856]) torch.Size([1856, 3, 6600]) torch.Size([1856])\n",
      "all shapes\n",
      "torch.Size([7424, 3, 6000]) torch.Size([7424]) torch.Size([7424, 3, 6600]) torch.Size([7424])\n",
      "i = 5 create_single_noisy_version\n"
     ]
    },
    {
     "name": "stderr",
     "output_type": "stream",
     "text": [
      "100%|██████████| 1856/1856 [00:08<00:00, 212.03it/s]\n"
     ]
    },
    {
     "name": "stdout",
     "output_type": "stream",
     "text": [
      "Created a list of 1856 random noises of shape torch.Size([3, 6600])\n",
      "stack to tensor\n",
      "Stacked to tensor of shape torch.Size([1856, 3, 6600])\n",
      "Loaded 1856 noise traces. shape torch.Size([1856, 3, 6600])\n",
      "Trimmed 1856 noise traces to shape torch.Size([1856, 3, 6000])\n"
     ]
    },
    {
     "name": "stderr",
     "output_type": "stream",
     "text": [
      "100%|██████████| 1856/1856 [00:05<00:00, 327.16it/s]\n"
     ]
    },
    {
     "name": "stdout",
     "output_type": "stream",
     "text": [
      "Created 1856 noisy traces\n",
      "The following indices are not included []\n",
      "version shapes\n",
      "torch.Size([1856, 3, 6000]) torch.Size([1856]) torch.Size([1856, 3, 6600]) torch.Size([1856])\n",
      "all shapes\n",
      "torch.Size([9280, 3, 6000]) torch.Size([9280]) torch.Size([9280, 3, 6600]) torch.Size([9280])\n",
      "i = 6 create_single_noisy_version\n"
     ]
    },
    {
     "name": "stderr",
     "output_type": "stream",
     "text": [
      "100%|██████████| 1856/1856 [00:09<00:00, 196.81it/s]\n"
     ]
    },
    {
     "name": "stdout",
     "output_type": "stream",
     "text": [
      "Created a list of 1856 random noises of shape torch.Size([3, 6600])\n",
      "stack to tensor\n",
      "Stacked to tensor of shape torch.Size([1856, 3, 6600])\n",
      "Loaded 1856 noise traces. shape torch.Size([1856, 3, 6600])\n",
      "Trimmed 1856 noise traces to shape torch.Size([1856, 3, 6000])\n"
     ]
    },
    {
     "name": "stderr",
     "output_type": "stream",
     "text": [
      "100%|██████████| 1856/1856 [00:05<00:00, 362.60it/s]\n"
     ]
    },
    {
     "name": "stdout",
     "output_type": "stream",
     "text": [
      "Created 1856 noisy traces\n",
      "The following indices are not included []\n",
      "version shapes\n",
      "torch.Size([1856, 3, 6000]) torch.Size([1856]) torch.Size([1856, 3, 6600]) torch.Size([1856])\n",
      "all shapes\n",
      "torch.Size([11136, 3, 6000]) torch.Size([11136]) torch.Size([11136, 3, 6600]) torch.Size([11136])\n",
      "i = 7 create_single_noisy_version\n"
     ]
    },
    {
     "name": "stderr",
     "output_type": "stream",
     "text": [
      "100%|██████████| 1856/1856 [00:09<00:00, 200.36it/s]\n"
     ]
    },
    {
     "name": "stdout",
     "output_type": "stream",
     "text": [
      "Created a list of 1856 random noises of shape torch.Size([3, 6600])\n",
      "stack to tensor\n",
      "Stacked to tensor of shape torch.Size([1856, 3, 6600])\n",
      "Loaded 1856 noise traces. shape torch.Size([1856, 3, 6600])\n",
      "Trimmed 1856 noise traces to shape torch.Size([1856, 3, 6000])\n"
     ]
    },
    {
     "name": "stderr",
     "output_type": "stream",
     "text": [
      "100%|██████████| 1856/1856 [00:05<00:00, 366.96it/s]\n"
     ]
    },
    {
     "name": "stdout",
     "output_type": "stream",
     "text": [
      "Created 1856 noisy traces\n",
      "The following indices are not included []\n",
      "version shapes\n",
      "torch.Size([1856, 3, 6000]) torch.Size([1856]) torch.Size([1856, 3, 6600]) torch.Size([1856])\n",
      "all shapes\n",
      "torch.Size([12992, 3, 6000]) torch.Size([12992]) torch.Size([12992, 3, 6600]) torch.Size([12992])\n"
     ]
    }
   ],
   "source": [
    "for i in range(NUM_NOISY_VERSIONS_PER_TRACE):\n",
    "    print('i =', i, 'create_single_noisy_version')\n",
    "    version_noised_traces, version_labels, version_full_noise_traces, version_factors =  create_single_noisy_version()\n",
    "    print('version shapes')\n",
    "    print(version_noised_traces.shape, version_labels.shape, version_full_noise_traces.shape, version_factors.shape)\n",
    "    if i > 0:\n",
    "        print('all shapes')\n",
    "        print(all_noised_traces.shape, all_labels.shape, all_full_noise_traces.shape, all_factors.shape)\n",
    "    (all_noised_traces, all_labels, all_full_noise_traces, all_factors) = (version_noised_traces, version_labels, version_full_noise_traces, version_factors) if i == 0 else (torch.vstack((all_noised_traces, version_noised_traces)), torch.vstack((all_labels.unsqueeze(dim=1), version_labels.unsqueeze(dim=1))).squeeze(), torch.vstack((all_full_noise_traces, version_full_noise_traces)), torch.vstack((all_factors.unsqueeze(dim=1), version_factors.unsqueeze(dim=1))).squeeze())\n"
   ],
   "metadata": {
    "collapsed": false
   }
  },
  {
   "cell_type": "code",
   "execution_count": 9,
   "metadata": {},
   "outputs": [
    {
     "data": {
      "text/plain": "(torch.Size([14848, 3, 6000]),\n torch.Size([14848]),\n torch.Size([14848, 3, 6600]),\n torch.Size([14848]))"
     },
     "execution_count": 9,
     "metadata": {},
     "output_type": "execute_result"
    }
   ],
   "source": [
    "# del full_noise_traces, noised_traces_list\n",
    "all_noised_traces.shape, all_labels.shape, all_full_noise_traces.shape, all_factors.shape"
   ]
  },
  {
   "cell_type": "code",
   "execution_count": 10,
   "outputs": [
    {
     "data": {
      "text/plain": "'/home/moshe/datasets/GFZ/noisy_datasets/ethz_6000_sample_joachim_noises_energy_ratio_snr/noisy_dataset_snr_10'"
     },
     "execution_count": 10,
     "metadata": {},
     "output_type": "execute_result"
    }
   ],
   "source": [
    "noisy_dataset_path = os.path.join(DATASET_PATH,f'noisy_dataset_snr_{DESIRED_SNR}')\n",
    "noisy_dataset_path"
   ],
   "metadata": {
    "collapsed": false
   }
  },
  {
   "cell_type": "code",
   "execution_count": 12,
   "outputs": [],
   "source": [
    "assert os.path.exists(noisy_dataset_path), f'{noisy_dataset_path} does not exist'"
   ],
   "metadata": {
    "collapsed": false
   }
  },
  {
   "cell_type": "code",
   "execution_count": 13,
   "outputs": [],
   "source": [
    "torch.save(all_noised_traces, os.path.join(noisy_dataset_path, 'traces.pt'))\n",
    "torch.save(all_full_noise_traces, os.path.join(noisy_dataset_path, 'full_noise_traces.pt'))\n",
    "torch.save(all_labels,os.path.join(noisy_dataset_path, 'labels.pt'))\n",
    "torch.save(all_factors, os.path.join(noisy_dataset_path, 'factors.pt'))"
   ],
   "metadata": {
    "collapsed": false
   }
  }
 ],
 "metadata": {
  "kernelspec": {
   "display_name": "seis",
   "language": "python",
   "name": "python3"
  },
  "language_info": {
   "codemirror_mode": {
    "name": "ipython",
    "version": 3
   },
   "file_extension": ".py",
   "mimetype": "text/x-python",
   "name": "python",
   "nbconvert_exporter": "python",
   "pygments_lexer": "ipython3",
   "version": "3.10.8"
  },
  "orig_nbformat": 4,
  "vscode": {
   "interpreter": {
    "hash": "fa76d2c83586c95486e2cc3c656ad2d093b47aefbf53fc633acb9a860f5157ab"
   }
  }
 },
 "nbformat": 4,
 "nbformat_minor": 2
}
