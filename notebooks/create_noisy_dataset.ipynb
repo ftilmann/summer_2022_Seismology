{
 "cells": [
  {
   "cell_type": "markdown",
   "source": [
    "# Create a Noisy Dataset"
   ],
   "metadata": {
    "collapsed": false
   }
  },
  {
   "cell_type": "markdown",
   "source": [
    "## Upload Files"
   ],
   "metadata": {
    "collapsed": false
   }
  },
  {
   "cell_type": "markdown",
   "source": [
    "In order to create a noisy dataset you need to upload a batch. The batch is assumed to be a dictionary that contains the following keys:\n",
    "1. 'X' - The signal trace. Contains a P-phase event.\n",
    "2. 'whole_trace' - The corresponding full trace.\n",
    "3. 'onset_sample' - Sample number of the onset in the signal trace. Manually picked.\n",
    "4. 'onset_sample_not_adjusted' - - Sample number of the onset in the **whole** trace. Manually picked."
   ],
   "metadata": {
    "collapsed": false
   }
  },
  {
   "cell_type": "code",
   "execution_count": null,
   "outputs": [],
   "source": [
    "# Imports for JupyterLite\n",
    "try:\n",
    "    import piplite\n",
    "    await piplite.install(['ipywidgets'])\n",
    "except ImportError:\n",
    "    pass"
   ],
   "metadata": {
    "collapsed": false,
    "pycharm": {
     "is_executing": true
    }
   }
  },
  {
   "cell_type": "code",
   "execution_count": null,
   "outputs": [],
   "source": [
    "from ipywidgets import widgets\n",
    "\n",
    "uploader = widgets.FileUpload(\n",
    "    accept='.pt',\n",
    "    multiple=False\n",
    ")\n",
    "display(uploader)\n",
    "\n",
    "uploader.value"
   ],
   "metadata": {
    "collapsed": false,
    "pycharm": {
     "is_executing": true
    }
   }
  },
  {
   "cell_type": "code",
   "execution_count": null,
   "metadata": {
    "collapsed": true,
    "pycharm": {
     "is_executing": true
    }
   },
   "outputs": [],
   "source": [
    "# import torch\n",
    "# batch = torch.load(args.base_dir + 'batch.pt')"
   ]
  },
  {
   "cell_type": "code",
   "execution_count": null,
   "outputs": [],
   "source": [],
   "metadata": {
    "collapsed": false
   }
  }
 ],
 "metadata": {
  "kernelspec": {
   "display_name": "Python 3",
   "language": "python",
   "name": "python3"
  },
  "language_info": {
   "codemirror_mode": {
    "name": "ipython",
    "version": 2
   },
   "file_extension": ".py",
   "mimetype": "text/x-python",
   "name": "python",
   "nbconvert_exporter": "python",
   "pygments_lexer": "ipython2",
   "version": "2.7.6"
  }
 },
 "nbformat": 4,
 "nbformat_minor": 0
}
