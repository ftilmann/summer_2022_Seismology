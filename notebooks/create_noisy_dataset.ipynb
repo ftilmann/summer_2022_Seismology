{
 "cells": [
  {
   "cell_type": "code",
   "execution_count": 1,
   "metadata": {},
   "outputs": [],
   "source": [
    "import os\n",
    "from tqdm.notebook import tqdm\n",
    "import matplotlib.pyplot as plt\n",
    "import torch\n",
    "from dataset_creation.utils import get_n_random_noises, create_noisy_traces\n",
    "from snr.calc_snr import CalcSNR, SnrCalcStrategy"
   ]
  },
  {
   "cell_type": "markdown",
   "source": [
    "## Requirements And Configuration"
   ],
   "metadata": {
    "collapsed": false
   }
  },
  {
   "cell_type": "markdown",
   "source": [
    "The generated noisy traces should be a synthetic version of traces taken from the following dataset ('ethz', 'geofon'):"
   ],
   "metadata": {
    "collapsed": false
   }
  },
  {
   "cell_type": "code",
   "execution_count": 2,
   "outputs": [],
   "source": [
    "DATASETS_ORIGINS = ['ethz', 'geofon']\n",
    "dataset_origin = 'ethz'\n",
    "assert dataset_origin in DATASETS_ORIGINS, f'Expected dataset one of {DATASETS_ORIGINS}. Got {dataset_origin}.'"
   ],
   "metadata": {
    "collapsed": false
   }
  },
  {
   "cell_type": "code",
   "execution_count": 3,
   "outputs": [],
   "source": [
    "NUM_SAMPLES=3001                    # Trace sample length - If the dataset is built for phasenet: 3001 If it is for EQTransformer: 6000\n",
    "NUM_NOISY_VERSIONS_PER_TRACE=1      # How many noisy versions to synthesize using a single real trace\n",
    "DESIRED_SNR=10                   # What SNR level should the noisy synthesized trace be\n",
    "SAMPLING_RATE=100                   # Sampling Rate - PhaseNet and EQTransformer expect 100Hz\n",
    "NUM_OF_ORIGINAL_TRACES = 2000       # How many original traces to use for the noisy dataset - use slice from the start"
   ],
   "metadata": {
    "collapsed": false
   }
  },
  {
   "cell_type": "markdown",
   "source": [
    "If the generated noises should allow shifting experiments they should be longer than the original trace.\n",
    "Define how many 1-second-shifts will the dataset enable."
   ],
   "metadata": {
    "collapsed": false
   }
  },
  {
   "cell_type": "code",
   "execution_count": 4,
   "outputs": [],
   "source": [
    "NUM_SHIFTS=6\n",
    "AUGMENTED_WINDOW_SIZE=NUM_SAMPLES+SAMPLING_RATE*NUM_SHIFTS"
   ],
   "metadata": {
    "collapsed": false
   }
  },
  {
   "cell_type": "markdown",
   "source": [
    "Browse The path of the **event** traces that will be used for synthesizing."
   ],
   "metadata": {
    "collapsed": false
   }
  },
  {
   "cell_type": "code",
   "execution_count": 5,
   "outputs": [],
   "source": [
    "DATASET_PATH=f'/home/moshe/datasets/GFZ/noisy_datasets/{dataset_origin}_{NUM_SAMPLES}_sample_joachim_noises_energy_ratio_snr/'"
   ],
   "metadata": {
    "collapsed": false
   }
  },
  {
   "cell_type": "markdown",
   "source": [
    "Browse The path of the **noise** traces that will be used for synthesizing."
   ],
   "metadata": {
    "collapsed": false
   }
  },
  {
   "cell_type": "code",
   "execution_count": 6,
   "outputs": [],
   "source": [
    "NOISES_PATH='/home/moshe/datasets/GFZ/Noises'"
   ],
   "metadata": {
    "collapsed": false
   }
  },
  {
   "cell_type": "code",
   "execution_count": 7,
   "metadata": {},
   "outputs": [],
   "source": [
    "dataset_traces_path = os.path.join(DATASET_PATH, 'original_dataset.pt')[:NUM_OF_ORIGINAL_TRACES]\n",
    "dataset_labels_path = os.path.join(DATASET_PATH, 'original_labels.pt')[:NUM_OF_ORIGINAL_TRACES]\n",
    "\n",
    "assert os.path.exists(DATASET_PATH), f'Directory {DATASET_PATH} does not exist'\n",
    "assert os.path.exists(dataset_traces_path), f'file {dataset_traces_path} does not exist'\n",
    "assert os.path.exists(dataset_labels_path), f'file {dataset_labels_path} does not exist'"
   ]
  },
  {
   "attachments": {},
   "cell_type": "markdown",
   "metadata": {},
   "source": [
    "## Load Dataset"
   ]
  },
  {
   "cell_type": "code",
   "execution_count": 8,
   "outputs": [
    {
     "name": "stdout",
     "output_type": "stream",
     "text": [
      "Loaded 2000 traces and corresponding labels.\n"
     ]
    }
   ],
   "source": [
    "dataset=torch.load(dataset_traces_path)[:NUM_OF_ORIGINAL_TRACES]\n",
    "labels=torch.load(dataset_labels_path)[:NUM_OF_ORIGINAL_TRACES]\n",
    "\n",
    "num_traces = dataset.shape[0]\n",
    "num_labels = labels.shape[0]\n",
    "num_samples = dataset.shape[-1]\n",
    "\n",
    "assert num_labels==num_traces, f'Expected traces equal num labels.Got {num_traces} traces and {num_labels} labels'\n",
    "assert num_samples==NUM_SAMPLES, f'Expected {NUM_SAMPLES} in each trace. Got {num_samples}.'\n",
    "\n",
    "print(f'Loaded {num_traces} traces and corresponding labels.')"
   ],
   "metadata": {
    "collapsed": false
   }
  },
  {
   "cell_type": "markdown",
   "source": [
    "## Create a Noisy Dataset"
   ],
   "metadata": {
    "collapsed": false
   }
  },
  {
   "cell_type": "code",
   "execution_count": 9,
   "metadata": {},
   "outputs": [],
   "source": [
    "def create_single_noisy_version():\n",
    "    # prepare full noises traces\n",
    "    full_noise_traces: torch.tensor = get_n_random_noises(num_noises=num_traces, desired_window_size=AUGMENTED_WINDOW_SIZE, noises_path=NOISES_PATH,force_resample=True, filename='aaa', sampling_rate=SAMPLING_RATE, silent_exception_prints=True).squeeze()\n",
    "    print(f'Loaded {full_noise_traces.shape[0]} noise traces. shape {full_noise_traces.shape}')\n",
    "    # Trim the noise traces. Adjust to dataset num samples.\n",
    "    noise_traces: torch.tensor = full_noise_traces[:,:,:NUM_SAMPLES].clone()\n",
    "\n",
    "    print(f'Trimmed {noise_traces.shape[0]} noise traces to shape {noise_traces.shape}')\n",
    "    # Create the noisy traces and get the ones that did not succeed\n",
    "    version_noised_traces_list, version_noise_factors, version_not_included_indices = create_noisy_traces(dataset=dataset,desired_snr=DESIRED_SNR, labels=labels, noise_traces=noise_traces, calc_snr=CalcSNR(SnrCalcStrategy.ENERGY_RATIO))\n",
    "    print(f'Created {len(version_noised_traces_list)} noisy traces')\n",
    "    print(f'The following indices are not included {version_not_included_indices}')\n",
    "    # Remove the corresponding indices from the full noises list and the label list\n",
    "    included_indices_list = [i for i in range(num_traces) if i not in version_not_included_indices]\n",
    "    version_labels = labels[included_indices_list].clone()\n",
    "    version_full_noise_traces = full_noise_traces[included_indices_list].clone()\n",
    "    return torch.stack(version_noised_traces_list, dim=0), version_labels, version_full_noise_traces, torch.tensor(version_noise_factors), version_not_included_indices"
   ]
  },
  {
   "cell_type": "code",
   "execution_count": 10,
   "outputs": [],
   "source": [
    "noised_traces_list, noised_traces_labels_list, augmented_noise_traces_list, factors_list, indices_not_used_list = [],[],[],[], []"
   ],
   "metadata": {
    "collapsed": false
   }
  },
  {
   "cell_type": "code",
   "execution_count": 11,
   "outputs": [
    {
     "data": {
      "text/plain": "  0%|          | 0/1 [00:00<?, ?it/s]",
      "application/vnd.jupyter.widget-view+json": {
       "version_major": 2,
       "version_minor": 0,
       "model_id": "a1fd2c40b8a840eead2535ba7fbda9ff"
      }
     },
     "metadata": {},
     "output_type": "display_data"
    },
    {
     "name": "stderr",
     "output_type": "stream",
     "text": [
      "\n",
      "  0%|          | 0/2000 [00:00<?, ?it/s]\u001B[A\n",
      "  0%|          | 1/2000 [00:00<05:45,  5.78it/s]\u001B[A\n",
      "  1%|          | 20/2000 [00:00<00:27, 70.92it/s]\u001B[A\n",
      "  2%|▏         | 41/2000 [00:00<00:16, 117.74it/s]\u001B[A\n",
      "  3%|▎         | 60/2000 [00:00<00:13, 140.48it/s]\u001B[A\n",
      "  4%|▍         | 77/2000 [00:00<00:12, 149.82it/s]\u001B[A\n",
      "  5%|▍         | 95/2000 [00:00<00:12, 157.62it/s]\u001B[A\n",
      "  6%|▌         | 113/2000 [00:00<00:11, 163.91it/s]\u001B[A\n",
      "  7%|▋         | 134/2000 [00:00<00:10, 177.59it/s]\u001B[A\n",
      "  8%|▊         | 155/2000 [00:01<00:09, 187.19it/s]\u001B[A\n",
      "  9%|▉         | 176/2000 [00:01<00:09, 191.53it/s]\u001B[A\n",
      " 10%|▉         | 196/2000 [00:01<00:09, 192.42it/s]\u001B[A\n",
      " 11%|█         | 216/2000 [00:01<00:09, 188.38it/s]\u001B[A\n",
      " 12%|█▏        | 236/2000 [00:01<00:09, 190.46it/s]\u001B[A\n",
      " 13%|█▎        | 256/2000 [00:01<00:09, 188.58it/s]\u001B[A\n",
      " 14%|█▍        | 275/2000 [00:01<00:09, 186.10it/s]\u001B[A\n",
      " 15%|█▍        | 294/2000 [00:01<00:09, 186.32it/s]\u001B[A\n",
      " 16%|█▌        | 313/2000 [00:01<00:09, 184.93it/s]\u001B[A\n",
      " 17%|█▋        | 333/2000 [00:01<00:08, 188.56it/s]\u001B[A\n",
      " 18%|█▊        | 354/2000 [00:02<00:08, 194.23it/s]\u001B[A\n",
      " 19%|█▉        | 375/2000 [00:02<00:08, 198.02it/s]\u001B[A\n",
      " 20%|█▉        | 396/2000 [00:02<00:08, 198.68it/s]\u001B[A\n",
      " 21%|██        | 416/2000 [00:02<00:07, 198.59it/s]\u001B[A\n",
      " 22%|██▏       | 436/2000 [00:02<00:07, 197.33it/s]\u001B[A\n",
      " 23%|██▎       | 456/2000 [00:02<00:07, 195.11it/s]\u001B[A\n",
      " 24%|██▍       | 477/2000 [00:02<00:07, 197.14it/s]\u001B[A\n",
      " 25%|██▍       | 497/2000 [00:02<00:07, 195.73it/s]\u001B[A\n",
      " 26%|██▌       | 518/2000 [00:02<00:07, 198.05it/s]\u001B[A\n",
      " 27%|██▋       | 539/2000 [00:03<00:07, 200.06it/s]\u001B[A\n",
      " 28%|██▊       | 560/2000 [00:03<00:07, 200.34it/s]\u001B[A\n",
      " 29%|██▉       | 582/2000 [00:03<00:06, 205.05it/s]\u001B[A\n",
      " 30%|███       | 603/2000 [00:03<00:06, 200.51it/s]\u001B[A\n",
      " 31%|███       | 624/2000 [00:03<00:06, 201.69it/s]\u001B[A\n",
      " 32%|███▏      | 645/2000 [00:03<00:06, 201.93it/s]\u001B[A\n",
      " 33%|███▎      | 666/2000 [00:03<00:06, 203.85it/s]\u001B[A\n",
      " 34%|███▍      | 687/2000 [00:03<00:06, 204.11it/s]\u001B[A\n",
      " 35%|███▌      | 708/2000 [00:03<00:06, 204.11it/s]\u001B[A\n",
      " 36%|███▋      | 730/2000 [00:03<00:06, 206.88it/s]\u001B[A\n",
      " 38%|███▊      | 751/2000 [00:04<00:06, 199.52it/s]\u001B[A\n",
      " 39%|███▊      | 773/2000 [00:04<00:06, 204.14it/s]\u001B[A\n",
      " 40%|███▉      | 795/2000 [00:04<00:05, 207.17it/s]\u001B[A\n",
      " 41%|████      | 817/2000 [00:04<00:05, 208.17it/s]\u001B[A\n",
      " 42%|████▏     | 839/2000 [00:04<00:05, 210.48it/s]\u001B[A\n",
      " 43%|████▎     | 861/2000 [00:04<00:05, 200.84it/s]\u001B[A\n",
      " 44%|████▍     | 882/2000 [00:04<00:05, 189.98it/s]\u001B[A\n",
      " 45%|████▌     | 902/2000 [00:04<00:06, 180.56it/s]\u001B[A\n",
      " 46%|████▌     | 921/2000 [00:04<00:06, 174.86it/s]\u001B[A\n",
      " 47%|████▋     | 939/2000 [00:05<00:06, 169.93it/s]\u001B[A\n",
      " 48%|████▊     | 957/2000 [00:05<00:06, 171.40it/s]\u001B[A\n",
      " 49%|████▉     | 978/2000 [00:05<00:05, 180.90it/s]\u001B[A\n",
      " 50%|████▉     | 998/2000 [00:05<00:05, 185.13it/s]\u001B[A\n",
      " 51%|█████     | 1020/2000 [00:05<00:05, 193.25it/s]\u001B[A\n",
      " 52%|█████▏    | 1041/2000 [00:05<00:04, 195.65it/s]\u001B[A\n",
      " 53%|█████▎    | 1061/2000 [00:05<00:05, 185.05it/s]\u001B[A\n",
      " 54%|█████▍    | 1080/2000 [00:05<00:05, 178.44it/s]\u001B[A\n",
      " 55%|█████▍    | 1098/2000 [00:05<00:05, 173.94it/s]\u001B[A\n",
      " 56%|█████▌    | 1117/2000 [00:06<00:04, 177.26it/s]\u001B[A\n",
      " 57%|█████▋    | 1135/2000 [00:06<00:04, 173.26it/s]\u001B[A\n",
      " 58%|█████▊    | 1153/2000 [00:06<00:04, 170.22it/s]\u001B[A\n",
      " 59%|█████▊    | 1172/2000 [00:06<00:04, 174.43it/s]\u001B[A\n",
      " 60%|█████▉    | 1190/2000 [00:06<00:04, 170.51it/s]\u001B[A\n",
      " 60%|██████    | 1208/2000 [00:06<00:04, 167.15it/s]\u001B[A\n",
      " 61%|██████▏   | 1226/2000 [00:06<00:04, 168.44it/s]\u001B[A\n",
      " 62%|██████▏   | 1244/2000 [00:06<00:04, 170.65it/s]\u001B[A\n",
      " 63%|██████▎   | 1263/2000 [00:06<00:04, 175.07it/s]\u001B[A\n",
      " 64%|██████▍   | 1284/2000 [00:06<00:03, 184.61it/s]\u001B[A\n",
      " 65%|██████▌   | 1306/2000 [00:07<00:03, 193.48it/s]\u001B[A\n",
      " 66%|██████▋   | 1327/2000 [00:07<00:03, 196.56it/s]\u001B[A\n",
      " 67%|██████▋   | 1347/2000 [00:07<00:03, 195.97it/s]\u001B[A\n",
      " 68%|██████▊   | 1367/2000 [00:07<00:03, 191.92it/s]\u001B[A\n",
      " 69%|██████▉   | 1387/2000 [00:07<00:03, 188.30it/s]\u001B[A\n",
      " 70%|███████   | 1406/2000 [00:07<00:03, 184.40it/s]\u001B[A\n",
      " 71%|███████▏  | 1425/2000 [00:07<00:03, 181.45it/s]\u001B[A\n",
      " 72%|███████▏  | 1444/2000 [00:07<00:03, 180.23it/s]\u001B[A\n",
      " 73%|███████▎  | 1464/2000 [00:07<00:02, 185.77it/s]\u001B[A\n",
      " 74%|███████▍  | 1485/2000 [00:08<00:02, 191.01it/s]\u001B[A\n",
      " 75%|███████▌  | 1506/2000 [00:08<00:02, 196.49it/s]\u001B[A\n",
      " 76%|███████▋  | 1528/2000 [00:08<00:02, 201.03it/s]\u001B[A\n",
      " 77%|███████▋  | 1549/2000 [00:08<00:02, 201.72it/s]\u001B[A\n",
      " 78%|███████▊  | 1570/2000 [00:08<00:02, 202.43it/s]\u001B[A\n",
      " 80%|███████▉  | 1591/2000 [00:08<00:02, 202.58it/s]\u001B[A\n",
      " 81%|████████  | 1612/2000 [00:08<00:01, 199.80it/s]\u001B[A\n",
      " 82%|████████▏ | 1634/2000 [00:08<00:01, 203.13it/s]\u001B[A\n",
      " 83%|████████▎ | 1655/2000 [00:08<00:01, 201.76it/s]\u001B[A\n",
      " 84%|████████▍ | 1676/2000 [00:08<00:01, 201.50it/s]\u001B[A\n",
      " 85%|████████▍ | 1697/2000 [00:09<00:01, 201.95it/s]\u001B[A\n",
      " 86%|████████▌ | 1718/2000 [00:09<00:01, 203.50it/s]\u001B[A\n",
      " 87%|████████▋ | 1739/2000 [00:09<00:01, 201.20it/s]\u001B[A\n",
      " 88%|████████▊ | 1760/2000 [00:09<00:01, 200.00it/s]\u001B[A\n",
      " 89%|████████▉ | 1781/2000 [00:09<00:01, 201.82it/s]\u001B[A\n",
      " 90%|█████████ | 1802/2000 [00:09<00:00, 200.49it/s]\u001B[A\n",
      " 91%|█████████ | 1823/2000 [00:09<00:00, 200.53it/s]\u001B[A\n",
      " 92%|█████████▏| 1844/2000 [00:09<00:00, 194.77it/s]\u001B[A\n",
      " 93%|█████████▎| 1864/2000 [00:09<00:00, 188.52it/s]\u001B[A\n",
      " 94%|█████████▍| 1884/2000 [00:10<00:00, 189.46it/s]\u001B[A\n",
      " 95%|█████████▌| 1903/2000 [00:10<00:00, 187.35it/s]\u001B[A\n",
      " 96%|█████████▌| 1922/2000 [00:10<00:00, 184.87it/s]\u001B[A\n",
      " 97%|█████████▋| 1941/2000 [00:10<00:00, 182.96it/s]\u001B[A\n",
      " 98%|█████████▊| 1962/2000 [00:10<00:00, 188.64it/s]\u001B[A\n",
      " 99%|█████████▉| 1981/2000 [00:10<00:00, 186.03it/s]\u001B[A\n",
      "100%|██████████| 2000/2000 [00:10<00:00, 187.15it/s]\u001B[A\n"
     ]
    },
    {
     "name": "stdout",
     "output_type": "stream",
     "text": [
      "Created a list of 2000 random noises of shape torch.Size([3, 3601])\n",
      "stack to tensor\n",
      "Stacked to tensor of shape torch.Size([2000, 3, 3601])\n",
      "Loaded 2000 noise traces. shape torch.Size([2000, 3, 3601])\n",
      "Trimmed 2000 noise traces to shape torch.Size([2000, 3, 3001])\n"
     ]
    },
    {
     "name": "stderr",
     "output_type": "stream",
     "text": [
      "\n",
      "  0%|          | 0/2000 [00:00<?, ?it/s]\u001B[A\n",
      "  2%|▏         | 48/2000 [00:00<00:04, 479.76it/s]\u001B[A\n",
      "  5%|▍         | 96/2000 [00:00<00:04, 448.07it/s]\u001B[A\n",
      "  7%|▋         | 148/2000 [00:00<00:03, 476.09it/s]\u001B[A\n",
      " 10%|█         | 200/2000 [00:00<00:03, 491.43it/s]\u001B[A\n",
      " 13%|█▎        | 252/2000 [00:00<00:03, 499.59it/s]\u001B[A\n",
      " 15%|█▌        | 303/2000 [00:00<00:03, 499.57it/s]\u001B[A\n",
      " 18%|█▊        | 354/2000 [00:00<00:03, 498.24it/s]\u001B[A\n",
      " 20%|██        | 405/2000 [00:00<00:03, 500.29it/s]\u001B[A\n",
      " 23%|██▎       | 456/2000 [00:00<00:03, 490.65it/s]\u001B[A\n",
      " 25%|██▌       | 506/2000 [00:01<00:03, 450.44it/s]\u001B[A\n",
      " 28%|██▊       | 552/2000 [00:01<00:03, 443.83it/s]\u001B[A\n",
      " 30%|███       | 603/2000 [00:01<00:03, 462.49it/s]\u001B[A\n",
      " 33%|███▎      | 654/2000 [00:01<00:02, 473.92it/s]\u001B[A\n",
      " 35%|███▌      | 706/2000 [00:01<00:02, 486.10it/s]\u001B[A\n",
      " 38%|███▊      | 757/2000 [00:01<00:02, 490.92it/s]\u001B[A\n",
      " 40%|████      | 807/2000 [00:01<00:02, 493.01it/s]\u001B[A\n",
      " 43%|████▎     | 859/2000 [00:01<00:02, 499.65it/s]\u001B[A\n",
      " 46%|████▌     | 911/2000 [00:01<00:02, 503.26it/s]\u001B[A\n",
      " 48%|████▊     | 963/2000 [00:01<00:02, 507.17it/s]\u001B[A\n",
      " 51%|█████     | 1014/2000 [00:02<00:01, 506.56it/s]\u001B[A\n",
      " 53%|█████▎    | 1066/2000 [00:02<00:01, 509.31it/s]\u001B[A\n",
      " 56%|█████▌    | 1118/2000 [00:02<00:01, 512.07it/s]\u001B[A\n",
      " 58%|█████▊    | 1170/2000 [00:02<00:01, 511.68it/s]\u001B[A\n",
      " 61%|██████    | 1222/2000 [00:02<00:01, 506.25it/s]\u001B[A\n",
      " 64%|██████▎   | 1273/2000 [00:02<00:01, 505.33it/s]\u001B[A\n",
      " 66%|██████▌   | 1324/2000 [00:02<00:01, 499.93it/s]\u001B[A\n",
      " 69%|██████▉   | 1376/2000 [00:02<00:01, 504.77it/s]\u001B[A\n",
      " 71%|███████▏  | 1427/2000 [00:02<00:01, 506.22it/s]\u001B[A\n",
      " 74%|███████▍  | 1478/2000 [00:02<00:01, 504.82it/s]\u001B[A\n",
      " 76%|███████▋  | 1529/2000 [00:03<00:00, 504.56it/s]\u001B[A\n",
      " 79%|███████▉  | 1581/2000 [00:03<00:00, 508.62it/s]\u001B[A\n",
      " 82%|████████▏ | 1633/2000 [00:03<00:00, 511.42it/s]\u001B[A\n",
      " 84%|████████▍ | 1685/2000 [00:03<00:00, 512.92it/s]\u001B[A\n",
      " 87%|████████▋ | 1737/2000 [00:03<00:00, 512.25it/s]\u001B[A\n",
      " 89%|████████▉ | 1789/2000 [00:03<00:00, 514.47it/s]\u001B[A\n",
      " 92%|█████████▏| 1841/2000 [00:03<00:00, 510.38it/s]\u001B[A\n",
      " 95%|█████████▍| 1893/2000 [00:03<00:00, 511.22it/s]\u001B[A\n",
      " 97%|█████████▋| 1945/2000 [00:03<00:00, 512.15it/s]\u001B[A\n",
      "100%|██████████| 2000/2000 [00:04<00:00, 497.99it/s]\u001B[A\n"
     ]
    },
    {
     "name": "stdout",
     "output_type": "stream",
     "text": [
      "Created 2000 noisy traces\n",
      "The following indices are not included []\n"
     ]
    }
   ],
   "source": [
    "pbar = tqdm(range(NUM_NOISY_VERSIONS_PER_TRACE))\n",
    "for i in pbar:\n",
    "    version_noised_traces, version_labels, version_full_noise_traces, version_factors, version_not_included_indices =  create_single_noisy_version()\n",
    "    noised_traces_list.append(version_noised_traces)\n",
    "    noised_traces_labels_list.append(version_labels.unsqueeze(dim=1))\n",
    "    augmented_noise_traces_list.append(version_full_noise_traces)\n",
    "    factors_list.append(version_factors.unsqueeze(dim=1))\n",
    "    indices_not_used_list.extend(version_not_included_indices)\n",
    "    pbar.set_description(f'Lists len {len(noised_traces_list), len(noised_traces_labels_list), len(augmented_noise_traces_list), len(factors_list)}')"
   ],
   "metadata": {
    "collapsed": false
   }
  },
  {
   "cell_type": "code",
   "execution_count": 12,
   "outputs": [
    {
     "data": {
      "text/plain": "(torch.Size([2000, 3, 3001]),\n torch.Size([2000]),\n torch.Size([2000, 3, 3601]),\n torch.Size([2000]),\n torch.Size([0]))"
     },
     "execution_count": 12,
     "metadata": {},
     "output_type": "execute_result"
    }
   ],
   "source": [
    "noised_traces = torch.vstack(noised_traces_list)\n",
    "noised_traces_labels = torch.vstack(noised_traces_labels_list).squeeze()\n",
    "augmented_noise_traces = torch.vstack(augmented_noise_traces_list)\n",
    "noising_factors = torch.vstack(factors_list).squeeze()\n",
    "indices_not_used = torch.tensor(list(set(indices_not_used_list)))\n",
    "noised_traces.shape, noised_traces_labels.shape, augmented_noise_traces.shape, noising_factors.shape, indices_not_used.shape"
   ],
   "metadata": {
    "collapsed": false
   }
  },
  {
   "cell_type": "code",
   "execution_count": 13,
   "outputs": [
    {
     "data": {
      "text/plain": "'/home/moshe/datasets/GFZ/noisy_datasets/ethz_3001_sample_joachim_noises_energy_ratio_snr/noisy_dataset_snr_10'"
     },
     "execution_count": 13,
     "metadata": {},
     "output_type": "execute_result"
    }
   ],
   "source": [
    "noisy_dataset_path = os.path.join(DATASET_PATH,f'noisy_dataset_snr_{DESIRED_SNR}')\n",
    "noisy_dataset_path"
   ],
   "metadata": {
    "collapsed": false
   }
  },
  {
   "cell_type": "code",
   "execution_count": 14,
   "outputs": [],
   "source": [
    "assert os.path.exists(noisy_dataset_path), f'Path {noisy_dataset_path} does not exist.Create it'"
   ],
   "metadata": {
    "collapsed": false
   }
  },
  {
   "cell_type": "code",
   "execution_count": 15,
   "outputs": [],
   "source": [
    "torch.save(noised_traces, os.path.join(noisy_dataset_path, 'traces.pt'))\n",
    "torch.save(augmented_noise_traces, os.path.join(noisy_dataset_path, 'full_noise_traces.pt'))\n",
    "torch.save(noised_traces_labels, os.path.join(noisy_dataset_path, 'labels.pt'))\n",
    "torch.save(noising_factors, os.path.join(noisy_dataset_path, 'factors.pt'))\n",
    "torch.save(indices_not_used, os.path.join(noisy_dataset_path,'indices_not_used'))"
   ],
   "metadata": {
    "collapsed": false
   }
  },
  {
   "cell_type": "markdown",
   "source": [
    "## Plot Noising Example"
   ],
   "metadata": {
    "collapsed": false
   }
  },
  {
   "cell_type": "code",
   "execution_count": 16,
   "outputs": [
    {
     "data": {
      "text/plain": "<Figure size 2000x800 with 3 Axes>",
      "image/png": "[encoded data removed]"
     },
     "metadata": {},
     "output_type": "display_data"
    }
   ],
   "source": [
    "idx = 5\n",
    "trace  = noised_traces[idx]\n",
    "label  = noised_traces_labels[idx]\n",
    "factor = noising_factors[idx]\n",
    "noise = augmented_noise_traces[idx, :, :trace.shape[-1] ]\n",
    "\n",
    "fig, (ax_orig,ax_noise, ax_noised) = plt.subplots(1,3,figsize=(20,8), sharey='all')\n",
    "\n",
    "ax_orig.plot((trace - factor * noise)[0]);\n",
    "ax_orig.vlines(x=label, ymin=-1, ymax=1,  label='Onset', linestyles='dashed');\n",
    "ax_orig.set_title('Original Trace')\n",
    "ax_noise.plot(factor*noise[0]);\n",
    "ax_noise.set_title('Noise added')\n",
    "ax_noised.plot(trace[0]);\n",
    "ax_noised.set_title('Noised Trace')\n",
    "\n",
    "ax_noised.vlines(x=label, ymin=-1, ymax=1,  label='Onset', linestyles='dashed');\n",
    "\n",
    "\n",
    "# ax_orig.plot((trace - factor * noise).T)\n",
    "# ax_orig.vlines(x=label, ymin=-1, ymax=1,  label='Onset', linestyles='dashed')\n",
    "# ax_noise.plot(noise.T)\n",
    "# ax_noised.plot(trace.T)\n",
    "# ax_noised.vlines(x=label, ymin=-1, ymax=1,  label='Onset', linestyles='dashed')"
   ],
   "metadata": {
    "collapsed": false
   }
  }
 ],
 "metadata": {
  "kernelspec": {
   "display_name": "seis",
   "language": "python",
   "name": "python3"
  },
  "language_info": {
   "codemirror_mode": {
    "name": "ipython",
    "version": 3
   },
   "file_extension": ".py",
   "mimetype": "text/x-python",
   "name": "python",
   "nbconvert_exporter": "python",
   "pygments_lexer": "ipython3",
   "version": "3.10.8"
  },
  "orig_nbformat": 4,
  "vscode": {
   "interpreter": {
    "hash": "fa76d2c83586c95486e2cc3c656ad2d093b47aefbf53fc633acb9a860f5157ab"
   }
  }
 },
 "nbformat": 4,
 "nbformat_minor": 2
}
