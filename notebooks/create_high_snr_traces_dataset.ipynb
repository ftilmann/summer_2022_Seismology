{
 "cells": [
  {
   "cell_type": "code",
   "execution_count": 1,
   "metadata": {},
   "outputs": [],
   "source": [
    "import seisbench.data as sbd\n",
    "\n",
    "import os\n",
    "from tqdm import tqdm\n",
    "import matplotlib.pyplot as plt\n",
    "import torch\n",
    "\n",
    "from dataset_creation.utils import create_loader_by_phase_and_length\n",
    "from snr.calc_snr import calc_batch_snr, get_high_snr_traces"
   ]
  },
  {
   "cell_type": "markdown",
   "source": [
    "## Requirements and Configuration"
   ],
   "metadata": {
    "collapsed": false
   }
  },
  {
   "cell_type": "markdown",
   "source": [
    "The extracted high SNR traces should be taken from the following dataset ('ethz', 'geofon'):"
   ],
   "metadata": {
    "collapsed": false
   }
  },
  {
   "cell_type": "code",
   "execution_count": 2,
   "metadata": {},
   "outputs": [],
   "source": [
    "DATASETS_ORIGINS = ['ethz', 'geofon']\n",
    "dataset_origin = 'geofon'\n",
    "assert dataset_origin in DATASETS_ORIGINS, f'Expected dataset one of {DATASETS_ORIGINS}. Got {dataset_origin}.'"
   ]
  },
  {
   "cell_type": "markdown",
   "source": [
    "Which partition of the data to use (train, dev, test)?"
   ],
   "metadata": {
    "collapsed": false
   }
  },
  {
   "cell_type": "code",
   "execution_count": 3,
   "outputs": [],
   "source": [
    "PARTITION_TO_USE = 'test'"
   ],
   "metadata": {
    "collapsed": false
   }
  },
  {
   "cell_type": "code",
   "execution_count": 4,
   "outputs": [
    {
     "name": "stdout",
     "output_type": "stream",
     "text": [
      "The corresponding Seisbench Model Type is: <class 'seisbench.data.geofon.GEOFON'>\n"
     ]
    }
   ],
   "source": [
    "SBD_CLASSES={'ethz':sbd.ETHZ, 'geofon':sbd.GEOFON}\n",
    "SBD_CLASS=SBD_CLASSES[dataset_origin]\n",
    "print(f'The corresponding Seisbench Model Type is: {SBD_CLASS}')"
   ],
   "metadata": {
    "collapsed": false
   }
  },
  {
   "cell_type": "code",
   "execution_count": 5,
   "outputs": [],
   "source": [
    "NUM_SAMPLES=3001               # Trace sample length - If the dataset is built for phasenet: 3001 If it is for EQTransformer: 6000\n",
    "PHASE_LABEL = 'P' # 'S'        # What phase are we interested in. The SNR estimation will be based on its channel\n",
    "SAMPLING_RATE = 100            # Sampling Rate - PhaseNet and EQTransformer expect 100Hz\n",
    "SNR_THRESHOLD = 20             # A trace with SNR level above this threshold will be considered high and is a potential candidate to the high SNR dataset\n",
    "BATCH_SIZE=1000                # Number of traces that will be loaded at a single iteration"
   ],
   "metadata": {
    "collapsed": false
   }
  },
  {
   "cell_type": "markdown",
   "source": [
    "Browse the path the generated dataset will be saved:"
   ],
   "metadata": {
    "collapsed": false
   }
  },
  {
   "cell_type": "code",
   "execution_count": 6,
   "outputs": [],
   "source": [
    "SAVE_TO_PATH=f'/home/moshe/datasets/GFZ/noisy_datasets/{dataset_origin}_trainset_{NUM_SAMPLES}_sample_joachim_noises_energy_ratio_snr/'\n",
    "assert os.path.exists(SAVE_TO_PATH), f'Path {SAVE_TO_PATH} does not exist'"
   ],
   "metadata": {
    "collapsed": false
   }
  },
  {
   "cell_type": "markdown",
   "source": [
    "Browse the path targets file:"
   ],
   "metadata": {
    "collapsed": false
   }
  },
  {
   "cell_type": "code",
   "execution_count": 7,
   "outputs": [],
   "source": [
    "TARGETS_PATH = f'/home/moshe/datasets/GFZ/targets/{dataset_origin}/'\n",
    "assert os.path.exists(TARGETS_PATH), f'Path {TARGETS_PATH} does not exist'"
   ],
   "metadata": {
    "collapsed": false
   }
  },
  {
   "cell_type": "markdown",
   "source": [
    "Uncomment relevant lines if downloading targets is needed"
   ],
   "metadata": {
    "collapsed": false
   }
  },
  {
   "cell_type": "code",
   "execution_count": 8,
   "outputs": [],
   "source": [
    "# !mkdir targets\n",
    "# !mkdir targets/ethz\n",
    "# !mkdir targets/geofon\n",
    "#\n",
    "# #ethz\n",
    "# !wget https://dcache-demo.desy.de:2443/Helmholtz/HelmholtzAI/SeisBench/auxiliary/pick-benchmark/targets/ethz/task1.csv\n",
    "# !wget https://dcache-demo.desy.de:2443/Helmholtz/HelmholtzAI/SeisBench/auxiliary/pick-benchmark/targets/ethz/task23.csv\n",
    "# !mv *.csv targets/ethz\n",
    "#\n",
    "# #geofon\n",
    "# !wget https://dcache-demo.desy.de:2443/Helmholtz/HelmholtzAI/SeisBench/auxiliary/pick-benchmark/targets/geofon/task1.csv\n",
    "# !wget https://dcache-demo.desy.de:2443/Helmholtz/HelmholtzAI/SeisBench/auxiliary/pick-benchmark/targets/geofon/task23.csv\n",
    "# !mv *.csv targets/geofon"
   ],
   "metadata": {
    "collapsed": false
   }
  },
  {
   "attachments": {},
   "cell_type": "markdown",
   "metadata": {},
   "source": [
    "## Download Data and Load to Memory"
   ]
  },
  {
   "cell_type": "markdown",
   "source": [
    "### Load Dataset"
   ],
   "metadata": {
    "collapsed": false
   }
  },
  {
   "cell_type": "code",
   "execution_count": 9,
   "metadata": {},
   "outputs": [
    {
     "name": "stdout",
     "output_type": "stream",
     "text": [
      "GEOFON - 86261 traces\n"
     ]
    }
   ],
   "source": [
    "# Take only test data\n",
    "tr, dv, ts = SBD_CLASS(sampling_rate=SAMPLING_RATE, force=True).train_dev_test()\n",
    "PARTITIONS = {'train':tr, 'dev':dv, 'test':ts}\n",
    "\n",
    "data = PARTITIONS[PARTITION_TO_USE]\n",
    "print(data)"
   ]
  },
  {
   "cell_type": "markdown",
   "source": [
    "### Create Data Loader"
   ],
   "metadata": {
    "collapsed": false
   }
  },
  {
   "cell_type": "code",
   "execution_count": 11,
   "metadata": {},
   "outputs": [
    {
     "name": "stdout",
     "output_type": "stream",
     "text": [
      "All events will contribute to the resulting dataset\n",
      "Generator contains  89227 relevant traces\n",
      "There are 89227 traces in the resulting dataset.\n",
      "Created a dataloader that loads all data in 90 batches\n"
     ]
    }
   ],
   "source": [
    "loader, num_dataset_traces = create_loader_by_phase_and_length(phase_label=PHASE_LABEL, trace_length=NUM_SAMPLES, targets_path=TARGETS_PATH, data=data, batch_size=BATCH_SIZE)\n",
    "print(f'There are {num_dataset_traces} traces in the resulting dataset.')\n",
    "print(f'Created a dataloader that loads all data in {len(loader)} batches')"
   ]
  },
  {
   "cell_type": "markdown",
   "source": [
    "## Extract The High SNR Traces"
   ],
   "metadata": {
    "collapsed": false
   }
  },
  {
   "cell_type": "markdown",
   "source": [
    "Load the whole traces batch by batch, calculate the traces snr and keep the traces with high snr."
   ],
   "metadata": {
    "collapsed": false
   }
  },
  {
   "cell_type": "code",
   "execution_count": 12,
   "outputs": [
    {
     "name": "stderr",
     "output_type": "stream",
     "text": [
      "574 high SNR traces found:   3%|▎         | 3/90 [00:08<03:41,  2.54s/it]/home/moshe/GIT/summer_2022_Seismology/snr/calc_snr.py:48: RuntimeWarning: invalid value encountered in float_scalars\n",
      "  return CalcSNR.to_db(float(Es / En))\n",
      "12150 high SNR traces found: 100%|██████████| 90/90 [02:52<00:00,  1.92s/it]\n"
     ]
    },
    {
     "data": {
      "text/plain": "(torch.Size([12150, 3, 3001]), torch.Size([12150]), torch.Size([12150]))"
     },
     "execution_count": 12,
     "metadata": {},
     "output_type": "execute_result"
    }
   ],
   "source": [
    "traces_counter = 0\n",
    "SNR_of_high_SNR_traces_list, high_SNR_traces_list, high_SNR_traces_labels_list = [],[],[]\n",
    "pbar = tqdm(loader)\n",
    "for dataset_dict in pbar:\n",
    "    traces, labels = dataset_dict['X'], dataset_dict['onset_sample']\n",
    "    SNR = calc_batch_snr(batch_traces=traces, batch_labels=labels)\n",
    "    batch_high_SNR_traces, batch_high_SNR_traces_labels, batch_SNR_of_high_SNR_traces = get_high_snr_traces(traces=traces, labels=labels, SNR=SNR, snr_threshold=SNR_THRESHOLD)\n",
    "    traces_counter += batch_high_SNR_traces.shape[0]\n",
    "    high_SNR_traces_list.append(batch_high_SNR_traces)\n",
    "    high_SNR_traces_labels_list.append(batch_high_SNR_traces_labels.unsqueeze(dim=1))\n",
    "    SNR_of_high_SNR_traces_list.append(batch_SNR_of_high_SNR_traces.unsqueeze(dim=1))\n",
    "\n",
    "    pbar.set_description(f'{traces_counter} high SNR traces found')\n",
    "\n",
    "SNR_of_high_SNR_traces = torch.vstack(SNR_of_high_SNR_traces_list).squeeze()\n",
    "high_SNR_traces = torch.vstack(high_SNR_traces_list)\n",
    "high_SNR_traces_labels = torch.vstack(high_SNR_traces_labels_list).squeeze()\n",
    "\n",
    "high_SNR_traces.shape, SNR_of_high_SNR_traces.shape,  high_SNR_traces_labels.shape"
   ],
   "metadata": {
    "collapsed": false
   }
  },
  {
   "cell_type": "markdown",
   "source": [
    "## Save the High SNR Dataset to Files"
   ],
   "metadata": {
    "collapsed": false
   }
  },
  {
   "cell_type": "markdown",
   "source": [
    "There are 3 files generated:\n",
    "1. Traces\n",
    "2. Corresponding labels\n",
    "3. Corresponding SNR values"
   ],
   "metadata": {
    "collapsed": false
   }
  },
  {
   "cell_type": "code",
   "execution_count": null,
   "outputs": [],
   "source": [
    "torch.save(high_SNR_traces, os.path.join(SAVE_TO_PATH, 'original_dataset.pt'))\n",
    "torch.save(high_SNR_traces_labels, os.path.join(SAVE_TO_PATH, 'original_labels.pt'))\n",
    "torch.save(SNR_of_high_SNR_traces, os.path.join(SAVE_TO_PATH, 'original_traces_energy_ratio_snrs.pt'))"
   ],
   "metadata": {
    "collapsed": false
   }
  },
  {
   "cell_type": "markdown",
   "source": [
    "## Plot the SNR values of the Extracted Dataset"
   ],
   "metadata": {
    "collapsed": false
   }
  },
  {
   "cell_type": "code",
   "execution_count": null,
   "outputs": [],
   "source": [
    "num_high_snr_traces = int(SNR_of_high_SNR_traces.shape[0])\n",
    "fig, ax_high_snr = plt.subplots(figsize=(8, 6))\n",
    "ax_high_snr.set_title('SNR (dB)')\n",
    "ax_high_snr.set_xticklabels([])\n",
    "ax_high_snr.set_xticks([])\n",
    "ax_high_snr.scatter(range(num_high_snr_traces), SNR_of_high_SNR_traces, s=1);"
   ],
   "metadata": {
    "collapsed": false
   }
  }
 ],
 "metadata": {
  "kernelspec": {
   "display_name": "seis",
   "language": "python",
   "name": "python3"
  },
  "language_info": {
   "codemirror_mode": {
    "name": "ipython",
    "version": 3
   },
   "file_extension": ".py",
   "mimetype": "text/x-python",
   "name": "python",
   "nbconvert_exporter": "python",
   "pygments_lexer": "ipython3",
   "version": "3.10.8"
  },
  "orig_nbformat": 4,
  "vscode": {
   "interpreter": {
    "hash": "fa76d2c83586c95486e2cc3c656ad2d093b47aefbf53fc633acb9a860f5157ab"
   }
  }
 },
 "nbformat": 4,
 "nbformat_minor": 2
}
