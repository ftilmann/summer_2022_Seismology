{
 "cells": [
  {
   "cell_type": "code",
   "execution_count": 1,
   "metadata": {},
   "outputs": [],
   "source": [
    "import seisbench.data as sbd\n",
    "\n",
    "import os\n",
    "from tqdm.notebook import tqdm\n",
    "import matplotlib.pyplot as plt\n",
    "import torch\n",
    "\n",
    "from dataset_creation.utils import create_loader_by_phase_and_length\n",
    "from snr.calc_snr import calc_batch_snr, get_high_snr_traces, str2snr_strategy"
   ]
  },
  {
   "cell_type": "markdown",
   "metadata": {},
   "source": [
    "## Requirements and Configuration"
   ]
  },
  {
   "cell_type": "markdown",
   "metadata": {},
   "source": [
    "The extracted high SNR traces should be taken from the following dataset ('ethz', 'geofon'):"
   ]
  },
  {
   "cell_type": "code",
   "execution_count": 2,
   "metadata": {},
   "outputs": [],
   "source": [
    "DATASETS_ORIGINS = ['ethz', 'geofon']\n",
    "dataset_origin = 'ethz'\n",
    "assert dataset_origin in DATASETS_ORIGINS, f'Expected dataset one of {DATASETS_ORIGINS}. Got {dataset_origin}.'"
   ]
  },
  {
   "cell_type": "markdown",
   "metadata": {},
   "source": [
    "Which partition of the data to use (train, dev, test)?"
   ]
  },
  {
   "cell_type": "code",
   "execution_count": 3,
   "metadata": {},
   "outputs": [],
   "source": [
    "PARTITION_TO_USE = 'test'"
   ]
  },
  {
   "cell_type": "code",
   "execution_count": 4,
   "metadata": {},
   "outputs": [
    {
     "name": "stdout",
     "output_type": "stream",
     "text": [
      "The corresponding Seisbench Model Type is: <class 'seisbench.data.ethz.ETHZ'>\n"
     ]
    }
   ],
   "source": [
    "SBD_CLASSES={'ethz':sbd.ETHZ, 'geofon':sbd.GEOFON}\n",
    "SBD_CLASS=SBD_CLASSES[dataset_origin]\n",
    "print(f'The corresponding Seisbench Model Type is: {SBD_CLASS}')"
   ]
  },
  {
   "cell_type": "code",
   "execution_count": 5,
   "metadata": {},
   "outputs": [],
   "source": [
    "NUM_SAMPLES=3001               # Trace sample length - If the dataset is built for phasenet: 3001 If it is for EQTransformer: 6000\n",
    "PHASE_LABEL = 'P' # 'S'        # What phase are we interested in. The SNR estimation will be based on its channel\n",
    "SAMPLING_RATE = 100            # Sampling Rate - PhaseNet and EQTransformer expect 100Hz\n",
    "SNR_THRESHOLD = 20             # A trace with SNR level above this threshold will be considered high and is a potential candidate to the high SNR dataset\n",
    "BATCH_SIZE=256                 # Number of traces that will be loaded at a single iteration\n",
    "COMPARE_TO_TOTAL = False        # True if you want to keep all SNRs in memory and compare at the end. May be heavy for GEOFON e.g."
   ]
  },
  {
   "cell_type": "code",
   "execution_count": 6,
   "metadata": {},
   "outputs": [
    {
     "data": {
      "text/plain": "<SnrCalcStrategy.ENERGY_RATIO: 1>"
     },
     "execution_count": 6,
     "metadata": {},
     "output_type": "execute_result"
    }
   ],
   "source": [
    "SNR_CALC_STRATEGY_STR_ALTERNATIVES = ['energy_ratio', 'max_amplitude_vs_rms_ratio']\n",
    "SNR_CALC_STRATEGY_STR =  'energy_ratio' # 'max_amplitude_vs_rms_ratio'\n",
    "assert SNR_CALC_STRATEGY_STR in SNR_CALC_STRATEGY_STR_ALTERNATIVES, f'Expected one of {SNR_CALC_STRATEGY_STR_ALTERNATIVES}. Got {SNR_CALC_STRATEGY_STR}'\n",
    "SNR_CALC_STRATEGY=str2snr_strategy(SNR_CALC_STRATEGY_STR)  # Function used to estimate the trace Signal to Noise Ratio(SNR) -  ENERGY_RATIO orMAX_AMPLITUDE_VS_RMS_RATIO\n",
    "SNR_CALC_STRATEGY"
   ]
  },
  {
   "cell_type": "markdown",
   "metadata": {},
   "source": [
    "Browse the path the generated dataset will be saved:"
   ]
  },
  {
   "cell_type": "code",
   "execution_count": 7,
   "metadata": {},
   "outputs": [],
   "source": [
    "SAVE_TO_PATH=f'/home/moshe/datasets/GFZ/noisy_datasets/{dataset_origin}_{NUM_SAMPLES}_sample_joachim_noises_{SNR_CALC_STRATEGY_STR}_snr/'\n",
    "assert os.path.exists(SAVE_TO_PATH), f'Path {SAVE_TO_PATH} does not exist'"
   ]
  },
  {
   "cell_type": "markdown",
   "metadata": {},
   "source": [
    "Browse the path targets file:"
   ]
  },
  {
   "cell_type": "code",
   "execution_count": 8,
   "metadata": {},
   "outputs": [],
   "source": [
    "TARGETS_PATH = f'/home/moshe/datasets/GFZ/targets/{dataset_origin}/'\n",
    "assert os.path.exists(TARGETS_PATH), f'Path {TARGETS_PATH} does not exist'"
   ]
  },
  {
   "cell_type": "markdown",
   "metadata": {},
   "source": [
    "Uncomment relevant lines if downloading targets is needed"
   ]
  },
  {
   "cell_type": "code",
   "execution_count": 9,
   "metadata": {},
   "outputs": [],
   "source": [
    "# !mkdir targets\n",
    "# !mkdir targets/ethz\n",
    "# !mkdir targets/geofon\n",
    "#\n",
    "# #ethz\n",
    "# !wget https://dcache-demo.desy.de:2443/Helmholtz/HelmholtzAI/SeisBench/auxiliary/pick-benchmark/targets/ethz/task1.csv\n",
    "# !wget https://dcache-demo.desy.de:2443/Helmholtz/HelmholtzAI/SeisBench/auxiliary/pick-benchmark/targets/ethz/task23.csv\n",
    "# !mv *.csv targets/ethz\n",
    "#\n",
    "# #geofon\n",
    "# !wget https://dcache-demo.desy.de:2443/Helmholtz/HelmholtzAI/SeisBench/auxiliary/pick-benchmark/targets/geofon/task1.csv\n",
    "# !wget https://dcache-demo.desy.de:2443/Helmholtz/HelmholtzAI/SeisBench/auxiliary/pick-benchmark/targets/geofon/task23.csv\n",
    "# !mv *.csv targets/geofon"
   ]
  },
  {
   "cell_type": "markdown",
   "metadata": {},
   "source": [
    "## Download Data and Load to Memory"
   ]
  },
  {
   "cell_type": "markdown",
   "metadata": {},
   "source": [
    "### Load Dataset"
   ]
  },
  {
   "cell_type": "code",
   "execution_count": 10,
   "metadata": {},
   "outputs": [
    {
     "name": "stderr",
     "output_type": "stream",
     "text": [
      "2023-01-18 11:50:05,320 | seisbench | WARNING | Check available storage and memory before downloading and general use of ETHZ dataset. Dataset size: waveforms.hdf5 ~22Gb, metadata.csv ~13Mb\n"
     ]
    },
    {
     "name": "stdout",
     "output_type": "stream",
     "text": [
      "ETHZ - 10485 traces\n"
     ]
    }
   ],
   "source": [
    "# Take only test data\n",
    "tr, dv, ts = SBD_CLASS(sampling_rate=SAMPLING_RATE, force=True).train_dev_test()\n",
    "PARTITIONS = {'train':tr, 'dev':dv, 'test':ts}\n",
    "\n",
    "data = PARTITIONS[PARTITION_TO_USE]\n",
    "print(data)"
   ]
  },
  {
   "cell_type": "markdown",
   "metadata": {},
   "source": [
    "### Create Data Loader"
   ]
  },
  {
   "cell_type": "code",
   "execution_count": 11,
   "metadata": {},
   "outputs": [
    {
     "name": "stdout",
     "output_type": "stream",
     "text": [
      "All events will contribute to the resulting dataset\n",
      "Generator contains  9766 relevant traces\n",
      "There are 9766 traces in the resulting dataset.\n",
      "Created a dataloader that loads all data in 39 batches\n"
     ]
    }
   ],
   "source": [
    "loader, num_dataset_traces = create_loader_by_phase_and_length(phase_label=PHASE_LABEL, trace_length=NUM_SAMPLES, targets_path=TARGETS_PATH, data=data, batch_size=BATCH_SIZE)\n",
    "print(f'There are {num_dataset_traces} traces in the resulting dataset.')\n",
    "print(f'Created a dataloader that loads all data in {len(loader)} batches')"
   ]
  },
  {
   "cell_type": "markdown",
   "metadata": {},
   "source": [
    "## Extract The High SNR Traces"
   ]
  },
  {
   "cell_type": "markdown",
   "metadata": {},
   "source": [
    "Load the whole traces batch by batch, calculate the traces snr and keep the traces with high snr."
   ]
  },
  {
   "cell_type": "code",
   "execution_count": 12,
   "metadata": {},
   "outputs": [
    {
     "data": {
      "text/plain": "  0%|          | 0/39 [00:00<?, ?it/s]",
      "application/vnd.jupyter.widget-view+json": {
       "version_major": 2,
       "version_minor": 0,
       "model_id": "d645a0428e094ed4b45d20b78a44043b"
      }
     },
     "metadata": {},
     "output_type": "display_data"
    },
    {
     "name": "stderr",
     "output_type": "stream",
     "text": [
      "/home/moshe/GIT/summer_2022_Seismology/snr/calc_snr.py:48: RuntimeWarning: invalid value encountered in float_scalars\n",
      "  return CalcSNR.to_db(float(Es / En))\n"
     ]
    },
    {
     "data": {
      "text/plain": "(torch.Size([2193, 3, 3001]), torch.Size([2193]), torch.Size([2193]))"
     },
     "execution_count": 12,
     "metadata": {},
     "output_type": "execute_result"
    }
   ],
   "source": [
    "traces_counter = 0\n",
    "SNR_of_high_SNR_traces_list, high_SNR_traces_list, high_SNR_traces_labels_list = [],[],[]\n",
    "total_SNR = []\n",
    "pbar =  tqdm(loader)\n",
    "for dataset_dict in pbar:\n",
    "    traces, labels = dataset_dict['X'], dataset_dict['onset_sample']\n",
    "    SNR = calc_batch_snr(batch_traces=traces, batch_labels=labels, snr_estimation_strategy=SNR_CALC_STRATEGY)\n",
    "    if COMPARE_TO_TOTAL:\n",
    "        total_SNR.extend(SNR.tolist())\n",
    "    batch_high_SNR_traces, batch_high_SNR_traces_labels, batch_SNR_of_high_SNR_traces = get_high_snr_traces(traces=traces, labels=labels, SNR=SNR, snr_threshold=SNR_THRESHOLD)\n",
    "    traces_counter += batch_high_SNR_traces.shape[0]\n",
    "    high_SNR_traces_list.append(batch_high_SNR_traces)\n",
    "    high_SNR_traces_labels_list.append(batch_high_SNR_traces_labels.unsqueeze(dim=1))\n",
    "    SNR_of_high_SNR_traces_list.append(batch_SNR_of_high_SNR_traces.unsqueeze(dim=1))\n",
    "\n",
    "    pbar.set_description(f'{traces_counter} high SNR traces found')\n",
    "\n",
    "SNR_of_high_SNR_traces = torch.vstack(SNR_of_high_SNR_traces_list).squeeze()\n",
    "high_SNR_traces = torch.vstack(high_SNR_traces_list)\n",
    "high_SNR_traces_labels = torch.vstack(high_SNR_traces_labels_list).squeeze()\n",
    "\n",
    "high_SNR_traces.shape, SNR_of_high_SNR_traces.shape,  high_SNR_traces_labels.shape"
   ]
  },
  {
   "cell_type": "markdown",
   "metadata": {},
   "source": [
    "## Save the High SNR Dataset to Files"
   ]
  },
  {
   "cell_type": "markdown",
   "metadata": {},
   "source": [
    "There are 3 files generated:\n",
    "1. Traces\n",
    "2. Corresponding labels\n",
    "3. Corresponding SNR values"
   ]
  },
  {
   "cell_type": "code",
   "execution_count": 13,
   "metadata": {},
   "outputs": [],
   "source": [
    "torch.save(high_SNR_traces, os.path.join(SAVE_TO_PATH, 'original_dataset.pt'))\n",
    "torch.save(high_SNR_traces_labels, os.path.join(SAVE_TO_PATH, 'original_labels.pt'))\n",
    "torch.save(SNR_of_high_SNR_traces, os.path.join(SAVE_TO_PATH, f'original_traces_{SNR_CALC_STRATEGY_STR}_snrs.pt'))"
   ]
  },
  {
   "cell_type": "code",
   "execution_count": 14,
   "metadata": {},
   "outputs": [
    {
     "name": "stdout",
     "output_type": "stream",
     "text": [
      "Saved to /home/moshe/datasets/GFZ/noisy_datasets/ethz_3001_sample_joachim_noises_energy_ratio_snr/\n"
     ]
    }
   ],
   "source": [
    "print(f'Saved to {SAVE_TO_PATH}')"
   ]
  },
  {
   "cell_type": "markdown",
   "metadata": {},
   "source": [
    "## Plot the SNR values of the Extracted Dataset"
   ]
  },
  {
   "cell_type": "code",
   "execution_count": 15,
   "metadata": {},
   "outputs": [
    {
     "data": {
      "text/plain": "<Figure size 800x600 with 1 Axes>",
      "image/png": "[encoded data removed]"
     },
     "metadata": {},
     "output_type": "display_data"
    }
   ],
   "source": [
    "num_high_snr_traces = int(SNR_of_high_SNR_traces.shape[0])\n",
    "if COMPARE_TO_TOTAL:\n",
    "    fig, (ax_total_snr,ax_high_snr) = plt.subplots(1,2,figsize=(18, 6))\n",
    "    plt.suptitle(f'SNR -  Estimated Using {SNR_CALC_STRATEGY_STR}')\n",
    "    ax_high_snr.set_title('SNR (dB) Values Above Threshold')\n",
    "    ax_high_snr.set_xticklabels([])\n",
    "    ax_high_snr.set_xticks([])\n",
    "    ax_high_snr.scatter(range(num_high_snr_traces), SNR_of_high_SNR_traces, s=1);\n",
    "    if COMPARE_TO_TOTAL:\n",
    "        ax_total_snr.set_title('SNR (dB) All Dataset')\n",
    "        ax_total_snr.set_xticklabels([])\n",
    "        ax_total_snr.set_xticks([])\n",
    "        ax_total_snr.hlines(y=SNR_THRESHOLD, xmin=0, xmax=len(total_SNR), linestyles='dashed', colors='r')\n",
    "        ax_total_snr.scatter(range(len(total_SNR)), total_SNR, s=1);\n",
    "else:\n",
    "    fig, ax_high_snr = plt.subplots(figsize=(8, 6))\n",
    "    plt.suptitle(f'SNR -  Estimated Using {SNR_CALC_STRATEGY_STR}')\n",
    "    ax_high_snr.set_title('SNR (dB) Values Above Threshold')\n",
    "    ax_high_snr.set_xticklabels([])\n",
    "    ax_high_snr.set_xticks([])\n",
    "    ax_high_snr.scatter(range(num_high_snr_traces), SNR_of_high_SNR_traces, s=1);\n"
   ]
  }
 ],
 "metadata": {
  "kernelspec": {
   "display_name": "Python 3 (ipykernel)",
   "language": "python",
   "name": "python3"
  },
  "language_info": {
   "codemirror_mode": {
    "name": "ipython",
    "version": 3
   },
   "file_extension": ".py",
   "mimetype": "text/x-python",
   "name": "python",
   "nbconvert_exporter": "python",
   "pygments_lexer": "ipython3",
   "version": "3.10.8"
  },
  "vscode": {
   "interpreter": {
    "hash": "fa76d2c83586c95486e2cc3c656ad2d093b47aefbf53fc633acb9a860f5157ab"
   }
  }
 },
 "nbformat": 4,
 "nbformat_minor": 2
}
